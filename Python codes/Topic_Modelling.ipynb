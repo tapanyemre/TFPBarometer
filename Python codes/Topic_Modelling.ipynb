{
  "nbformat": 4,
  "nbformat_minor": 0,
  "metadata": {
    "colab": {
      "name": "Topic_Modelling.ipynb",
      "provenance": [],
      "toc_visible": true
    },
    "kernelspec": {
      "name": "python3",
      "display_name": "Python 3"
    }
  },
  "cells": [
    {
      "cell_type": "code",
      "metadata": {
        "id": "6vGFikUO0QEB",
        "colab": {
          "base_uri": "https://localhost:8080/",
          "height": 34
        },
        "outputId": "d0f07dda-c3e4-4dc4-825e-31627e511651"
      },
      "source": [
        "from google.colab import drive\n",
        "drive.mount('/content/gdrive' , force_remount=True)\n",
        "import sys"
      ],
      "execution_count": null,
      "outputs": [
        {
          "output_type": "stream",
          "text": [
            "Mounted at /content/gdrive\n"
          ],
          "name": "stdout"
        }
      ]
    },
    {
      "cell_type": "code",
      "metadata": {
        "id": "3HbxDyl615P2"
      },
      "source": [
        "pip install pyLDAvis"
      ],
      "execution_count": null,
      "outputs": []
    },
    {
      "cell_type": "code",
      "metadata": {
        "id": "9IGKIGKU1A_-"
      },
      "source": [
        "import pandas as pd\n",
        "# Plotting tools\n",
        "import pyLDAvis\n",
        "import pyLDAvis.sklearn\n",
        "import matplotlib.pyplot as plt\n",
        "\n",
        "from sklearn.decomposition import LatentDirichletAllocation as LDA\n",
        "from sklearn.feature_extraction.text import CountVectorizer\n",
        "from sklearn.feature_extraction import text \n",
        "%matplotlib inline"
      ],
      "execution_count": null,
      "outputs": []
    },
    {
      "cell_type": "code",
      "metadata": {
        "id": "rfL_YPoP0UjD"
      },
      "source": [
        "tweet_filtered = pd.read_csv('/content/gdrive/My Drive/gmf/filtered_tweet_en' , engine = 'python')\n"
      ],
      "execution_count": null,
      "outputs": []
    },
    {
      "cell_type": "code",
      "metadata": {
        "id": "_ErJFXZN2WRg"
      },
      "source": [
        "tweet_filtered.tweet = tweet_filtered.tweet.str.lower()"
      ],
      "execution_count": null,
      "outputs": []
    },
    {
      "cell_type": "code",
      "metadata": {
        "id": "hBOgMmlv0ttz",
        "colab": {
          "base_uri": "https://localhost:8080/",
          "height": 34
        },
        "outputId": "3c81b165-c0ae-449b-8add-271341e50466"
      },
      "source": [
        "topic_keywords_filtered = tweet_filtered[((tweet_filtered['tweet'].str.contains('turkey')) | (tweet_filtered['tweet'].str.contains('turkish')))\n",
        "                                         \n",
        "                                         & ((tweet_filtered['tweet'].str.contains('american')) | (tweet_filtered['tweet'].str.contains(r'(?:\\s|^)us(?:\\s|$)')))\n",
        "                                         ]\n",
        "topic_keywords_filtered = topic_keywords_filtered.reset_index(drop=True)\n",
        "len(topic_keywords_filtered)"
      ],
      "execution_count": null,
      "outputs": [
        {
          "output_type": "execute_result",
          "data": {
            "text/plain": [
              "2412"
            ]
          },
          "metadata": {
            "tags": []
          },
          "execution_count": 27
        }
      ]
    },
    {
      "cell_type": "code",
      "metadata": {
        "id": "fQv5LxOC-YO5",
        "colab": {
          "base_uri": "https://localhost:8080/",
          "height": 289
        },
        "outputId": "cb309aca-45b9-4f44-def9-5e13c796cff2"
      },
      "source": [
        "topic_keywords_filtered.head()"
      ],
      "execution_count": null,
      "outputs": [
        {
          "output_type": "execute_result",
          "data": {
            "text/html": [
              "<div>\n",
              "<style scoped>\n",
              "    .dataframe tbody tr th:only-of-type {\n",
              "        vertical-align: middle;\n",
              "    }\n",
              "\n",
              "    .dataframe tbody tr th {\n",
              "        vertical-align: top;\n",
              "    }\n",
              "\n",
              "    .dataframe thead th {\n",
              "        text-align: right;\n",
              "    }\n",
              "</style>\n",
              "<table border=\"1\" class=\"dataframe\">\n",
              "  <thead>\n",
              "    <tr style=\"text-align: right;\">\n",
              "      <th></th>\n",
              "      <th>id</th>\n",
              "      <th>date</th>\n",
              "      <th>time</th>\n",
              "      <th>user_id</th>\n",
              "      <th>username</th>\n",
              "      <th>tweet</th>\n",
              "      <th>hashtags</th>\n",
              "      <th>retweet</th>\n",
              "      <th>user_rt</th>\n",
              "      <th>mentions</th>\n",
              "    </tr>\n",
              "  </thead>\n",
              "  <tbody>\n",
              "    <tr>\n",
              "      <th>0</th>\n",
              "      <td>1236382327154098176</td>\n",
              "      <td>2020-03-07</td>\n",
              "      <td>21:04:52</td>\n",
              "      <td>3.031094e+09</td>\n",
              "      <td>m_suchkov</td>\n",
              "      <td>said halim pasha (r),grand vizier of ottoman e...</td>\n",
              "      <td>['#turkey', '#erdogan', '#russia']</td>\n",
              "      <td>False</td>\n",
              "      <td>NaN</td>\n",
              "      <td>[]</td>\n",
              "    </tr>\n",
              "    <tr>\n",
              "      <th>1</th>\n",
              "      <td>1205197666231169027</td>\n",
              "      <td>2019-12-12</td>\n",
              "      <td>19:48:09</td>\n",
              "      <td>3.031094e+09</td>\n",
              "      <td>m_suchkov</td>\n",
              "      <td>breaking: #us senate unanimously recognizes #a...</td>\n",
              "      <td>['#us', '#armeniangenocide', '#turkey']</td>\n",
              "      <td>False</td>\n",
              "      <td>NaN</td>\n",
              "      <td>[]</td>\n",
              "    </tr>\n",
              "    <tr>\n",
              "      <th>2</th>\n",
              "      <td>1183355378723164167</td>\n",
              "      <td>2019-10-13</td>\n",
              "      <td>14:14:42</td>\n",
              "      <td>3.031094e+09</td>\n",
              "      <td>m_suchkov</td>\n",
              "      <td>just in: as #turkish-led forces advance, #us t...</td>\n",
              "      <td>['#turkish', '#us']</td>\n",
              "      <td>False</td>\n",
              "      <td>NaN</td>\n",
              "      <td>[]</td>\n",
              "    </tr>\n",
              "    <tr>\n",
              "      <th>3</th>\n",
              "      <td>1183164485277835267</td>\n",
              "      <td>2019-10-13</td>\n",
              "      <td>01:36:10</td>\n",
              "      <td>3.031094e+09</td>\n",
              "      <td>m_suchkov</td>\n",
              "      <td>just in: #us forces say #turkey was deliberate...</td>\n",
              "      <td>['#us', '#turkey', '#syria']</td>\n",
              "      <td>False</td>\n",
              "      <td>NaN</td>\n",
              "      <td>[]</td>\n",
              "    </tr>\n",
              "    <tr>\n",
              "      <th>4</th>\n",
              "      <td>1184522454556909568</td>\n",
              "      <td>2019-10-16</td>\n",
              "      <td>19:32:15</td>\n",
              "      <td>4.540999e+08</td>\n",
              "      <td>mcfaul</td>\n",
              "      <td>mr. @realdonaldtrump when say you didn't give ...</td>\n",
              "      <td>[]</td>\n",
              "      <td>False</td>\n",
              "      <td>NaN</td>\n",
              "      <td>['realdonaldtrump']</td>\n",
              "    </tr>\n",
              "  </tbody>\n",
              "</table>\n",
              "</div>"
            ],
            "text/plain": [
              "                    id        date  ... user_rt             mentions\n",
              "0  1236382327154098176  2020-03-07  ...     NaN                   []\n",
              "1  1205197666231169027  2019-12-12  ...     NaN                   []\n",
              "2  1183355378723164167  2019-10-13  ...     NaN                   []\n",
              "3  1183164485277835267  2019-10-13  ...     NaN                   []\n",
              "4  1184522454556909568  2019-10-16  ...     NaN  ['realdonaldtrump']\n",
              "\n",
              "[5 rows x 10 columns]"
            ]
          },
          "metadata": {
            "tags": []
          },
          "execution_count": 28
        }
      ]
    },
    {
      "cell_type": "code",
      "metadata": {
        "id": "Kj51i2Mv-iz6",
        "colab": {
          "base_uri": "https://localhost:8080/",
          "height": 69
        },
        "outputId": "6150d8fd-7684-4b4d-ca87-55a84b60067b"
      },
      "source": [
        "topic_keywords_filtered['tweet'][0]"
      ],
      "execution_count": null,
      "outputs": [
        {
          "output_type": "execute_result",
          "data": {
            "application/vnd.google.colaboratory.intrinsic+json": {
              "type": "string"
            },
            "text/plain": [
              "'said halim pasha (r),grand vizier of ottoman empire\\xa0(1913/17) \\ntravels in time to take power in modern day #turkey as prez #erdogan (l) to restore tur might\\n\\nmeanwhile native american chief from kaw/kansa tribe (r) travels in time as prez of #russia to continue fighting americans pic.twitter.com/vcqkefsrti'"
            ]
          },
          "metadata": {
            "tags": []
          },
          "execution_count": 29
        }
      ]
    },
    {
      "cell_type": "code",
      "metadata": {
        "id": "6c21I3Dy1i6f",
        "colab": {
          "base_uri": "https://localhost:8080/",
          "height": 85
        },
        "outputId": "88b1824b-7df0-4af2-cf5f-915cf93f2819"
      },
      "source": [
        "import nltk\n",
        "import string\n",
        "nltk.download('punkt')\n",
        "nltk.download('stopwords')\n",
        "\n",
        "\n",
        "user_defined_stop_words = ['especially' , 'getting' , 'according', 'without','years', 'take', 'use', 'point', 'since', \n",
        "                           'years', 'year', 'the' ,'https' , 'http' ,\"''\", \"``\" , \"’\" , \"“\" , \"n't\" , \"'d\", 'com',\n",
        "                           'status', 'pic', 'twitter', 'www', 'news' , 'org', 'ly' , 'bit' , 'bitly', 'html' , 'org',\n",
        "                           'co' , 'know' , 'yes' , 'even', 'much' , 'really' , 'know' , 'well', 'much' , 'going', \"really\",\n",
        "                           \"always\" , \"sure\", \"read\" , \"things\", \"today\" , \"last\", \"new\" , \"read\" , 'right', 'great' , \n",
        "                           'point',\"one\",\"would\" ,\"via\" , \"…\" ,\"”\" ,  \"...\" ,\"'s\" , \"time\", \"says\" , \"like\", \n",
        "                           \"good\", \"also\", \"get\" , \"said\", \"could\", \"say\", \"much\",\"even\", \"many\", \"may\" , \"still\" , \n",
        "                           \"--\" , \"'m\", \"'re\", '📸', \"want\" , \"another\" , \"piece\", \"let\" , \"made\", \"got\",\"'ve\" , \n",
        "                           'seems' , 'look' ,  \"'ll\" ,\"rt\" , \"'‘'\", \"‘\", \"ca\", \"actually\" , \"'—'\" , \"—\", \n",
        "                           'ever' , 'lot' , 'already' , \"maybe\", 'used', 'though' , '..', 'likely' , 'nothing' ,\n",
        "                           \"people\" , \"know\" \"right\", \"see\" , \"really\" , \"day\" , \"well\", \"much\", \"going\" , \"even\" , \n",
        "                           \"yes\" , \"way\" , \"never\" , \"go\" , \"something\" , \"thing\" , \"make\" , \"back\"  , 'watch' , \n",
        "                           'youtube', 'one' , \"the\" , \"to\",  \"da\" ,\"is\" ,\"for\" ] \n",
        "i = nltk.corpus.stopwords.words('english')\n",
        "j = list(string.punctuation) + user_defined_stop_words\n",
        "stopwords = set(i).union(j) \n",
        "stopwords_en = list(stopwords)   "
      ],
      "execution_count": null,
      "outputs": [
        {
          "output_type": "stream",
          "text": [
            "[nltk_data] Downloading package punkt to /root/nltk_data...\n",
            "[nltk_data]   Unzipping tokenizers/punkt.zip.\n",
            "[nltk_data] Downloading package stopwords to /root/nltk_data...\n",
            "[nltk_data]   Unzipping corpora/stopwords.zip.\n"
          ],
          "name": "stdout"
        }
      ]
    },
    {
      "cell_type": "code",
      "metadata": {
        "id": "YqYHLpV61xlW"
      },
      "source": [
        "def print_topics(model, count_vectorizer, n_top_words):\n",
        "    # get the word names from the BOW count vector\n",
        "    words = count_vectorizer.get_feature_names()\n",
        "    for topic_idx, topic in enumerate(model.components_):\n",
        "        print(\"\\nTopic #%d:\" % topic_idx)\n",
        "        # topic is a vector of probabilities for each word from the corpus\n",
        "        # .argsort() returns a list of indezes to access in that order to obtain a sorted (ascending) version of the topic array\n",
        "        idxs = topic.argsort()\n",
        "        # reverse the list to obtain descending sort order -- the most important keywords (their indizes) are now in front\n",
        "        idxs = idxs[::-1]\n",
        "        # get the top words for each topic from the BOW vector\n",
        "        print(\" \".join([words[i] for i in idxs[:n_top_words]]))"
      ],
      "execution_count": null,
      "outputs": []
    },
    {
      "cell_type": "code",
      "metadata": {
        "id": "FSDNzvTY1rAB",
        "colab": {
          "base_uri": "https://localhost:8080/",
          "height": 238
        },
        "outputId": "7062d911-bdc5-455c-b598-456dc5107f8b"
      },
      "source": [
        "# Initialise the count vectorizer with the English stop words\n",
        "count_vectorizer = CountVectorizer(stop_words = stopwords_en)\n",
        "\n",
        "# Fit and transform the processed titles\n",
        "count_data = count_vectorizer.fit_transform(topic_keywords_filtered.tweet)\n",
        "\n",
        "number_topics = 4\n",
        "number_words = 15\n",
        "\n",
        "lda = LDA(n_components=number_topics)\n",
        "lda.fit(count_data)\n",
        "\n",
        "# Print the topics found by the LDA model\n",
        "print(\" 4 Topics found via LDA:\")\n",
        "print_topics(lda, count_vectorizer, number_words)"
      ],
      "execution_count": null,
      "outputs": [
        {
          "output_type": "stream",
          "text": [
            " 4 Topics found via LDA:\n",
            "\n",
            "Topic #0:\n",
            "us turkey turkish american world syria state security erdogan iraq coup tr relations gulen military\n",
            "\n",
            "Topic #1:\n",
            "us turkey turkish syria american isis russia sanctions trump syrian policy iran border foreign officials\n",
            "\n",
            "Topic #2:\n",
            "us turkey syria turkish russia erdogan ypg trump american syrian kurds pkk forces zone president\n",
            "\n",
            "Topic #3:\n",
            "turkey us turkish american syria deal sanctions nato defense russian ypg iran minister trump 400\n"
          ],
          "name": "stdout"
        }
      ]
    },
    {
      "cell_type": "code",
      "metadata": {
        "id": "dR-iPRk3139W",
        "colab": {
          "base_uri": "https://localhost:8080/",
          "height": 861
        },
        "outputId": "51d89971-76ac-4445-e1dc-d50300e9b8af"
      },
      "source": [
        "pyLDAvis.enable_notebook()\n",
        "panel = pyLDAvis.sklearn.prepare(lda, count_data , count_vectorizer, mds='tsne', sort_topics = True)\n",
        "panel\n"
      ],
      "execution_count": null,
      "outputs": [
        {
          "output_type": "execute_result",
          "data": {
            "text/html": [
              "\n",
              "<link rel=\"stylesheet\" type=\"text/css\" href=\"https://cdn.rawgit.com/bmabey/pyLDAvis/files/ldavis.v1.0.0.css\">\n",
              "\n",
              "\n",
              "<div id=\"ldavis_el1021396532626072483529395716\"></div>\n",
              "<script type=\"text/javascript\">\n",
              "\n",
              "var ldavis_el1021396532626072483529395716_data = {\"mdsDat\": {\"x\": [269.5624084472656, 1.782994270324707, 220.81143188476562, 50.533992767333984], \"y\": [-124.80339813232422, -295.0796813964844, -343.8321228027344, -76.05093383789062], \"topics\": [1, 2, 3, 4], \"cluster\": [1, 1, 1, 1], \"Freq\": [46.186111856490044, 22.755474963357315, 16.968095112550934, 14.090318067601695]}, \"tinfo\": {\"Term\": [\"turkey\", \"us\", \"deal\", \"american\", \"zone\", \"ypg\", \"turkish\", \"americanturkish\", \"sanctions\", \"safe\", \"world\", \"coup\", \"foreign\", \"defense\", \"patrols\", \"northern\", \"gulen\", \"border\", \"missile\", \"policy\", \"washingtonpost\", \"iraq\", \"monitor\", \"pulse\", \"summit\", \"weapons\", \"originals\", \"isis\", \"minister\", \"400\", \"monitor\", \"pulse\", \"originals\", \"northeast\", \"ceasefire\", \"northern\", \"fire\", \"middleeasteye\", \"focus\", \"operations\", \"begin\", \"2003\", \"coordinate\", \"bolton\", \"powers\", \"defeat\", \"1seuhpr\", \"moved\", \"worst\", \"allied\", \"representative\", \"obviously\", \"invade\", \"rather\", \"bag\", \"terrorist\", \"committed\", \"ammunition\", \"odds\", \"thenational\", \"safe\", \"zone\", \"terror\", \"diplomacy\", \"wants\", \"syria\", \"erdogan\", \"withdrawal\", \"ypg\", \"president\", \"operation\", \"pkk\", \"phone\", \"assad\", \"agreement\", \"russia\", \"middle\", \"calls\", \"us\", \"al\", \"turkey\", \"trump\", \"kurds\", \"forces\", \"east\", \"turkish\", \"sdf\", \"syrian\", \"regime\", \"troops\", \"american\", \"military\", \"iran\", \"isis\", \"kurdish\", \"world\", \"sanctions\", \"security\", \"airport\", \"sea\", \"giving\", \"sharing\", \"partnerships\", \"black\", \"hulusi\", \"applications\", \"six\", \"ranks\", \"granted\", \"property\", \"chain\", \"cared\", \"tech\", \"eliklovely\", \"50\", \"try\", \"letter\", \"scheme\", \"nuclear\", \"stored\", \"lists\", \"files\", \"debates\", \"36\", \"hoped\", \"49\", \"demographic\", \"jaysh\", \"akar\", \"india\", \"allows\", \"000\", \"americanturkish\", \"free\", \"tell\", \"ahrar\", \"25\", \"weapons\", \"journalist\", \"foreign\", \"feylaq\", \"policy\", \"sham\", \"atcsummit\", \"risk\", \"train\", \"turkey\", \"story\", \"us\", \"border\", \"officials\", \"isis\", \"top\", \"turkish\", \"sanctions\", \"embassy\", \"wsj\", \"american\", \"oil\", \"syrian\", \"fighters\", \"relations\", \"iran\", \"trump\", \"russia\", \"syria\", \"support\", \"eu\", \"two\", \"kurdish\", \"idlib\", \"kurds\", \"war\", \"forces\", \"nato\", \"military\", \"ankara\", \"11e5\", \"elsewhere\", \"early\", \"bigger\", \"concern\", \"bln\", \"metin4020\", \"boeing\", \"technology\", \"milliyet\", \"rift\", \"2f\", \"olive\", \"socialflow\", \"pr\", \"extradition\", \"fethullah\", \"davis\", \"bcf\", \"study\", \"72\", \"guven\", \"ongt\", \"kuwait\", \"centers\", \"invest\", \"turkeyvotes\", \"derik\", \"3a\", \"la\", \"exports\", \"80\", \"suicide\", \"implement\", \"bomber\", \"netherlands\", \"saudis\", \"gulen\", \"goo\", \"gl\", \"lng\", \"summit\", \"utm_medium\", \"coup\", \"us\", \"world\", \"utm_campaign\", \"turkey\", \"washingtonpost\", \"come\", \"feb\", \"trade\", \"iraq\", \"turkish\", \"utm_source\", \"2016\", \"americans\", \"state\", \"security\", \"khashoggi\", \"relations\", \"tr\", \"american\", \"americanturkish\", \"10\", \"07\", \"2018\", \"foreign\", \"official\", \"europe\", \"syria\", \"nato\", \"military\", \"support\", \"erdogan\", \"russia\", \"iran\", \"ankara\", \"landscape\", \"numbers\", \"initially\", \"missing\", \"ios\", \"atimes\", \"ha\", \"indication\", \"hoping\", \"bending\", \"ear\", \"medium\", \"decaying\", \"category\", \"cissm\", \"connections\", \"a_sloat\", \"creation\", \"fields\", \"decline\", \"female\", \"secondary\", \"turkishstream\", \"removed\", \"collective\", \"warontherocks\", \"nyti\", \"stops\", \"bottom\", \"eurasian\", \"cases\", \"health\", \"ms\", \"short\", \"patrols\", \"find\", \"centcom\", \"number\", \"eucom\", \"ambitions\", \"fake\", \"flynn\", \"1st\", \"defense\", \"supports\", \"deal\", \"missile\", \"city\", \"project\", \"turkey\", \"us\", \"american\", \"minister\", \"system\", \"turkish\", \"sanctions\", \"joint\", \"case\", \"interests\", \"russian\", \"400\", \"nato\", \"energy\", \"israel\", \"ft\", \"control\", \"syria\", \"iran\", \"ypg\", \"region\", \"manbij\", \"trump\", \"americans\", \"military\", \"security\", \"pastor\", \"sdf\"], \"Freq\": [1969.0, 2284.0, 88.0, 273.0, 87.0, 189.0, 681.0, 43.0, 130.0, 72.0, 112.0, 38.0, 56.0, 48.0, 22.0, 52.0, 31.0, 71.0, 32.0, 73.0, 46.0, 69.0, 36.0, 36.0, 25.0, 28.0, 35.0, 134.0, 44.0, 51.0, 35.68897510313421, 35.68897499150367, 34.80181850808261, 27.708806168496395, 21.500679964293624, 50.2283396224735, 15.291862319024355, 11.747129463194954, 11.714043830049594, 10.847555653459626, 11.634055576952761, 9.971546690736236, 9.082463683768403, 9.062006236794614, 9.866705351935309, 8.20372057839852, 8.203702386699597, 8.199907152763151, 8.198429818485948, 8.185598998011443, 7.310886116144734, 7.310950112849931, 7.309912764341831, 7.297584177171285, 8.888739884718897, 28.172956400593105, 6.429947053343736, 6.42648831798147, 6.425556960868272, 6.418483042716999, 64.98771269245046, 78.77652729294482, 26.157417875092378, 12.567299565193695, 36.978733153733494, 470.3590094556145, 181.39715673675465, 49.35498035508991, 150.5875786252548, 75.6819296385723, 67.38674499972385, 82.0686050586283, 22.8705334629288, 45.70747531195663, 25.372226203797098, 195.04558958599625, 43.92570022334775, 20.355322262399575, 1215.6137332301928, 65.92728836097498, 1007.2828929107826, 130.97577238325607, 87.03187467834152, 81.01101960498913, 56.35619636075017, 361.9589404782732, 59.2620370509483, 95.80935628460657, 44.941266572745334, 58.723690882544275, 121.55221494781395, 70.94965371403867, 75.22150706015685, 71.06294656115925, 55.00545839519833, 56.91793061097473, 50.95143959474782, 47.44195883636961, 5.001658693335656, 4.997038802941386, 4.985021184780225, 4.20272797334659, 4.201053229283865, 4.199410673553702, 4.195137854541129, 3.4026452920487262, 3.402196003320725, 3.4002120451399707, 3.4003913406338615, 3.4000360850522946, 3.399400137641108, 3.3963809497392226, 3.39525709369757, 3.3864438107619748, 7.408724968603902, 12.728806354611828, 4.050199653009959, 3.341974879693487, 16.975160721927335, 2.602048239480585, 2.6020467267074294, 2.602046216642689, 2.602044884030194, 2.6020446135121817, 2.6020428330574057, 2.60204175188324, 2.602041229561385, 2.6020409048590993, 6.4378396788654415, 12.03427675284489, 5.006218474338916, 13.399476521816199, 29.19155083459328, 17.157271465392576, 12.252393820048809, 4.996785633380415, 4.894612305999426, 18.938510601961536, 9.708916345126076, 31.86868520879254, 8.160071179305756, 37.37556325851441, 12.777677308566274, 13.165914118504283, 9.658734730847245, 7.293495341884912, 470.4567534109121, 23.085444931917152, 500.9879475006509, 32.68333056121361, 31.58263131014271, 48.824306081573624, 17.309487871152147, 147.90944099683898, 44.447700777059424, 20.944437177164435, 14.646495298790404, 63.46629589659423, 14.667450717265433, 40.21504453051974, 16.135821107720226, 23.234153172987302, 34.88780825054748, 40.59952482549877, 47.10287445637313, 71.7380912531271, 23.760074252028552, 20.715254807519813, 19.787810230638478, 25.031051669245294, 22.52851683478967, 24.56874191921537, 19.539325977224753, 22.910105547434462, 22.100270500735743, 20.775124825660217, 19.78194852539116, 5.493799141522754, 4.71094516678664, 3.982893226573682, 3.9818141920004937, 3.9765290306185075, 8.531292508382029, 3.9275946071487104, 3.2242498544485536, 3.22424116123244, 3.2237490914280067, 3.2236208900139394, 3.2230299512572005, 3.2217544221949965, 3.2183573648797377, 3.2168573506210305, 6.961783518681095, 5.501600371743985, 2.4656019100371402, 2.4656014488373375, 2.465599971522179, 2.4655993647529453, 2.465597084398342, 2.465593465343178, 2.4655919779546673, 2.4655886566494143, 2.4655771799393174, 2.4655627220191967, 2.465190956449037, 2.4647781893746386, 2.464529966175629, 9.577558458124125, 5.364300577093225, 6.257105168039592, 4.5886647553414415, 3.986527350467019, 3.98251125394882, 3.982548131624185, 18.324819714767656, 3.995718663787865, 3.9957186637878657, 14.032744683154352, 14.270672215614672, 7.556703714992986, 19.72843461497206, 341.41891695609394, 36.22006255910646, 6.0425671559166485, 264.9813625197085, 18.21509134697579, 9.5605885302964, 5.507650713847117, 12.947409478659948, 20.92684916191347, 88.7904823600587, 6.732216045637522, 13.652300838578615, 15.544084363811596, 21.919938729617737, 21.7106863320029, 9.657463088819444, 18.507638559207987, 18.815641183164946, 37.81244062583043, 13.68137983335488, 17.84095475464099, 12.797567260244525, 15.427619160496763, 14.226804245372941, 12.793603802545675, 13.393454959056356, 33.3574768790811, 17.23071434777344, 18.290753231095692, 15.49980499316057, 21.426857700533915, 18.12367926426059, 15.097931197270299, 13.824923789418726, 3.8509293961951756, 3.848584189173996, 3.8453511613664944, 3.8433453641783335, 3.8183550913202553, 3.1174127298874756, 3.1105100501790584, 3.1019260640869564, 3.0968807537473952, 2.383902070631402, 2.383902070631402, 2.3839017156107616, 2.3839013528848505, 2.3838990904322954, 2.3838949452341303, 2.382992126621597, 2.3829847004280023, 2.381092499161467, 2.3810741495460004, 2.380637094937772, 2.379942966010201, 2.3746431217585933, 2.373000280013645, 2.365132716875656, 2.3211631193802873, 4.594434047073879, 6.057911454217996, 3.854804346137154, 1.650393698612054, 1.650393402740812, 3.854538867919667, 5.332824330500512, 6.632924687859448, 7.350888890025621, 13.031595877746819, 7.718986237769855, 12.130872127676817, 7.4754077892057715, 4.274563348707318, 3.776661549550631, 4.552764383385891, 5.337611890533334, 4.597298426013599, 19.702649374180563, 4.43981421205682, 30.87518367059311, 14.53258871396715, 5.758561704185021, 7.404505815735403, 226.9338105560283, 226.35670612256928, 50.49157179682245, 15.063250658964678, 13.123373982868191, 82.9638199063674, 27.284598599022807, 13.466593332696698, 12.777344690105918, 11.788455754292807, 19.676300800435556, 14.568796654042313, 20.48794810424399, 9.405401736861334, 10.438725582280867, 11.59753218138092, 9.140382013293307, 32.33843421443664, 17.391368585330465, 18.961606789230196, 11.63991501173443, 12.06798021699266, 14.772146844436547, 10.245780352346348, 11.695553500887378, 10.499733242612606, 9.552423955043434, 9.635241530641785], \"Total\": [1969.0, 2284.0, 88.0, 273.0, 87.0, 189.0, 681.0, 43.0, 130.0, 72.0, 112.0, 38.0, 56.0, 48.0, 22.0, 52.0, 31.0, 71.0, 32.0, 73.0, 46.0, 69.0, 36.0, 36.0, 25.0, 28.0, 35.0, 134.0, 44.0, 51.0, 36.2697097980433, 36.26970977803602, 35.38277956950737, 28.2877063810135, 22.079459106911138, 52.07793477796703, 15.871147711312751, 12.324099717953, 12.32072377759971, 11.434870420187327, 12.307091139292726, 10.549824756267807, 9.663061830229735, 9.661020787287091, 10.539651963074931, 8.776987541749596, 8.776984943608998, 8.776447285266427, 8.776369943420006, 8.774257268489349, 7.88941066993025, 7.889517122536781, 7.889062061915968, 7.887032318890645, 9.644247757659715, 30.569385473511478, 7.0031962761337745, 7.002705478086233, 7.002561600652126, 7.0018075872689245, 72.1525852433113, 87.73213588327069, 29.521029193369348, 13.960090872719782, 42.636989457757956, 607.7930118022595, 225.37181543683556, 58.204801165662126, 189.02851911989754, 92.7899051642408, 82.18866256198481, 102.78429795204372, 26.21595632622654, 55.32767688124143, 29.467289469920242, 266.40420017796043, 54.56174062588692, 23.5171796601772, 2284.3773038095073, 88.20104259772765, 1969.6548193974313, 195.05178148524593, 122.29065811583894, 114.54647382696024, 75.27522647071935, 681.6226837415384, 80.13099327631537, 149.98649773158212, 58.32132484728642, 86.0995749053963, 273.32252326706106, 121.71108527168195, 142.59861509330509, 134.85915660444857, 98.5008011330454, 112.04791927113479, 130.1476227085202, 86.5187499532296, 5.598991213666444, 5.598168262735957, 5.598394255727546, 4.798173362905934, 4.798033597684952, 4.797782937828443, 4.798985714397562, 3.997471385519037, 3.9975239530642668, 3.997472282661164, 3.997715625175088, 3.9977521820535147, 3.99730096650524, 3.9975934843738536, 3.9971944068333016, 3.9961140177139445, 8.759421810756391, 15.108501300826827, 4.814600830319917, 3.9941827906899205, 20.550957033037243, 3.1968356361176027, 3.196835526934168, 3.1968355408099716, 3.1968355256455854, 3.1968355145652656, 3.196835528717942, 3.1968354248685986, 3.1968353759408776, 3.196835408850014, 7.921027036874598, 15.329611601770104, 6.334921756618428, 17.90576522646776, 43.28271068413934, 24.358592640865275, 17.08536343009256, 6.486346389214621, 6.351784226545688, 28.01956949410293, 13.653411783166657, 56.88924569376632, 11.466460554291205, 73.10550152355904, 19.838156720210463, 21.19978729949526, 14.546446145792476, 10.373870046795501, 1969.6548193974313, 44.519224294249995, 2284.3773038095073, 71.8796901024711, 72.69062952392424, 134.85915660444857, 33.77333665006781, 681.6226837415384, 130.1476227085202, 46.690491019702684, 28.37320087425411, 273.32252326706106, 28.961200113790742, 149.98649773158212, 35.52832590367917, 67.82350856784532, 142.59861509330509, 195.05178148524593, 266.40420017796043, 607.7930118022595, 78.88036714830496, 59.883268772626344, 54.993322272267896, 98.5008011330454, 79.01416680340827, 122.29065811583894, 61.107305781593375, 114.54647382696024, 102.17100671895267, 121.71108527168195, 87.65666685810301, 6.106365434569846, 5.350117296551353, 4.5881788764059, 4.588360873015734, 4.589200659501679, 9.940982562545125, 4.593166261716021, 3.8295279797207447, 3.829528221329072, 3.829612268739014, 3.829508667769506, 3.8294873291581633, 3.8299486159550864, 3.830522217565976, 3.8299863443508344, 8.428230938473815, 6.839041803829588, 3.070877182559641, 3.0708771999944715, 3.070877195967533, 3.0708772813640746, 3.070877411066696, 3.070877497083259, 3.070877595663781, 3.070877670154312, 3.070878024894781, 3.0708785507115777, 3.0709437392566845, 3.070849792948314, 3.0709361308948746, 12.423950086767453, 6.913917674312653, 8.33187187048803, 6.076216993756259, 5.321999844371378, 5.32215869274947, 5.322350340354547, 31.71612417478498, 5.388168297201298, 5.388168297201299, 24.53441578110459, 25.548055973378787, 11.96529006022412, 38.77003308234649, 2284.3773038095073, 112.04791927113479, 9.560890961304617, 1969.6548193974313, 46.016111065570506, 19.27649359758168, 8.678609267301786, 32.428913477729274, 69.78926468984137, 681.6226837415384, 12.105006610084917, 37.213225402053006, 45.92772427410877, 81.33811199812732, 86.5187499532296, 21.572324909582612, 67.82350856784532, 70.34427730738012, 273.32252326706106, 43.28271068413934, 77.21743282363192, 40.33589672356889, 62.79774919630518, 56.88924569376632, 44.40574284388213, 49.63892946316508, 607.7930118022595, 102.17100671895267, 121.71108527168195, 78.88036714830496, 225.37181543683556, 266.40420017796043, 142.59861509330509, 87.65666685810301, 4.462493521546031, 4.4629822927460685, 4.462685829316016, 4.464077001721873, 4.46798135149943, 3.728980374089392, 3.7292184820838905, 3.7317273522439987, 3.733265523850216, 2.9954665920932895, 2.9954665920932895, 2.9954666349673342, 2.995466799438094, 2.9954669487585255, 2.995467237779093, 2.9956560156408654, 2.9956568714321516, 2.996052201263084, 2.996056540981068, 2.9955951087177084, 2.9959689288357096, 2.9963138667820823, 2.9958411569042327, 2.99813150039863, 2.9977873322612383, 5.957762058884706, 8.180707576550843, 5.221596260855794, 2.2619526377738026, 2.261952708758174, 5.34863160337515, 7.4878000861599014, 9.834340677437336, 11.389054018271889, 22.940801426751456, 12.34201924550004, 21.76505528104891, 12.182668722808618, 6.147697559704154, 5.27903780824625, 6.763173632228672, 8.288180830782485, 6.9662178654391065, 48.057226017672406, 6.7687783628885, 88.072807997176, 32.59693299577019, 9.893154620873187, 13.977638198025883, 1969.6548193974313, 2284.3773038095073, 273.32252326706106, 44.46027927366639, 36.449064971907575, 681.6226837415384, 130.1476227085202, 42.74464997616398, 39.239007650885014, 34.39924244303107, 84.75925791966641, 51.8551291306305, 102.17100671895267, 26.417964802667676, 34.05878921784932, 45.366224793351996, 27.348324233559573, 607.7930118022595, 142.59861509330509, 189.02851911989754, 54.48329167210786, 64.03200474118934, 195.05178148524593, 45.92772427410877, 121.71108527168195, 86.5187499532296, 44.616734333863434, 80.13099327631537], \"Category\": [\"Default\", \"Default\", \"Default\", \"Default\", \"Default\", \"Default\", \"Default\", \"Default\", \"Default\", \"Default\", \"Default\", \"Default\", \"Default\", \"Default\", \"Default\", \"Default\", \"Default\", \"Default\", \"Default\", \"Default\", \"Default\", \"Default\", \"Default\", \"Default\", \"Default\", \"Default\", \"Default\", \"Default\", \"Default\", \"Default\", \"Topic1\", \"Topic1\", \"Topic1\", \"Topic1\", \"Topic1\", \"Topic1\", \"Topic1\", \"Topic1\", \"Topic1\", \"Topic1\", \"Topic1\", \"Topic1\", \"Topic1\", \"Topic1\", \"Topic1\", \"Topic1\", \"Topic1\", \"Topic1\", \"Topic1\", \"Topic1\", \"Topic1\", \"Topic1\", \"Topic1\", \"Topic1\", \"Topic1\", \"Topic1\", \"Topic1\", \"Topic1\", \"Topic1\", \"Topic1\", \"Topic1\", \"Topic1\", \"Topic1\", \"Topic1\", \"Topic1\", \"Topic1\", \"Topic1\", \"Topic1\", \"Topic1\", \"Topic1\", \"Topic1\", \"Topic1\", \"Topic1\", \"Topic1\", \"Topic1\", \"Topic1\", \"Topic1\", \"Topic1\", \"Topic1\", \"Topic1\", \"Topic1\", \"Topic1\", \"Topic1\", \"Topic1\", \"Topic1\", \"Topic1\", \"Topic1\", \"Topic1\", \"Topic1\", \"Topic1\", \"Topic1\", \"Topic1\", \"Topic1\", \"Topic1\", \"Topic1\", \"Topic1\", \"Topic1\", \"Topic1\", \"Topic2\", \"Topic2\", \"Topic2\", \"Topic2\", \"Topic2\", \"Topic2\", \"Topic2\", \"Topic2\", \"Topic2\", \"Topic2\", \"Topic2\", \"Topic2\", \"Topic2\", \"Topic2\", \"Topic2\", \"Topic2\", \"Topic2\", \"Topic2\", \"Topic2\", \"Topic2\", \"Topic2\", \"Topic2\", \"Topic2\", \"Topic2\", \"Topic2\", \"Topic2\", \"Topic2\", \"Topic2\", \"Topic2\", \"Topic2\", \"Topic2\", \"Topic2\", \"Topic2\", \"Topic2\", \"Topic2\", \"Topic2\", \"Topic2\", \"Topic2\", \"Topic2\", \"Topic2\", \"Topic2\", \"Topic2\", \"Topic2\", \"Topic2\", \"Topic2\", \"Topic2\", \"Topic2\", \"Topic2\", \"Topic2\", \"Topic2\", \"Topic2\", \"Topic2\", \"Topic2\", \"Topic2\", \"Topic2\", \"Topic2\", \"Topic2\", \"Topic2\", \"Topic2\", \"Topic2\", \"Topic2\", \"Topic2\", \"Topic2\", \"Topic2\", \"Topic2\", \"Topic2\", \"Topic2\", \"Topic2\", \"Topic2\", \"Topic2\", \"Topic2\", \"Topic2\", \"Topic2\", \"Topic2\", \"Topic2\", \"Topic2\", \"Topic2\", \"Topic2\", \"Topic2\", \"Topic3\", \"Topic3\", \"Topic3\", \"Topic3\", \"Topic3\", \"Topic3\", \"Topic3\", \"Topic3\", \"Topic3\", \"Topic3\", \"Topic3\", \"Topic3\", \"Topic3\", \"Topic3\", \"Topic3\", \"Topic3\", \"Topic3\", \"Topic3\", \"Topic3\", \"Topic3\", \"Topic3\", \"Topic3\", \"Topic3\", \"Topic3\", \"Topic3\", \"Topic3\", \"Topic3\", \"Topic3\", \"Topic3\", \"Topic3\", \"Topic3\", \"Topic3\", \"Topic3\", \"Topic3\", \"Topic3\", \"Topic3\", \"Topic3\", \"Topic3\", \"Topic3\", \"Topic3\", \"Topic3\", \"Topic3\", \"Topic3\", \"Topic3\", \"Topic3\", \"Topic3\", \"Topic3\", \"Topic3\", \"Topic3\", \"Topic3\", \"Topic3\", \"Topic3\", \"Topic3\", \"Topic3\", \"Topic3\", \"Topic3\", \"Topic3\", \"Topic3\", \"Topic3\", \"Topic3\", \"Topic3\", \"Topic3\", \"Topic3\", \"Topic3\", \"Topic3\", \"Topic3\", \"Topic3\", \"Topic3\", \"Topic3\", \"Topic3\", \"Topic3\", \"Topic3\", \"Topic3\", \"Topic3\", \"Topic3\", \"Topic3\", \"Topic3\", \"Topic3\", \"Topic4\", \"Topic4\", \"Topic4\", \"Topic4\", \"Topic4\", \"Topic4\", \"Topic4\", \"Topic4\", \"Topic4\", \"Topic4\", \"Topic4\", \"Topic4\", \"Topic4\", \"Topic4\", \"Topic4\", \"Topic4\", \"Topic4\", \"Topic4\", \"Topic4\", \"Topic4\", \"Topic4\", \"Topic4\", \"Topic4\", \"Topic4\", \"Topic4\", \"Topic4\", \"Topic4\", \"Topic4\", \"Topic4\", \"Topic4\", \"Topic4\", \"Topic4\", \"Topic4\", \"Topic4\", \"Topic4\", \"Topic4\", \"Topic4\", \"Topic4\", \"Topic4\", \"Topic4\", \"Topic4\", \"Topic4\", \"Topic4\", \"Topic4\", \"Topic4\", \"Topic4\", \"Topic4\", \"Topic4\", \"Topic4\", \"Topic4\", \"Topic4\", \"Topic4\", \"Topic4\", \"Topic4\", \"Topic4\", \"Topic4\", \"Topic4\", \"Topic4\", \"Topic4\", \"Topic4\", \"Topic4\", \"Topic4\", \"Topic4\", \"Topic4\", \"Topic4\", \"Topic4\", \"Topic4\", \"Topic4\", \"Topic4\", \"Topic4\", \"Topic4\", \"Topic4\", \"Topic4\", \"Topic4\", \"Topic4\", \"Topic4\", \"Topic4\"], \"logprob\": [30.0, 29.0, 28.0, 27.0, 26.0, 25.0, 24.0, 23.0, 22.0, 21.0, 20.0, 19.0, 18.0, 17.0, 16.0, 15.0, 14.0, 13.0, 12.0, 11.0, 10.0, 9.0, 8.0, 7.0, 6.0, 5.0, 4.0, 3.0, 2.0, 1.0, -6.4432, -6.4432, -6.4684, -6.6963, -6.95, -6.1015, -7.2908, -7.5545, -7.5573, -7.6341, -7.5641, -7.7183, -7.8117, -7.814, -7.7289, -7.9135, -7.9135, -7.914, -7.9141, -7.9157, -8.0287, -8.0287, -8.0289, -8.0305, -7.8333, -6.6797, -8.1571, -8.1577, -8.1578, -8.1589, -5.8439, -5.6515, -6.754, -7.487, -6.4077, -3.8646, -4.8174, -6.119, -5.0035, -5.6915, -5.8076, -5.6105, -6.8882, -6.1958, -6.7844, -4.7449, -6.2356, -7.0047, -2.9151, -5.8295, -3.1031, -5.1431, -5.5518, -5.6235, -5.9864, -4.1266, -5.9361, -5.4557, -6.2127, -5.9452, -5.2177, -5.7561, -5.6976, -5.7545, -6.0107, -5.9765, -6.0872, -6.1586, -7.7004, -7.7014, -7.7038, -7.8745, -7.8749, -7.8753, -7.8763, -8.0857, -8.0858, -8.0864, -8.0863, -8.0864, -8.0866, -8.0875, -8.0878, -8.0904, -7.3076, -6.7663, -7.9114, -8.1036, -6.4785, -8.3539, -8.3539, -8.3539, -8.3539, -8.3539, -8.3539, -8.3539, -8.3539, -8.3539, -7.448, -6.8225, -7.6995, -6.715, -5.9363, -6.4678, -6.8045, -7.7014, -7.7221, -6.369, -7.0372, -5.8486, -7.211, -5.6892, -6.7625, -6.7326, -7.0423, -7.3232, -3.1565, -6.171, -3.0936, -5.8233, -5.8576, -5.422, -6.459, -4.3136, -5.5159, -6.2683, -6.626, -5.1597, -6.6246, -5.616, -6.5292, -6.1646, -5.7581, -5.6065, -5.4579, -5.0372, -6.1422, -6.2793, -6.3251, -6.0901, -6.1954, -6.1087, -6.3378, -6.1786, -6.2146, -6.2765, -6.3254, -7.3131, -7.4669, -7.6347, -7.635, -7.6363, -6.873, -7.6487, -7.846, -7.846, -7.8462, -7.8462, -7.8464, -7.8468, -7.8479, -7.8483, -7.0763, -7.3117, -8.1143, -8.1143, -8.1143, -8.1143, -8.1143, -8.1143, -8.1143, -8.1143, -8.1143, -8.1143, -8.1145, -8.1146, -8.1147, -6.7573, -7.337, -7.183, -7.4932, -7.6338, -7.6348, -7.6348, -6.1085, -7.6315, -7.6315, -6.3753, -6.3585, -6.9943, -6.0347, -3.1836, -5.4271, -7.2179, -3.4371, -6.1145, -6.7591, -7.3106, -6.4558, -5.9757, -4.5305, -7.1098, -6.4028, -6.2731, -5.9293, -5.9389, -6.749, -6.0986, -6.0821, -5.3841, -6.4007, -6.1352, -6.4675, -6.2806, -6.3616, -6.4678, -6.422, -5.5095, -6.17, -6.1103, -6.2759, -5.9521, -6.1195, -6.3022, -6.3903, -7.4826, -7.4832, -7.484, -7.4846, -7.4911, -7.6939, -7.6961, -7.6989, -7.7005, -7.9622, -7.9622, -7.9622, -7.9622, -7.9622, -7.9622, -7.9625, -7.9625, -7.9633, -7.9633, -7.9635, -7.9638, -7.966, -7.9667, -7.9701, -7.9888, -7.306, -7.0295, -7.4816, -8.3299, -8.3299, -7.4816, -7.157, -6.9388, -6.8361, -6.2635, -6.7872, -6.3351, -6.8193, -7.3782, -7.5021, -7.3152, -7.1561, -7.3054, -5.8501, -7.3403, -5.4009, -6.1545, -7.0802, -6.8288, -3.4062, -3.4088, -4.9091, -6.1186, -6.2565, -4.4125, -5.5246, -6.2307, -6.2832, -6.3638, -5.8515, -6.152, -5.8111, -6.5896, -6.4854, -6.3801, -6.6182, -5.3546, -5.9749, -5.8885, -6.3765, -6.3403, -6.1382, -6.504, -6.3717, -6.4795, -6.5741, -6.5655], \"loglift\": [30.0, 29.0, 28.0, 27.0, 26.0, 25.0, 24.0, 23.0, 22.0, 21.0, 20.0, 19.0, 18.0, 17.0, 16.0, 15.0, 14.0, 13.0, 12.0, 11.0, 10.0, 9.0, 8.0, 7.0, 6.0, 5.0, 4.0, 3.0, 2.0, 1.0, 0.7563, 0.7563, 0.7559, 0.7518, 0.7459, 0.7363, 0.7353, 0.7245, 0.722, 0.7198, 0.7163, 0.7161, 0.7105, 0.7085, 0.7065, 0.7049, 0.7049, 0.7045, 0.7044, 0.703, 0.6963, 0.6963, 0.6962, 0.6948, 0.6909, 0.6909, 0.6871, 0.6866, 0.6865, 0.6855, 0.6679, 0.6648, 0.6515, 0.6674, 0.6301, 0.5162, 0.5554, 0.6076, 0.5451, 0.5687, 0.5739, 0.5474, 0.636, 0.5815, 0.6229, 0.4607, 0.5557, 0.6281, 0.1416, 0.4814, 0.1019, 0.3742, 0.4324, 0.4261, 0.483, 0.1395, 0.4708, 0.3243, 0.5119, 0.3898, -0.0378, 0.2328, 0.1329, 0.1318, 0.1899, 0.0952, -0.1653, 0.1716, 1.3675, 1.3668, 1.3643, 1.3479, 1.3475, 1.3472, 1.3459, 1.3193, 1.3191, 1.3185, 1.3185, 1.3184, 1.3183, 1.3174, 1.3172, 1.3148, 1.3129, 1.309, 1.3075, 1.3021, 1.2892, 1.2745, 1.2745, 1.2745, 1.2745, 1.2745, 1.2745, 1.2745, 1.2745, 1.2745, 1.273, 1.2383, 1.245, 1.1905, 1.0865, 1.1299, 1.1479, 1.2195, 1.2198, 1.0887, 1.1394, 0.9009, 1.1402, 0.8095, 1.0405, 1.004, 1.0709, 1.1281, 0.0485, 0.8236, -0.0369, 0.6922, 0.6468, 0.4644, 0.8119, -0.0475, 0.406, 0.6787, 0.8191, 0.0202, 0.8, 0.1641, 0.6911, 0.4091, 0.0725, -0.0891, -0.2523, -0.6564, 0.2804, 0.4188, 0.4582, 0.1104, 0.2255, -0.1246, 0.3402, -0.129, -0.0507, -0.2875, -0.0083, 1.6681, 1.6466, 1.6324, 1.6321, 1.6305, 1.6209, 1.6173, 1.6018, 1.6018, 1.6016, 1.6016, 1.6014, 1.6009, 1.5997, 1.5994, 1.5827, 1.5562, 1.5543, 1.5543, 1.5543, 1.5543, 1.5543, 1.5543, 1.5543, 1.5543, 1.5543, 1.5543, 1.5541, 1.554, 1.5539, 1.5136, 1.5201, 1.4875, 1.493, 1.4849, 1.4839, 1.4838, 1.2253, 1.4749, 1.4749, 1.2152, 1.1915, 1.3143, 1.0982, -0.1269, 0.6445, 1.315, -0.2321, 0.8471, 1.0726, 1.3191, 0.8557, 0.5694, -0.2644, 1.1871, 0.7711, 0.6904, 0.4626, 0.3913, 0.9702, 0.4751, 0.4551, -0.2042, 0.6221, 0.3087, 0.6258, 0.3701, 0.3879, 0.5294, 0.4638, -1.1287, -0.0061, -0.1214, 0.1467, -0.5793, -0.914, -0.4716, -0.0731, 1.8123, 1.8116, 1.8108, 1.81, 1.8026, 1.7806, 1.7783, 1.7748, 1.7728, 1.7313, 1.7313, 1.7313, 1.7313, 1.7313, 1.7313, 1.7309, 1.7309, 1.7299, 1.7299, 1.7299, 1.7295, 1.7271, 1.7266, 1.7225, 1.7039, 1.6998, 1.6593, 1.6562, 1.6445, 1.6445, 1.6321, 1.6203, 1.5658, 1.5219, 1.3941, 1.4904, 1.3751, 1.4713, 1.5963, 1.6248, 1.5639, 1.5196, 1.5441, 1.068, 1.538, 0.9115, 1.1519, 1.4185, 1.3243, -0.2013, -0.3521, 0.2708, 0.8773, 0.9382, -0.1464, 0.3973, 0.8047, 0.8377, 0.8888, 0.4993, 0.6901, 0.3529, 0.9269, 0.7771, 0.5957, 0.8637, -0.9739, -0.1444, -0.3398, 0.4162, 0.2909, -0.6208, 0.4595, -0.3828, -0.1493, 0.4184, -0.1586]}, \"token.table\": {\"Topic\": [1, 2, 3, 1, 2, 3, 4, 1, 2, 3, 4, 3, 1, 1, 4, 1, 1, 2, 3, 4, 1, 2, 3, 2, 3, 3, 2, 3, 1, 2, 3, 4, 2, 2, 3, 3, 2, 3, 4, 1, 3, 1, 2, 2, 2, 4, 1, 2, 3, 4, 1, 2, 4, 2, 4, 1, 2, 3, 4, 1, 2, 3, 4, 2, 3, 1, 1, 2, 3, 4, 2, 1, 2, 3, 4, 2, 3, 4, 1, 3, 1, 4, 3, 2, 2, 3, 3, 1, 3, 4, 1, 2, 3, 4, 1, 2, 3, 2, 1, 2, 3, 4, 1, 4, 4, 1, 1, 2, 3, 4, 3, 2, 4, 2, 4, 4, 1, 2, 3, 4, 1, 3, 4, 1, 2, 3, 4, 1, 1, 2, 3, 4, 3, 1, 2, 3, 4, 2, 4, 4, 1, 1, 2, 3, 4, 2, 3, 1, 3, 4, 3, 1, 2, 4, 2, 3, 1, 2, 3, 4, 1, 2, 3, 4, 1, 2, 3, 4, 1, 2, 3, 4, 1, 4, 4, 1, 2, 3, 4, 1, 2, 3, 2, 3, 2, 3, 4, 1, 2, 3, 4, 3, 4, 1, 2, 4, 1, 2, 3, 4, 2, 1, 3, 4, 1, 2, 3, 4, 1, 1, 2, 3, 4, 1, 2, 3, 4, 1, 2, 3, 1, 2, 3, 4, 2, 2, 3, 2, 3, 2, 1, 3, 4, 3, 4, 2, 3, 4, 2, 4, 2, 1, 2, 3, 4, 3, 4, 1, 2, 4, 4, 4, 1, 2, 3, 4, 1, 3, 4, 1, 2, 3, 4, 1, 2, 3, 4, 1, 2, 3, 4, 1, 2, 3, 4, 2, 1, 2, 3, 4, 1, 2, 4, 1, 3, 4, 1, 2, 3, 4, 1, 2, 3, 4, 3, 3, 4, 2, 2, 1, 2, 3, 4, 1, 2, 3, 4, 4, 3, 1, 2, 4, 1, 1, 2, 3, 4, 3, 1, 2, 3, 4, 1, 2, 4, 4, 1, 1, 1, 3, 4, 1, 2, 3, 4, 3, 4, 1, 1, 2, 2, 3, 4, 1, 2, 3, 4, 4, 3, 4, 1, 1, 1, 2, 3, 4, 1, 2, 3, 4, 1, 2, 4, 3, 3, 1, 2, 3, 4, 1, 1, 2, 1, 2, 3, 4, 1, 4, 1, 2, 1, 2, 3, 4, 1, 2, 3, 4, 1, 3, 1, 2, 3, 4, 1, 2, 3, 4, 2, 1, 2, 1, 1, 2, 3, 4, 1, 2, 3, 4, 1, 2, 3, 4, 4, 1, 3, 1, 2, 4, 1, 2, 3, 4, 1, 2, 3, 4, 1, 4, 1, 2, 3, 4, 3, 4, 2, 1, 2, 4, 2, 4, 1, 2, 3, 4, 1, 2, 2, 1, 3, 4, 2, 3, 1, 2, 3, 4, 3, 4, 2, 1, 2, 3, 4, 3, 3, 4, 2, 3, 4, 1, 2, 3, 4, 2, 3, 4, 1, 2, 3, 4, 1, 2, 3, 4, 1, 2, 3, 4, 2, 3, 1, 2, 4, 1, 3, 4, 1, 4, 1, 1, 2, 3, 4, 1, 2, 3, 4, 1, 2, 3, 4, 1, 2, 3, 4, 1, 2, 3, 4, 1, 2, 3, 4, 2, 3, 1, 2, 3, 4, 3, 1, 2, 3, 4, 4, 1, 2, 3, 4, 1, 2, 3, 4, 1, 3, 1, 3, 1, 3, 1, 2, 4, 1, 2, 3, 3, 4, 1, 2, 3, 4, 1, 2, 1, 2, 4, 1, 2, 3, 4, 1, 1, 2, 3, 4, 1, 2, 4, 1, 4], \"Freq\": [0.22339173720915992, 0.7260231459297698, 0.05584793430228998, 0.49583625565744993, 0.148750876697235, 0.32229356617734245, 0.04958362556574499, 0.4662159655349539, 0.23310798276747696, 0.23310798276747696, 0.07770266092249233, 0.8188176835427501, 0.9114747320861291, 0.28709983503709047, 0.7177495875927262, 0.9478830436551898, 0.37621033513605723, 0.16123300077259597, 0.37621033513605723, 0.08061650038629799, 0.5891930916877027, 0.15924137613181155, 0.23886206419771733, 0.7871803924169456, 0.1574360784833891, 0.7833946797937286, 0.9384280130558944, 0.6512855186185469, 0.4821123853924154, 0.05785348624708985, 0.17356045874126955, 0.28926743123544923, 0.9384280393862661, 0.7991395038658993, 0.11416278626655704, 0.6512796887512242, 0.1446357979811229, 0.7231789899056145, 0.6676332056160518, 0.8483983579663686, 0.135743737274619, 0.15416999648103621, 0.7708499824051811, 0.8930180114938596, 0.7574775306369137, 0.12624625510615228, 0.748290474308978, 0.12471507905149634, 0.10203961013304245, 0.02267546891845388, 0.9117580844968031, 0.7892757309553564, 0.15785514619107127, 0.18942845956471946, 0.7577138382588778, 0.4463591164815746, 0.23049692080605902, 0.1390298887401626, 0.1829340641317929, 0.28305343244121073, 0.15241338669911347, 0.34837345531225933, 0.2177334095701621, 0.6700134890263899, 0.32345478780584336, 0.8568117021022764, 0.5133665425910521, 0.22816290781824536, 0.15971403547277174, 0.10267330851821041, 0.7504744151184152, 0.8314102921533665, 0.09037068392971376, 0.01807413678594275, 0.05422241035782825, 0.6132136995690288, 0.3773622766578639, 0.8045094634569089, 0.9331987549627149, 0.651279706008303, 0.9750476261354497, 0.6676756153045131, 0.8717710116316484, 0.8337184178262277, 0.10059367811062496, 0.9053431029956247, 0.7833863640340251, 0.9315785772703309, 0.7515971659094384, 0.1878992914773596, 0.4730126124852497, 0.4591004768239188, 0.06956067830665437, 0.8841918113583428, 0.8504421146157669, 0.08504421146157669, 0.042522105730788344, 0.7504514933113297, 0.2293635985923566, 0.20387875430431698, 0.2548484428803962, 0.3313029757445151, 0.18696370850611013, 0.7478548340244405, 0.6676755358054951, 0.9964012204046128, 0.22972604183337678, 0.13783562510002606, 0.04594520836667536, 0.5513425004001042, 0.6512796062955838, 0.7505064104849828, 0.6676754713841722, 0.4043199720704409, 0.6064799581056614, 0.6671587335354423, 0.36313658210527355, 0.1037533091729353, 0.5187665458646765, 0.05187665458646765, 0.8567516550189274, 0.8716114846096842, 0.6676333963437845, 0.4022184286707308, 0.18282655848669582, 0.07313062339467832, 0.32908780527605247, 0.9313818081805681, 0.1805518191107083, 0.3095174041897857, 0.5158623403163095, 0.6675451112490077, 0.6512797097059276, 0.45416969107289706, 0.12489666504504669, 0.06812545366093456, 0.3519815105814952, 0.9384280098032771, 0.6676755690883207, 0.6676469707737366, 0.9114744622737937, 0.2705108279703748, 0.20808525228490368, 0.10404262614245184, 0.41617050456980736, 0.9384280537489529, 0.6512655944924917, 0.9312260298680468, 0.0716327715283113, 0.6676756153045131, 0.8718055916628422, 0.7439366525424265, 0.1594149969733771, 0.09299208156780331, 0.750729330219714, 0.9345589494314384, 0.2570116470811194, 0.44977038239195893, 0.19275873531083954, 0.10708818628379975, 0.22711817677166873, 0.07570605892388958, 0.34067726515750313, 0.34067726515750313, 0.8031172826520913, 0.05768245676506732, 0.09317935323587799, 0.039934008529661995, 0.43417803558320517, 0.3506822595095119, 0.0834957760736933, 0.1335932417179093, 0.16266252369905507, 0.6506500947962203, 0.8841917836107247, 0.28203670287427934, 0.30218218165101357, 0.2618912240975451, 0.14101835143713967, 0.1609793975371945, 0.08048969876859725, 0.8048969876859725, 0.11864886087009383, 0.8305420260906567, 0.14785957811798328, 0.14785957811798328, 0.7392978905899164, 0.2304516701236174, 0.1152258350618087, 0.6913550103708522, 0.6675636655475055, 0.8773158831461217, 0.14621931385768694, 0.2616326098010498, 0.6976869594694661, 0.6675441443254918, 0.4221983338214836, 0.4503448894095825, 0.028146555588098907, 0.08443966676429672, 0.938428005351786, 0.2430720565513471, 0.08102401885044903, 0.6481921508035923, 0.9451112340986022, 0.241307476373097, 0.1206537381865485, 0.6032686909327425, 0.9739687551324852, 0.7071365646956775, 0.20079186404938992, 0.08730081045625648, 0.008730081045625648, 0.0878900737569083, 0.5624964720442132, 0.24609220651934324, 0.0878900737569083, 0.205266374528212, 0.6979056733959208, 0.08210654981128479, 0.30859962590608975, 0.22042830421863555, 0.22042830421863555, 0.26451396506236263, 0.8931132341893666, 0.1855918272856132, 0.7423673091424527, 0.18559182728561324, 0.742367309142453, 0.7504285650304626, 0.3152970377115064, 0.5675346678807115, 0.09458911131345192, 0.651279661243554, 0.804458096089773, 0.13355057406625387, 0.13355057406625387, 0.6677528703312693, 0.9384280089013898, 0.8035860243088255, 0.8335094618013753, 0.5821740816991794, 0.2910870408495897, 0.06327979148904124, 0.06327979148904124, 0.8228804213440455, 0.1645760842688091, 0.1304664496371885, 0.782798697823131, 0.06523322481859425, 0.8039172524745172, 0.8963212184293666, 0.3779152991967608, 0.17442244578312038, 0.11628163052208025, 0.34884489156624077, 0.8873044659886923, 0.6512795310613247, 0.8952588843410507, 0.5259518120209373, 0.2454441789431041, 0.10519036240418747, 0.11921574405807914, 0.6018117569608608, 0.042986554068632915, 0.3009058784804304, 0.05731540542484388, 0.5264751892839432, 0.3633420320410312, 0.08156657862145598, 0.02224543053312436, 0.2936099676367609, 0.2055269773457326, 0.2055269773457326, 0.2936099676367609, 0.9384280440885067, 0.3977105909038871, 0.2573421470554564, 0.04678948128281025, 0.3041316283382666, 0.14648353332943548, 0.7324176666471773, 0.14648353332943548, 0.37084551774233343, 0.4635568971779168, 0.13906706915337505, 0.5583710931011748, 0.2538050423187158, 0.10152201692748633, 0.08121761354198907, 0.7114198364816213, 0.20443098749471877, 0.07359515549809877, 0.016354478999577503, 0.6512796220937269, 0.6512672080279304, 0.8963598447117074, 0.8308061542319409, 0.9384280094250149, 0.24455442728010487, 0.12227721364005244, 0.5706269969869113, 0.04075907121335081, 0.7027735611571946, 0.1093203317355636, 0.015617190247937658, 0.1874062829752519, 0.6676756057480875, 0.8708589613530748, 0.8064258855247026, 0.16495074931187098, 0.03665572206930466, 0.9737019558937136, 0.5833486723211341, 0.17253974815132134, 0.14789121270113256, 0.09859414180075506, 0.7833691218531158, 0.29239582414633725, 0.2699038376735421, 0.08996794589118069, 0.3373797970919276, 0.3374550606165117, 0.18406639669991548, 0.4601659917497887, 0.896041891404904, 0.9925637729238779, 0.9115305703972155, 0.10168449851389359, 0.20336899702778719, 0.7117914895972551, 0.4110755227804663, 0.2153252738373871, 0.1663877116016173, 0.19575024894307919, 0.7515747332843185, 0.1878936833210796, 0.9898292785870187, 0.9600995164876208, 0.01920199032975242, 0.827212084219299, 0.04865953436584112, 0.14597860309752336, 0.16416764220597765, 0.08208382110298883, 0.16416764220597765, 0.5745867477209218, 0.896261678317976, 0.24447762999533126, 0.7334328899859938, 0.8872532870236338, 0.8568293064985304, 0.5179510245073798, 0.11259804880595214, 0.29275492689547555, 0.0900784390447617, 0.3576802150467382, 0.44022180313444703, 0.12381238213156322, 0.08254158808770881, 0.2762316467745603, 0.5179343377023006, 0.20717373508092024, 0.7833003261459894, 0.6512796430009383, 0.815197594308949, 0.10950415445941106, 0.02433425654653579, 0.03650138481980369, 0.9619697990263537, 0.9891817552446545, 0.8336748625374355, 0.5379147613182518, 0.20171803549434444, 0.044826230109854315, 0.2241311505492716, 0.4359045620934114, 0.5666759307214347, 0.8773282848732363, 0.11443412411390039, 0.7977872265884319, 0.1264784627518246, 0.0486455625968556, 0.01945822503874224, 0.28725608281659243, 0.5061178602006629, 0.136788610865044, 0.068394305432522, 0.9487979332746878, 0.7832926100180356, 0.8190546144591678, 0.02155406880155705, 0.10777034400778523, 0.05388517200389262, 0.21462853434163878, 0.21462853434163878, 0.07154284478054626, 0.5007999134638238, 0.7504217028427705, 0.992563773471401, 0.7504742466914279, 0.8875328155095716, 0.7715874102282806, 0.08573193446980895, 0.13717109515169432, 0.01714638689396179, 0.5506275241324705, 0.18354250804415684, 0.05506275241324705, 0.2202510096529882, 0.3096271550002938, 0.3391154554765123, 0.2801388545240754, 0.07372075119054615, 0.6670821475756087, 0.8872652588208958, 0.7833903145980728, 0.2062359403755633, 0.6874531345852111, 0.13749062691704222, 0.7319704414184844, 0.17642364485471165, 0.06756650228478318, 0.02252216742826106, 0.5427135764166097, 0.14157745471737643, 0.08258684858513625, 0.2359624245289607, 0.900868621419572, 0.0970166207682616, 0.39186270896564945, 0.33807763126448187, 0.05378507770116757, 0.20745672827593206, 0.7515476705228579, 0.18788691763071447, 0.7510923153023265, 0.7362943798356593, 0.1372752233591907, 0.12479565759926427, 0.8931492883631872, 0.6674868151072296, 0.5432348482312482, 0.08090731782167528, 0.25428014172526514, 0.11558188260239324, 0.35285536346573115, 0.6553028178649293, 0.8336505785563084, 0.17560720993958978, 0.17560720993958978, 0.6146252347885642, 0.7504645463600979, 0.7831830308260909, 0.4917743849392636, 0.15982667510526066, 0.27047591171659496, 0.08606051736437113, 0.19151231731503213, 0.7660492692601285, 0.9384279773743233, 0.26954647548856536, 0.516630744686417, 0.06738661887214134, 0.13477323774428268, 0.6512797068623466, 0.7201262925384565, 0.24004209751281885, 0.3914192144568673, 0.5479869002396142, 0.03914192144568673, 0.38032277339171416, 0.30425821871337133, 0.19016138669585708, 0.11409683201751425, 0.14773714640779895, 0.14773714640779895, 0.5909485856311958, 0.773289575354497, 0.11846138175643359, 0.054294799971698726, 0.05264950300285937, 0.6400576148647921, 0.26669067286033005, 0.040003600929049504, 0.05333813457206601, 0.49383982864507386, 0.0823066381075123, 0.05487109207167487, 0.35666209846588665, 0.7505264179474049, 0.7833863146094856, 0.23411852000495198, 0.702355560014856, 0.058529630001237995, 0.8807281016421948, 0.03387415775546903, 0.06774831551093806, 0.9159490636232167, 0.06542493311594405, 0.8569215770666897, 0.20726409334465165, 0.5033556552655826, 0.23687324953674477, 0.029609156192093096, 0.45490551932421003, 0.18480536722546034, 0.2701001520987497, 0.08529478487328938, 0.2775301123233992, 0.15418339573522177, 0.4008768289115766, 0.18502007488226613, 0.0963960407725467, 0.6747722854078269, 0.0963960407725467, 0.0963960407725467, 0.685253092884924, 0.10453013281295451, 0.12775905121583328, 0.08130121441007573, 0.6716165266601735, 0.2102005923134894, 0.04614159343466841, 0.07690265572444735, 0.8604427230177067, 0.13237580354118567, 0.5112570944324486, 0.23862049094662446, 0.13454134064011805, 0.11524862009549734, 0.6512794195447957, 0.5310856117829337, 0.21712892415434856, 0.13057077195768257, 0.12176824800547927, 0.6675921369832271, 0.41823259715295413, 0.36368051926343836, 0.07273610385268768, 0.14547220770537536, 0.5323113646647408, 0.21931578429032494, 0.14927481525549063, 0.09893286876170347, 0.31377828825177184, 0.6275565765035437, 0.3343002952596267, 0.6686005905192534, 0.4130522321098447, 0.5782731249537826, 0.8677911004166293, 0.0703614405743213, 0.04690762704954753, 0.6218569042434577, 0.32729310749655666, 0.06545862149931134, 0.16784826082618012, 0.8392413041309006, 0.499824941034809, 0.06519455752627944, 0.3911673451576766, 0.021731519175426477, 0.3212040785242672, 0.6780974991067863, 0.8418549504281704, 0.10308427964426575, 0.03436142654808858, 0.5087109191387194, 0.1338712945101893, 0.32129110682445433, 0.03569901186938381, 0.9115386032693299, 0.28195620351242123, 0.5286678815857898, 0.07048905087810531, 0.14097810175621062, 0.7988212609559899, 0.10051393349777356, 0.10051393349777356, 0.9004682173144746, 0.10258498678266166], \"Term\": [\"000\", \"000\", \"000\", \"07\", \"07\", \"07\", \"07\", \"10\", \"10\", \"10\", \"10\", \"11e5\", \"1seuhpr\", \"1st\", \"1st\", \"2003\", \"2016\", \"2016\", \"2016\", \"2016\", \"2018\", \"2018\", \"2018\", \"25\", \"25\", \"2f\", \"36\", \"3a\", \"400\", \"400\", \"400\", \"400\", \"49\", \"50\", \"50\", \"72\", \"80\", \"80\", \"a_sloat\", \"agreement\", \"agreement\", \"ahrar\", \"ahrar\", \"airport\", \"akar\", \"akar\", \"al\", \"al\", \"al\", \"al\", \"allied\", \"allows\", \"allows\", \"ambitions\", \"ambitions\", \"american\", \"american\", \"american\", \"american\", \"americans\", \"americans\", \"americans\", \"americans\", \"americanturkish\", \"americanturkish\", \"ammunition\", \"ankara\", \"ankara\", \"ankara\", \"ankara\", \"applications\", \"assad\", \"assad\", \"assad\", \"assad\", \"atcsummit\", \"atcsummit\", \"atimes\", \"bag\", \"bcf\", \"begin\", \"bending\", \"bigger\", \"black\", \"bln\", \"bln\", \"boeing\", \"bolton\", \"bomber\", \"bomber\", \"border\", \"border\", \"border\", \"bottom\", \"calls\", \"calls\", \"calls\", \"cared\", \"case\", \"case\", \"case\", \"case\", \"cases\", \"cases\", \"category\", \"ceasefire\", \"centcom\", \"centcom\", \"centcom\", \"centcom\", \"centers\", \"chain\", \"cissm\", \"city\", \"city\", \"collective\", \"come\", \"come\", \"come\", \"come\", \"committed\", \"concern\", \"connections\", \"control\", \"control\", \"control\", \"control\", \"coordinate\", \"coup\", \"coup\", \"coup\", \"creation\", \"davis\", \"deal\", \"deal\", \"deal\", \"deal\", \"debates\", \"decaying\", \"decline\", \"defeat\", \"defense\", \"defense\", \"defense\", \"defense\", \"demographic\", \"derik\", \"diplomacy\", \"diplomacy\", \"ear\", \"early\", \"east\", \"east\", \"east\", \"eliklovely\", \"elsewhere\", \"embassy\", \"embassy\", \"embassy\", \"embassy\", \"energy\", \"energy\", \"energy\", \"energy\", \"erdogan\", \"erdogan\", \"erdogan\", \"erdogan\", \"eu\", \"eu\", \"eu\", \"eu\", \"eucom\", \"eucom\", \"eurasian\", \"europe\", \"europe\", \"europe\", \"europe\", \"exports\", \"exports\", \"exports\", \"extradition\", \"extradition\", \"fake\", \"fake\", \"fake\", \"feb\", \"feb\", \"feb\", \"female\", \"fethullah\", \"fethullah\", \"feylaq\", \"feylaq\", \"fields\", \"fighters\", \"fighters\", \"fighters\", \"fighters\", \"files\", \"find\", \"find\", \"find\", \"fire\", \"flynn\", \"flynn\", \"flynn\", \"focus\", \"forces\", \"forces\", \"forces\", \"forces\", \"foreign\", \"foreign\", \"foreign\", \"foreign\", \"free\", \"free\", \"free\", \"ft\", \"ft\", \"ft\", \"ft\", \"giving\", \"gl\", \"gl\", \"goo\", \"goo\", \"granted\", \"gulen\", \"gulen\", \"gulen\", \"guven\", \"ha\", \"health\", \"health\", \"health\", \"hoped\", \"hoping\", \"hulusi\", \"idlib\", \"idlib\", \"idlib\", \"idlib\", \"implement\", \"implement\", \"india\", \"india\", \"india\", \"indication\", \"initially\", \"interests\", \"interests\", \"interests\", \"interests\", \"invade\", \"invest\", \"ios\", \"iran\", \"iran\", \"iran\", \"iran\", \"iraq\", \"iraq\", \"iraq\", \"iraq\", \"isis\", \"isis\", \"isis\", \"isis\", \"israel\", \"israel\", \"israel\", \"israel\", \"jaysh\", \"joint\", \"joint\", \"joint\", \"joint\", \"journalist\", \"journalist\", \"journalist\", \"khashoggi\", \"khashoggi\", \"khashoggi\", \"kurdish\", \"kurdish\", \"kurdish\", \"kurdish\", \"kurds\", \"kurds\", \"kurds\", \"kurds\", \"kuwait\", \"la\", \"landscape\", \"letter\", \"lists\", \"lng\", \"lng\", \"lng\", \"lng\", \"manbij\", \"manbij\", \"manbij\", \"manbij\", \"medium\", \"metin4020\", \"middle\", \"middle\", \"middle\", \"middleeasteye\", \"military\", \"military\", \"military\", \"military\", \"milliyet\", \"minister\", \"minister\", \"minister\", \"minister\", \"missile\", \"missile\", \"missile\", \"missing\", \"monitor\", \"moved\", \"ms\", \"ms\", \"ms\", \"nato\", \"nato\", \"nato\", \"nato\", \"netherlands\", \"netherlands\", \"northeast\", \"northern\", \"northern\", \"nuclear\", \"nuclear\", \"nuclear\", \"number\", \"number\", \"number\", \"number\", \"numbers\", \"nyti\", \"nyti\", \"obviously\", \"odds\", \"official\", \"official\", \"official\", \"official\", \"officials\", \"officials\", \"officials\", \"officials\", \"oil\", \"oil\", \"oil\", \"olive\", \"ongt\", \"operation\", \"operation\", \"operation\", \"operation\", \"operations\", \"originals\", \"partnerships\", \"pastor\", \"pastor\", \"pastor\", \"pastor\", \"patrols\", \"patrols\", \"phone\", \"phone\", \"pkk\", \"pkk\", \"pkk\", \"pkk\", \"policy\", \"policy\", \"policy\", \"policy\", \"powers\", \"pr\", \"president\", \"president\", \"president\", \"president\", \"project\", \"project\", \"project\", \"project\", \"property\", \"pulse\", \"ranks\", \"rather\", \"regime\", \"regime\", \"regime\", \"regime\", \"region\", \"region\", \"region\", \"region\", \"relations\", \"relations\", \"relations\", \"relations\", \"removed\", \"representative\", \"rift\", \"risk\", \"risk\", \"risk\", \"russia\", \"russia\", \"russia\", \"russia\", \"russian\", \"russian\", \"russian\", \"russian\", \"safe\", \"safe\", \"sanctions\", \"sanctions\", \"sanctions\", \"sanctions\", \"saudis\", \"saudis\", \"scheme\", \"sdf\", \"sdf\", \"sdf\", \"sea\", \"secondary\", \"security\", \"security\", \"security\", \"security\", \"sham\", \"sham\", \"sharing\", \"short\", \"short\", \"short\", \"six\", \"socialflow\", \"state\", \"state\", \"state\", \"state\", \"stops\", \"stops\", \"stored\", \"story\", \"story\", \"story\", \"story\", \"study\", \"suicide\", \"suicide\", \"summit\", \"summit\", \"summit\", \"support\", \"support\", \"support\", \"support\", \"supports\", \"supports\", \"supports\", \"syria\", \"syria\", \"syria\", \"syria\", \"syrian\", \"syrian\", \"syrian\", \"syrian\", \"system\", \"system\", \"system\", \"system\", \"tech\", \"technology\", \"tell\", \"tell\", \"tell\", \"terror\", \"terror\", \"terror\", \"terrorist\", \"terrorist\", \"thenational\", \"top\", \"top\", \"top\", \"top\", \"tr\", \"tr\", \"tr\", \"tr\", \"trade\", \"trade\", \"trade\", \"trade\", \"train\", \"train\", \"train\", \"train\", \"troops\", \"troops\", \"troops\", \"troops\", \"trump\", \"trump\", \"trump\", \"trump\", \"try\", \"try\", \"turkey\", \"turkey\", \"turkey\", \"turkey\", \"turkeyvotes\", \"turkish\", \"turkish\", \"turkish\", \"turkish\", \"turkishstream\", \"two\", \"two\", \"two\", \"two\", \"us\", \"us\", \"us\", \"us\", \"utm_campaign\", \"utm_campaign\", \"utm_medium\", \"utm_medium\", \"utm_source\", \"utm_source\", \"wants\", \"wants\", \"wants\", \"war\", \"war\", \"war\", \"warontherocks\", \"warontherocks\", \"washingtonpost\", \"washingtonpost\", \"washingtonpost\", \"washingtonpost\", \"weapons\", \"weapons\", \"withdrawal\", \"withdrawal\", \"withdrawal\", \"world\", \"world\", \"world\", \"world\", \"worst\", \"wsj\", \"wsj\", \"wsj\", \"wsj\", \"ypg\", \"ypg\", \"ypg\", \"zone\", \"zone\"]}, \"R\": 30, \"lambda.step\": 0.01, \"plot.opts\": {\"xlab\": \"PC1\", \"ylab\": \"PC2\"}, \"topic.order\": [3, 2, 1, 4]};\n",
              "\n",
              "function LDAvis_load_lib(url, callback){\n",
              "  var s = document.createElement('script');\n",
              "  s.src = url;\n",
              "  s.async = true;\n",
              "  s.onreadystatechange = s.onload = callback;\n",
              "  s.onerror = function(){console.warn(\"failed to load library \" + url);};\n",
              "  document.getElementsByTagName(\"head\")[0].appendChild(s);\n",
              "}\n",
              "\n",
              "if(typeof(LDAvis) !== \"undefined\"){\n",
              "   // already loaded: just create the visualization\n",
              "   !function(LDAvis){\n",
              "       new LDAvis(\"#\" + \"ldavis_el1021396532626072483529395716\", ldavis_el1021396532626072483529395716_data);\n",
              "   }(LDAvis);\n",
              "}else if(typeof define === \"function\" && define.amd){\n",
              "   // require.js is available: use it to load d3/LDAvis\n",
              "   require.config({paths: {d3: \"https://cdnjs.cloudflare.com/ajax/libs/d3/3.5.5/d3.min\"}});\n",
              "   require([\"d3\"], function(d3){\n",
              "      window.d3 = d3;\n",
              "      LDAvis_load_lib(\"https://cdn.rawgit.com/bmabey/pyLDAvis/files/ldavis.v1.0.0.js\", function(){\n",
              "        new LDAvis(\"#\" + \"ldavis_el1021396532626072483529395716\", ldavis_el1021396532626072483529395716_data);\n",
              "      });\n",
              "    });\n",
              "}else{\n",
              "    // require.js not available: dynamically load d3 & LDAvis\n",
              "    LDAvis_load_lib(\"https://cdnjs.cloudflare.com/ajax/libs/d3/3.5.5/d3.min.js\", function(){\n",
              "         LDAvis_load_lib(\"https://cdn.rawgit.com/bmabey/pyLDAvis/files/ldavis.v1.0.0.js\", function(){\n",
              "                 new LDAvis(\"#\" + \"ldavis_el1021396532626072483529395716\", ldavis_el1021396532626072483529395716_data);\n",
              "            })\n",
              "         });\n",
              "}\n",
              "</script>"
            ],
            "text/plain": [
              "PreparedData(topic_coordinates=                x           y  topics  cluster       Freq\n",
              "topic                                                    \n",
              "2      269.562408 -124.803398       1        1  46.186112\n",
              "1        1.782994 -295.079681       2        1  22.755475\n",
              "0      220.811432 -343.832123       3        1  16.968095\n",
              "3       50.533993  -76.050934       4        1  14.090318, topic_info=            Term         Freq        Total Category  logprob  loglift\n",
              "9941      turkey  1969.000000  1969.000000  Default  30.0000  30.0000\n",
              "10171         us  2284.000000  2284.000000  Default  29.0000  29.0000\n",
              "3401        deal    88.000000    88.000000  Default  28.0000  28.0000\n",
              "1701    american   273.000000   273.000000  Default  27.0000  27.0000\n",
              "10704       zone    87.000000    87.000000  Default  26.0000  26.0000\n",
              "...          ...          ...          ...      ...      ...      ...\n",
              "1708   americans    10.245780    45.927724   Topic4  -6.5040   0.4595\n",
              "6701    military    11.695554   121.711085   Topic4  -6.3717  -0.3828\n",
              "8772    security    10.499733    86.518750   Topic4  -6.4795  -0.1493\n",
              "7479      pastor     9.552424    44.616734   Topic4  -6.5741   0.4184\n",
              "8736         sdf     9.635242    80.130993   Topic4  -6.5655  -0.1586\n",
              "\n",
              "[332 rows x 6 columns], token_table=       Topic      Freq  Term\n",
              "term                        \n",
              "1          1  0.223392   000\n",
              "1          2  0.726023   000\n",
              "1          3  0.055848   000\n",
              "22         1  0.495836    07\n",
              "22         2  0.148751    07\n",
              "...      ...       ...   ...\n",
              "10660      1  0.798821   ypg\n",
              "10660      2  0.100514   ypg\n",
              "10660      4  0.100514   ypg\n",
              "10704      1  0.900468  zone\n",
              "10704      4  0.102585  zone\n",
              "\n",
              "[582 rows x 3 columns], R=30, lambda_step=0.01, plot_opts={'xlab': 'PC1', 'ylab': 'PC2'}, topic_order=[3, 2, 1, 4])"
            ]
          },
          "metadata": {
            "tags": []
          },
          "execution_count": 31
        }
      ]
    },
    {
      "cell_type": "code",
      "metadata": {
        "id": "9oYoMUZk4ZDY"
      },
      "source": [
        "pyLDAvis.save_html(panel, '/content/gdrive/My Drive/gmf/solutions/second_filtered_keyword_en_4k'+'.html')"
      ],
      "execution_count": null,
      "outputs": []
    },
    {
      "cell_type": "code",
      "metadata": {
        "id": "Pk3b8Afy9AuC"
      },
      "source": [
        "import pandas as pd\n",
        "tweet_filtered_tr = pd.read_csv('/content/gdrive/My Drive/gmf/filtered_tweet_tr' , engine='python')"
      ],
      "execution_count": null,
      "outputs": []
    },
    {
      "cell_type": "code",
      "metadata": {
        "id": "qqKn39yO9X6o"
      },
      "source": [
        "tweet_filtered_tr.tweet = tweet_filtered_tr.tweet.str.lower()"
      ],
      "execution_count": null,
      "outputs": []
    },
    {
      "cell_type": "code",
      "metadata": {
        "id": "Gk65QHen9qKj",
        "colab": {
          "base_uri": "https://localhost:8080/",
          "height": 34
        },
        "outputId": "1a54e933-728f-43d8-d6c3-6b471128ce4f"
      },
      "source": [
        "topic_keywords_filtered_tr = tweet_filtered_tr[((tweet_filtered_tr['tweet'].str.contains('türkiye')) | (tweet_filtered_tr['tweet'].str.contains('türk')))\n",
        "                                         \n",
        "                                         & ((tweet_filtered_tr['tweet'].str.contains('abd')) | (tweet_filtered_tr['tweet'].str.contains('amerika')))\n",
        "                                         ]\n",
        "topic_keywords_filtered_tr = topic_keywords_filtered_tr.reset_index(drop=True)\n",
        "len(topic_keywords_filtered_tr)\n"
      ],
      "execution_count": null,
      "outputs": [
        {
          "output_type": "execute_result",
          "data": {
            "text/plain": [
              "9865"
            ]
          },
          "metadata": {
            "tags": []
          },
          "execution_count": 20
        }
      ]
    },
    {
      "cell_type": "code",
      "metadata": {
        "id": "aYsoBTEy95KE",
        "colab": {
          "base_uri": "https://localhost:8080/",
          "height": 52
        },
        "outputId": "e7625dbb-15c5-4a70-815b-8f763d981ba4"
      },
      "source": [
        "topic_keywords_filtered_tr['tweet'][0]"
      ],
      "execution_count": null,
      "outputs": [
        {
          "output_type": "execute_result",
          "data": {
            "application/vnd.google.colaboratory.intrinsic+json": {
              "type": "string"
            },
            "text/plain": [
              "'• dışarı çıkarken hep maske taktığını söyleyenlerin oranı türkiye’de %70-80 civarında, dünya için makul bir ortalama\\n• salgından en çok etkilenen abd ve i̇ngiltere gibi ülkelerde oranın düşük olmasıysa akıl kârı değil pic.twitter.com/rrbskdiiee'"
            ]
          },
          "metadata": {
            "tags": []
          },
          "execution_count": 33
        }
      ]
    },
    {
      "cell_type": "code",
      "metadata": {
        "id": "TFKByf_d9N51",
        "colab": {
          "base_uri": "https://localhost:8080/",
          "height": 102
        },
        "outputId": "fe8e2177-7229-471b-fe00-5d802cc925c2"
      },
      "source": [
        "import nltk\n",
        "import string\n",
        "nltk.download('punkt')\n",
        "nltk.download('stopwords')\n",
        "from nltk import sent_tokenize, word_tokenize\n",
        "user_defined_stop_words_tr = [ '”','“','son', 'ilk', '1' , '2' ,'3', 'arasında' , 'fazla' , 'yeniden' , 'bunun', 'etmek', 'dedi' , 'buna' , 'bugünkü',\n",
        " 'bugün', '…', '’', '...', \"''\", '``', \"ne\" , \"kadar\" , \"ve\" , \"iyi\" , \"ki\" , \"çok\" , \"ya\" , \"diye\" , \"gibi\" , \"com\", 'öyle' , \"önce\" , \n",
        "                              \"twitter\" , \"pic\" , \"ile\" , \"en\" ,\"http\" , \"https\" , \"html\" , \"aracılığıyla\" , \"için\",\n",
        "                              \"değil\", \"çok\" , \"daha\"  , \"ile\" , \"ama\" , \"ne\"  , \"gibi\" ,  \"her\" , 'status' , \"pic\", \"org\", \"id\",\n",
        "                              \"aspx\" , \"ile\" , \"teşekkürler\" , \"bu\" , \"youtube\" , \"teşekkür\" , \"the\" , \"to\",  \"da\" ,\"is\" ,\"for\",  \"eyvallah\",                            \n",
        "                              'http' , 'bir' , 'var' , 'yok', 'olarak' , 'mi', 'ben', 'olan', 'olsun', 'bu' , 'de' , 'da' , 'ama', \n",
        "    'nin' , 'in' , 'bile' , 'böyle' , 'olur' , 'göre' , 'cok' , 'tek' , 'iki' , 'oldu' ,  'kendi', \"şimdi\", 'yeni', 'bugün' , 'yazar', 'olun',\n",
        "     'hocam' , 'be' , 'evet' ,  'sonra' , 'youtu',  'bence' ,'size' , 'sana' , 'zaman', \"www\", 'yazarlar' , 'haber' , 'via',\n",
        " 'olduğu','icin', 'bunu','ilgili','artık', 'aynı' , 'a' , 'ancak' , 'ederim' , 'zaten' , 'olacak' , 'ediyor', 'gerek', 'bize',\n",
        " 'yine' , 'tam' , 'başka' , 'benim' ,  'ın' , 'olduğunu' , '‘' ,  'içinde' , 'sen' , 'olmak' , 'hala', 'demek' , 'bizim',\n",
        " 'eden' , 'bana' , 'bi' ,  'üzerine' , 'tarafından', 'bi', 'olsa' , 'diyor' ,  'nın' , 'ye' , 'etti', 'geldi' , 'degil',\n",
        " 'uzun' , 'bin' ,'oluyor' , 'şekilde' , 'e' , 'of' , 'el' , 'i' , 'diğer',  'dair' , 'yerine' , 'geliyor' , 'olması' , 'an',\n",
        " 'pek' ,  'den' , 'yoksa', 'olmaz' , 'üzerinden' , 'onu' , 'beni' , 'seni' , 'te' , 'yi' ,'karsi' , 'karşı' , \"'i\" , \"'ı\" , \"yı\" ,'e' , 'den' ,'dan' ,'tan',\n",
        " 'ten' , 'watch' , 'tebrikler' , 'sadece' , 'and' ,  'biraz' , 'on', 'lazım' , 'tek' , 'sizin' , 'olabilir' , 'olmuş']\n",
        "i = nltk.corpus.stopwords.words('turkish')\n",
        "j = list(string.punctuation) + user_defined_stop_words_tr\n",
        "stopwords_tr = set(i).union(j)\n",
        "stopwords_tr = list(stopwords_tr)\n",
        "type(stopwords_tr)"
      ],
      "execution_count": null,
      "outputs": [
        {
          "output_type": "stream",
          "text": [
            "[nltk_data] Downloading package punkt to /root/nltk_data...\n",
            "[nltk_data]   Package punkt is already up-to-date!\n",
            "[nltk_data] Downloading package stopwords to /root/nltk_data...\n",
            "[nltk_data]   Package stopwords is already up-to-date!\n"
          ],
          "name": "stdout"
        },
        {
          "output_type": "execute_result",
          "data": {
            "text/plain": [
              "list"
            ]
          },
          "metadata": {
            "tags": []
          },
          "execution_count": 17
        }
      ]
    },
    {
      "cell_type": "code",
      "metadata": {
        "id": "oTtx9veA9uoW",
        "colab": {
          "base_uri": "https://localhost:8080/",
          "height": 238
        },
        "outputId": "33923e0b-0866-4303-ddc1-ee82a7ef3007"
      },
      "source": [
        "# Initialise the count vectorizer with the English stop words\n",
        "count_vectorizer_tr = CountVectorizer(stop_words = stopwords_tr)\n",
        "\n",
        "# Fit and transform the processed titles\n",
        "count_data_tr = count_vectorizer_tr.fit_transform(topic_keywords_filtered_tr.tweet)\n",
        "\n",
        "number_topics = 4\n",
        "number_words = 15\n",
        "\n",
        "lda_tr = LDA(n_components=number_topics)\n",
        "lda_tr.fit(count_data_tr)\n",
        "\n",
        "# Print the topics found by the LDA model\n",
        "print(\" 4 Topics found via LDA:\")\n",
        "print_topics(lda_tr, count_vectorizer_tr, number_words)"
      ],
      "execution_count": null,
      "outputs": [
        {
          "output_type": "stream",
          "text": [
            " 4 Topics found via LDA:\n",
            "\n",
            "Topic #0:\n",
            "abd türkiye tr suriye türk rusya amerikan trump turkiye ran 400 ypg s400 devam askeri\n",
            "\n",
            "Topic #1:\n",
            "abd türkiye suriye c4 tr turkiye çin trump türk rusya deki ran irak abdnin hedef\n",
            "\n",
            "Topic #2:\n",
            "abd türkiye türk suriye trump amerikan nato rusya 35 400 yaptırım ran pkk turk dışişleri\n",
            "\n",
            "Topic #3:\n",
            "abd türkiye tr fikir rusya suriye pkk turkiye 21yyte hurriyet pyd tanki 21 yüzyıl enstitüsü\n"
          ],
          "name": "stdout"
        }
      ]
    },
    {
      "cell_type": "code",
      "metadata": {
        "id": "WWqigzHF_SBF",
        "colab": {
          "base_uri": "https://localhost:8080/",
          "height": 861
        },
        "outputId": "bc315e32-2ad4-44ce-875c-a1966bd3748b"
      },
      "source": [
        "pyLDAvis.enable_notebook()\n",
        "panel_tr = pyLDAvis.sklearn.prepare(lda_tr, count_data_tr , count_vectorizer_tr, mds='tsne', sort_topics = True)\n",
        "panel_tr\n"
      ],
      "execution_count": null,
      "outputs": [
        {
          "output_type": "execute_result",
          "data": {
            "text/html": [
              "\n",
              "<link rel=\"stylesheet\" type=\"text/css\" href=\"https://cdn.rawgit.com/bmabey/pyLDAvis/files/ldavis.v1.0.0.css\">\n",
              "\n",
              "\n",
              "<div id=\"ldavis_el1021396533167263603919464941\"></div>\n",
              "<script type=\"text/javascript\">\n",
              "\n",
              "var ldavis_el1021396533167263603919464941_data = {\"mdsDat\": {\"x\": [269.5624084472656, 1.782994270324707, 220.81143188476562, 50.533992767333984], \"y\": [-124.80339813232422, -295.0796813964844, -343.8321228027344, -76.05093383789062], \"topics\": [1, 2, 3, 4], \"cluster\": [1, 1, 1, 1], \"Freq\": [33.8885362023074, 28.852384344462845, 27.876748365574542, 9.382331087655208]}, \"tinfo\": {\"Term\": [\"fikir\", \"21yyte\", \"tr\", \"tanki\", \"hurriyet\", \"y\\u00fczy\\u0131l\", \"21\", \"enstit\\u00fcs\\u00fc\", \"tank\\u0131\", \"pkk\", \"abd\", \"2016\", \"pyd\", \"turkiye\", \"cahitarmagandilek\", \"rusya\", \"c4\", \"35\", \"t\\u00fcrkiye\", \"s400\", \"\\u00e7in\", \"06\", \"amerikan\", \"arastirma\", \"wordpressdotcom\", \"suriye\", \"koridoru\", \"t\\u00fcrk\", \"trump\", \"kongre\", \"diz\", \"kalkani\", \"stratejilerinde\", \"nixonlasan\", \"li\\u015fkiler\", \"nixonla\\u015fan\", \"cokturuluyor\", \"\\u00e7\\u00f6kt\\u00fcr\\u00fcl\\u00fcyor\", \"sondaki\", \"rahip\", \"komisyonu\", \"manivelalari\", \"98firat\", \"manivelalar\\u0131\", \"8236\", \"bolgesi\", \"ankasam_org\", \"cemaat\", \"meclisi\", \"b\\u0131rak\\u0131lmas\\u0131\", \"mevzu\", \"saray\", \"saatiyle\", \"firat\", \"kayittayiz\", \"mark\", \"politikasi\", \"hamlesinin\", \"giri\\u015fiminde\", \"tasar\\u0131n\\u0131n\", \"kongre\", \"bloomberg\", \"komitesi\", \"temsilciler\", \"beyaz\", \"ankasam\", \"perde\", \"brunson\", \"bolton\", \"kalkan\\u0131\", \"tasar\\u0131s\\u0131\", \"35\", \"news\", \"usbed\", \"d\\u0131\\u015f\", \"t\\u00fcrk\", \"t\\u00fcrkiye\", \"ba\\u015fkan\\u0131\", \"trump\", \"a\\u00e7\\u0131klama\", \"abd\", \"bakan\\u0131\", \"amerikan\", \"almanya\", \"nato\", \"yapt\\u0131r\\u0131m\", \"turk\", \"operasyonu\", \"400\", \"d\\u0131\\u015fi\\u015fleri\", \"\\u00f6nemli\", \"turkey\", \"suriye\", \"savunma\", \"erdo\\u011fan\", \"ran\", \"destek\", \"rusya\", \"amerika\", \"pkk\", \"konusunda\", \"tehdit\", \"ypg\", \"askeri\", \"tr\", \"deki\", \"short_url\", \"url_shortening\", \"t24comtr\", \"himars\", \"projesinin\", \"skandal\", \"soli\", \"sharebutton\", \"ilimli\", \"planlar\\u0131na\", \"il\\u0131ml\\u0131\", \"cokusu\", \"\\u00e7\\u00f6k\\u00fc\\u015f\\u00fc\", \"3572\", \"hk\", \"t\\u00fcrken\", \"gonul_tol\", \"8321\", \"sonucunun\", \"guvenligi\", \"yava\\u015f\", \"baz\\u0131lar\\u0131\", \"set\", \"ahvalnews\", \"g\\u00f6lgesinde\", \"planlarina\", \"konuslanan\", \"turken\", \"sc_\", \"social\", \"insan\", \"mfa\", \"bahanesiyle\", \"utm_medium\", \"t24\", \"so\\u011fuk\", \"yunanistan\", \"akdeniz\", \"haklar\\u0131\", \"utm_content\", \"devreye\", \"sputniknews\", \"enerji\", \"s400\", \"do\\u011fu\", \"sputnik\", \"abd\", \"devam\", \"gkry\", \"libya\", \"t\\u00fcrkiye\", \"tr\", \"amerikan\", \"t\\u00fcrk\", \"400\", \"suriye\", \"rusya\", \"savunma\", \"ran\", \"ypg\", \"sputnik_tr\", \"trump\", \"yapt\\u0131r\\u0131m\", \"deki\", \"hava\", \"askeri\", \"utm_source\", \"turkiye\", \"konusunda\", \"d\\u0131\\u015fi\\u015fleri\", \"li\", \"srail\", \"nato\", \"pkk\", \"erdo\\u011fan\", \"amerika\", \"i\\u015fi\", \"fikir\", \"21yyte\", \"tanki\", \"y\\u00fczy\\u0131l\", \"enstit\\u00fcs\\u00fc\", \"tank\\u0131\", \"d8\", \"arastirma\", \"firatin\", \"bat\\u0131s\\u0131\", \"iddiasi\", \"ergin\", \"batisi\", \"anla\\u015f\\u0131ld\\u0131\", \"surec\", \"calisiyor\", \"d9\", \"gorusturdu\", \"anlasildi\", \"g\\u00f6r\\u00fc\\u015ft\\u00fcrd\\u00fc\", \"halep\", \"asp\", \"antakya\", \"planet\", \"koridoru\", \"isbirligi\", \"ozer_511\", \"anlasmasi\", \"ingiltere\", \"iside\", \"21\", \"arastirmalari\", \"cahitarmagandilek\", \"sedat\", \"hurriyet\", \"suriyedeki\", \"wordpressdotcom\", \"2016\", \"isid\", \"pyd\", \"pkk\", \"06\", \"tr\", \"turkiye\", \"rusya\", \"abd\", \"pkkpyd\", \"t\\u00fcrkiye\", \"ter\\u00f6r\", \"suriyede\", \"suriye\", \"turkiyeyi\", \"f\\u0131rat\", \"i\\u015fi\", \"ab\", \"askeri\", \"turkiyeye\", \"abdnin\", \"nato\", \"amerika\", \"ypg\", \"t\\u00fcrk\", \"dunya\", \"c4\", \"analisti\", \"sorgulayan\", \"\\u015fa\\u015f\\u0131rtt\\u0131\", \"havalimani\", \"sasirtti\", \"dinlendi\", \"nixon\", \"b1s\", \"pew\", \"keyfi\", \"2027\", \"mucadelesinde\", \"uyuyor\", \"kuvvetlerin\", \"onayland\\u0131\", \"iste_turkiye_abd_plani_isidden_arindirilmis_bolge_yaratmak\", \"1403443\", \"serkan_demirtas\", \"rta\\u015f\", \"\\u015feydir\", \"b1r\", \"pe\\u015fmerge\", \"ersanel\", \"nedret\", \"talks\", \"finanse\", \"9f\", \"kader\", \"uber\", \"b1\", \"fiyasko\", \"mesut\", \"nedretersanel\", \"c5\", \"serkan\", \"ataturk\", \"havaliman\\u0131\", \"suri\", \"de\\u011ferler\", \"m\\u00fccadelesinde\", \"000\", \"hedef\", \"c3\", \"uygur\", \"naim\", \"\\u00e7in\", \"abd\", \"gercekgundem\", \"t\\u00fcrkiye\", \"y\\u00fczde\", \"ger\\u00e7ek\", \"t\\u00fcrkleri\", \"sahibi\", \"suriye\", \"t\\u00fcrki\", \"yenisafak\", \"atat\\u00fcrk\", \"jeffrey\", \"t\\u00fcrk\\u00e7e\", \"turkiye\", \"tr\", \"irak\", \"aksam\", \"trump\", \"avrupa\", \"deki\", \"dunya\", \"abdnin\", \"turkey\", \"radikal\", \"amerikaninsesi\", \"t\\u00fcrk\", \"ran\", \"rusya\", \"fet\\u00f6\", \"nato\", \"d\\u0131\\u015fi\\u015fleri\", \"ankara\", \"destek\"], \"Freq\": [841.0, 557.0, 2336.0, 457.0, 552.0, 389.0, 466.0, 367.0, 366.0, 1037.0, 9472.0, 369.0, 639.0, 1071.0, 271.0, 1607.0, 90.0, 362.0, 7805.0, 239.0, 245.0, 176.0, 826.0, 100.0, 112.0, 1816.0, 90.0, 1417.0, 769.0, 139.0, 69.90685898079626, 49.88741367412196, 48.07434130139452, 42.04654380300951, 42.00344574932947, 36.817952281434486, 33.31075608930186, 33.31075608930186, 34.1374713136033, 56.28970057443889, 28.889130346248947, 25.483849383011126, 24.617907690452054, 24.612790409530387, 24.546108078083567, 19.369742045485697, 17.603569074032492, 55.905281366355254, 82.15500765492072, 15.0290593479558, 14.14716636403763, 90.55935938772761, 13.28544316048805, 27.23304908416803, 12.41443280791436, 12.412541116113594, 101.7888035697486, 12.393543994711594, 11.543775956047588, 11.512371235770178, 131.4449213842228, 37.11506471221582, 38.934502118342984, 92.96766047951122, 99.1901791728206, 60.39767244058945, 24.246022541304082, 133.81571594906342, 43.3648587958806, 51.4081963814891, 65.99740696436619, 261.834548102616, 114.84583295159224, 64.75892468150177, 171.30071992986572, 747.3988680360047, 2906.7118030289193, 135.42444861559946, 417.81482935738944, 75.0448264891976, 2988.6629779998175, 179.57885848325998, 407.1064654934498, 113.36501584595895, 346.72894852306285, 221.01249476019794, 191.32013038735604, 137.0370104019358, 238.4379005883026, 185.52863141799546, 154.87422145882383, 107.81651322233043, 509.8306756305843, 166.52823467969213, 168.0248197640611, 217.65481519070684, 147.48402500027754, 307.4354931766173, 159.2725216521114, 207.81118562380038, 133.39622937227946, 130.0315127092751, 136.19211912420067, 136.38659312816148, 161.9324227885432, 132.3198498770015, 30.902457957460342, 30.902455752567512, 24.93642388893303, 23.202703081452317, 22.328563797336813, 20.66597868927333, 32.20757148502644, 18.11142006332398, 16.415476386908207, 16.410242212694474, 15.562722671489551, 15.562722671489551, 15.562722671489551, 15.562722671489551, 14.698526868327107, 12.14712786565289, 12.143259167862663, 12.141096199386729, 11.296989562248111, 11.294580949305653, 11.291330467642236, 11.287860198699528, 11.272597493425302, 10.439593836806017, 10.438869079148352, 9.589846010501349, 9.589846010501349, 9.58747775281698, 9.586412648029839, 20.572463801232875, 45.06937046802949, 33.92096955358751, 16.382463515413008, 58.385331123250985, 63.38488682565921, 26.842849225661837, 102.29549830244187, 127.78136934644132, 27.555852860163462, 50.43224541633111, 28.460301828296988, 118.24458440635543, 71.74658818710839, 159.60535989446686, 97.43307052162517, 42.84286907081379, 2655.651046585123, 158.68428684981217, 48.42869080425463, 130.17259904002427, 2061.6657889084636, 760.7136652146836, 337.5164118994114, 450.07484679604715, 192.69404500048594, 495.0821480186184, 434.0255659042815, 141.53519921620688, 203.74349691120685, 175.36134418846194, 71.5832704786602, 223.94566269254537, 149.97773480070188, 148.96091816320325, 86.32905353256506, 156.89409951931526, 58.757510775823704, 210.01608475725175, 107.94443107791211, 111.67806181532804, 100.32684219356658, 94.47361587164454, 140.05763383473456, 141.99786672453422, 100.99710772326983, 107.1644949445701, 101.47087493030841, 840.3945094562972, 557.1918732773747, 456.3657552523566, 388.5624309554779, 366.51642972273004, 365.6695648368038, 61.263323879352996, 98.83536187266174, 50.22309888568472, 47.69337824289593, 43.452638303801166, 43.44935315303526, 42.60871928847363, 39.21111307549718, 38.363287056005234, 37.51235464107445, 36.673197701567965, 36.673170321310884, 36.673170321310884, 36.673170321310884, 35.80865317407688, 42.463008888919504, 32.43063729530381, 31.58217684823868, 88.97124948038878, 29.035757561930915, 29.03534245990752, 28.187910159288304, 30.655640166424078, 25.63168254380533, 447.3728895208316, 71.81634613878899, 258.5991578820029, 47.485298809358945, 507.42215165085094, 57.30264536849467, 106.56892300184349, 325.8759233945163, 94.5243756352649, 478.473548850906, 687.2653939563302, 144.82203271161066, 1325.595904086875, 665.0968637573166, 819.7899804953583, 3295.574152943806, 64.69322575101396, 2442.0158180531084, 239.41774301390018, 80.69058942657459, 705.731118083118, 86.2373936876451, 185.67547677673807, 175.9125479605042, 186.16058011756263, 212.94176264645006, 113.19902413798157, 150.72122140072938, 223.02608495035105, 171.15023279482097, 161.1466177018768, 168.7604035914234, 123.30457112891156, 89.25944539143725, 6.317127341093828, 6.315371712548859, 6.314947547461804, 6.314947547461804, 6.314947547461804, 5.6342242931395985, 5.634184853014632, 5.628722361646777, 4.948331003563277, 4.943122398071451, 4.94291703566924, 4.942529714224318, 4.264645137243838, 4.2633403564550525, 4.2375723585048615, 3.584333647267799, 3.5843336472677985, 3.5843336472677985, 3.5840548520576183, 3.58074638723987, 3.577771448370402, 3.574190503640028, 3.5729664754476373, 3.572966355624357, 3.572664982930246, 3.5633213857822676, 7.598809430398829, 2.9024794732269323, 2.902478842271422, 30.25089468478521, 9.031119692680335, 9.66880023729435, 10.240710331203337, 14.733314702393818, 7.693234268986956, 7.518602477339719, 7.436964277158982, 6.220337435727343, 4.950183451169935, 7.353721188412342, 9.526750209360166, 33.02484716819077, 29.202331224744036, 20.735754658664383, 24.790479769867687, 52.99967201156329, 532.4255813859577, 17.95365927361298, 394.62382719302707, 14.892133069917291, 22.04542753056436, 13.548745843966818, 9.995463054607017, 105.91618444431121, 18.532684193279994, 15.044971303473696, 28.765024280694444, 21.010251957990295, 20.639912702504272, 65.50400627886336, 88.63749360774581, 33.54590827354978, 10.085216735181351, 51.929496866022255, 27.34545165080593, 38.723364804003566, 32.838611010463936, 33.0693689754441, 25.045415699085325, 25.903605605024282, 26.555322076992507, 51.57409532504127, 36.64159492446654, 46.0508600492996, 22.328448716023978, 31.99695625193124, 26.365299730817966, 24.751568281496667, 23.901218096953233], \"Total\": [841.0, 557.0, 2336.0, 457.0, 552.0, 389.0, 466.0, 367.0, 366.0, 1037.0, 9472.0, 369.0, 639.0, 1071.0, 271.0, 1607.0, 90.0, 362.0, 7805.0, 239.0, 245.0, 176.0, 826.0, 100.0, 112.0, 1816.0, 90.0, 1417.0, 769.0, 139.0, 70.52693720869932, 50.48532498002049, 48.740554559059326, 42.64249044720915, 42.641502254419954, 37.41389902873165, 33.92758895911951, 33.92758895911951, 34.797472524298534, 57.44091245246306, 29.568502114728414, 26.085135462385683, 25.213852716095168, 25.213713667469023, 25.211904872681153, 19.984730336970685, 18.24142093327105, 57.93420254082133, 85.26570815937971, 15.627756980247408, 14.755429556715017, 94.5591068813478, 13.88508776620778, 28.515358960320842, 13.013716036666294, 13.013545906618907, 106.78735239178548, 13.013169582930042, 12.142303396600996, 12.135348822416283, 139.69237450420363, 39.573608671485246, 41.7106428384179, 101.59593682865882, 109.3967765904541, 66.03501338767566, 25.855920917581482, 154.76667295375293, 47.74974736600456, 58.157589465233585, 76.40354478582645, 362.828912496069, 144.06793079162696, 75.53395213099074, 234.85375015545796, 1417.8082137485167, 7805.017237183518, 191.7707765189571, 769.9103863210219, 93.48519241106732, 9472.313758914705, 282.2482130089108, 826.1378084143024, 161.22710397155217, 741.8096235600798, 409.88660018904073, 338.5950627631843, 216.04937997607195, 480.62328933744584, 337.5899432274294, 270.9987094943631, 159.809790169243, 1816.560126176632, 325.19446433436536, 330.73012568373014, 567.1321409634827, 295.39562867129763, 1607.3018996255569, 457.1990785937557, 1037.4132902144859, 308.2667510811561, 309.36409755951087, 474.084843464236, 513.3090594645221, 2336.879485697848, 435.13251512883204, 31.511516122379994, 31.511515683784125, 25.543374881832328, 23.835922668447385, 22.986034233707162, 21.279756679286482, 33.216094388668516, 18.72132975592713, 17.01609718065487, 17.01549420013615, 16.16334260812576, 16.16334260812576, 16.16334260812576, 16.16334260812576, 15.310605775287367, 12.751904959244541, 12.751212453194688, 12.752265242890955, 11.899585683109724, 11.899324528314445, 11.898622044186572, 11.898883023162533, 11.900066439319799, 11.046785244066424, 11.046781675472117, 10.194040768127351, 10.194040768127351, 10.193516760253141, 10.194090508472362, 21.943801236078837, 49.501162840978544, 37.170993176840874, 17.694265648703336, 67.95994208037555, 78.10353140464235, 30.716889918964682, 133.70080493387994, 173.98831337539522, 31.74537745483738, 62.986052567095854, 33.308728672287906, 165.3788025805291, 94.91139897442868, 239.53348247533978, 148.53957212408287, 57.2688204725405, 9472.313758914705, 300.090929166292, 67.55989578533585, 236.4039050306709, 7805.017237183518, 2336.879485697848, 826.1378084143024, 1417.8082137485167, 480.62328933744584, 1816.560126176632, 1607.3018996255569, 325.19446433436536, 567.1321409634827, 474.084843464236, 126.00334768386645, 769.9103863210219, 409.88660018904073, 435.13251512883204, 175.52125243978503, 513.3090594645221, 95.17907172804706, 1071.70930548236, 308.2667510811561, 337.5899432274294, 270.8066660873999, 248.12049865784502, 741.8096235600798, 1037.4132902144859, 330.73012568373014, 457.1990785937557, 349.4379781670835, 841.1179401278305, 557.9078030140007, 457.00298915260765, 389.1680287970973, 367.12173522295507, 366.27380745444475, 61.86511245227524, 100.03659516939575, 50.842220843391324, 48.2981674425716, 44.05834935814009, 44.058163756094274, 43.2105312020453, 39.818720601207794, 38.97090333516742, 38.122782225053626, 37.27498605622415, 37.274983312274905, 37.274983312274905, 37.274983312274905, 36.42638767555868, 43.213671188460076, 33.034970782151476, 32.18724780835348, 90.72430177912487, 29.64340711544244, 29.643384091308224, 28.79569297522399, 31.3398260233759, 26.250463276220867, 466.47003250241494, 73.76561764223533, 271.64005772194645, 48.95025402252905, 552.8429321931455, 59.328908462617925, 112.81237906431707, 369.1002284491991, 102.48427515883462, 639.7352591648493, 1037.4132902144859, 176.9773977910365, 2336.879485697848, 1071.70930548236, 1607.3018996255569, 9472.313758914705, 73.09810033119713, 7805.017237183518, 407.18140722579216, 98.51224900955151, 1816.560126176632, 108.00723211857103, 326.6038043195629, 349.4379781670835, 387.1012678563511, 513.3090594645221, 177.19959200823237, 312.3896756072036, 741.8096235600798, 457.1990785937557, 474.084843464236, 1417.8082137485167, 305.33947261634285, 90.37474977900061, 6.96021899157392, 6.960703491123733, 6.960745724045319, 6.960745724045319, 6.960745724045319, 6.277272641430846, 6.277282058462939, 6.278679663156584, 5.5950894763625785, 5.596481107581977, 5.596644442956193, 5.596496072757433, 4.912386359960605, 4.912606556595759, 4.91988994834414, 4.228726338694553, 4.228726338694552, 4.228726338694553, 4.2287861013387396, 4.229693478349145, 4.2305121471452, 4.231180905923668, 4.2318290552739, 4.231829088334923, 4.2319526090139075, 4.233888182381359, 9.220707058948149, 3.545518788980143, 3.5455189583217708, 39.33814577672567, 11.402169641198924, 12.934001747260588, 14.518928051717472, 22.85513770313152, 10.881838641870448, 10.91974847437687, 10.9342136029666, 8.684631168509638, 6.465980984676604, 10.974791129179199, 16.436177350346945, 97.87175085486447, 83.14084170723481, 52.90050677294686, 74.85084909872626, 245.5231928919185, 9472.313758914705, 46.70447047419391, 7805.017237183518, 37.573459358607295, 75.84613493585776, 32.52289978581848, 18.966036141384315, 1816.560126176632, 62.6193468106341, 42.49637515007926, 155.68526422901667, 86.3270869765593, 85.98138474254256, 1071.70930548236, 2336.879485697848, 282.61659550172584, 19.670306767565577, 769.9103863210219, 189.62753303961287, 435.13251512883204, 305.33947261634285, 312.3896756072036, 159.809790169243, 194.26538303263197, 211.8077591814757, 1417.8082137485167, 567.1321409634827, 1607.3018996255569, 132.55051679612671, 741.8096235600798, 337.5899432274294, 248.16717507413935, 295.39562867129763], \"Category\": [\"Default\", \"Default\", \"Default\", \"Default\", \"Default\", \"Default\", \"Default\", \"Default\", \"Default\", \"Default\", \"Default\", \"Default\", \"Default\", \"Default\", \"Default\", \"Default\", \"Default\", \"Default\", \"Default\", \"Default\", \"Default\", \"Default\", \"Default\", \"Default\", \"Default\", \"Default\", \"Default\", \"Default\", \"Default\", \"Default\", \"Topic1\", \"Topic1\", \"Topic1\", \"Topic1\", \"Topic1\", \"Topic1\", \"Topic1\", \"Topic1\", \"Topic1\", \"Topic1\", \"Topic1\", \"Topic1\", \"Topic1\", \"Topic1\", \"Topic1\", \"Topic1\", \"Topic1\", \"Topic1\", \"Topic1\", \"Topic1\", \"Topic1\", \"Topic1\", \"Topic1\", \"Topic1\", \"Topic1\", \"Topic1\", \"Topic1\", \"Topic1\", \"Topic1\", \"Topic1\", \"Topic1\", \"Topic1\", \"Topic1\", \"Topic1\", \"Topic1\", \"Topic1\", \"Topic1\", \"Topic1\", \"Topic1\", \"Topic1\", \"Topic1\", \"Topic1\", \"Topic1\", \"Topic1\", \"Topic1\", \"Topic1\", \"Topic1\", \"Topic1\", \"Topic1\", \"Topic1\", \"Topic1\", \"Topic1\", \"Topic1\", \"Topic1\", \"Topic1\", \"Topic1\", \"Topic1\", \"Topic1\", \"Topic1\", \"Topic1\", \"Topic1\", \"Topic1\", \"Topic1\", \"Topic1\", \"Topic1\", \"Topic1\", \"Topic1\", \"Topic1\", \"Topic1\", \"Topic1\", \"Topic1\", \"Topic1\", \"Topic1\", \"Topic1\", \"Topic1\", \"Topic1\", \"Topic2\", \"Topic2\", \"Topic2\", \"Topic2\", \"Topic2\", \"Topic2\", \"Topic2\", \"Topic2\", \"Topic2\", \"Topic2\", \"Topic2\", \"Topic2\", \"Topic2\", \"Topic2\", \"Topic2\", \"Topic2\", \"Topic2\", \"Topic2\", \"Topic2\", \"Topic2\", \"Topic2\", \"Topic2\", \"Topic2\", \"Topic2\", \"Topic2\", \"Topic2\", \"Topic2\", \"Topic2\", \"Topic2\", \"Topic2\", \"Topic2\", \"Topic2\", \"Topic2\", \"Topic2\", \"Topic2\", \"Topic2\", \"Topic2\", \"Topic2\", \"Topic2\", \"Topic2\", \"Topic2\", \"Topic2\", \"Topic2\", \"Topic2\", \"Topic2\", \"Topic2\", \"Topic2\", \"Topic2\", \"Topic2\", \"Topic2\", \"Topic2\", \"Topic2\", \"Topic2\", \"Topic2\", \"Topic2\", \"Topic2\", \"Topic2\", \"Topic2\", \"Topic2\", \"Topic2\", \"Topic2\", \"Topic2\", \"Topic2\", \"Topic2\", \"Topic2\", \"Topic2\", \"Topic2\", \"Topic2\", \"Topic2\", \"Topic2\", \"Topic2\", \"Topic2\", \"Topic2\", \"Topic2\", \"Topic2\", \"Topic2\", \"Topic2\", \"Topic3\", \"Topic3\", \"Topic3\", \"Topic3\", \"Topic3\", \"Topic3\", \"Topic3\", \"Topic3\", \"Topic3\", \"Topic3\", \"Topic3\", \"Topic3\", \"Topic3\", \"Topic3\", \"Topic3\", \"Topic3\", \"Topic3\", \"Topic3\", \"Topic3\", \"Topic3\", \"Topic3\", \"Topic3\", \"Topic3\", \"Topic3\", \"Topic3\", \"Topic3\", \"Topic3\", \"Topic3\", \"Topic3\", \"Topic3\", \"Topic3\", \"Topic3\", \"Topic3\", \"Topic3\", \"Topic3\", \"Topic3\", \"Topic3\", \"Topic3\", \"Topic3\", \"Topic3\", \"Topic3\", \"Topic3\", \"Topic3\", \"Topic3\", \"Topic3\", \"Topic3\", \"Topic3\", \"Topic3\", \"Topic3\", \"Topic3\", \"Topic3\", \"Topic3\", \"Topic3\", \"Topic3\", \"Topic3\", \"Topic3\", \"Topic3\", \"Topic3\", \"Topic3\", \"Topic3\", \"Topic3\", \"Topic3\", \"Topic3\", \"Topic4\", \"Topic4\", \"Topic4\", \"Topic4\", \"Topic4\", \"Topic4\", \"Topic4\", \"Topic4\", \"Topic4\", \"Topic4\", \"Topic4\", \"Topic4\", \"Topic4\", \"Topic4\", \"Topic4\", \"Topic4\", \"Topic4\", \"Topic4\", \"Topic4\", \"Topic4\", \"Topic4\", \"Topic4\", \"Topic4\", \"Topic4\", \"Topic4\", \"Topic4\", \"Topic4\", \"Topic4\", \"Topic4\", \"Topic4\", \"Topic4\", \"Topic4\", \"Topic4\", \"Topic4\", \"Topic4\", \"Topic4\", \"Topic4\", \"Topic4\", \"Topic4\", \"Topic4\", \"Topic4\", \"Topic4\", \"Topic4\", \"Topic4\", \"Topic4\", \"Topic4\", \"Topic4\", \"Topic4\", \"Topic4\", \"Topic4\", \"Topic4\", \"Topic4\", \"Topic4\", \"Topic4\", \"Topic4\", \"Topic4\", \"Topic4\", \"Topic4\", \"Topic4\", \"Topic4\", \"Topic4\", \"Topic4\", \"Topic4\", \"Topic4\", \"Topic4\", \"Topic4\", \"Topic4\", \"Topic4\", \"Topic4\", \"Topic4\", \"Topic4\", \"Topic4\", \"Topic4\", \"Topic4\", \"Topic4\", \"Topic4\", \"Topic4\", \"Topic4\", \"Topic4\", \"Topic4\"], \"logprob\": [30.0, 29.0, 28.0, 27.0, 26.0, 25.0, 24.0, 23.0, 22.0, 21.0, 20.0, 19.0, 18.0, 17.0, 16.0, 15.0, 14.0, 13.0, 12.0, 11.0, 10.0, 9.0, 8.0, 7.0, 6.0, 5.0, 4.0, 3.0, 2.0, 1.0, -7.0321, -7.3695, -7.4065, -7.5405, -7.5415, -7.6733, -7.7734, -7.7734, -7.7489, -7.2487, -7.9158, -8.0412, -8.0758, -8.076, -8.0787, -8.3155, -8.4111, -7.2556, -6.8706, -8.5693, -8.6297, -6.7732, -8.6926, -7.9748, -8.7604, -8.7605, -6.6564, -8.7621, -8.8331, -8.8358, -6.4007, -7.6652, -7.6174, -6.747, -6.6822, -7.1783, -8.091, -6.3828, -7.5096, -7.3395, -7.0896, -5.7115, -6.5357, -7.1086, -6.1358, -4.6627, -3.3045, -6.3708, -5.2442, -6.9612, -3.2767, -6.0886, -5.2702, -6.5486, -5.4307, -5.881, -6.0253, -6.359, -5.8051, -6.056, -6.2366, -6.5988, -5.0452, -6.1641, -6.1551, -5.8963, -6.2855, -5.551, -6.2086, -5.9426, -6.3859, -6.4115, -6.3652, -6.3638, -6.1921, -6.394, -7.6875, -7.6875, -7.902, -7.9741, -8.0125, -8.0899, -7.6462, -8.2218, -8.3201, -8.3205, -8.3735, -8.3735, -8.3735, -8.3735, -8.4306, -8.6213, -8.6216, -8.6218, -8.6938, -8.694, -8.6943, -8.6946, -8.696, -8.7728, -8.7728, -8.8577, -8.8577, -8.8579, -8.858, -8.0944, -7.3102, -7.5943, -8.3222, -7.0513, -6.9691, -7.8284, -6.4905, -6.268, -7.8022, -7.1977, -7.7699, -6.3456, -6.8452, -6.0457, -6.5392, -7.3608, -3.2339, -6.0514, -7.2383, -6.2495, -3.4871, -4.4841, -5.2968, -5.009, -5.8573, -4.9136, -5.0453, -6.1658, -5.8015, -5.9515, -6.8475, -5.707, -6.1079, -6.1147, -6.6602, -6.0628, -7.0449, -5.7712, -6.4368, -6.4027, -6.5099, -6.57, -6.1763, -6.1626, -6.5033, -6.444, -6.4986, -4.3501, -4.7611, -4.9607, -5.1215, -5.1799, -5.1822, -6.9688, -6.4905, -7.1675, -7.2192, -7.3123, -7.3124, -7.3319, -7.415, -7.4369, -7.4593, -7.4819, -7.4819, -7.4819, -7.4819, -7.5058, -7.3353, -7.6049, -7.6314, -6.5957, -7.7154, -7.7155, -7.7451, -7.6612, -7.8401, -4.9806, -6.8099, -5.5287, -7.2235, -4.8546, -7.0356, -6.4152, -5.2975, -6.5351, -4.9134, -4.5512, -6.1085, -3.8943, -4.584, -4.3749, -2.9836, -6.9143, -3.2834, -5.6058, -6.6933, -4.5247, -6.6269, -5.86, -5.914, -5.8574, -5.7229, -6.3548, -6.0685, -5.6767, -5.9414, -6.0017, -5.9555, -6.2693, -5.5035, -8.1517, -8.152, -8.1521, -8.1521, -8.1521, -8.2661, -8.2661, -8.2671, -8.396, -8.397, -8.397, -8.3971, -8.5446, -8.5449, -8.551, -8.7184, -8.7184, -8.7184, -8.7185, -8.7194, -8.7203, -8.7213, -8.7216, -8.7216, -8.7217, -8.7243, -7.967, -8.9294, -8.9294, -6.5855, -7.7943, -7.7261, -7.6686, -7.3049, -7.9547, -7.9776, -7.9885, -8.1672, -8.3956, -7.9998, -7.7409, -6.4977, -6.6208, -6.9631, -6.7845, -6.0247, -3.7176, -7.1072, -4.0171, -7.2942, -6.9019, -7.3887, -7.6929, -5.3324, -7.0755, -7.284, -6.6358, -6.95, -6.9678, -5.8129, -5.5104, -6.4821, -7.6839, -6.0451, -6.6865, -6.3386, -6.5034, -6.4964, -6.7743, -6.7406, -6.7158, -6.052, -6.3938, -6.1653, -6.8891, -6.5294, -6.723, -6.7861, -6.8211], \"loglift\": [30.0, 29.0, 28.0, 27.0, 26.0, 25.0, 24.0, 23.0, 22.0, 21.0, 20.0, 19.0, 18.0, 17.0, 16.0, 15.0, 14.0, 13.0, 12.0, 11.0, 10.0, 9.0, 8.0, 7.0, 6.0, 5.0, 4.0, 3.0, 2.0, 1.0, 1.0733, 1.0702, 1.0683, 1.068, 1.067, 1.066, 1.0637, 1.0637, 1.0629, 1.0618, 1.0588, 1.0588, 1.0582, 1.058, 1.0553, 1.0508, 1.0465, 1.0464, 1.0449, 1.043, 1.04, 1.0389, 1.0379, 1.0361, 1.0349, 1.0348, 1.0342, 1.0333, 1.0315, 1.0294, 1.0212, 1.018, 1.0132, 0.9933, 0.9842, 0.9929, 1.0178, 0.9366, 0.9858, 0.9587, 0.9357, 0.7559, 0.8554, 0.9282, 0.7666, 0.4418, 0.0943, 0.7342, 0.4709, 0.8624, -0.0715, 0.6299, 0.3744, 0.7299, 0.3215, 0.4644, 0.5112, 0.6268, 0.3811, 0.4835, 0.5226, 0.6885, -0.1885, 0.4128, 0.4049, 0.1244, 0.3875, -0.572, 0.0276, -0.5258, 0.2445, 0.2154, -0.1652, -0.2433, -1.5873, -0.1083, 1.2235, 1.2235, 1.2189, 1.2161, 1.214, 1.2137, 1.2121, 1.2099, 1.207, 1.2068, 1.2051, 1.2051, 1.2051, 1.2051, 1.2022, 1.1944, 1.1941, 1.1939, 1.191, 1.1908, 1.1906, 1.1903, 1.1888, 1.1864, 1.1864, 1.1819, 1.1819, 1.1817, 1.1815, 1.1784, 1.1492, 1.1515, 1.1659, 1.0911, 1.0342, 1.1082, 0.9752, 0.9343, 1.1014, 1.0207, 1.0857, 0.9075, 0.9632, 0.837, 0.8213, 0.9528, -0.0287, 0.6058, 0.9101, 0.6463, -0.0883, 0.1207, 0.3478, 0.0955, 0.329, -0.057, -0.0662, 0.4111, 0.2192, 0.2484, 0.6775, 0.0081, 0.2376, 0.171, 0.5334, 0.0577, 0.7606, -0.3868, 0.1936, 0.1368, 0.25, 0.2774, -0.4241, -0.7457, 0.0568, -0.2078, 0.0064, 1.2765, 1.2761, 1.276, 1.2758, 1.2757, 1.2757, 1.2676, 1.2653, 1.2651, 1.2648, 1.2635, 1.2635, 1.2634, 1.262, 1.2617, 1.2612, 1.2611, 1.2611, 1.2611, 1.2611, 1.2603, 1.2599, 1.2589, 1.2584, 1.2579, 1.2567, 1.2567, 1.256, 1.2553, 1.2535, 1.2356, 1.2506, 1.2282, 1.247, 1.1916, 1.2426, 1.2204, 1.1528, 1.1965, 0.9869, 0.8656, 1.0769, 0.7104, 0.8003, 0.6041, 0.2216, 1.1552, 0.1154, 0.7463, 1.0778, 0.3319, 1.0523, 0.7126, 0.591, 0.5453, 0.3975, 0.8292, 0.5486, 0.0756, 0.2948, 0.1983, -0.851, 0.3706, 2.3539, 2.2694, 2.269, 2.269, 2.269, 2.269, 2.2583, 2.2583, 2.2571, 2.2435, 2.2422, 2.2421, 2.2421, 2.2249, 2.2246, 2.217, 2.201, 2.201, 2.201, 2.2009, 2.1998, 2.1988, 2.1976, 2.1971, 2.1971, 2.197, 2.1939, 2.1729, 2.1662, 2.1662, 2.1037, 2.1332, 2.0754, 2.0173, 1.9273, 2.0196, 1.9931, 1.9809, 2.0326, 2.0992, 1.9659, 1.821, 1.2799, 1.3201, 1.4298, 1.2613, 0.8332, -0.5123, 1.4103, -0.6182, 1.4409, 1.1307, 1.4907, 1.7258, -0.4757, 1.1488, 1.328, 0.6777, 0.9532, 0.9394, -0.4286, -0.9057, 0.2352, 1.6983, -0.33, 0.4298, -0.0529, 0.1365, 0.1207, 0.513, 0.3515, 0.2899, -0.9475, -0.3731, -1.1862, 0.5852, -0.7771, -0.1834, 0.0611, -0.148]}, \"token.table\": {\"Topic\": [1, 2, 4, 1, 2, 3, 4, 1, 2, 3, 4, 1, 2, 3, 4, 3, 1, 2, 3, 2, 1, 2, 3, 1, 2, 1, 1, 4, 1, 2, 3, 4, 1, 2, 3, 4, 1, 2, 3, 4, 2, 1, 2, 3, 1, 2, 3, 4, 1, 2, 3, 4, 1, 2, 3, 4, 1, 2, 3, 4, 1, 2, 3, 4, 4, 1, 2, 3, 4, 1, 3, 4, 1, 3, 3, 3, 3, 1, 3, 1, 2, 3, 1, 2, 3, 4, 3, 2, 3, 4, 1, 2, 3, 4, 1, 2, 3, 4, 1, 2, 3, 4, 3, 4, 4, 4, 2, 4, 1, 2, 3, 4, 3, 3, 2, 1, 2, 3, 4, 1, 2, 3, 4, 1, 4, 1, 1, 3, 1, 2, 4, 1, 1, 2, 4, 2, 4, 1, 2, 4, 1, 3, 3, 1, 4, 1, 2, 3, 3, 1, 2, 3, 4, 1, 2, 3, 4, 1, 2, 3, 4, 1, 2, 1, 4, 4, 1, 1, 2, 3, 4, 1, 2, 3, 4, 1, 2, 3, 4, 1, 2, 3, 4, 1, 2, 3, 3, 1, 2, 3, 4, 3, 4, 1, 2, 3, 4, 3, 4, 1, 4, 3, 2, 4, 1, 2, 3, 2, 4, 1, 2, 3, 4, 1, 1, 2, 3, 2, 3, 2, 2, 3, 1, 2, 4, 3, 1, 1, 2, 3, 4, 4, 2, 3, 4, 1, 2, 3, 4, 2, 2, 2, 3, 4, 3, 2, 2, 3, 1, 2, 4, 1, 2, 3, 4, 3, 1, 2, 3, 4, 3, 4, 1, 2, 3, 4, 1, 2, 4, 4, 1, 1, 3, 1, 4, 1, 1, 3, 1, 2, 3, 4, 2, 1, 2, 3, 4, 1, 3, 4, 1, 2, 3, 4, 1, 2, 3, 4, 1, 1, 1, 1, 1, 2, 3, 3, 4, 1, 1, 2, 4, 4, 1, 3, 4, 2, 4, 1, 2, 3, 4, 4, 1, 3, 4, 1, 2, 3, 4, 4, 1, 1, 4, 1, 2, 3, 4, 3, 1, 4, 4, 4, 1, 2, 3, 1, 3, 3, 2, 2, 1, 4, 2, 1, 2, 3, 4, 2, 3, 4, 1, 2, 1, 2, 3, 4, 4, 1, 2, 3, 4, 1, 2, 3, 1, 1, 3, 4, 1, 2, 4, 4, 1, 2, 3, 4, 2, 3, 4, 2, 4, 4, 2, 2, 2, 2, 2, 4, 2, 3, 1, 2, 4, 1, 2, 1, 2, 3, 4, 1, 2, 3, 4, 1, 2, 3, 4, 1, 2, 3, 4, 1, 3, 2, 3, 4, 1, 2, 3, 4, 1, 2, 3, 4, 2, 3, 2, 3, 4, 2, 4, 3, 3, 1, 1, 2, 3, 1, 2, 3, 4, 1, 2, 3, 4, 1, 2, 3, 4, 1, 2, 3, 4, 1, 2, 3, 4, 1, 2, 3, 4, 2, 1, 2, 4, 1, 2, 3, 4, 1, 2, 3, 4, 1, 2, 3, 4, 1, 2, 3, 4, 2, 2, 3, 4, 1, 2, 3, 4, 1, 2, 3, 4, 1, 2, 3, 4, 4, 2, 1, 2, 2, 3, 2, 3, 4, 2, 3, 4, 1, 2, 4, 4, 1, 3, 1, 2, 3, 4, 2, 1, 2, 3, 4, 1, 2, 3, 4, 1, 2, 3, 4, 1, 2, 4, 3, 1, 2, 3, 4, 1, 2, 1, 2, 3, 4, 4, 4], \"Freq\": [0.12168279505439765, 0.2433655901087953, 0.6084139752719883, 0.1243096591688854, 0.056504390531311545, 0.8193136627040174, 0.9459112932890421, 0.11379023030266329, 0.0027092911976824593, 0.8832289304444817, 0.8933924695346485, 0.025725125225354913, 0.006431281306338728, 0.9582609146444705, 0.00857504174178497, 0.9983728440271019, 0.7221034238908361, 0.2563191542818617, 0.022048959508117135, 0.9898942556570172, 0.49519031907107625, 0.4015618973979736, 0.10195094804404511, 0.991595047111622, 0.9410092851299244, 0.9915184435118614, 0.10845155296735724, 0.8676124237388579, 0.33582943481404853, 0.14466498730451322, 0.4804944221185617, 0.036166246826128304, 0.31555120280796806, 0.2803961173161469, 0.34796144678991725, 0.05616368012507159, 0.25288927953987184, 0.16005650603789356, 0.4833706482344386, 0.10563729398500975, 0.9052407355679621, 0.06897014958762739, 0.7356815956013588, 0.19541542383161095, 0.10167609603820747, 0.10167609603820747, 0.3050282881146224, 0.5083804801910373, 0.7008747116113825, 0.16746563905758696, 0.09303646614310386, 0.037214586457241544, 0.3477697297401587, 0.23403371749809423, 0.37401650179601975, 0.043744620093101726, 0.4926538839581741, 0.4091327095279185, 0.08594207803692963, 0.01210451803337037, 0.47212623553757804, 0.12747408359514606, 0.27383321661179527, 0.12747408359514606, 0.8620418419684256, 0.4029541778445326, 0.33848150938940735, 0.16118167113781304, 0.10073854446113314, 0.90860888673944, 0.03028696289131467, 0.06057392578262934, 0.9867652342350854, 0.9926228454625665, 0.9723676392886739, 0.9794388019291871, 0.9686704495978952, 0.009996341821776942, 0.9896378403559173, 0.013556451256871722, 0.013556451256871722, 0.9760644904947641, 0.2649475934476465, 0.30585861890647426, 0.4149546867966817, 0.013637008486275923, 0.971914647492755, 0.1831544018337958, 0.0915772009168979, 0.7326176073351832, 0.3083143432855076, 0.26335183488970443, 0.24408218843436016, 0.1862732490683275, 0.3269567399110144, 0.35859771474111257, 0.16875186576052356, 0.14238438673544176, 0.8022660922621268, 0.1069688123016169, 0.04278752492064676, 0.04278752492064676, 0.2287855673493597, 0.762618557831199, 0.945511999699433, 0.9556149257316181, 0.904247755609598, 0.05651548472559988, 0.6377365443030006, 0.2905244257380336, 0.017714904008416684, 0.053144712025250056, 0.9951277802843734, 0.9938265267947044, 0.9244565207160408, 0.7039654448427123, 0.1355785301178557, 0.0990766181630484, 0.0625747062082411, 0.904962678842209, 0.04570518580011157, 0.04570518580011157, 0.009141037160022313, 0.9349665406344492, 0.05053873192618644, 0.9507258631781993, 0.9005283246925376, 0.0837700767155849, 0.8658194780735619, 0.11630410899495607, 0.019384018165826012, 0.9598306410164391, 0.4811113188010851, 0.15636117861035265, 0.3488057061307867, 0.011065037551366577, 0.9847883420716254, 0.1750153533072757, 0.1750153533072757, 0.6563075749022839, 0.04785744823139058, 0.9534676224561661, 0.9967792952694587, 0.966613805731451, 0.0345219216332661, 0.9726597442501088, 0.9898942556570172, 0.9860161500079286, 0.9926227723919367, 0.3033558638129307, 0.3424244220312627, 0.26428730559459873, 0.08962786885382044, 0.49763769579533856, 0.2505114931214629, 0.16926452237936687, 0.0812469707420961, 0.26658586523176414, 0.5298394071481312, 0.1732808124006467, 0.029990909838573464, 0.12008864221010956, 0.8406204954707669, 0.15465557389819867, 0.7732778694909934, 0.9558291224120473, 0.9925285680967537, 0.11444761659740754, 0.6530246358793254, 0.2019663822307192, 0.02692885096409589, 0.18995251253635537, 0.29802894208290237, 0.40283032830985704, 0.10807642954654702, 0.728112707958928, 0.13199704062413314, 0.12773907157174175, 0.008515938104782784, 0.5509642799835851, 0.3317634374094706, 0.04147042967618383, 0.07701651225576996, 0.1685782758750692, 0.7586022414378115, 0.07375299569534279, 0.9996684063860148, 0.5079670309823988, 0.3053849412453707, 0.17536957022011387, 0.009070839838971407, 0.9759825724478155, 0.9452177646483654, 0.33194891324094583, 0.33194891324094583, 0.16597445662047292, 0.16597445662047292, 0.9986708877857716, 0.9447580634380834, 0.9468581488863785, 0.03506882032912513, 0.9834346173432194, 0.1754052134756436, 0.7893234606403963, 0.2786250459929174, 0.15309068461149306, 0.5694973467547542, 0.5995143444666848, 0.38540207858572595, 0.22413798691754974, 0.34279927410919375, 0.1318458746573822, 0.29006092424624086, 0.9882803623041712, 0.19242184803401816, 0.7104806696640671, 0.08881008370800839, 0.9410869785165819, 0.9926228454625665, 0.9244222202550656, 0.9052410280003674, 0.9926228454625665, 0.03150064923381843, 0.882018178546916, 0.09450194770145529, 0.988294538581305, 0.9221427511204449, 0.2335899466878839, 0.4899691564672687, 0.2563792097793848, 0.017091947318625653, 0.861976609671791, 0.09145605128188518, 0.18291210256377036, 0.6401923589731963, 0.1839141513539742, 0.38826320841394557, 0.0919570756769871, 0.33717594414895274, 0.9649301317144341, 0.9797130316170304, 0.07958860905655535, 0.9170778361743992, 0.0018088320240126216, 0.9759784609827977, 0.9402861202620514, 0.9898942556570172, 0.9891567354865841, 0.020201545632624412, 0.9090695534680986, 0.06060463689787324, 0.2689155598420472, 0.233531933547041, 0.37860480135656643, 0.12030432940302112, 0.9782951024173175, 0.04878797251823054, 0.019515189007292214, 0.9269714778463802, 0.009757594503646107, 0.9904587102488301, 0.9459112932890419, 0.14308690847590855, 0.2890355551213352, 0.5036659178351981, 0.06295823972939976, 0.6255278834401399, 0.12742234662669516, 0.24326084356005437, 0.8461385141504045, 0.9903868108165579, 0.8769276799288188, 0.10316796234456692, 0.9221040297936318, 0.8934185435248091, 0.980773388096476, 0.9350131608156075, 0.04794939286233885, 0.9377748818784517, 0.021475760653705003, 0.028634347538273337, 0.014317173769136668, 0.980965274463681, 0.4314445185331896, 0.35034592482394344, 0.16544113116686218, 0.0486591562255477, 0.01102240502698577, 0.9809940474017335, 0.814231702441044, 0.36188178605755433, 0.3692671286301575, 0.21048226331918976, 0.05539006929452362, 0.3299437883222797, 0.5499063138704662, 0.10998126277409324, 0.008460097136468711, 0.9849559180492179, 0.9584002366424192, 0.9915239115392684, 0.922116084740332, 0.9616996301341284, 0.023456088539856788, 0.011728044269928394, 0.2319467755318185, 0.773155918439395, 0.9488032826281747, 0.05380539579572186, 0.9146917285272717, 0.05380539579572186, 0.8934161545004828, 0.09111790723207956, 0.18223581446415912, 0.637825350624557, 0.667995094271427, 0.3339975471357135, 0.46777500450140247, 0.18872766752217968, 0.3006162132674719, 0.04313775257649821, 0.9452177572638834, 0.06887560820178512, 0.20662682460535536, 0.6887560820178512, 0.798234550660206, 0.13188223010907751, 0.04858819004018645, 0.020823510017222765, 0.9558276884994977, 0.9849330927797347, 0.9889372923037559, 0.813026316035028, 0.6341142937562382, 0.12497143015633891, 0.1666285735417852, 0.0786857152836208, 0.9782958622630109, 0.928220660811215, 0.03867586086713396, 0.8936407578687282, 0.9453625569164359, 0.20049868452812655, 0.1368789096297787, 0.6622240205328026, 0.10944196858404164, 0.8892159947453383, 0.9941825467816205, 0.980965274463681, 0.9403194413167251, 0.9551692940731271, 0.04682202421927094, 0.9571028989306375, 0.11723599555527037, 0.13130431502190282, 0.7471840783389231, 0.00312629321480721, 0.3706270199869099, 0.4941693599825466, 0.133837534995273, 0.9749148752876179, 0.017409194201564605, 0.3843901345983438, 0.35970452962413824, 0.1921950672991719, 0.065240527431829, 0.9458979253487636, 0.19100332057811908, 0.2700177235534322, 0.5101717357461161, 0.028619390054050415, 0.32563297286854326, 0.6679650725508579, 0.008349563406885724, 0.9362562353864393, 0.3690808109727179, 0.1054516602779194, 0.527258301389597, 0.9623610353488877, 0.021150791985689837, 0.010575395992844919, 0.861976609671791, 0.5135388769357722, 0.43666179955017753, 0.04612624643135678, 0.009225249286271355, 0.9809604880091017, 0.9601584493998446, 0.0204289031787201, 0.27568870470627915, 0.7351698792167445, 0.9459112932890419, 0.9243645870458479, 0.9614701644951925, 0.9837673274623334, 0.9868533891856576, 0.9569900754238018, 0.045570955972561986, 0.963388399176654, 0.030105887474270437, 0.9770824583957449, 0.9244019323810075, 0.8619818395728508, 0.09766613768237625, 0.8789952391413863, 0.12223056005416404, 0.7508448689041505, 0.06984603431666517, 0.05238452573749887, 0.1269807532427065, 0.5714133895921792, 0.2936429918737588, 0.007936297077669156, 0.05442051737929088, 0.713513450084036, 0.211635345363909, 0.02418689661301817, 0.24181798893907283, 0.37884818267121406, 0.30630278598949223, 0.06851509686607063, 0.9848061934100074, 0.9750864554814854, 0.11514593776025714, 0.11514593776025714, 0.6908756265615429, 0.2807504098823374, 0.27249304488579806, 0.3886466458371181, 0.05835204597554464, 0.05075510964646855, 0.060906131575762266, 0.8222327762727906, 0.07105715350505597, 0.03371037916971225, 0.9607458063367991, 0.8066216580349832, 0.16644573895959971, 0.01280351838150767, 0.978727365340482, 0.9451901685950224, 0.9978052897324207, 0.9992524514478727, 0.9888467299624492, 0.8638342656091474, 0.10470718371019969, 0.02617679592754992, 0.4202168287320171, 0.25859497152739513, 0.31354640297696657, 0.009697311432277316, 0.9153909388802051, 0.06890039324904769, 0.009842913321292527, 0.009842913321292527, 0.18419308610132742, 0.18664899391601178, 0.5869619677095634, 0.03929452503494985, 0.06932321542102242, 0.32564794404566705, 0.5674233558535539, 0.03808497637327775, 0.5429203286857734, 0.29094295125744796, 0.09871278703377699, 0.067540327970479, 0.5640956440454263, 0.22741028581936037, 0.2067366234721458, 0.0029533803353163687, 0.9810157019599254, 0.6758034028179688, 0.1689508507044922, 0.15643597287452982, 0.12223463893601158, 0.19594865783635443, 0.6205040831484557, 0.06158386389142568, 0.12415378472755129, 0.1975173847938316, 0.6376989851915135, 0.03950347695876632, 0.07406911410541055, 0.1018450318949395, 0.7962429766331633, 0.027775917789528953, 0.526869567235064, 0.31739130556329154, 0.11919806808932504, 0.036676328642869245, 0.9410358717660106, 0.28745109805174807, 0.41520714163030276, 0.3034206034990674, 0.3724527328589227, 0.2641890385810453, 0.31287567032730973, 0.05060847247309064, 0.12299026305594647, 0.3689707891678394, 0.061495131527973236, 0.43046592069581263, 0.4070648560127506, 0.2674997625226647, 0.08141297120255013, 0.24423891360765038, 0.8461384737370052, 0.9837673411549877, 0.8605401698997188, 0.13239079536918752, 0.7938265371803945, 0.19051836892329468, 0.8534439292400215, 0.07357275252069151, 0.058858202016553215, 0.6198841712659199, 0.18911720479299252, 0.18911720479299252, 0.056710231772943806, 0.5481989071384568, 0.39697162241060663, 0.8142682001975264, 0.05318565258320857, 0.9484774710672196, 0.5391735174998994, 0.3659548761311534, 0.06343217852939992, 0.03171608926469996, 0.9244767973258197, 0.25884560650532296, 0.21178276895890058, 0.16471993141247823, 0.35297128159816765, 0.28686848329978215, 0.36913223954016083, 0.33960166037694794, 0.0021093270830866333, 0.11219079800916729, 0.7628974264623375, 0.08227325187338934, 0.037396932669722424, 0.42583249647825505, 0.15968718617934563, 0.39921796544836413, 0.9995682358655805, 0.4235852376104514, 0.2117926188052257, 0.15069859414987213, 0.21586555378224928, 0.9726597442501088, 0.9898942556570172, 0.5719584432309781, 0.2656839220169705, 0.10332152522882185, 0.06273092603178469, 0.861976609671791, 0.9456950061452691], \"Term\": [\"000\", \"000\", \"000\", \"06\", \"06\", \"06\", \"1403443\", \"2016\", \"2016\", \"2016\", \"2027\", \"21\", \"21\", \"21\", \"21\", \"21yyte\", \"35\", \"35\", \"35\", \"3572\", \"400\", \"400\", \"400\", \"8236\", \"8321\", \"98firat\", \"9f\", \"9f\", \"ab\", \"ab\", \"ab\", \"ab\", \"abd\", \"abd\", \"abd\", \"abd\", \"abdnin\", \"abdnin\", \"abdnin\", \"abdnin\", \"ahvalnews\", \"akdeniz\", \"akdeniz\", \"akdeniz\", \"aksam\", \"aksam\", \"aksam\", \"aksam\", \"almanya\", \"almanya\", \"almanya\", \"almanya\", \"amerika\", \"amerika\", \"amerika\", \"amerika\", \"amerikan\", \"amerikan\", \"amerikan\", \"amerikan\", \"amerikaninsesi\", \"amerikaninsesi\", \"amerikaninsesi\", \"amerikaninsesi\", \"analisti\", \"ankara\", \"ankara\", \"ankara\", \"ankara\", \"ankasam\", \"ankasam\", \"ankasam\", \"ankasam_org\", \"anlasildi\", \"anlasmasi\", \"anla\\u015f\\u0131ld\\u0131\", \"antakya\", \"arastirma\", \"arastirma\", \"arastirmalari\", \"arastirmalari\", \"arastirmalari\", \"askeri\", \"askeri\", \"askeri\", \"askeri\", \"asp\", \"ataturk\", \"ataturk\", \"ataturk\", \"atat\\u00fcrk\", \"atat\\u00fcrk\", \"atat\\u00fcrk\", \"atat\\u00fcrk\", \"avrupa\", \"avrupa\", \"avrupa\", \"avrupa\", \"a\\u00e7\\u0131klama\", \"a\\u00e7\\u0131klama\", \"a\\u00e7\\u0131klama\", \"a\\u00e7\\u0131klama\", \"b1\", \"b1\", \"b1r\", \"b1s\", \"bahanesiyle\", \"bahanesiyle\", \"bakan\\u0131\", \"bakan\\u0131\", \"bakan\\u0131\", \"bakan\\u0131\", \"batisi\", \"bat\\u0131s\\u0131\", \"baz\\u0131lar\\u0131\", \"ba\\u015fkan\\u0131\", \"ba\\u015fkan\\u0131\", \"ba\\u015fkan\\u0131\", \"ba\\u015fkan\\u0131\", \"beyaz\", \"beyaz\", \"beyaz\", \"beyaz\", \"bloomberg\", \"bloomberg\", \"bolgesi\", \"bolton\", \"bolton\", \"brunson\", \"brunson\", \"brunson\", \"b\\u0131rak\\u0131lmas\\u0131\", \"c3\", \"c3\", \"c3\", \"c4\", \"c4\", \"c5\", \"c5\", \"c5\", \"cahitarmagandilek\", \"cahitarmagandilek\", \"calisiyor\", \"cemaat\", \"cemaat\", \"cokturuluyor\", \"cokusu\", \"d8\", \"d9\", \"deki\", \"deki\", \"deki\", \"deki\", \"destek\", \"destek\", \"destek\", \"destek\", \"devam\", \"devam\", \"devam\", \"devam\", \"devreye\", \"devreye\", \"de\\u011ferler\", \"de\\u011ferler\", \"dinlendi\", \"diz\", \"do\\u011fu\", \"do\\u011fu\", \"do\\u011fu\", \"do\\u011fu\", \"dunya\", \"dunya\", \"dunya\", \"dunya\", \"d\\u0131\\u015f\", \"d\\u0131\\u015f\", \"d\\u0131\\u015f\", \"d\\u0131\\u015f\", \"d\\u0131\\u015fi\\u015fleri\", \"d\\u0131\\u015fi\\u015fleri\", \"d\\u0131\\u015fi\\u015fleri\", \"d\\u0131\\u015fi\\u015fleri\", \"enerji\", \"enerji\", \"enerji\", \"enstit\\u00fcs\\u00fc\", \"erdo\\u011fan\", \"erdo\\u011fan\", \"erdo\\u011fan\", \"erdo\\u011fan\", \"ergin\", \"ersanel\", \"fet\\u00f6\", \"fet\\u00f6\", \"fet\\u00f6\", \"fet\\u00f6\", \"fikir\", \"finanse\", \"firat\", \"firat\", \"firatin\", \"fiyasko\", \"fiyasko\", \"f\\u0131rat\", \"f\\u0131rat\", \"f\\u0131rat\", \"gercekgundem\", \"gercekgundem\", \"ger\\u00e7ek\", \"ger\\u00e7ek\", \"ger\\u00e7ek\", \"ger\\u00e7ek\", \"giri\\u015fiminde\", \"gkry\", \"gkry\", \"gkry\", \"gonul_tol\", \"gorusturdu\", \"guvenligi\", \"g\\u00f6lgesinde\", \"g\\u00f6r\\u00fc\\u015ft\\u00fcrd\\u00fc\", \"haklar\\u0131\", \"haklar\\u0131\", \"haklar\\u0131\", \"halep\", \"hamlesinin\", \"hava\", \"hava\", \"hava\", \"hava\", \"havalimani\", \"havaliman\\u0131\", \"havaliman\\u0131\", \"havaliman\\u0131\", \"hedef\", \"hedef\", \"hedef\", \"hedef\", \"himars\", \"hk\", \"hurriyet\", \"hurriyet\", \"hurriyet\", \"iddiasi\", \"ilimli\", \"il\\u0131ml\\u0131\", \"ingiltere\", \"insan\", \"insan\", \"insan\", \"irak\", \"irak\", \"irak\", \"irak\", \"isbirligi\", \"isid\", \"isid\", \"isid\", \"isid\", \"iside\", \"iste_turkiye_abd_plani_isidden_arindirilmis_bolge_yaratmak\", \"i\\u015fi\", \"i\\u015fi\", \"i\\u015fi\", \"i\\u015fi\", \"jeffrey\", \"jeffrey\", \"jeffrey\", \"kader\", \"kalkani\", \"kalkan\\u0131\", \"kalkan\\u0131\", \"kayittayiz\", \"keyfi\", \"komisyonu\", \"komitesi\", \"komitesi\", \"kongre\", \"kongre\", \"kongre\", \"kongre\", \"konuslanan\", \"konusunda\", \"konusunda\", \"konusunda\", \"konusunda\", \"koridoru\", \"koridoru\", \"kuvvetlerin\", \"li\", \"li\", \"li\", \"li\", \"libya\", \"libya\", \"libya\", \"libya\", \"li\\u015fkiler\", \"manivelalari\", \"manivelalar\\u0131\", \"mark\", \"meclisi\", \"meclisi\", \"meclisi\", \"mesut\", \"mesut\", \"mevzu\", \"mfa\", \"mfa\", \"mfa\", \"mucadelesinde\", \"m\\u00fccadelesinde\", \"m\\u00fccadelesinde\", \"m\\u00fccadelesinde\", \"naim\", \"naim\", \"nato\", \"nato\", \"nato\", \"nato\", \"nedret\", \"nedretersanel\", \"nedretersanel\", \"nedretersanel\", \"news\", \"news\", \"news\", \"news\", \"nixon\", \"nixonlasan\", \"nixonla\\u015fan\", \"onayland\\u0131\", \"operasyonu\", \"operasyonu\", \"operasyonu\", \"operasyonu\", \"ozer_511\", \"perde\", \"perde\", \"pew\", \"pe\\u015fmerge\", \"pkk\", \"pkk\", \"pkk\", \"pkkpyd\", \"pkkpyd\", \"planet\", \"planlarina\", \"planlar\\u0131na\", \"politikasi\", \"politikasi\", \"projesinin\", \"pyd\", \"pyd\", \"pyd\", \"pyd\", \"radikal\", \"radikal\", \"radikal\", \"rahip\", \"rahip\", \"ran\", \"ran\", \"ran\", \"ran\", \"rta\\u015f\", \"rusya\", \"rusya\", \"rusya\", \"rusya\", \"s400\", \"s400\", \"s400\", \"saatiyle\", \"sahibi\", \"sahibi\", \"sahibi\", \"saray\", \"saray\", \"saray\", \"sasirtti\", \"savunma\", \"savunma\", \"savunma\", \"savunma\", \"sc_\", \"sedat\", \"sedat\", \"serkan\", \"serkan\", \"serkan_demirtas\", \"set\", \"sharebutton\", \"short_url\", \"skandal\", \"social\", \"social\", \"soli\", \"soli\", \"sondaki\", \"sonucunun\", \"sorgulayan\", \"so\\u011fuk\", \"so\\u011fuk\", \"sputnik\", \"sputnik\", \"sputnik\", \"sputnik\", \"sputnik_tr\", \"sputnik_tr\", \"sputnik_tr\", \"sputnik_tr\", \"sputniknews\", \"sputniknews\", \"sputniknews\", \"sputniknews\", \"srail\", \"srail\", \"srail\", \"srail\", \"stratejilerinde\", \"surec\", \"suri\", \"suri\", \"suri\", \"suriye\", \"suriye\", \"suriye\", \"suriye\", \"suriyede\", \"suriyede\", \"suriyede\", \"suriyede\", \"suriyedeki\", \"suriyedeki\", \"t24\", \"t24\", \"t24\", \"t24comtr\", \"talks\", \"tanki\", \"tank\\u0131\", \"tasar\\u0131n\\u0131n\", \"tasar\\u0131s\\u0131\", \"tasar\\u0131s\\u0131\", \"tasar\\u0131s\\u0131\", \"tehdit\", \"tehdit\", \"tehdit\", \"tehdit\", \"temsilciler\", \"temsilciler\", \"temsilciler\", \"temsilciler\", \"ter\\u00f6r\", \"ter\\u00f6r\", \"ter\\u00f6r\", \"ter\\u00f6r\", \"tr\", \"tr\", \"tr\", \"tr\", \"trump\", \"trump\", \"trump\", \"trump\", \"turk\", \"turk\", \"turk\", \"turk\", \"turken\", \"turkey\", \"turkey\", \"turkey\", \"turkiye\", \"turkiye\", \"turkiye\", \"turkiye\", \"turkiyeye\", \"turkiyeye\", \"turkiyeye\", \"turkiyeye\", \"turkiyeyi\", \"turkiyeyi\", \"turkiyeyi\", \"turkiyeyi\", \"t\\u00fcrk\", \"t\\u00fcrk\", \"t\\u00fcrk\", \"t\\u00fcrk\", \"t\\u00fcrken\", \"t\\u00fcrki\", \"t\\u00fcrki\", \"t\\u00fcrki\", \"t\\u00fcrkiye\", \"t\\u00fcrkiye\", \"t\\u00fcrkiye\", \"t\\u00fcrkiye\", \"t\\u00fcrkleri\", \"t\\u00fcrkleri\", \"t\\u00fcrkleri\", \"t\\u00fcrkleri\", \"t\\u00fcrk\\u00e7e\", \"t\\u00fcrk\\u00e7e\", \"t\\u00fcrk\\u00e7e\", \"t\\u00fcrk\\u00e7e\", \"uber\", \"url_shortening\", \"usbed\", \"usbed\", \"utm_content\", \"utm_content\", \"utm_medium\", \"utm_medium\", \"utm_medium\", \"utm_source\", \"utm_source\", \"utm_source\", \"uygur\", \"uygur\", \"uygur\", \"uyuyor\", \"wordpressdotcom\", \"wordpressdotcom\", \"yapt\\u0131r\\u0131m\", \"yapt\\u0131r\\u0131m\", \"yapt\\u0131r\\u0131m\", \"yapt\\u0131r\\u0131m\", \"yava\\u015f\", \"yenisafak\", \"yenisafak\", \"yenisafak\", \"yenisafak\", \"ypg\", \"ypg\", \"ypg\", \"ypg\", \"yunanistan\", \"yunanistan\", \"yunanistan\", \"yunanistan\", \"y\\u00fczde\", \"y\\u00fczde\", \"y\\u00fczde\", \"y\\u00fczy\\u0131l\", \"\\u00e7in\", \"\\u00e7in\", \"\\u00e7in\", \"\\u00e7in\", \"\\u00e7\\u00f6kt\\u00fcr\\u00fcl\\u00fcyor\", \"\\u00e7\\u00f6k\\u00fc\\u015f\\u00fc\", \"\\u00f6nemli\", \"\\u00f6nemli\", \"\\u00f6nemli\", \"\\u00f6nemli\", \"\\u015fa\\u015f\\u0131rtt\\u0131\", \"\\u015feydir\"]}, \"R\": 30, \"lambda.step\": 0.01, \"plot.opts\": {\"xlab\": \"PC1\", \"ylab\": \"PC2\"}, \"topic.order\": [3, 1, 4, 2]};\n",
              "\n",
              "function LDAvis_load_lib(url, callback){\n",
              "  var s = document.createElement('script');\n",
              "  s.src = url;\n",
              "  s.async = true;\n",
              "  s.onreadystatechange = s.onload = callback;\n",
              "  s.onerror = function(){console.warn(\"failed to load library \" + url);};\n",
              "  document.getElementsByTagName(\"head\")[0].appendChild(s);\n",
              "}\n",
              "\n",
              "if(typeof(LDAvis) !== \"undefined\"){\n",
              "   // already loaded: just create the visualization\n",
              "   !function(LDAvis){\n",
              "       new LDAvis(\"#\" + \"ldavis_el1021396533167263603919464941\", ldavis_el1021396533167263603919464941_data);\n",
              "   }(LDAvis);\n",
              "}else if(typeof define === \"function\" && define.amd){\n",
              "   // require.js is available: use it to load d3/LDAvis\n",
              "   require.config({paths: {d3: \"https://cdnjs.cloudflare.com/ajax/libs/d3/3.5.5/d3.min\"}});\n",
              "   require([\"d3\"], function(d3){\n",
              "      window.d3 = d3;\n",
              "      LDAvis_load_lib(\"https://cdn.rawgit.com/bmabey/pyLDAvis/files/ldavis.v1.0.0.js\", function(){\n",
              "        new LDAvis(\"#\" + \"ldavis_el1021396533167263603919464941\", ldavis_el1021396533167263603919464941_data);\n",
              "      });\n",
              "    });\n",
              "}else{\n",
              "    // require.js not available: dynamically load d3 & LDAvis\n",
              "    LDAvis_load_lib(\"https://cdnjs.cloudflare.com/ajax/libs/d3/3.5.5/d3.min.js\", function(){\n",
              "         LDAvis_load_lib(\"https://cdn.rawgit.com/bmabey/pyLDAvis/files/ldavis.v1.0.0.js\", function(){\n",
              "                 new LDAvis(\"#\" + \"ldavis_el1021396533167263603919464941\", ldavis_el1021396533167263603919464941_data);\n",
              "            })\n",
              "         });\n",
              "}\n",
              "</script>"
            ],
            "text/plain": [
              "PreparedData(topic_coordinates=                x           y  topics  cluster       Freq\n",
              "topic                                                    \n",
              "2      269.562408 -124.803398       1        1  33.888536\n",
              "0        1.782994 -295.079681       2        1  28.852384\n",
              "3      220.811432 -343.832123       3        1  27.876748\n",
              "1       50.533993  -76.050934       4        1   9.382331, topic_info=            Term         Freq        Total Category  logprob  loglift\n",
              "16202      fikir   841.000000   841.000000  Default  30.0000  30.0000\n",
              "2199      21yyte   557.000000   557.000000  Default  29.0000  29.0000\n",
              "37339         tr  2336.000000  2336.000000  Default  28.0000  28.0000\n",
              "35882      tanki   457.000000   457.000000  Default  27.0000  27.0000\n",
              "20350   hurriyet   552.000000   552.000000  Default  26.0000  26.0000\n",
              "...          ...          ...          ...      ...      ...      ...\n",
              "16167       fetö    22.328449   132.550517   Topic4  -6.8891   0.5852\n",
              "28511       nato    31.996956   741.809624   Topic4  -6.5294  -0.7771\n",
              "14376  dışişleri    26.365300   337.589943   Topic4  -6.7230  -0.1834\n",
              "5923      ankara    24.751568   248.167175   Topic4  -6.7861   0.0611\n",
              "12418     destek    23.901218   295.395629   Topic4  -6.8211  -0.1480\n",
              "\n",
              "[326 rows x 6 columns], token_table=       Topic      Freq      Term\n",
              "term                            \n",
              "1          1  0.121683       000\n",
              "1          2  0.243366       000\n",
              "1          4  0.608414       000\n",
              "32         1  0.124310        06\n",
              "32         2  0.056504        06\n",
              "...      ...       ...       ...\n",
              "44108      2  0.265684    önemli\n",
              "44108      3  0.103322    önemli\n",
              "44108      4  0.062731    önemli\n",
              "44911      4  0.861977  şaşırttı\n",
              "45002      4  0.945695    şeydir\n",
              "\n",
              "[558 rows x 3 columns], R=30, lambda_step=0.01, plot_opts={'xlab': 'PC1', 'ylab': 'PC2'}, topic_order=[3, 1, 4, 2])"
            ]
          },
          "metadata": {
            "tags": []
          },
          "execution_count": 35
        }
      ]
    },
    {
      "cell_type": "code",
      "metadata": {
        "id": "D8kZe3Uc_JHM"
      },
      "source": [
        "pyLDAvis.save_html(panel_tr, '/content/gdrive/My Drive/gmf/solutions/second_filtered_keyword_TR_4k'+'.html')"
      ],
      "execution_count": null,
      "outputs": []
    }
  ]
}