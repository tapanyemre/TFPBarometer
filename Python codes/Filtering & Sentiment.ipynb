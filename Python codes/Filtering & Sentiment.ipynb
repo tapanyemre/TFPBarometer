{
  "nbformat": 4,
  "nbformat_minor": 0,
  "metadata": {
    "accelerator": "GPU",
    "colab": {
      "name": "Filtrelemele & sentiment_final.ipynb",
      "provenance": [],
      "collapsed_sections": [],
      "toc_visible": true
    },
    "kernelspec": {
      "display_name": "Python 3",
      "name": "python3"
    }
  },
  "cells": [
    {
      "cell_type": "code",
      "metadata": {
        "id": "wzYDlMfGNVUe",
        "colab": {
          "base_uri": "https://localhost:8080/"
        },
        "outputId": "79c218f6-433d-481d-b506-de3777eb2af0"
      },
      "source": [
        "from google.colab import drive\n",
        "drive.mount('/content/gdrive' , force_remount=True)\n",
        "import sys"
      ],
      "execution_count": 1,
      "outputs": [
        {
          "output_type": "stream",
          "text": [
            "Mounted at /content/gdrive\n"
          ],
          "name": "stdout"
        }
      ]
    },
    {
      "cell_type": "code",
      "metadata": {
        "colab": {
          "base_uri": "https://localhost:8080/",
          "height": 204
        },
        "id": "kV2C1jdBXKeY",
        "outputId": "bda8946b-6d7b-412b-a6d3-cf3ee57cd81e"
      },
      "source": [
        "import pandas as pd\n",
        "tweet_en_filtered = pd.read_csv('/content/gdrive/MyDrive/gmf/solutions/tweets/filtered_tweet_en_with_sentiment.csv', engine = 'python')\n",
        "tweet_en_filtered.head()"
      ],
      "execution_count": null,
      "outputs": [
        {
          "output_type": "execute_result",
          "data": {
            "text/html": [
              "<div>\n",
              "<style scoped>\n",
              "    .dataframe tbody tr th:only-of-type {\n",
              "        vertical-align: middle;\n",
              "    }\n",
              "\n",
              "    .dataframe tbody tr th {\n",
              "        vertical-align: top;\n",
              "    }\n",
              "\n",
              "    .dataframe thead th {\n",
              "        text-align: right;\n",
              "    }\n",
              "</style>\n",
              "<table border=\"1\" class=\"dataframe\">\n",
              "  <thead>\n",
              "    <tr style=\"text-align: right;\">\n",
              "      <th></th>\n",
              "      <th>date</th>\n",
              "      <th>username</th>\n",
              "      <th>tweet</th>\n",
              "      <th>sentiment</th>\n",
              "    </tr>\n",
              "  </thead>\n",
              "  <tbody>\n",
              "    <tr>\n",
              "      <th>0</th>\n",
              "      <td>2020-03-02</td>\n",
              "      <td>_keremturk</td>\n",
              "      <td>prof.melihaaltunışık is giving her speech abou...</td>\n",
              "      <td>0.6597</td>\n",
              "    </tr>\n",
              "    <tr>\n",
              "      <th>1</th>\n",
              "      <td>2020-03-02</td>\n",
              "      <td>_keremturk</td>\n",
              "      <td>now prof. fuat keyman is giving his speech abo...</td>\n",
              "      <td>0.2500</td>\n",
              "    </tr>\n",
              "    <tr>\n",
              "      <th>2</th>\n",
              "      <td>2020-02-26</td>\n",
              "      <td>_keremturk</td>\n",
              "      <td>now @muverrihistoria is giving his speech at f...</td>\n",
              "      <td>0.3400</td>\n",
              "    </tr>\n",
              "    <tr>\n",
              "      <th>3</th>\n",
              "      <td>2020-02-19</td>\n",
              "      <td>_keremturk</td>\n",
              "      <td>now @tobbetu_sui is hosting h.e. jonathan tow,...</td>\n",
              "      <td>0.5423</td>\n",
              "    </tr>\n",
              "    <tr>\n",
              "      <th>4</th>\n",
              "      <td>2020-01-15</td>\n",
              "      <td>_keremturk</td>\n",
              "      <td>now we are (@tobbetu_sui) hosting @mdekwaasten...</td>\n",
              "      <td>0.8402</td>\n",
              "    </tr>\n",
              "  </tbody>\n",
              "</table>\n",
              "</div>"
            ],
            "text/plain": [
              "         date  ... sentiment\n",
              "0  2020-03-02  ...    0.6597\n",
              "1  2020-03-02  ...    0.2500\n",
              "2  2020-02-26  ...    0.3400\n",
              "3  2020-02-19  ...    0.5423\n",
              "4  2020-01-15  ...    0.8402\n",
              "\n",
              "[5 rows x 4 columns]"
            ]
          },
          "metadata": {
            "tags": []
          },
          "execution_count": 3
        }
      ]
    },
    {
      "cell_type": "code",
      "metadata": {
        "colab": {
          "base_uri": "https://localhost:8080/"
        },
        "id": "ZYoPZNthX7r2",
        "outputId": "ccd4cd63-8b15-4731-9293-c09a2d9c911e"
      },
      "source": [
        "len(tweet_en_filtered[tweet_en_filtered['username']=='akinunver'])"
      ],
      "execution_count": null,
      "outputs": [
        {
          "output_type": "execute_result",
          "data": {
            "text/plain": [
              "2477"
            ]
          },
          "metadata": {
            "tags": []
          },
          "execution_count": 5
        }
      ]
    },
    {
      "cell_type": "markdown",
      "metadata": {
        "id": "LJc5DYRbhivo"
      },
      "source": [
        "# English Filtreleme\n"
      ]
    },
    {
      "cell_type": "code",
      "metadata": {
        "id": "V1eoE5ORmb3P",
        "colab": {
          "base_uri": "https://localhost:8080/",
          "height": 35
        },
        "outputId": "7ad6a548-394b-45e9-e447-36a83c8af0f1"
      },
      "source": [
        "import pandas as pd\n",
        "import os\n",
        "os.chdir('/content/gdrive/MyDrive/gmf/') \n",
        "os.getcwd()\n",
        "#pd.set_option(\"display.max_rows\", None, \"display.max_columns\", None)"
      ],
      "execution_count": 45,
      "outputs": [
        {
          "output_type": "execute_result",
          "data": {
            "application/vnd.google.colaboratory.intrinsic+json": {
              "type": "string"
            },
            "text/plain": [
              "'/content/gdrive/MyDrive/gmf'"
            ]
          },
          "metadata": {
            "tags": []
          },
          "execution_count": 45
        }
      ]
    },
    {
      "cell_type": "code",
      "metadata": {
        "id": "AAO8wKjJNWQZ"
      },
      "source": [
        "tweet_en = pd.read_csv('/content/gdrive/My Drive/gmf/tweet_en' , engine = 'python')#loading all the tweets,which are not filtred."
      ],
      "execution_count": null,
      "outputs": []
    },
    {
      "cell_type": "code",
      "metadata": {
        "id": "PvYXeRfV5AVL",
        "colab": {
          "base_uri": "https://localhost:8080/"
        },
        "outputId": "2441f6c0-8c7c-4b2e-94f9-559ebdd28b8d"
      },
      "source": [
        "len(tweet_en)"
      ],
      "execution_count": null,
      "outputs": [
        {
          "output_type": "execute_result",
          "data": {
            "text/plain": [
              "18955826"
            ]
          },
          "metadata": {
            "tags": []
          },
          "execution_count": 18
        }
      ]
    },
    {
      "cell_type": "code",
      "metadata": {
        "id": "9K8-wDJZVXOT",
        "colab": {
          "base_uri": "https://localhost:8080/",
          "height": 204
        },
        "outputId": "7a513a48-c4be-4db4-8a62-2cec47804bc3"
      },
      "source": [
        "tweet_en.head()"
      ],
      "execution_count": null,
      "outputs": [
        {
          "output_type": "execute_result",
          "data": {
            "text/html": [
              "<div>\n",
              "<style scoped>\n",
              "    .dataframe tbody tr th:only-of-type {\n",
              "        vertical-align: middle;\n",
              "    }\n",
              "\n",
              "    .dataframe tbody tr th {\n",
              "        vertical-align: top;\n",
              "    }\n",
              "\n",
              "    .dataframe thead th {\n",
              "        text-align: right;\n",
              "    }\n",
              "</style>\n",
              "<table border=\"1\" class=\"dataframe\">\n",
              "  <thead>\n",
              "    <tr style=\"text-align: right;\">\n",
              "      <th></th>\n",
              "      <th>date</th>\n",
              "      <th>username</th>\n",
              "      <th>tweet</th>\n",
              "    </tr>\n",
              "  </thead>\n",
              "  <tbody>\n",
              "    <tr>\n",
              "      <th>0</th>\n",
              "      <td>2020-06-21</td>\n",
              "      <td>_keremturk</td>\n",
              "      <td>@iptidaisum I'm asking as a Shafi Why not? :)</td>\n",
              "    </tr>\n",
              "    <tr>\n",
              "      <th>1</th>\n",
              "      <td>2020-06-10</td>\n",
              "      <td>_keremturk</td>\n",
              "      <td>WED, JUN 10, 2020 9:00 AM ONLINE EVENT with th...</td>\n",
              "    </tr>\n",
              "    <tr>\n",
              "      <th>2</th>\n",
              "      <td>2020-04-23</td>\n",
              "      <td>_keremturk</td>\n",
              "      <td>@ForeignAffairs I think it will be a challenge...</td>\n",
              "    </tr>\n",
              "    <tr>\n",
              "      <th>3</th>\n",
              "      <td>2020-04-02</td>\n",
              "      <td>_keremturk</td>\n",
              "      <td>@AhmadRShamsi It will definitely be very good....</td>\n",
              "    </tr>\n",
              "    <tr>\n",
              "      <th>4</th>\n",
              "      <td>2020-04-02</td>\n",
              "      <td>_keremturk</td>\n",
              "      <td>Arabic is the world's sixth most spoken langua...</td>\n",
              "    </tr>\n",
              "  </tbody>\n",
              "</table>\n",
              "</div>"
            ],
            "text/plain": [
              "         date    username                                              tweet\n",
              "0  2020-06-21  _keremturk      @iptidaisum I'm asking as a Shafi Why not? :)\n",
              "1  2020-06-10  _keremturk  WED, JUN 10, 2020 9:00 AM ONLINE EVENT with th...\n",
              "2  2020-04-23  _keremturk  @ForeignAffairs I think it will be a challenge...\n",
              "3  2020-04-02  _keremturk  @AhmadRShamsi It will definitely be very good....\n",
              "4  2020-04-02  _keremturk  Arabic is the world's sixth most spoken langua..."
            ]
          },
          "metadata": {
            "tags": []
          },
          "execution_count": 19
        }
      ]
    },
    {
      "cell_type": "code",
      "metadata": {
        "id": "iaNnwlPL7_CM",
        "colab": {
          "base_uri": "https://localhost:8080/",
          "height": 204
        },
        "outputId": "db6d1bfa-c35a-49fa-876a-bd42ae792160"
      },
      "source": [
        "tweet_en.tweet = tweet_en.tweet.str.lower()\n",
        "tweet_en.head()"
      ],
      "execution_count": null,
      "outputs": [
        {
          "output_type": "execute_result",
          "data": {
            "text/html": [
              "<div>\n",
              "<style scoped>\n",
              "    .dataframe tbody tr th:only-of-type {\n",
              "        vertical-align: middle;\n",
              "    }\n",
              "\n",
              "    .dataframe tbody tr th {\n",
              "        vertical-align: top;\n",
              "    }\n",
              "\n",
              "    .dataframe thead th {\n",
              "        text-align: right;\n",
              "    }\n",
              "</style>\n",
              "<table border=\"1\" class=\"dataframe\">\n",
              "  <thead>\n",
              "    <tr style=\"text-align: right;\">\n",
              "      <th></th>\n",
              "      <th>date</th>\n",
              "      <th>username</th>\n",
              "      <th>tweet</th>\n",
              "    </tr>\n",
              "  </thead>\n",
              "  <tbody>\n",
              "    <tr>\n",
              "      <th>0</th>\n",
              "      <td>2020-06-21</td>\n",
              "      <td>_keremturk</td>\n",
              "      <td>@iptidaisum i'm asking as a shafi why not? :)</td>\n",
              "    </tr>\n",
              "    <tr>\n",
              "      <th>1</th>\n",
              "      <td>2020-06-10</td>\n",
              "      <td>_keremturk</td>\n",
              "      <td>wed, jun 10, 2020 9:00 am online event with th...</td>\n",
              "    </tr>\n",
              "    <tr>\n",
              "      <th>2</th>\n",
              "      <td>2020-04-23</td>\n",
              "      <td>_keremturk</td>\n",
              "      <td>@foreignaffairs i think it will be a challenge...</td>\n",
              "    </tr>\n",
              "    <tr>\n",
              "      <th>3</th>\n",
              "      <td>2020-04-02</td>\n",
              "      <td>_keremturk</td>\n",
              "      <td>@ahmadrshamsi it will definitely be very good....</td>\n",
              "    </tr>\n",
              "    <tr>\n",
              "      <th>4</th>\n",
              "      <td>2020-04-02</td>\n",
              "      <td>_keremturk</td>\n",
              "      <td>arabic is the world's sixth most spoken langua...</td>\n",
              "    </tr>\n",
              "  </tbody>\n",
              "</table>\n",
              "</div>"
            ],
            "text/plain": [
              "         date    username                                              tweet\n",
              "0  2020-06-21  _keremturk      @iptidaisum i'm asking as a shafi why not? :)\n",
              "1  2020-06-10  _keremturk  wed, jun 10, 2020 9:00 am online event with th...\n",
              "2  2020-04-23  _keremturk  @foreignaffairs i think it will be a challenge...\n",
              "3  2020-04-02  _keremturk  @ahmadrshamsi it will definitely be very good....\n",
              "4  2020-04-02  _keremturk  arabic is the world's sixth most spoken langua..."
            ]
          },
          "metadata": {
            "tags": []
          },
          "execution_count": 20
        }
      ]
    },
    {
      "cell_type": "code",
      "metadata": {
        "id": "yJivymcyVeMP",
        "colab": {
          "base_uri": "https://localhost:8080/"
        },
        "outputId": "75eee4b8-6f8a-4058-b38b-2b6ebbaa7307"
      },
      "source": [
        "\n",
        "#4:49\n",
        "keywords_english = ['Turkey', 'US', 'United States', 'Turkish American', 'Turkish-American', 'strategic partnership', 'ally', 'crisis', 'Russia', 'Iran', 'Iranian' 'S400', 'S-400',\n",
        "                    'Greece', 'Greek', 'authoritarian', 'authoritarianism', 'human rights', 'religious freedom', 'terrorism', 'Kurds', 'Kurdish', 'Egypt', 'Egyptian',\n",
        "                    'China', 'Chinese', 'F35', 'F-35', 'sanctions', 'support', 'interest', 'Black Sea', 'Middle East', 'Mediterranean', 'Idlib', 'coup', 'Gülen', 'Brunson',\n",
        "                    'Cyprus', 'Erdoğan', 'Çavuşoğlu', 'security detail', 'PKK', 'YPG', 'PYD', 'Montreux', 'Inherent Resolve', 'anti-ISIL', 'anti-DAESH', 'DAESH', 'peace',\n",
        "                    'migration', 'refugees', 'trade volume', 'partner', 'NATO', 'Southern Flank', 'block', 'troop surge', 'second largest army', 'Eastern Europe', 'Poland',\n",
        "                    'axis', 'swap', 'IMF', 'hostage', 'ransom', 'anti-Americanism', 'enemy', 'friend', 'Islamist', 'competitive authoritarianism', 'defense industry', 'İbrahim Kalın',\n",
        "                    'Çavuşoğlu', 'Akar', 'MFA', 'visit', 'Armenian genocide', 'appreciate', 'intelligence', 'support', 'counter terrorism', 'counter-terrorism', 'common interest',\n",
        "                    'common threat', 'incursion', 'drone', 'UAV', 'sanctions', 'violation', 'EEZ', 'UNCLOS', 'Hamas', 'Muslim Brotherhood', 'Sudan', 'Deal of Century', 'Jerusalem',\n",
        "                    'Arab NATO', 'Incirlik', 'nuclear bomb', 'migration crisis', 'insurgency', 'staunch', 'UAE', 'Saudi Arabia', 'Gulf', 'Qatar', 'Muslim Brotherhood', 'Hamas', 'Israel']\n",
        "  \n",
        "\n",
        "print(len(keywords_english))  "
      ],
      "execution_count": null,
      "outputs": [
        {
          "output_type": "stream",
          "text": [
            "110\n"
          ],
          "name": "stdout"
        }
      ]
    },
    {
      "cell_type": "code",
      "metadata": {
        "id": "H7OQoVYV2tjm"
      },
      "source": [
        "# the first approach\n",
        "keywords_english =[item.lower() for item in keywords_english]\n",
        "#keywords_english\n"
      ],
      "execution_count": null,
      "outputs": []
    },
    {
      "cell_type": "code",
      "metadata": {
        "id": "K0l0ntQRVh6H"
      },
      "source": [
        "tweet_filtered = tweet_en[tweet_en['tweet'].str.contains('|'.join(keywords_english),na=False)]\n",
        "tweet_filtered = tweet_filtered.reset_index(drop=True)\n",
        "tweet_filtered.to_csv('/content/gdrive/My Drive/gmf/filtered_tweet_en',index=False)#saving filtered tweets to drive"
      ],
      "execution_count": null,
      "outputs": []
    },
    {
      "cell_type": "code",
      "metadata": {
        "id": "5L_LOE6DCcnm",
        "colab": {
          "base_uri": "https://localhost:8080/"
        },
        "outputId": "4d4d55b1-33f7-4f8f-c832-e8e545d7a064"
      },
      "source": [
        "import pandas as pd\n",
        "\n",
        "tweet_filtered = pd.read_csv('/content/gdrive/My Drive/gmf/filtered_tweet_en') #loading to the google colab\n",
        "tweet_filtered.shape"
      ],
      "execution_count": null,
      "outputs": [
        {
          "output_type": "execute_result",
          "data": {
            "text/plain": [
              "(7410922, 3)"
            ]
          },
          "metadata": {
            "tags": []
          },
          "execution_count": 3
        }
      ]
    },
    {
      "cell_type": "code",
      "metadata": {
        "colab": {
          "base_uri": "https://localhost:8080/",
          "height": 204
        },
        "id": "0-ULLr4Z5BKP",
        "outputId": "a4bae644-65f7-47c1-c38b-9efbcf4a300f"
      },
      "source": [
        "tweet_filtered.head()"
      ],
      "execution_count": null,
      "outputs": [
        {
          "output_type": "execute_result",
          "data": {
            "text/html": [
              "<div>\n",
              "<style scoped>\n",
              "    .dataframe tbody tr th:only-of-type {\n",
              "        vertical-align: middle;\n",
              "    }\n",
              "\n",
              "    .dataframe tbody tr th {\n",
              "        vertical-align: top;\n",
              "    }\n",
              "\n",
              "    .dataframe thead th {\n",
              "        text-align: right;\n",
              "    }\n",
              "</style>\n",
              "<table border=\"1\" class=\"dataframe\">\n",
              "  <thead>\n",
              "    <tr style=\"text-align: right;\">\n",
              "      <th></th>\n",
              "      <th>date</th>\n",
              "      <th>username</th>\n",
              "      <th>tweet</th>\n",
              "    </tr>\n",
              "  </thead>\n",
              "  <tbody>\n",
              "    <tr>\n",
              "      <th>0</th>\n",
              "      <td>2020-03-02</td>\n",
              "      <td>_keremturk</td>\n",
              "      <td>prof.melihaaltunışık is giving her speech abou...</td>\n",
              "    </tr>\n",
              "    <tr>\n",
              "      <th>1</th>\n",
              "      <td>2020-03-02</td>\n",
              "      <td>_keremturk</td>\n",
              "      <td>now prof. fuat keyman is giving his speech abo...</td>\n",
              "    </tr>\n",
              "    <tr>\n",
              "      <th>2</th>\n",
              "      <td>2020-02-26</td>\n",
              "      <td>_keremturk</td>\n",
              "      <td>now @muverrihistoria is giving his speech at f...</td>\n",
              "    </tr>\n",
              "    <tr>\n",
              "      <th>3</th>\n",
              "      <td>2020-02-19</td>\n",
              "      <td>_keremturk</td>\n",
              "      <td>now @tobbetu_sui is hosting h.e. jonathan tow,...</td>\n",
              "    </tr>\n",
              "    <tr>\n",
              "      <th>4</th>\n",
              "      <td>2020-01-15</td>\n",
              "      <td>_keremturk</td>\n",
              "      <td>now we are (@tobbetu_sui) hosting @mdekwaasten...</td>\n",
              "    </tr>\n",
              "  </tbody>\n",
              "</table>\n",
              "</div>"
            ],
            "text/plain": [
              "         date    username                                              tweet\n",
              "0  2020-03-02  _keremturk  prof.melihaaltunışık is giving her speech abou...\n",
              "1  2020-03-02  _keremturk  now prof. fuat keyman is giving his speech abo...\n",
              "2  2020-02-26  _keremturk  now @muverrihistoria is giving his speech at f...\n",
              "3  2020-02-19  _keremturk  now @tobbetu_sui is hosting h.e. jonathan tow,...\n",
              "4  2020-01-15  _keremturk  now we are (@tobbetu_sui) hosting @mdekwaasten..."
            ]
          },
          "metadata": {
            "tags": []
          },
          "execution_count": 2
        }
      ]
    },
    {
      "cell_type": "code",
      "metadata": {
        "id": "W-k8iPvXqSOc",
        "colab": {
          "base_uri": "https://localhost:8080/",
          "height": 34
        },
        "outputId": "b0c05bf8-d07a-4361-ed57-7eab79716520"
      },
      "source": [
        "topic_keywords_filtered = tweet_filtered[(tweet_filtered['tweet'].str.contains('turkey')) | (tweet_filtered['tweet'].str.contains('turkish'))\n",
        "                                         \n",
        "                                         & (tweet_filtered['tweet'].str.contains('american')) | (tweet_filtered['tweet'].str.contains(r'(?:\\s|^)us(?:\\s|$)'))\n",
        "                                         ]\n",
        "topic_keywords_filtered = topic_keywords_filtered.reset_index(drop=True)\n",
        "len(topic_keywords_filtered)"
      ],
      "execution_count": null,
      "outputs": [
        {
          "output_type": "execute_result",
          "data": {
            "text/plain": [
              "65559"
            ]
          },
          "metadata": {
            "tags": []
          },
          "execution_count": 29
        }
      ]
    },
    {
      "cell_type": "code",
      "metadata": {
        "id": "lHziyrzzpjLw",
        "colab": {
          "base_uri": "https://localhost:8080/",
          "height": 69
        },
        "outputId": "85f5a33f-233e-40a0-ab2a-d58a852e5285"
      },
      "source": [
        "topic_keywords_filtered['tweet'][0]"
      ],
      "execution_count": null,
      "outputs": [
        {
          "output_type": "execute_result",
          "data": {
            "application/vnd.google.colaboratory.intrinsic+json": {
              "type": "string"
            },
            "text/plain": [
              "\"i find it interesting that top spy chiefs of both the #us and the #uk are #turkey experts by training.\\np.s. so is #putin's spox and aide peskov. https://www.theguardian.com/uk-news/2020/jul/29/new-mi6-boss-named-as-former-ambassador-to-turkey-richard-moore\\xa0…\""
            ]
          },
          "metadata": {
            "tags": []
          },
          "execution_count": 30
        }
      ]
    },
    {
      "cell_type": "markdown",
      "metadata": {
        "id": "oEmBE8zfO4Lx"
      },
      "source": [
        "# English Frequency Analysis\n"
      ]
    },
    {
      "cell_type": "code",
      "metadata": {
        "id": "CqgYUkzSQcOH",
        "colab": {
          "base_uri": "https://localhost:8080/"
        },
        "outputId": "781f45de-85bd-4081-d370-41933e066aa4"
      },
      "source": [
        "import nltk\n",
        "import string\n",
        "nltk.download('punkt')\n",
        "nltk.download('stopwords')\n",
        "\n",
        "\n",
        "user_defined_stop_words = ['especially' , 'getting' , 'according', 'without','years', 'take', 'use', 'point', 'since', \n",
        "                           'years', 'year', 'the' ,'https' , 'http' ,\"''\", \"``\" , \"’\" , \"“\" , \"n't\" , \"'d\", 'com',\n",
        "                           'status', 'pic', 'twitter', 'www', 'news' , 'org', 'ly' , 'bit' , 'bitly', 'html' , 'org',\n",
        "                           'co' , 'know' , 'yes' , 'even', 'much' , 'really' , 'know' , 'well', 'much' , 'going', \"really\",\n",
        "                           \"always\" , \"sure\", \"read\" , \"things\", \"today\" , \"last\", \"new\" , \"read\" , 'right', 'great' , \n",
        "                           'point',\"one\",\"would\" ,\"via\" , \"…\" ,\"”\" ,  \"...\" ,\"'s\" , \"time\", \"says\" , \"like\", \n",
        "                           \"good\", \"also\", \"get\" , \"said\", \"could\", \"say\", \"much\",\"even\", \"many\", \"may\" , \"still\" , \n",
        "                           \"--\" , \"'m\", \"'re\", '📸', \"want\" , \"another\" , \"piece\", \"let\" , \"made\", \"got\",\"'ve\" , \n",
        "                           'seems' , 'look' ,  \"'ll\" ,\"rt\" , \"'‘'\", \"‘\", \"ca\", \"actually\" , \"'—'\" , \"—\", \n",
        "                           'ever' , 'lot' , 'already' , \"maybe\", 'used', 'though' , '..', 'likely' , 'nothing' ,\n",
        "                           \"people\" , \"know\" \"right\", \"see\" , \"really\" , \"day\" , \"well\", \"much\", \"going\" , \"even\" , \n",
        "                           \"yes\" , \"way\" , \"never\" , \"go\" , \"something\" , \"thing\" , \"make\" , \"back\"  , 'watch' , \n",
        "                           'youtube', 'one' , \"the\" , \"to\",  \"da\" ,\"is\" ,\"for\" ] \n",
        "i = nltk.corpus.stopwords.words('english')\n",
        "j = list(string.punctuation) + user_defined_stop_words\n",
        "stopwords = set(i).union(j) \n",
        "stopwords_en = list(stopwords)     "
      ],
      "execution_count": null,
      "outputs": [
        {
          "output_type": "stream",
          "text": [
            "[nltk_data] Downloading package punkt to /root/nltk_data...\n",
            "[nltk_data]   Package punkt is already up-to-date!\n",
            "[nltk_data] Downloading package stopwords to /root/nltk_data...\n",
            "[nltk_data]   Package stopwords is already up-to-date!\n"
          ],
          "name": "stdout"
        }
      ]
    },
    {
      "cell_type": "code",
      "metadata": {
        "id": "qTVKItqT1Cv4"
      },
      "source": [
        "\n",
        "#txt_en\n",
        "#words_en =  nltk.tokenize.word_tokenize(deneme.tweet.str.replace(r'\\|', ' ').str.cat(sep=' '))\n",
        "\n",
        "#words_except_stop_dist_en = nltk.FreqDist(w for w in words_en if w not in stopwords_en)\n",
        "#del words_en\n",
        "#words_except_stop_dist_en"
      ],
      "execution_count": null,
      "outputs": []
    },
    {
      "cell_type": "code",
      "metadata": {
        "id": "DhmI_75-Q7sC"
      },
      "source": [
        "#words_en = nltk.tokenize.word_tokenize(deneme.tweet.str.replace(r'\\|', ' ').str.cat(sep=' '))\n",
        "#word_dist_en = nltk.FreqDist(words_en)\n",
        "#del words_en\n",
        "#words_except_stop_dist_en = nltk.FreqDist(w for w in words_en if w not in stopwords_en)"
      ],
      "execution_count": null,
      "outputs": []
    },
    {
      "cell_type": "code",
      "metadata": {
        "id": "7N9daZ302lyS"
      },
      "source": [
        "#txt_en\n",
        "words_en =  nltk.tokenize.word_tokenize(tweet_filtered.tweet.str.replace(r'\\|', ' ').str.cat(sep=' '))\n",
        "\n",
        "#words_except_stop_dist_en = nltk.FreqDist(w for w in words_en if w not in stopwords_en)\n"
      ],
      "execution_count": null,
      "outputs": []
    },
    {
      "cell_type": "code",
      "metadata": {
        "id": "yw72ikFNQbq0"
      },
      "source": [
        "####while the re-runnigh the code  will yield the full table of 200 words with frequencies\n",
        "\n",
        "top_N = 200\n",
        "\n",
        "\n",
        "print('All frequencies, excluding STOPWORDS:')\n",
        "print('=' * 60)\n",
        "rslt_200 = pd.DataFrame(words_except_stop_dist_en.most_common(top_N),\n",
        "                    columns=['Word', 'Frequency']).set_index('Word')\n",
        "pd.set_option('display.max_rows', 200)\n",
        "print(rslt_200)\n",
        "print('=' * 60)"
      ],
      "execution_count": null,
      "outputs": []
    },
    {
      "cell_type": "code",
      "metadata": {
        "id": "oEApCzLPP23c",
        "colab": {
          "base_uri": "https://localhost:8080/",
          "height": 1000
        },
        "outputId": "a0118896-71b4-4d38-9955-62c65abe305e"
      },
      "source": [
        "rslt_200_en = list(rslt_200.index)\n",
        "rslt_200_en "
      ],
      "execution_count": null,
      "outputs": [
        {
          "output_type": "execute_result",
          "data": {
            "text/plain": [
              "['trump',\n",
              " 'us',\n",
              " 'turkey',\n",
              " 'syria',\n",
              " 'russia',\n",
              " 'iran',\n",
              " 'president',\n",
              " 'china',\n",
              " 'egypt',\n",
              " 'think',\n",
              " 'isis',\n",
              " 'house',\n",
              " 'russian',\n",
              " 'turkish',\n",
              " 'iraq',\n",
              " '2',\n",
              " 'war',\n",
              " 'policy',\n",
              " 'state',\n",
              " 'first',\n",
              " 'support',\n",
              " 'military',\n",
              " 'security',\n",
              " 'world',\n",
              " 'foreign',\n",
              " 'eu',\n",
              " 'israel',\n",
              " 'two',\n",
              " 'deal',\n",
              " 'obama',\n",
              " 'political',\n",
              " 'government',\n",
              " 'white',\n",
              " 'need',\n",
              " 'must',\n",
              " 'u.s.',\n",
              " 'putin',\n",
              " 'work',\n",
              " 'interesting',\n",
              " 'country',\n",
              " 'syrian',\n",
              " 'attack',\n",
              " 'saudi',\n",
              " 'american',\n",
              " 'important',\n",
              " 'forces',\n",
              " 'nuclear',\n",
              " 'next',\n",
              " 'national',\n",
              " 'thanks',\n",
              " 'media',\n",
              " 'crisis',\n",
              " 'erdogan',\n",
              " 'campaign',\n",
              " 'east',\n",
              " 'america',\n",
              " 'states',\n",
              " 'big',\n",
              " 'europe',\n",
              " 'part',\n",
              " 'report',\n",
              " 'power',\n",
              " 'better',\n",
              " 'killed',\n",
              " 'story',\n",
              " 'week',\n",
              " 'public',\n",
              " 'party',\n",
              " 'middle',\n",
              " 'election',\n",
              " 'long',\n",
              " 'days',\n",
              " 'regime',\n",
              " 'women',\n",
              " 'end',\n",
              " 'd8',\n",
              " 'reports',\n",
              " 'might',\n",
              " 'officials',\n",
              " 'case',\n",
              " 'police',\n",
              " 'book',\n",
              " 'help',\n",
              " 'come',\n",
              " '4',\n",
              " 'ukraine',\n",
              " 'yet',\n",
              " 'far',\n",
              " 'agree',\n",
              " 'border',\n",
              " 'assad',\n",
              " 'nato',\n",
              " 'every',\n",
              " 'sanctions',\n",
              " 'best',\n",
              " 'bad',\n",
              " 'peace',\n",
              " 'question',\n",
              " 'least',\n",
              " 'saying',\n",
              " 'uk',\n",
              " '1',\n",
              " 'call',\n",
              " 'change',\n",
              " 'gas',\n",
              " 'real',\n",
              " 'law',\n",
              " 'coronavirus',\n",
              " '\\u2066',\n",
              " 'countries',\n",
              " '3',\n",
              " 'ago',\n",
              " 'group',\n",
              " 'true',\n",
              " 'official',\n",
              " 'former',\n",
              " 'including',\n",
              " 'vote',\n",
              " 'issue',\n",
              " 'army',\n",
              " 'stop',\n",
              " 'told',\n",
              " 'refugees',\n",
              " 'libya',\n",
              " 'attacks',\n",
              " 'minister',\n",
              " 'done',\n",
              " 'man',\n",
              " 'history',\n",
              " 'politics',\n",
              " 'administration',\n",
              " 'united',\n",
              " 'clear',\n",
              " 'hope',\n",
              " 'times',\n",
              " 'around',\n",
              " 'meeting',\n",
              " 'd9',\n",
              " 'article',\n",
              " 'wrong',\n",
              " 'leader',\n",
              " 'chinese',\n",
              " 'jordan',\n",
              " 'whether',\n",
              " 'trying',\n",
              " 'idea',\n",
              " 'talks',\n",
              " 'economic',\n",
              " 'office',\n",
              " 'justice',\n",
              " 'plan',\n",
              " 'future',\n",
              " 'hard',\n",
              " 'rights',\n",
              " 'leaders',\n",
              " 'latest',\n",
              " 'north',\n",
              " 'show',\n",
              " 'keep',\n",
              " 'less',\n",
              " 'w/',\n",
              " 'different',\n",
              " 'gop',\n",
              " 'top',\n",
              " 'start',\n",
              " 'using',\n",
              " 'international',\n",
              " 'oil',\n",
              " 'idlib',\n",
              " 'democratic',\n",
              " 'israeli',\n",
              " 'court',\n",
              " 'statement',\n",
              " 'istanbul',\n",
              " 'believe',\n",
              " 'trade',\n",
              " 'clinton',\n",
              " 'kurdish',\n",
              " 'defense',\n",
              " 'others',\n",
              " 'needs',\n",
              " 'weapons',\n",
              " 'thought',\n",
              " 'system',\n",
              " 'fight',\n",
              " 'place',\n",
              " 'team',\n",
              " 'course',\n",
              " 'visit',\n",
              " 'wo',\n",
              " 'european',\n",
              " 'makes',\n",
              " 'put',\n",
              " 'seen',\n",
              " 'business',\n",
              " 'especially',\n",
              " 'getting',\n",
              " 'anyone',\n",
              " 'find',\n",
              " 'intelligence']"
            ]
          },
          "metadata": {
            "tags": []
          },
          "execution_count": 25
        }
      ]
    },
    {
      "cell_type": "code",
      "metadata": {
        "id": "eg58rDz_UVbV"
      },
      "source": [
        "most_common_en = words_except_stop_dist_en.most_common() "
      ],
      "execution_count": null,
      "outputs": []
    },
    {
      "cell_type": "code",
      "metadata": {
        "id": "LSz9uXy1UJX1",
        "colab": {
          "base_uri": "https://localhost:8080/",
          "height": 34
        },
        "outputId": "c8289b58-e3c1-407b-c7a3-b23deec5fa6d"
      },
      "source": [
        "len(most_common_en)"
      ],
      "execution_count": null,
      "outputs": [
        {
          "output_type": "execute_result",
          "data": {
            "text/plain": [
              "537170"
            ]
          },
          "metadata": {
            "tags": []
          },
          "execution_count": 90
        }
      ]
    },
    {
      "cell_type": "code",
      "metadata": {
        "id": "wZwpZISRUxZq",
        "colab": {
          "base_uri": "https://localhost:8080/",
          "height": 1000
        },
        "outputId": "8c70743c-d980-4d13-9d1e-854dec0fd9d1"
      },
      "source": [
        "most_common_en[len(most_common_en)-100:]###en az gecen 100 "
      ],
      "execution_count": null,
      "outputs": [
        {
          "output_type": "execute_result",
          "data": {
            "text/plain": [
              "[('//www.balkaninsight.com/en/article/macedonia-s-foreign-minister-milososki-resigns',\n",
              "  1),\n",
              " ('un-named', 1),\n",
              " ('//tinyurl.com/6y5r69b', 1),\n",
              " ('//www.balkaninsight.com/en/article/basha-declared-winner-of-contested-tirana-poll',\n",
              "  1),\n",
              " ('//tinyurl.com/5uut87k', 1),\n",
              " ('//www.rferl.org/content/armenia_blames_azerbaijan_for_peace_talks_failure/24246257.html',\n",
              "  1),\n",
              " ('//www.balkaninsight.com/en/article/dodik-calls-for-highly-autonomous-republika-srpska-within-bosnia',\n",
              "  1),\n",
              " ('newsid=248343', 1),\n",
              " ('nyrblog', 1),\n",
              " ('//bit.ly/kzssie', 1),\n",
              " ('//bbc.in/k68n0h', 1),\n",
              " ('150611', 1),\n",
              " ('//tinyurl.com/6yc3q2c', 1),\n",
              " ('bregovic', 1),\n",
              " ('//www.project-syndicate.org/commentary/solana9/english', 1),\n",
              " (\"'soldiers\", 1),\n",
              " ('n=soldiers-killed-all-the-young-men-in-the-village-say-fleeing-syrians-2011-06-10',\n",
              "  1),\n",
              " ('on12', 1),\n",
              " ('moet', 1),\n",
              " ('anti-caucasian', 1),\n",
              " ('//www.rferl.org/content/russian_colonel_convicted_of_chechnya_crimes_shot_dead_in_moscow/24230707.html',\n",
              "  1),\n",
              " ('//tinyurl.com/3apg26w', 1),\n",
              " ('//tinyurl.com/6cjt8qq', 1),\n",
              " ('//www.balkaninsight.com/en/article/macedonian-mother-accuses-authorities-for-murdering-her-son',\n",
              "  1),\n",
              " ('//shar.es/hcaza', 1),\n",
              " ('//www.balkaninsight.com/en/article/bosnians-talk-judicial-reform-under-eu-auspices',\n",
              "  1),\n",
              " ('kapija', 1),\n",
              " ('id=23528', 1),\n",
              " ('id=23527', 1),\n",
              " ('//www.balkaninsight.com/en/article/ruling-party-candidate-winner-in-albania-key-race',\n",
              "  1),\n",
              " ('//www.economist.com/blogs/easternapproaches/2011/05/trouble_tirana', 1),\n",
              " ('//en.wikipedia.org/wiki/race_and_ethnicity_in_the_united_states', 1),\n",
              " (\"'marxist\", 1),\n",
              " ('//en.radiofarda.com/a/special-representative-hook-explains-iran-face-sheet-detailing-360-terror-attacks-islamic-republic-/30644249.html',\n",
              "  1),\n",
              " (\"'turkey-iran\", 1),\n",
              " ('//www.academia.edu/41637885/turkey-iran_relations_after_the_jdp', 1),\n",
              " ('//www.iiss.org/publications/strategic-dossiers/iran-dossier', 1),\n",
              " ('//dergipark.org.tr/download/article-file/614555', 1),\n",
              " ('//www.tandfonline.com/doi/full/10.1080/13530194.2017.1361315', 1),\n",
              " ('.w8zoahsmv1i.twitter', 1),\n",
              " ('//new-middle-east.blogspot.com/2009/01/10-conceptual-sins-in-analyzing-middle.html',\n",
              "  1),\n",
              " ('ostovar', 1),\n",
              " ('//muse.jhu.edu/article/685929', 1),\n",
              " ('.wpmwc6pxerq.twitter', 1),\n",
              " ('projectmuse', 1),\n",
              " ('vanguards', 1),\n",
              " ('ostavar', 1),\n",
              " ('//www.academia.edu/36062420/2018_-_vanguards_of_the_imam.pdf', 1),\n",
              " ('//www.routledge.com', 1),\n",
              " ('//authors.taylorandfrancis.com/authors/i11196-bayram-sinkaya', 1),\n",
              " ('//www.amazon.co.uk/revolutionary-guards-iranian-politics-relations/dp/0815357923/ref=sr_1_1',\n",
              "  1),\n",
              " ('qid=1517095342', 1),\n",
              " ('keywords=s', 1),\n",
              " ('…i̇nkaya', 1),\n",
              " (\"'rationalization\", 1),\n",
              " ('//www.academia.edu/35695331/2012._rationalization_-_iran_turkey_farsi.docx',\n",
              "  1),\n",
              " ('//bsinkaya.blogspot.com/2017/11/iran-pakistan-relations-within.html', 1),\n",
              " ('//orsam.org.tr/orsam/dpanaliz/14513', 1),\n",
              " ('dil=en', 1),\n",
              " ('.wd-4w0z1mp4.twitter', 1),\n",
              " ('//www.tandfonline.com/doi/abs/10.1080/13530194.2017.1361315', 1),\n",
              " ('.wdlob2lvsdm.twitter', 1),\n",
              " (\"referendum'\", 1),\n",
              " ('//orsam.org.tr/orsam/dpanaliz/14503', 1),\n",
              " ('.wcjihmxlmdy.twitter', 1),\n",
              " ('tavassoli', 1),\n",
              " ('//twitter.com/ettehadmellat/status/910052645016088576', 1),\n",
              " ('//www.academia.edu/34273240/the_kurdish_question_in_iran_and_its_effects_on_iran-turkey_relations',\n",
              "  1),\n",
              " ('//ifpnews.com/exclusive/iran-president-submits-list-ministerial-candidates/',\n",
              "  1),\n",
              " ('.wymp_bxif3m.twitter', 1),\n",
              " ('//ifpnews.com/exclusive/iran-turkey-upset-us-russia-deal-syria-envoy/', 1),\n",
              " ('.wyjpcitxey0.twitter', 1),\n",
              " ('.wvwiaywfxaq.twitter', 1),\n",
              " ('//middleeastreviewsonline.com/membr_review/revolutionary-guards-in-iranian-politics-elites-and-shifting-relations/',\n",
              "  1),\n",
              " ('//www.amazon.com/dp/113885364x/ref=cm_sw_r_tw_dp_x_trklzbm5pzp35', 1),\n",
              " ('//www.tandfonline.com/doi/full/10.1080/00396338.2017.1302196', 1),\n",
              " ('//www.academia.edu/30748664/iran_and_turkey_relations_after_the_nuclear_deal_a_case_for_compartmentalization',\n",
              "  1),\n",
              " ('//en.mfa.ir/index.aspx', 1),\n",
              " ('pageid=1997', 1),\n",
              " ('newsview=430293', 1),\n",
              " ('//ara.tv/ya3xr', 1),\n",
              " ('//sabahdai.ly/tjjqh4', 1),\n",
              " ('//www.orsam.org.tr/index.php/content/analiz/5019', 1),\n",
              " ('.werrl-y4q2g.twitter', 1),\n",
              " ('//www.irna.ir/fa/news/82323201/', 1),\n",
              " ('//twitter.com/bsinkaya/status/802619929786609664', 1),\n",
              " ('sheikholeslam', 1),\n",
              " ('//bit.ly/2dyqwxp', 1),\n",
              " ('jakewsimons', 1),\n",
              " ('//dailym.ai/2bpdeph', 1),\n",
              " ('//almon.co/2pk7', 1),\n",
              " ('//www.orsam.org.tr/index.php/content/assessments/49', 1),\n",
              " ('.v5pqgsto7-q.twitter', 1),\n",
              " ('//www.tehrantimes.com/news/404749/', 1),\n",
              " ('progams', 1),\n",
              " ('ybu', 1),\n",
              " ('//ybu.edu.tr/ogrenciisleri/custom_page-354-yabanci-uyruklu-ogrenciler.html',\n",
              "  1),\n",
              " ('.v5dao_oguk0.twitter', 1),\n",
              " ('//twitter.com/yurtdisiturkler/status/756801280153190401', 1),\n",
              " ('//twitter.com/stratfor/status/754068991887409152', 1),\n",
              " ('//on.wsj.com/1ozrcif', 1),\n",
              " ('//www.tasnimnews.com/en/news/2016/04/16/1049619/iran-s-president-in-ankara-for-official-visit',\n",
              "  1),\n",
              " ('//iranfrontpage.com/news/politics/security/2016/04/iranian-army-commandos-in-syria-on-advisory-mission/',\n",
              "  1),\n",
              " ('//www.president.ir/en/92319', 1),\n",
              " ('//twitter.com/orsamtr/status/704614831723298816', 1),\n",
              " ('//rudaw.net/english/kurdistan/170220162', 1),\n",
              " ('//shar.es/14dlx1', 1),\n",
              " ('//sabahdai.ly/bjplrp', 1),\n",
              " ('talha_kose1', 1),\n",
              " ('//bit.ly/1o4vdwn', 1),\n",
              " ('//news.yahoo.com/saudi-arabia-severs-ties-iran-foreign-minister-202131052.html',\n",
              "  1),\n",
              " ('//sabahdai.ly/xwsnul', 1),\n",
              " ('//www.insightturkey.com/saudi-arabia-and-iran-soft-power-rivalry-in-the-middle-east/book-reviews/6505',\n",
              "  1),\n",
              " ('.vms358kqi6o.twitter', 1),\n",
              " ('//www.tasnimnews.com/en/media/2015/11/20/922131/iran-s-basij-force-stage-massive-drills-exercise-liberation-of-holy-quds',\n",
              "  1),\n",
              " ('//bit.ly/1qxyogj', 1),\n",
              " ('//reut.rs/1jjt8i6', 1),\n",
              " ('//sabahdai.ly/405zg8', 1),\n",
              " ('//u.aa.com.tr/570385', 1),\n",
              " ('mr.zarif', 1),\n",
              " ('//u.aa.com.tr/558551', 1),\n",
              " ('//sabahdai.ly/7ewxfg', 1),\n",
              " ('bsinkaya', 1),\n",
              " ('//www.orsam.org.tr/en/homepage.aspx', 1),\n",
              " ('//ptv.io/1uq7', 1),\n",
              " ('//www.routledge.com/books/details/9781138853645/', 1),\n",
              " ('//www.amazon.com/dp/113885364x/ref=cm_sw_r_tw_dp_mutjvb02j40ws', 1),\n",
              " ('//routledge-ny.com/books/details/9781138853645/', 1),\n",
              " ('//u.aa.com.tr/386618', 1),\n",
              " ('//u.aa.com.tr/394630', 1),\n",
              " ('//www.payvand.com/news/14/jun/1151.html', 1),\n",
              " ('utm_campaign=6228b55f35-rss_email_campaign', 1),\n",
              " ('utm_term=0_0d579b0ec5-6228b55f35-278560701', 1),\n",
              " ('.u6lywyujwh8.twitter', 1),\n",
              " ('pic.twitter.com/ynbvgwerdo', 1),\n",
              " (\"'asabiyya\", 1),\n",
              " ('//rudaw.net/english/kurdistan/15122013', 1),\n",
              " ('//reut.rs/1gesgat', 1),\n",
              " ('//wh.gov/lkooe', 1),\n",
              " ('//econ.st/191u5vw', 1),\n",
              " ('pro-statusquo', 1),\n",
              " ('frid=32', 1),\n",
              " ('eid=114310', 1),\n",
              " ('.ulaa7bwmlti.twitter', 1),\n",
              " ('eid=112078', 1),\n",
              " ('.ukfqa9wmlte.twitter', 1),\n",
              " ('//www.rferl.org/content/iran-zarif-facebook-page-debate-censorship/25102427.html',\n",
              "  1),\n",
              " ('//www.jpost.com/iranian-threat/news/report-us-and-iran-laying-framework-for-first-direct-talks-in-over-30-years-325961',\n",
              "  1),\n",
              " (\"''insulting\", 1),\n",
              " ('//iranian.com/posts/view/post/17810', 1),\n",
              " ('iraniandotcom', 1),\n",
              " ('//www.payvand.com/news/13/jul/1163.html', 1),\n",
              " ('utm_campaign=548cf66bc6-rss_email_campaign', 1),\n",
              " ('utm_term=0_0d579b0ec5-548cf66bc6-278560701', 1),\n",
              " ('.ue47dpu7ldk.twitter', 1),\n",
              " ('//shar.es/wvmkg', 1),\n",
              " ('newsid=312536', 1),\n",
              " ('//www.payvand.com/news/13/apr/1024.html', 1),\n",
              " ('utm_campaign=0d9ebd667c-rss_email_campaign', 1),\n",
              " ('.uv9e7v5atnc.twitter', 1),\n",
              " ('//www.rferl.org/content/shariatmadari-hard-line-daily-referendum-azerbaijain-joining-iran/24948274.html',\n",
              "  1),\n",
              " ('//www.al-monitor.com/pulse/politics/2013/03/iran-cautious-turkey-kurds.html',\n",
              "  1),\n",
              " ('//iranprimer.usip.org/blog/2013/jan/11/pew-iran', 1),\n",
              " ('99s-popularity-or-not-world', 1),\n",
              " ('//www.rferl.org/content/iranian-election-reform-candidates-favoring-establishment/24790156.html',\n",
              "  1),\n",
              " ('//setav.org/public/haberdetay.aspx', 1),\n",
              " ('dil=tr', 1),\n",
              " ('hid=131897', 1),\n",
              " ('q=iran-and-arab-spring', 1),\n",
              " ('.ujuxlkewajw.twitter', 1)]"
            ]
          },
          "metadata": {
            "tags": []
          },
          "execution_count": 94
        }
      ]
    },
    {
      "cell_type": "code",
      "metadata": {
        "id": "cbU9MKiI1wVo"
      },
      "source": [
        ""
      ],
      "execution_count": null,
      "outputs": []
    },
    {
      "cell_type": "markdown",
      "metadata": {
        "id": "5qCNt6aCN3wU"
      },
      "source": [
        "# Turkce Filtreleme"
      ]
    },
    {
      "cell_type": "markdown",
      "metadata": {
        "id": "ZESZQw72ovg1"
      },
      "source": [
        "The same procedures implied to English, filtering, cleaning and finding the frequency of the words"
      ]
    },
    {
      "cell_type": "code",
      "metadata": {
        "id": "GWGTUGkaYhrL",
        "colab": {
          "base_uri": "https://localhost:8080/"
        },
        "outputId": "70bcde4c-baa2-4b06-a33a-6d6b6ee55a4f"
      },
      "source": [
        "import pandas as pd\n",
        "tweet_tr = pd.read_csv('/content/gdrive/My Drive/gmf/solutions/tweets/tweet_tr.csv' , engine='python')\n",
        "len(tweet_tr)"
      ],
      "execution_count": null,
      "outputs": [
        {
          "output_type": "execute_result",
          "data": {
            "text/plain": [
              "4462179"
            ]
          },
          "metadata": {
            "tags": []
          },
          "execution_count": 7
        }
      ]
    },
    {
      "cell_type": "code",
      "metadata": {
        "id": "LI0XL17SOJWz"
      },
      "source": [
        "keywords_turkish = ['ABD', 'Amerika', 'Türkiye', 'Türk', 'Amerikan', 'PKK', 'PYD', 'S400', 'S-400', 'Rusya', 'Batı', 'F35' , 'F-35' , \n",
        "                    'savaş uçağı', 'CAATSA', 'darbe',\n",
        "                    'Pastor Brunson', 'Rahip Brunson', 'Gülen', 'FETÖ', 'müttefik', 'eksen', 'emperyalizm', 'destek', 'BOP ', 'Büyük Ortadoğu Projesi', 'terör',\n",
        "                    'terörist', 'IŞİD', 'DAEŞ', 'DEAŞ', 'Stratejik ortak', 'stratejik ortaklık', 'İncirlik', 'işbirliği', 'yardım', 'ticaret hacmi', '100 milyar Dolar',\n",
        "                    'darbe', 'Kıbrıs', 'şantaj', 'tehdit', 'rehine', 'eğit-donat', 'eğit donat', 'çekilme', 'Suriye', 'Irak', 'CENTCOM', 'Pentagon', 'Erdoğan', 'Obama',\n",
        "                    'Trump', 'McGurk', 'Halkbank', 'Michael Flynn', 'Doğu Akdeniz', 'Patriot', 'İran yaptırım', 'Dost', 'Dostluk', 'swap', 'NATO', 'NATO zirve(si)',\n",
        "                    'Barış Pınarı', 'Fırat Kalkanı', 'Zeytin Dalı', 'Bahar Kalkanı', 'Ziyaret', 'Kongre', 'Lobi', 'Graham', 'Tasarı', 'yaptırım', 'Bolton', 'Clinton',\n",
        "                    'IMF', 'Uluslararası Para Fonu', 'Kriz', 'istihbarat', 'savunma sanayii', 'Çavuşoğlu', 'Akar', 'Esper', 'McMaster', 'LNG', 'Shale', 'petrol',\n",
        "                    \"Robert C. O'Brien\", 'KRG', 'Bölgesel Kürt Yönetimi', 'İsrail- Yüzyılın Planı', 'Barış planı', 'İsrail', 'Ortadoğu', 'Kudüs büyükelçilik', 'İslam',\n",
        "                    'Evanjelik', 'insan hakları', 'özgürlükler', 'medya', 'oyun', 'plan', 'çıkar', 'Türkiye karşıtı','düşman', 'Ermeni soykırımı iddiası', 'ihanet',\n",
        "                     'UNCLOS', 'münhasır ekonomik bölge', 'MEB', 'EEZ']\n",
        "                     "
      ],
      "execution_count": null,
      "outputs": []
    },
    {
      "cell_type": "code",
      "metadata": {
        "id": "jL63QWFBOKfH"
      },
      "source": [
        "keywords_turkish =[item.lower() for item in keywords_turkish]\n"
      ],
      "execution_count": null,
      "outputs": []
    },
    {
      "cell_type": "code",
      "metadata": {
        "id": "38D8a67v2fja",
        "colab": {
          "base_uri": "https://localhost:8080/"
        },
        "outputId": "da9c0c79-81cb-4d63-d190-a6c0685bdd23"
      },
      "source": [
        "en_car = ['turkiye' , 'turk' , 'bati' , 'savas ucagi' , 'gulen' , 'feto' , 'muttefik' , 'buyuk ortadogu projesi' , 'teror',\n",
        "'terrorist' , 'terorist' , 'isid' , 'daes' , 'deas' , 'isbirligi' , 'yardim' , 'kibris' , 'santaj' , 'cekilme' , 'irak' , \n",
        "'yardim' , 'dogu akdeniz' , 'iran yaptirim' , 'tasari' , 'bahar kalkani' , 'zeytin dali' , 'firat kalkani' , 'baris pinari',\n",
        "'imf' , 'cavusoglu' , 'kudus buyukelcilik' , 'ortadogu', 'baris plani' , 'bolgesel kurt yonetimi' , 'insan haklari' , 'ozgurluk', 'ozgurlukler',\n",
        "'cikar' , 'turkiye karsiti' , 'dusman' , 'ermeni soykirimi iddiasi' , 'soykirim' , 'munhasir ekonomik bolge']\n",
        "len(en_car)"
      ],
      "execution_count": null,
      "outputs": [
        {
          "output_type": "execute_result",
          "data": {
            "text/plain": [
              "43"
            ]
          },
          "metadata": {
            "tags": []
          },
          "execution_count": 10
        }
      ]
    },
    {
      "cell_type": "code",
      "metadata": {
        "id": "0isQ7pyo403M"
      },
      "source": [
        "keywords_turkish = keywords_turkish + en_car"
      ],
      "execution_count": null,
      "outputs": []
    },
    {
      "cell_type": "code",
      "metadata": {
        "id": "x2uenvmMaNZ-",
        "colab": {
          "base_uri": "https://localhost:8080/"
        },
        "outputId": "a57b2923-8b4f-4bb8-ca1f-1250beb0d561"
      },
      "source": [
        "print(len(keywords_turkish))  "
      ],
      "execution_count": null,
      "outputs": [
        {
          "output_type": "stream",
          "text": [
            "155\n"
          ],
          "name": "stdout"
        }
      ]
    },
    {
      "cell_type": "code",
      "metadata": {
        "id": "j7j71IvI3Iug",
        "colab": {
          "base_uri": "https://localhost:8080/"
        },
        "outputId": "3e154b86-5f87-4028-e94b-85a6a6a16a7b"
      },
      "source": [
        "tweet_filtered_tr = tweet_tr[tweet_tr['tweet'].str.contains('|'.join(keywords_turkish),na=False)]\n",
        "tweet_filtered_tr = tweet_filtered_tr.reset_index(drop=True)\n",
        "tweet_filtered_tr.to_csv('/content/gdrive/My Drive/gmf/solutions/tweets/filtered_tweet_tr.csv',index=False)"
      ],
      "execution_count": null,
      "outputs": [
        {
          "output_type": "stream",
          "text": [
            "/usr/local/lib/python3.7/dist-packages/pandas/core/strings.py:2001: UserWarning: This pattern has match groups. To actually get the groups, use str.extract.\n",
            "  return func(self, *args, **kwargs)\n"
          ],
          "name": "stderr"
        }
      ]
    },
    {
      "cell_type": "markdown",
      "metadata": {
        "id": "q0G7VZPTf4un"
      },
      "source": [
        "İkinci filtreleme kelimeleri: Türkiye, Türk, Amerikan, ABD, Amerika"
      ]
    },
    {
      "cell_type": "code",
      "metadata": {
        "id": "tw-1pyTq8o6i"
      },
      "source": [
        "import pandas as pd\n",
        "tweet_filtered_tr = pd.read_csv('/content/gdrive/My Drive/gmf/filtered_tweet_tr' , engine='python')"
      ],
      "execution_count": null,
      "outputs": []
    },
    {
      "cell_type": "code",
      "metadata": {
        "id": "50Bva_nM8Jh9",
        "colab": {
          "base_uri": "https://localhost:8080/",
          "height": 34
        },
        "outputId": "625d5040-6f21-4558-ec2d-c26d6e5329ef"
      },
      "source": [
        "topic_keywords_filtered_tr = tweet_filtered_tr[(tweet_filtered_tr['tweet'].str.contains('türkiye')) | (tweet_filtered_tr['tweet'].str.contains('türk'))\n",
        "                                         \n",
        "                                         & (tweet_filtered_tr['tweet'].str.contains('abd')) | (tweet_filtered_tr['tweet'].str.contains('amerika'))\n",
        "                                         ]\n",
        "topic_keywords_filtered_tr = topic_keywords_filtered_tr.reset_index(drop=True)\n",
        "len(topic_keywords_filtered_tr)\n"
      ],
      "execution_count": null,
      "outputs": [
        {
          "output_type": "execute_result",
          "data": {
            "text/plain": [
              "4665"
            ]
          },
          "metadata": {
            "tags": []
          },
          "execution_count": 84
        }
      ]
    },
    {
      "cell_type": "markdown",
      "metadata": {
        "id": "JbGFVJo1cEmF"
      },
      "source": [
        "# Turkce Frequency Analysis"
      ]
    },
    {
      "cell_type": "code",
      "metadata": {
        "id": "GT9uXS20UTwe",
        "colab": {
          "base_uri": "https://localhost:8080/",
          "height": 357
        },
        "outputId": "6c3c3eb7-a978-4cff-992c-8e5b90500d32"
      },
      "source": [
        "import re\n",
        "tweet_filtered_tr.tweet = tweet_filtered_tr.tweet.apply(lambda x: re.sub(r\"İ\", \"i\",x))\n",
        "tweet_filtered_tr.tweet = tweet_filtered_tr.tweet.str.lower()\n",
        "tweet_filtered_tr.head()"
      ],
      "execution_count": null,
      "outputs": [
        {
          "output_type": "execute_result",
          "data": {
            "text/html": [
              "<div>\n",
              "<style scoped>\n",
              "    .dataframe tbody tr th:only-of-type {\n",
              "        vertical-align: middle;\n",
              "    }\n",
              "\n",
              "    .dataframe tbody tr th {\n",
              "        vertical-align: top;\n",
              "    }\n",
              "\n",
              "    .dataframe thead th {\n",
              "        text-align: right;\n",
              "    }\n",
              "</style>\n",
              "<table border=\"1\" class=\"dataframe\">\n",
              "  <thead>\n",
              "    <tr style=\"text-align: right;\">\n",
              "      <th></th>\n",
              "      <th>id</th>\n",
              "      <th>date</th>\n",
              "      <th>time</th>\n",
              "      <th>user_id</th>\n",
              "      <th>username</th>\n",
              "      <th>tweet</th>\n",
              "      <th>hashtags</th>\n",
              "      <th>retweet</th>\n",
              "      <th>user_rt</th>\n",
              "      <th>mentions</th>\n",
              "    </tr>\n",
              "  </thead>\n",
              "  <tbody>\n",
              "    <tr>\n",
              "      <th>0</th>\n",
              "      <td>1260443667254345728</td>\n",
              "      <td>2020-05-13</td>\n",
              "      <td>05:36:02</td>\n",
              "      <td>9.127002e+17</td>\n",
              "      <td>orcundemir6</td>\n",
              "      <td>düzen, düşmanınız değildir.</td>\n",
              "      <td>[]</td>\n",
              "      <td>False</td>\n",
              "      <td>NaN</td>\n",
              "      <td>['kratosbunny']</td>\n",
              "    </tr>\n",
              "    <tr>\n",
              "      <th>1</th>\n",
              "      <td>1246784395010244609</td>\n",
              "      <td>2020-04-05</td>\n",
              "      <td>12:58:58</td>\n",
              "      <td>9.127002e+17</td>\n",
              "      <td>orcundemir6</td>\n",
              "      <td>atatürk😁 konum itibariyle ya da isim itibariyl...</td>\n",
              "      <td>[]</td>\n",
              "      <td>False</td>\n",
              "      <td>NaN</td>\n",
              "      <td>['ddemirkiran']</td>\n",
              "    </tr>\n",
              "    <tr>\n",
              "      <th>2</th>\n",
              "      <td>1240705847648325633</td>\n",
              "      <td>2020-03-19</td>\n",
              "      <td>18:24:59</td>\n",
              "      <td>9.127002e+17</td>\n",
              "      <td>orcundemir6</td>\n",
              "      <td>sayın bakanım yeteri kadar organize olamadık s...</td>\n",
              "      <td>[]</td>\n",
              "      <td>False</td>\n",
              "      <td>NaN</td>\n",
              "      <td>['drfahrettinkoca']</td>\n",
              "    </tr>\n",
              "    <tr>\n",
              "      <th>3</th>\n",
              "      <td>1226770481417682945</td>\n",
              "      <td>2020-02-10</td>\n",
              "      <td>07:30:49</td>\n",
              "      <td>9.127002e+17</td>\n",
              "      <td>orcundemir6</td>\n",
              "      <td>chilling dilemma:\\n\\nuçağa binişlerde körük sı...</td>\n",
              "      <td>[]</td>\n",
              "      <td>False</td>\n",
              "      <td>NaN</td>\n",
              "      <td>[]</td>\n",
              "    </tr>\n",
              "    <tr>\n",
              "      <th>4</th>\n",
              "      <td>1224279199499915265</td>\n",
              "      <td>2020-02-03</td>\n",
              "      <td>10:31:21</td>\n",
              "      <td>9.127002e+17</td>\n",
              "      <td>orcundemir6</td>\n",
              "      <td>türkiye-almanya ilişkilerini anlamak: meydan o...</td>\n",
              "      <td>[]</td>\n",
              "      <td>False</td>\n",
              "      <td>NaN</td>\n",
              "      <td>[]</td>\n",
              "    </tr>\n",
              "  </tbody>\n",
              "</table>\n",
              "</div>"
            ],
            "text/plain": [
              "                    id        date  ... user_rt             mentions\n",
              "0  1260443667254345728  2020-05-13  ...     NaN      ['kratosbunny']\n",
              "1  1246784395010244609  2020-04-05  ...     NaN      ['ddemirkiran']\n",
              "2  1240705847648325633  2020-03-19  ...     NaN  ['drfahrettinkoca']\n",
              "3  1226770481417682945  2020-02-10  ...     NaN                   []\n",
              "4  1224279199499915265  2020-02-03  ...     NaN                   []\n",
              "\n",
              "[5 rows x 10 columns]"
            ]
          },
          "metadata": {
            "tags": []
          },
          "execution_count": 24
        }
      ]
    },
    {
      "cell_type": "code",
      "metadata": {
        "id": "ofwXmKmz47yc",
        "colab": {
          "base_uri": "https://localhost:8080/",
          "height": 102
        },
        "outputId": "f148e9c8-09ec-4fe8-b113-de19409c0f0d"
      },
      "source": [
        "import nltk\n",
        "import string\n",
        "nltk.download('punkt')\n",
        "nltk.download('stopwords')\n",
        "from nltk import sent_tokenize, word_tokenize\n",
        "user_defined_stop_words_tr = [ '”','“','son', 'ilk', '1' , '2' ,'3', 'arasında' , 'fazla' , 'yeniden' , 'bunun', 'etmek', 'dedi' , 'buna' , 'bugünkü',\n",
        " 'bugün', '…', '’', '...', \"''\", '``', \"ne\" , \"kadar\" , \"ve\" , \"iyi\" , \"ki\" , \"çok\" , \"ya\" , \"diye\" , \"gibi\" , \"com\", 'öyle' , \"önce\" , \n",
        "                              \"twitter\" , \"pic\" , \"ile\" , \"en\" ,\"http\" , \"https\" , \"html\" , \"aracılığıyla\" , \"için\",\n",
        "                              \"değil\", \"çok\" , \"daha\"  , \"ile\" , \"ama\" , \"ne\"  , \"gibi\" ,  \"her\" , 'status' , \"pic\", \"org\", \"id\",\n",
        "                              \"aspx\" , \"ile\" , \"teşekkürler\" , \"bu\" , \"youtube\" , \"teşekkür\" , \"the\" , \"to\",  \"da\" ,\"is\" ,\"for\",  \"eyvallah\",                            \n",
        "                              'http' , 'bir' , 'var' , 'yok', 'olarak' , 'mi', 'ben', 'olan', 'olsun', 'bu' , 'de' , 'da' , 'ama', \n",
        "    'nin' , 'in' , 'bile' , 'böyle' , 'olur' , 'göre' , 'cok' , 'tek' , 'iki' , 'oldu' ,  'kendi', \"şimdi\", 'yeni', 'bugün' , 'yazar', 'olun',\n",
        "     'hocam' , 'be' , 'evet' ,  'sonra' , 'youtu',  'bence' ,'size' , 'sana' , 'zaman', \"www\", 'yazarlar' , 'haber' , 'via',\n",
        " 'olduğu','icin', 'bunu','ilgili','artık', 'aynı' , 'a' , 'ancak' , 'ederim' , 'zaten' , 'olacak' , 'ediyor', 'gerek', 'bize',\n",
        " 'yine' , 'tam' , 'başka' , 'benim' ,  'ın' , 'olduğunu' , '‘' ,  'içinde' , 'sen' , 'olmak' , 'hala', 'demek' , 'bizim',\n",
        " 'eden' , 'bana' , 'bi' ,  'üzerine' , 'tarafından', 'bi', 'olsa' , 'diyor' ,  'nın' , 'ye' , 'etti', 'geldi' , 'degil',\n",
        " 'uzun' , 'bin' ,'oluyor' , 'şekilde' , 'e' , 'of' , 'el' , 'i' , 'diğer',  'dair' , 'yerine' , 'geliyor' , 'olması' , 'an',\n",
        " 'pek' ,  'den' , 'yoksa', 'olmaz' , 'üzerinden' , 'onu' , 'beni' , 'seni' , 'te' , 'yi' ,'karsi' , 'karşı' , \"'i\" , \"'ı\" , \"yı\" ,'e' , 'den' ,'dan' ,'tan',\n",
        " 'ten' , 'watch' , 'tebrikler' , 'sadece' , 'and' ,  'biraz' , 'on', 'lazım' , 'tek' , 'sizin' , 'olabilir' , 'olmuş']\n",
        "i = nltk.corpus.stopwords.words('turkish')\n",
        "j = list(string.punctuation) + user_defined_stop_words_tr\n",
        "stopwords_tr = set(i).union(j)\n",
        "stopwords_tr = list(stopwords_tr)\n",
        "type(stopwords_tr)"
      ],
      "execution_count": null,
      "outputs": [
        {
          "output_type": "stream",
          "text": [
            "[nltk_data] Downloading package punkt to /root/nltk_data...\n",
            "[nltk_data]   Package punkt is already up-to-date!\n",
            "[nltk_data] Downloading package stopwords to /root/nltk_data...\n",
            "[nltk_data]   Package stopwords is already up-to-date!\n"
          ],
          "name": "stdout"
        },
        {
          "output_type": "execute_result",
          "data": {
            "text/plain": [
              "list"
            ]
          },
          "metadata": {
            "tags": []
          },
          "execution_count": 25
        }
      ]
    },
    {
      "cell_type": "code",
      "metadata": {
        "id": "xI6u2BUkSE4M"
      },
      "source": [
        "stopwords_tr"
      ],
      "execution_count": null,
      "outputs": []
    },
    {
      "cell_type": "code",
      "metadata": {
        "id": "Gj8s6Iqc8k5H",
        "colab": {
          "base_uri": "https://localhost:8080/",
          "height": 1000
        },
        "outputId": "9ebd1f61-dd5d-4067-f24b-f1e055a209f3"
      },
      "source": [
        "txt_tr = tweet_filtered_tr.tweet.str.lower().str.replace(r'\\|', ' ').str.cat(sep=' ')\n",
        "words_tr = nltk.tokenize.word_tokenize(txt_tr)\n",
        "word_dist_tr = nltk.FreqDist(words_tr)\n",
        "words_except_stop_dist_tr = nltk.FreqDist(w for w in words_tr if w not in stopwords_tr)\n",
        "\n",
        "top_N = 200\n",
        "\n",
        "\n",
        "print('All frequencies, excluding STOPWORDS:')\n",
        "print('=' * 60)\n",
        "rslt_200_tr = pd.DataFrame(words_except_stop_dist_tr.most_common(top_N),\n",
        "                    columns=['Word', 'Frequency']).set_index('Word')\n",
        "print(rslt_200_tr)\n",
        "print('=' * 60)\n",
        "\n",
        "\n",
        "\n",
        "\n"
      ],
      "execution_count": null,
      "outputs": [
        {
          "output_type": "stream",
          "text": [
            "All frequencies, excluding STOPWORDS:\n",
            "============================================================\n",
            "               Frequency\n",
            "Word                    \n",
            "türkiye            24730\n",
            "abd                24170\n",
            "suriye             14641\n",
            "rusya              11412\n",
            "destek             10270\n",
            "terör               9170\n",
            "büyük               8684\n",
            "türk                8489\n",
            "iran                7937\n",
            "trump               7833\n",
            "ziyaret             7105\n",
            "medya               6975\n",
            "darbe               6757\n",
            "önemli              6384\n",
            "d8                  6154\n",
            "devam               6013\n",
            "sosyal              5531\n",
            "tehdit              5339\n",
            "pkk                 5283\n",
            "askeri              5173\n",
            "petrol              5037\n",
            "türkiye'nin         4721\n",
            "atatürk             4706\n",
            "d9                  4509\n",
            "erdoğan             4456\n",
            "yardım              4428\n",
            "çin                 4421\n",
            "irak                4419\n",
            "işbirliği           4381\n",
            "devlet              4338\n",
            "konusunda           4179\n",
            "krizi               4135\n",
            "savaş               4113\n",
            "ab                  4055\n",
            "başkanı             4001\n",
            "siyasi              3998\n",
            "insan               3960\n",
            "hurriyet            3951\n",
            "dış                 3949\n",
            "israil              3895\n",
            "abd'nin             3890\n",
            "yıl                 3875\n",
            "dünya               3855\n",
            "nato                3787\n",
            "kriz                3752\n",
            "rus                 3721\n",
            "dışişleri           3700\n",
            "gün                 3648\n",
            "bakanı              3636\n",
            "çıkar               3604\n",
            "doğru               3535\n",
            "savunma             3490\n",
            "ülke                3431\n",
            "ekonomik            3428\n",
            "uluslararası        3281\n",
            "güvenlik            3256\n",
            "mgunlugu            3210\n",
            "suriye'de           3209\n",
            "avrupa              3102\n",
            "ortak               3083\n",
            "ortaya              3068\n",
            "birlikte            3042\n",
            "güzel               3017\n",
            "batı                2985\n",
            "ankara              2967\n",
            "mücadele            2962\n",
            "kabul               2928\n",
            "işid                2921\n",
            "boyunca             2877\n",
            "geri                2872\n",
            "genel               2822\n",
            "yönelik             2785\n",
            "parti               2663\n",
            "toplantısı          2662\n",
            "yer                 2660\n",
            "eski                2650\n",
            "silah               2624\n",
            "basın               2621\n",
            "mısır               2578\n",
            "terörist            2564\n",
            "istanbul            2522\n",
            "akp                 2505\n",
            "sonrası             2503\n",
            "radikal             2492\n",
            "istihbarat          2487\n",
            "bütün               2452\n",
            "örgütü              2450\n",
            "putin               2449\n",
            "15                  2445\n",
            "fikir               2437\n",
            "türkiye'ye          2434\n",
            "küresel             2432\n",
            "ele                 2424\n",
            "iş                  2412\n",
            "milli               2394\n",
            "açık                2390\n",
            "gelen               2379\n",
            "gerçek              2375\n",
            "farklı              2365\n",
            "ziyareti            2365\n",
            "seçim               2359\n",
            "zor                 2350\n",
            "chp                 2336\n",
            "iç                  2322\n",
            "oyun                2314\n",
            "tr                  2309\n",
            "yapılan             2307\n",
            "özel                2303\n",
            "hava                2292\n",
            "allah               2282\n",
            "ettik               2260\n",
            "ulusal              2258\n",
            "ciddi               2252\n",
            "kürt                2244\n",
            "hakaret             2232\n",
            "milyar              2228\n",
            "amerikan            2215\n",
            "türkiye'de          2189\n",
            "üzere               2150\n",
            "10                  2136\n",
            "milyon              2133\n",
            "sayın               2106\n",
            "sahip               2105\n",
            "barış               2104\n",
            "saat                2079\n",
            "yaptığı             2079\n",
            "planı               2064\n",
            "5                   2060\n",
            "oyunu               2054\n",
            "demokrasi           2048\n",
            "stratejik           2048\n",
            "başkan              2038\n",
            "yaptırım            2036\n",
            "hakkında            2028\n",
            "yakın               2027\n",
            "medyada             2021\n",
            "durum               2020\n",
            "karar               2020\n",
            "cumhurbaşkanı       2009\n",
            "yapan               2006\n",
            "suudi               2005\n",
            "dostum              2001\n",
            "4                   1999\n",
            "libya               1994\n",
            "arap                1980\n",
            "dün                 1978\n",
            "yol                 1962\n",
            "alan                1955\n",
            "kararı              1931\n",
            "yapıyor             1930\n",
            "tankı               1921\n",
            "temmuz              1917\n",
            "düşman              1911\n",
            "geçen               1908\n",
            "doğu                1883\n",
            "başladı             1873\n",
            "21.                 1870\n",
            "yüzyıl              1866\n",
            "bize                1852\n",
            "idlib               1845\n",
            "arasındaki          1828\n",
            "enstitüsü           1828\n",
            "muhafazakar         1824\n",
            "hafta               1818\n",
            "gerek               1787\n",
            "güç                 1786\n",
            "dost                1785\n",
            "bölge               1778\n",
            "herkes              1762\n",
            "obama               1753\n",
            "rusya'nın           1748\n",
            "yazım               1745\n",
            "siyaset             1739\n",
            "politika            1738\n",
            "hakları             1738\n",
            "oy                  1736\n",
            "güçlü               1734\n",
            "ı                   1733\n",
            "bm                  1732\n",
            "hangi               1729\n",
            "enerji              1724\n",
            "yarın               1716\n",
            "yanlış              1712\n",
            "yüksek              1712\n",
            "rağmen              1707\n",
            "ülkenin             1701\n",
            "trump'ın            1701\n",
            "ayrıca              1690\n",
            "hiçbir              1689\n",
            "dahil               1687\n",
            "deki                1679\n",
            "amerika             1679\n",
            "günü                1663\n",
            "yaptı               1657\n",
            "özellikle           1654\n",
            "çözüm               1638\n",
            "kişi                1633\n",
            "bilgi               1629\n",
            "sabah               1624\n",
            "kıbrıs              1624\n",
            "============================================================\n"
          ],
          "name": "stdout"
        }
      ]
    },
    {
      "cell_type": "code",
      "metadata": {
        "id": "a1bgOsPh95U4",
        "colab": {
          "base_uri": "https://localhost:8080/",
          "height": 1000
        },
        "outputId": "4258871e-2955-47a5-84a0-53853d0f5632"
      },
      "source": [
        "#en az gecen 100 kelime\n",
        "most_common_tr = words_except_stop_dist_tr.most_common() \n",
        "\n",
        "most_common_tr[(len(most_common_tr)-100):]"
      ],
      "execution_count": null,
      "outputs": [
        {
          "output_type": "execute_result",
          "data": {
            "text/plain": [
              "[(\"11şubat'ı\", 1),\n",
              " ('lannoldu_', 1),\n",
              " ('aldırır', 1),\n",
              " ('ibrası', 1),\n",
              " ('28ocaktasrazburgdayız', 1),\n",
              " ('katılıyorum.ermeni', 1),\n",
              " ('düşmanlığyla', 1),\n",
              " ('kznblrz', 1),\n",
              " ('1985model', 1),\n",
              " ('pespayeliğe', 1),\n",
              " ('//www.aydinlikgazete.com/islam-ve-teror-makale,58121.html', 1),\n",
              " ('bizede', 1),\n",
              " ('ascasyalanını', 1),\n",
              " ('kutluyorum.yerel', 1),\n",
              " ('hasatlar', 1),\n",
              " ('gitgelleri', 1),\n",
              " ('sakinyorumcu', 1),\n",
              " ('suriye.ülkeleri', 1),\n",
              " ('yıkıyorsa', 1),\n",
              " ('senay', 1),\n",
              " ('ascasyalanı', 1),\n",
              " (\"çukurova'dan\", 1),\n",
              " ('//www.21yyte.org/tr/fikir-tanki/7534/heykel-suriyeye-savas-israil-varliginin-yararinadir',\n",
              "  1),\n",
              " ('tertiplerini', 1),\n",
              " ('fasibel', 1),\n",
              " (\"ersöz'e\", 1),\n",
              " ('tertipçileri', 1),\n",
              " ('edemezler.bunu', 1),\n",
              " ('birleşenler', 1),\n",
              " ('yapablr', 1),\n",
              " ('değildir.herkese', 1),\n",
              " ('saygındr', 1),\n",
              " ('+oysa', 1),\n",
              " ('tertipleği', 1),\n",
              " ('bürünemez.ama', 1),\n",
              " ('yargılanma++', 1),\n",
              " ('yturkerkaya', 1),\n",
              " ('tertipçilerinin', 1),\n",
              " ('bacağının', 1),\n",
              " ('yaparm', 1),\n",
              " ('doğru.lütfen', 1),\n",
              " ('gömülerinin', 1),\n",
              " ('değerlndrz', 1),\n",
              " ('denizy2014', 1),\n",
              " ('gömülerini', 1),\n",
              " ('yorsun', 1),\n",
              " ('surmenus', 1),\n",
              " (\"özer'in\", 1),\n",
              " (\"çıplak'ta\", 1),\n",
              " (\"mutlu'nun\", 1),\n",
              " (\"bursalı'ya\", 1),\n",
              " ('aydinlik1923', 1),\n",
              " ('hsyncobanoglu', 1),\n",
              " ('anatolia21', 1),\n",
              " ('ilgisizliğe', 1),\n",
              " ('akılsızsızlıklarımızın', 1),\n",
              " ('tertipler', 1),\n",
              " ('düzenledilerse', 1),\n",
              " ('aşındırmak', 1),\n",
              " (\"istediği'fikri\", 1),\n",
              " (\"hür'nesiller\", 1),\n",
              " ('istmyr', 1),\n",
              " ('benimseyenlerin', 1),\n",
              " ('dövmesidir', 1),\n",
              " ('önlemediklerini', 1),\n",
              " ('açıklamışlardır', 1),\n",
              " ('mselimyavuz', 1),\n",
              " ('ahdolsun', 1),\n",
              " ('yazısı/aydınlık,9kasım2014', 1),\n",
              " (\"olmuş.atatürk'ü\", 1),\n",
              " ('öneririm/örsan', 1),\n",
              " ('balyozdan', 1),\n",
              " ('//www.aydinlikgazete.com/yazarlar/225-ahmet-yavuz/56590-ahmet-yavuz-kirmizi-kitaplik-orgut.html',\n",
              "  1),\n",
              " ('bilirkişiye', 1),\n",
              " ('gocunduğu', 1),\n",
              " (\"gündel'in\", 1),\n",
              " ('kanıtlanınca', 1),\n",
              " ('sarılmıştı.sicili', 1),\n",
              " ('haklı.keşke', 1),\n",
              " ('suçlanırkende', 1),\n",
              " ('kullanabilsydi', 1),\n",
              " (\"r.petek'ti\", 1),\n",
              " ('a.gündel.dönemin', 1),\n",
              " ('gelişirdi', 1),\n",
              " ('nazandd', 1),\n",
              " ('çıkaramıyorsa', 1),\n",
              " (\"devleti'dir\", 1),\n",
              " (\"işid'ler\", 1),\n",
              " ('yoğunlaşırsak', 1),\n",
              " ('saptık', 1),\n",
              " ('byrlr', 1),\n",
              " ('vefakarlara', 1),\n",
              " ('açıklıyor.akla', 1),\n",
              " ('drşmasına', 1),\n",
              " ('gelsinde', 1),\n",
              " ('i.berkan', 1),\n",
              " (\"yargıtay'daki\", 1),\n",
              " ('cumhurbşkanı', 1),\n",
              " ('atlamasıdır', 1),\n",
              " ('s.79', 1)]"
            ]
          },
          "metadata": {
            "tags": []
          },
          "execution_count": 40
        }
      ]
    },
    {
      "cell_type": "markdown",
      "metadata": {
        "id": "jyhzPW3cayjL"
      },
      "source": [
        "# English Sentiment"
      ]
    },
    {
      "cell_type": "code",
      "metadata": {
        "id": "LI5PyBsg8eNb"
      },
      "source": [
        "tweets_en =  []\n",
        "for i in tweet_en['tweet']:\n",
        "  tweets_en.append(i)"
      ],
      "execution_count": null,
      "outputs": []
    },
    {
      "cell_type": "code",
      "metadata": {
        "colab": {
          "base_uri": "https://localhost:8080/",
          "height": 547
        },
        "id": "2TSC5NOhI-_y",
        "outputId": "0f60a14e-fab6-40e8-d878-8f3feb5dd998"
      },
      "source": [
        "tweet_filtered.head()"
      ],
      "execution_count": null,
      "outputs": [
        {
          "output_type": "execute_result",
          "data": {
            "text/html": [
              "<div>\n",
              "<style scoped>\n",
              "    .dataframe tbody tr th:only-of-type {\n",
              "        vertical-align: middle;\n",
              "    }\n",
              "\n",
              "    .dataframe tbody tr th {\n",
              "        vertical-align: top;\n",
              "    }\n",
              "\n",
              "    .dataframe thead th {\n",
              "        text-align: right;\n",
              "    }\n",
              "</style>\n",
              "<table border=\"1\" class=\"dataframe\">\n",
              "  <thead>\n",
              "    <tr style=\"text-align: right;\">\n",
              "      <th></th>\n",
              "      <th>id</th>\n",
              "      <th>date</th>\n",
              "      <th>time</th>\n",
              "      <th>user_id</th>\n",
              "      <th>username</th>\n",
              "      <th>tweet</th>\n",
              "      <th>hashtags</th>\n",
              "      <th>retweet</th>\n",
              "      <th>user_rt</th>\n",
              "      <th>mentions</th>\n",
              "    </tr>\n",
              "  </thead>\n",
              "  <tbody>\n",
              "    <tr>\n",
              "      <th>0</th>\n",
              "      <td>1289595693389287429</td>\n",
              "      <td>2020-08-01</td>\n",
              "      <td>18:15:47</td>\n",
              "      <td>3.031094e+09</td>\n",
              "      <td>m_suchkov</td>\n",
              "      <td>because you are extremely important geopolitca...</td>\n",
              "      <td>[]</td>\n",
              "      <td>False</td>\n",
              "      <td>NaN</td>\n",
              "      <td>['lefkoschrysos']</td>\n",
              "    </tr>\n",
              "    <tr>\n",
              "      <th>1</th>\n",
              "      <td>1289581857047105538</td>\n",
              "      <td>2020-08-01</td>\n",
              "      <td>17:20:48</td>\n",
              "      <td>3.031094e+09</td>\n",
              "      <td>m_suchkov</td>\n",
              "      <td>i find it interesting that top spy chiefs of b...</td>\n",
              "      <td>['#us', '#uk', '#turkey', '#putin']</td>\n",
              "      <td>False</td>\n",
              "      <td>NaN</td>\n",
              "      <td>[]</td>\n",
              "    </tr>\n",
              "    <tr>\n",
              "      <th>2</th>\n",
              "      <td>1289547527822495745</td>\n",
              "      <td>2020-08-01</td>\n",
              "      <td>15:04:23</td>\n",
              "      <td>3.031094e+09</td>\n",
              "      <td>m_suchkov</td>\n",
              "      <td>wait, is it the crazy drive for excessive poli...</td>\n",
              "      <td>[]</td>\n",
              "      <td>False</td>\n",
              "      <td>NaN</td>\n",
              "      <td>['cnn']</td>\n",
              "    </tr>\n",
              "    <tr>\n",
              "      <th>3</th>\n",
              "      <td>1289310444809666565</td>\n",
              "      <td>2020-07-31</td>\n",
              "      <td>23:22:18</td>\n",
              "      <td>3.031094e+09</td>\n",
              "      <td>m_suchkov</td>\n",
              "      <td>extremely engaging and brain-teasing take by @...</td>\n",
              "      <td>['#us', '#germany', '#europe']</td>\n",
              "      <td>False</td>\n",
              "      <td>NaN</td>\n",
              "      <td>['theopenmike', 'foreignpolicy']</td>\n",
              "    </tr>\n",
              "    <tr>\n",
              "      <th>4</th>\n",
              "      <td>1289168820947415051</td>\n",
              "      <td>2020-07-31</td>\n",
              "      <td>13:59:33</td>\n",
              "      <td>3.031094e+09</td>\n",
              "      <td>m_suchkov</td>\n",
              "      <td>you know, those reports on \"#russia/n trolling...</td>\n",
              "      <td>['#russia', '#takenoprisoners']</td>\n",
              "      <td>False</td>\n",
              "      <td>NaN</td>\n",
              "      <td>[]</td>\n",
              "    </tr>\n",
              "  </tbody>\n",
              "</table>\n",
              "</div>"
            ],
            "text/plain": [
              "                    id        date  ... user_rt                          mentions\n",
              "0  1289595693389287429  2020-08-01  ...     NaN                 ['lefkoschrysos']\n",
              "1  1289581857047105538  2020-08-01  ...     NaN                                []\n",
              "2  1289547527822495745  2020-08-01  ...     NaN                           ['cnn']\n",
              "3  1289310444809666565  2020-07-31  ...     NaN  ['theopenmike', 'foreignpolicy']\n",
              "4  1289168820947415051  2020-07-31  ...     NaN                                []\n",
              "\n",
              "[5 rows x 10 columns]"
            ]
          },
          "metadata": {
            "tags": []
          },
          "execution_count": 18
        }
      ]
    },
    {
      "cell_type": "code",
      "metadata": {
        "id": "YT8X7XmKIbMm"
      },
      "source": [
        "tweet_filtered_list =  []\n",
        "for i in tweet_filtered['tweet']:\n",
        "  tweet_filtered_list.append(i)"
      ],
      "execution_count": null,
      "outputs": []
    },
    {
      "cell_type": "code",
      "metadata": {
        "id": "ksJJ7-Wf82Wz",
        "colab": {
          "base_uri": "https://localhost:8080/"
        },
        "outputId": "5e489e2b-2048-431a-a132-873490387d0c"
      },
      "source": [
        "type(tweets_en[0])"
      ],
      "execution_count": null,
      "outputs": [
        {
          "output_type": "execute_result",
          "data": {
            "text/plain": [
              "str"
            ]
          },
          "metadata": {
            "tags": []
          },
          "execution_count": 6
        }
      ]
    },
    {
      "cell_type": "code",
      "metadata": {
        "colab": {
          "base_uri": "https://localhost:8080/"
        },
        "id": "XfAThdB156rS",
        "outputId": "9b626cbd-3b8c-46c8-ce43-b1ad003abfb3"
      },
      "source": [
        "pip install vaderSentiment"
      ],
      "execution_count": null,
      "outputs": [
        {
          "output_type": "stream",
          "text": [
            "Collecting vaderSentiment\n",
            "\u001b[?25l  Downloading https://files.pythonhosted.org/packages/76/fc/310e16254683c1ed35eeb97386986d6c00bc29df17ce280aed64d55537e9/vaderSentiment-3.3.2-py2.py3-none-any.whl (125kB)\n",
            "\r\u001b[K     |██▋                             | 10kB 22.3MB/s eta 0:00:01\r\u001b[K     |█████▏                          | 20kB 13.7MB/s eta 0:00:01\r\u001b[K     |███████▉                        | 30kB 12.2MB/s eta 0:00:01\r\u001b[K     |██████████▍                     | 40kB 11.9MB/s eta 0:00:01\r\u001b[K     |█████████████                   | 51kB 8.7MB/s eta 0:00:01\r\u001b[K     |███████████████▋                | 61kB 9.5MB/s eta 0:00:01\r\u001b[K     |██████████████████▏             | 71kB 9.1MB/s eta 0:00:01\r\u001b[K     |████████████████████▉           | 81kB 10.0MB/s eta 0:00:01\r\u001b[K     |███████████████████████▍        | 92kB 9.5MB/s eta 0:00:01\r\u001b[K     |██████████████████████████      | 102kB 8.5MB/s eta 0:00:01\r\u001b[K     |████████████████████████████▋   | 112kB 8.5MB/s eta 0:00:01\r\u001b[K     |███████████████████████████████▏| 122kB 8.5MB/s eta 0:00:01\r\u001b[K     |████████████████████████████████| 133kB 8.5MB/s \n",
            "\u001b[?25hRequirement already satisfied: requests in /usr/local/lib/python3.7/dist-packages (from vaderSentiment) (2.23.0)\n",
            "Requirement already satisfied: chardet<4,>=3.0.2 in /usr/local/lib/python3.7/dist-packages (from requests->vaderSentiment) (3.0.4)\n",
            "Requirement already satisfied: urllib3!=1.25.0,!=1.25.1,<1.26,>=1.21.1 in /usr/local/lib/python3.7/dist-packages (from requests->vaderSentiment) (1.24.3)\n",
            "Requirement already satisfied: certifi>=2017.4.17 in /usr/local/lib/python3.7/dist-packages (from requests->vaderSentiment) (2020.12.5)\n",
            "Requirement already satisfied: idna<3,>=2.5 in /usr/local/lib/python3.7/dist-packages (from requests->vaderSentiment) (2.10)\n",
            "Installing collected packages: vaderSentiment\n",
            "Successfully installed vaderSentiment-3.3.2\n"
          ],
          "name": "stdout"
        }
      ]
    },
    {
      "cell_type": "code",
      "metadata": {
        "id": "APJERIHvM7HM"
      },
      "source": [
        "###installing the vadersentiment library###\n",
        "\n",
        "\n",
        "\n",
        "from vaderSentiment.vaderSentiment import SentimentIntensityAnalyzer\n",
        "analyser = SentimentIntensityAnalyzer()\n",
        "def sentiment_analyzer_scores(sentence):\n",
        "    score = analyser.polarity_scores(sentence)\n",
        "    print(\"{:-<40} {}\".format(sentence, str(score)))\n",
        "\n",
        "#print(analyser.polarity_scores(tweet_en.tweet[87]))   \n",
        "#print(analyser.polarity_scores(tweet_en.tweet[87])['compound'])"
      ],
      "execution_count": null,
      "outputs": []
    },
    {
      "cell_type": "code",
      "metadata": {
        "id": "SgFbpBtqWVIb"
      },
      "source": [
        "sentiment_score = []\n",
        "for j in tweet_en.tweet:\n",
        "  sentiment_score.append(analyser.polarity_scores(str(j)))\n"
      ],
      "execution_count": null,
      "outputs": []
    },
    {
      "cell_type": "code",
      "metadata": {
        "id": "Sg_DIVGMt4zY"
      },
      "source": [
        "deneme = tweet_filtered.head()"
      ],
      "execution_count": null,
      "outputs": []
    },
    {
      "cell_type": "code",
      "metadata": {
        "id": "peaeSQGrt_tn"
      },
      "source": [
        "sentiment_score_filtered = []\n",
        "for j in range(len(deneme.tweet)):\n",
        "  scores = analyser.polarity_scores(deneme.tweet[j])\n",
        "  sentiment_score_filtered.append(scores['compound'])"
      ],
      "execution_count": null,
      "outputs": []
    },
    {
      "cell_type": "code",
      "metadata": {
        "colab": {
          "base_uri": "https://localhost:8080/"
        },
        "id": "OSnbsvEKujOS",
        "outputId": "c1317638-021e-4797-d48c-3a8f74f464b2"
      },
      "source": [
        "sentiment_score_filtered "
      ],
      "execution_count": null,
      "outputs": [
        {
          "output_type": "execute_result",
          "data": {
            "text/plain": [
              "[0.6597, 0.25, 0.34, 0.5423, 0.8402]"
            ]
          },
          "metadata": {
            "tags": []
          },
          "execution_count": 14
        }
      ]
    },
    {
      "cell_type": "code",
      "metadata": {
        "id": "q7bHtv7wJMgs"
      },
      "source": [
        "sentiment_score_filtered = []\n",
        "for j in tweet_filtered.tweet:\n",
        "  sentiment_score_filtered.append(analyser.polarity_scores(str(j)))\n"
      ],
      "execution_count": null,
      "outputs": []
    },
    {
      "cell_type": "code",
      "metadata": {
        "colab": {
          "base_uri": "https://localhost:8080/"
        },
        "id": "fRIyrAJ3JYXj",
        "outputId": "396ceb02-6c2c-41c5-baed-446e5e4e36b4"
      },
      "source": [
        "sentiment_score_filtered[0]['compound']"
      ],
      "execution_count": null,
      "outputs": [
        {
          "output_type": "execute_result",
          "data": {
            "text/plain": [
              "0.6597"
            ]
          },
          "metadata": {
            "tags": []
          },
          "execution_count": 7
        }
      ]
    },
    {
      "cell_type": "code",
      "metadata": {
        "id": "T9RB1_IEJWpa"
      },
      "source": [
        "compound_filtr = []\n",
        "for i in range(len(sentiment_score_filtered)):\n",
        "  compound_filtr.append(sentiment_score_filtered[i]['compound'])"
      ],
      "execution_count": null,
      "outputs": []
    },
    {
      "cell_type": "code",
      "metadata": {
        "id": "MAQQAhMmYXb-",
        "colab": {
          "base_uri": "https://localhost:8080/"
        },
        "outputId": "cb0d781f-bd24-4bb9-92a4-1cfc97dfdfe5"
      },
      "source": [
        "sentiment_score[0]['compound']"
      ],
      "execution_count": null,
      "outputs": [
        {
          "output_type": "execute_result",
          "data": {
            "text/plain": [
              "0.7028"
            ]
          },
          "metadata": {
            "tags": []
          },
          "execution_count": 12
        }
      ]
    },
    {
      "cell_type": "code",
      "metadata": {
        "id": "B_5auv8oWPGx"
      },
      "source": [
        "###there are various different sentiment scores, for our analyzes it is better to use compound score###\n",
        "\n",
        "compound = []\n",
        "for i in range(len(sentiment_score)):\n",
        "  compound.append(sentiment_score[i]['compound'])\n"
      ],
      "execution_count": null,
      "outputs": []
    },
    {
      "cell_type": "code",
      "metadata": {
        "id": "7sRZFhFPwbdw"
      },
      "source": [
        "sentiment_score_filtered = []\n",
        "for j in range(len(tweet_filtered.tweet)):\n",
        "  scores = analyser.polarity_scores(tweet_filtered.tweet[j])\n",
        "  sentiment_score_filtered.append(scores['compound'])"
      ],
      "execution_count": null,
      "outputs": []
    },
    {
      "cell_type": "code",
      "metadata": {
        "colab": {
          "base_uri": "https://localhost:8080/"
        },
        "id": "c2_b3m3GwhUo",
        "outputId": "0829b8dd-a07d-4040-a12c-88d9355b6406"
      },
      "source": [
        "len(sentiment_score_filtered) == len(tweet_filtered)"
      ],
      "execution_count": null,
      "outputs": [
        {
          "output_type": "execute_result",
          "data": {
            "text/plain": [
              "True"
            ]
          },
          "metadata": {
            "tags": []
          },
          "execution_count": 17
        }
      ]
    },
    {
      "cell_type": "code",
      "metadata": {
        "id": "MfxBcFOpZPUU"
      },
      "source": [
        "from pandas import DataFrame"
      ],
      "execution_count": null,
      "outputs": []
    },
    {
      "cell_type": "code",
      "metadata": {
        "id": "BKIwY0_pKDH-"
      },
      "source": [
        "tweet_filtered['sentiment'] = DataFrame (sentiment_score_filtered,columns=['sentiment'])"
      ],
      "execution_count": null,
      "outputs": []
    },
    {
      "cell_type": "code",
      "metadata": {
        "colab": {
          "base_uri": "https://localhost:8080/",
          "height": 142
        },
        "id": "GFTDS1WTKOjD",
        "outputId": "e34511da-ce95-4383-b5da-6791e38c0bee"
      },
      "source": [
        "tweet_filtered.head(n=3)"
      ],
      "execution_count": null,
      "outputs": [
        {
          "output_type": "execute_result",
          "data": {
            "text/html": [
              "<div>\n",
              "<style scoped>\n",
              "    .dataframe tbody tr th:only-of-type {\n",
              "        vertical-align: middle;\n",
              "    }\n",
              "\n",
              "    .dataframe tbody tr th {\n",
              "        vertical-align: top;\n",
              "    }\n",
              "\n",
              "    .dataframe thead th {\n",
              "        text-align: right;\n",
              "    }\n",
              "</style>\n",
              "<table border=\"1\" class=\"dataframe\">\n",
              "  <thead>\n",
              "    <tr style=\"text-align: right;\">\n",
              "      <th></th>\n",
              "      <th>date</th>\n",
              "      <th>username</th>\n",
              "      <th>tweet</th>\n",
              "      <th>sentiment</th>\n",
              "    </tr>\n",
              "  </thead>\n",
              "  <tbody>\n",
              "    <tr>\n",
              "      <th>0</th>\n",
              "      <td>2020-03-02</td>\n",
              "      <td>_keremturk</td>\n",
              "      <td>prof.melihaaltunışık is giving her speech abou...</td>\n",
              "      <td>0.6597</td>\n",
              "    </tr>\n",
              "    <tr>\n",
              "      <th>1</th>\n",
              "      <td>2020-03-02</td>\n",
              "      <td>_keremturk</td>\n",
              "      <td>now prof. fuat keyman is giving his speech abo...</td>\n",
              "      <td>0.2500</td>\n",
              "    </tr>\n",
              "    <tr>\n",
              "      <th>2</th>\n",
              "      <td>2020-02-26</td>\n",
              "      <td>_keremturk</td>\n",
              "      <td>now @muverrihistoria is giving his speech at f...</td>\n",
              "      <td>0.3400</td>\n",
              "    </tr>\n",
              "  </tbody>\n",
              "</table>\n",
              "</div>"
            ],
            "text/plain": [
              "         date  ... sentiment\n",
              "0  2020-03-02  ...    0.6597\n",
              "1  2020-03-02  ...    0.2500\n",
              "2  2020-02-26  ...    0.3400\n",
              "\n",
              "[3 rows x 4 columns]"
            ]
          },
          "metadata": {
            "tags": []
          },
          "execution_count": 20
        }
      ]
    },
    {
      "cell_type": "code",
      "metadata": {
        "id": "AlKkbXvPKTeh"
      },
      "source": [
        "tweet_filtered.to_csv('/content/gdrive/My Drive/gmf/filtered_tweet_en_with_sentiment.csv',index=False)"
      ],
      "execution_count": null,
      "outputs": []
    },
    {
      "cell_type": "code",
      "metadata": {
        "id": "ukq8K_xvOB4h"
      },
      "source": [
        "tweet_en['sentiment'] = DataFrame (compound,columns=['sentiment'])"
      ],
      "execution_count": null,
      "outputs": []
    },
    {
      "cell_type": "code",
      "metadata": {
        "id": "cKplm0C2J0XA"
      },
      "source": [
        "tweet['sentiment'] = DataFrame (compound,columns=['sentiment'])"
      ],
      "execution_count": null,
      "outputs": []
    },
    {
      "cell_type": "code",
      "metadata": {
        "id": "WMBbvyckOyPk",
        "colab": {
          "base_uri": "https://localhost:8080/",
          "height": 204
        },
        "outputId": "99a18338-7557-49c8-be4d-81139ced70fa"
      },
      "source": [
        "tweet_filtered.head()"
      ],
      "execution_count": null,
      "outputs": [
        {
          "output_type": "execute_result",
          "data": {
            "text/html": [
              "<div>\n",
              "<style scoped>\n",
              "    .dataframe tbody tr th:only-of-type {\n",
              "        vertical-align: middle;\n",
              "    }\n",
              "\n",
              "    .dataframe tbody tr th {\n",
              "        vertical-align: top;\n",
              "    }\n",
              "\n",
              "    .dataframe thead th {\n",
              "        text-align: right;\n",
              "    }\n",
              "</style>\n",
              "<table border=\"1\" class=\"dataframe\">\n",
              "  <thead>\n",
              "    <tr style=\"text-align: right;\">\n",
              "      <th></th>\n",
              "      <th>date</th>\n",
              "      <th>username</th>\n",
              "      <th>tweet</th>\n",
              "      <th>sentiment</th>\n",
              "    </tr>\n",
              "  </thead>\n",
              "  <tbody>\n",
              "    <tr>\n",
              "      <th>0</th>\n",
              "      <td>2020-03-02</td>\n",
              "      <td>_keremturk</td>\n",
              "      <td>prof.melihaaltunışık is giving her speech abou...</td>\n",
              "      <td>0.6597</td>\n",
              "    </tr>\n",
              "    <tr>\n",
              "      <th>1</th>\n",
              "      <td>2020-03-02</td>\n",
              "      <td>_keremturk</td>\n",
              "      <td>now prof. fuat keyman is giving his speech abo...</td>\n",
              "      <td>0.2500</td>\n",
              "    </tr>\n",
              "    <tr>\n",
              "      <th>2</th>\n",
              "      <td>2020-02-26</td>\n",
              "      <td>_keremturk</td>\n",
              "      <td>now @muverrihistoria is giving his speech at f...</td>\n",
              "      <td>0.3400</td>\n",
              "    </tr>\n",
              "    <tr>\n",
              "      <th>3</th>\n",
              "      <td>2020-02-19</td>\n",
              "      <td>_keremturk</td>\n",
              "      <td>now @tobbetu_sui is hosting h.e. jonathan tow,...</td>\n",
              "      <td>0.5423</td>\n",
              "    </tr>\n",
              "    <tr>\n",
              "      <th>4</th>\n",
              "      <td>2020-01-15</td>\n",
              "      <td>_keremturk</td>\n",
              "      <td>now we are (@tobbetu_sui) hosting @mdekwaasten...</td>\n",
              "      <td>0.8402</td>\n",
              "    </tr>\n",
              "  </tbody>\n",
              "</table>\n",
              "</div>"
            ],
            "text/plain": [
              "         date  ... sentiment\n",
              "0  2020-03-02  ...    0.6597\n",
              "1  2020-03-02  ...    0.2500\n",
              "2  2020-02-26  ...    0.3400\n",
              "3  2020-02-19  ...    0.5423\n",
              "4  2020-01-15  ...    0.8402\n",
              "\n",
              "[5 rows x 4 columns]"
            ]
          },
          "metadata": {
            "tags": []
          },
          "execution_count": 22
        }
      ]
    },
    {
      "cell_type": "code",
      "metadata": {
        "id": "rN5h-RN2jY4D"
      },
      "source": [
        "tweet_en.to_csv('/content/gdrive/My Drive/gmf/solutions/ en_tweet_no_filter_with_sentiment.csv')"
      ],
      "execution_count": null,
      "outputs": []
    },
    {
      "cell_type": "code",
      "metadata": {
        "id": "by-E4V4-fwk8"
      },
      "source": [
        "tweet_en['Compound'] = DataFrame (compound,columns=['Compound'])\n",
        "df = tweet_en.groupby(tweet_en.date).mean()\n",
        "df.head()\n",
        "tweet_en['date'] = pd.to_datetime(tweet_en['date'], errors='coerce')\n",
        "tweet_en['date'] = sorted(tweet_en['date'])\n",
        "tweet_en"
      ],
      "execution_count": null,
      "outputs": []
    },
    {
      "cell_type": "code",
      "metadata": {
        "id": "vUDCsvIYg3vF",
        "colab": {
          "base_uri": "https://localhost:8080/",
          "height": 235
        },
        "outputId": "acf2bce9-5e01-4234-d962-510bc6f086a3"
      },
      "source": [
        "df.head()"
      ],
      "execution_count": null,
      "outputs": [
        {
          "output_type": "execute_result",
          "data": {
            "text/html": [
              "<div>\n",
              "<style scoped>\n",
              "    .dataframe tbody tr th:only-of-type {\n",
              "        vertical-align: middle;\n",
              "    }\n",
              "\n",
              "    .dataframe tbody tr th {\n",
              "        vertical-align: top;\n",
              "    }\n",
              "\n",
              "    .dataframe thead th {\n",
              "        text-align: right;\n",
              "    }\n",
              "</style>\n",
              "<table border=\"1\" class=\"dataframe\">\n",
              "  <thead>\n",
              "    <tr style=\"text-align: right;\">\n",
              "      <th></th>\n",
              "      <th>user_id</th>\n",
              "      <th>user_rt</th>\n",
              "      <th>Sentiment Score</th>\n",
              "      <th>Compound</th>\n",
              "    </tr>\n",
              "    <tr>\n",
              "      <th>date</th>\n",
              "      <th></th>\n",
              "      <th></th>\n",
              "      <th></th>\n",
              "      <th></th>\n",
              "    </tr>\n",
              "  </thead>\n",
              "  <tbody>\n",
              "    <tr>\n",
              "      <th>2008-11-12</th>\n",
              "      <td>3.031094e+09</td>\n",
              "      <td>NaN</td>\n",
              "      <td>NaN</td>\n",
              "      <td>0.382545</td>\n",
              "    </tr>\n",
              "    <tr>\n",
              "      <th>2008-11-14</th>\n",
              "      <td>3.031094e+09</td>\n",
              "      <td>NaN</td>\n",
              "      <td>NaN</td>\n",
              "      <td>-0.743000</td>\n",
              "    </tr>\n",
              "    <tr>\n",
              "      <th>2008-11-15</th>\n",
              "      <td>3.031094e+09</td>\n",
              "      <td>NaN</td>\n",
              "      <td>NaN</td>\n",
              "      <td>-0.107250</td>\n",
              "    </tr>\n",
              "    <tr>\n",
              "      <th>2008-11-16</th>\n",
              "      <td>3.031094e+09</td>\n",
              "      <td>NaN</td>\n",
              "      <td>NaN</td>\n",
              "      <td>-0.191300</td>\n",
              "    </tr>\n",
              "    <tr>\n",
              "      <th>2008-11-17</th>\n",
              "      <td>3.031094e+09</td>\n",
              "      <td>NaN</td>\n",
              "      <td>NaN</td>\n",
              "      <td>0.421500</td>\n",
              "    </tr>\n",
              "  </tbody>\n",
              "</table>\n",
              "</div>"
            ],
            "text/plain": [
              "                 user_id  user_rt  Sentiment Score  Compound\n",
              "date                                                        \n",
              "2008-11-12  3.031094e+09      NaN              NaN  0.382545\n",
              "2008-11-14  3.031094e+09      NaN              NaN -0.743000\n",
              "2008-11-15  3.031094e+09      NaN              NaN -0.107250\n",
              "2008-11-16  3.031094e+09      NaN              NaN -0.191300\n",
              "2008-11-17  3.031094e+09      NaN              NaN  0.421500"
            ]
          },
          "metadata": {
            "tags": []
          },
          "execution_count": 92
        }
      ]
    },
    {
      "cell_type": "code",
      "metadata": {
        "id": "RkJ07MkXRzmb"
      },
      "source": [
        "tweet_en['date'] = pd.to_datetime(tweet_en['date'], errors='coerce')\n",
        "tweet_en['date'] = sorted(tweet_en['date'])\n",
        "tweet_en"
      ],
      "execution_count": null,
      "outputs": []
    },
    {
      "cell_type": "code",
      "metadata": {
        "id": "fgEtQboOaw6c",
        "colab": {
          "base_uri": "https://localhost:8080/",
          "height": 399
        },
        "outputId": "c5273d05-5587-43ad-af90-f7a2b3942742"
      },
      "source": [
        "####this code illustrates the sentiment and save it to spesificed directory/location\n",
        "import matplotlib.dates as mdates\n",
        "import matplotlib.pyplot as plt\n",
        "\n",
        "%matplotlib inline\n",
        "date = list(tweet_en.date)\n",
        "compound = list(tweet_en.Compound)\n",
        "\n",
        "plt.style.use('ggplot')\n",
        "#9 hazirana kadar data var\n",
        "fig, ax = plt.subplots(1, 1, figsize=(24, 6))\n",
        "plt.plot(df.index, df.Compound)\n",
        "#ax.xaxis.set_minor_locator(mdates.WeekdayLocator(byweekday=(0), interval=1))\n",
        "# Set x-axis major ticks to weekly interval, on Mondays\n",
        "#MonthLocator: locate months, e.g., 7 for july\n",
        "#ax.xaxis.set_major_locator(mdates.WeekdayLocator(byweekday=(0), interval=30))\n",
        "ax.xaxis.set_major_locator(mdates.MonthLocator(interval=4))\n",
        "# Format x-tick labels as 3-letter month name and day number\n",
        "ax.xaxis.set_major_formatter(mdates.DateFormatter('%b/%Y'));\n",
        "plt.xticks(rotation=45)\n",
        "plt.title('Daily Sentiments of English Tweets')\n",
        "plt.savefig('/content/gdrive/My Drive/css/daily_sentiment.png',dpi=600)#cozunurluk ve dosya adi\n",
        "plt.show()\n"
      ],
      "execution_count": null,
      "outputs": [
        {
          "output_type": "display_data",
          "data": {
            "image/png": "[encoded data removed]",
            "text/plain": [
              "<Figure size 1728x432 with 1 Axes>"
            ]
          },
          "metadata": {
            "tags": []
          }
        }
      ]
    },
    {
      "cell_type": "code",
      "metadata": {
        "id": "i_OPZ83gbreg",
        "colab": {
          "base_uri": "https://localhost:8080/",
          "height": 221
        },
        "outputId": "52f0536b-dcc4-4d5e-c199-d87a9753c00d"
      },
      "source": [
        "tweet_en.Compound"
      ],
      "execution_count": null,
      "outputs": [
        {
          "output_type": "execute_result",
          "data": {
            "text/plain": [
              "0         0.7028\n",
              "1         0.5983\n",
              "2         0.5423\n",
              "3        -0.7622\n",
              "4         0.4005\n",
              "           ...  \n",
              "781164    0.0000\n",
              "781165   -0.1027\n",
              "781166    0.4767\n",
              "781167    0.4019\n",
              "781168    0.0000\n",
              "Name: Compound, Length: 781169, dtype: float64"
            ]
          },
          "metadata": {
            "tags": []
          },
          "execution_count": 76
        }
      ]
    },
    {
      "cell_type": "code",
      "metadata": {
        "id": "ZKf7lIZZ4n_g"
      },
      "source": [
        "tweets_en_filtered =  []\n",
        "for i in tweet_filtered['tweet']:\n",
        "  tweets_en_filtered.append(i)"
      ],
      "execution_count": null,
      "outputs": []
    },
    {
      "cell_type": "code",
      "metadata": {
        "colab": {
          "base_uri": "https://localhost:8080/"
        },
        "id": "11Tk1t7K5noX",
        "outputId": "90cbdac6-20f9-4c9b-df56-ece887bef206"
      },
      "source": [
        "type(tweets_en_filtered[0])"
      ],
      "execution_count": null,
      "outputs": [
        {
          "output_type": "execute_result",
          "data": {
            "text/plain": [
              "str"
            ]
          },
          "metadata": {
            "tags": []
          },
          "execution_count": 6
        }
      ]
    },
    {
      "cell_type": "code",
      "metadata": {
        "colab": {
          "base_uri": "https://localhost:8080/"
        },
        "id": "7I28E6gg5na2",
        "outputId": "5835d685-1bf2-4592-9e0f-2ed81f750080"
      },
      "source": [
        "from vaderSentiment.vaderSentiment import SentimentIntensityAnalyzer\n",
        "analyser = SentimentIntensityAnalyzer()\n",
        "def sentiment_analyzer_scores(sentence):\n",
        "    score = analyser.polarity_scores(sentence)\n",
        "    print(\"{:-<40} {}\".format(sentence, str(score)))\n",
        "\n",
        "print(analyser.polarity_scores(tweets_en_filtered[87]))   \n",
        "print(analyser.polarity_scores(tweets_en_filtered[87])['compound'])"
      ],
      "execution_count": null,
      "outputs": [
        {
          "output_type": "stream",
          "text": [
            "{'neg': 0.06, 'neu': 0.87, 'pos': 0.071, 'compound': 0.1027}\n",
            "0.1027\n"
          ],
          "name": "stdout"
        }
      ]
    },
    {
      "cell_type": "code",
      "metadata": {
        "id": "7ZeUZkMG6ExO"
      },
      "source": [
        "sentiment_score = []\n",
        "for j in tweet_filtered.tweet:\n",
        "  sentiment_score.append(analyser.polarity_scores(j))\n",
        "#print(len(sentiment_score))"
      ],
      "execution_count": null,
      "outputs": []
    },
    {
      "cell_type": "code",
      "metadata": {
        "id": "sgqhyfok6uaD"
      },
      "source": [
        "compound = []\n",
        "for i in range(len(sentiment_score)):\n",
        "  compound.append(sentiment_score[i]['compound'])"
      ],
      "execution_count": null,
      "outputs": []
    },
    {
      "cell_type": "code",
      "metadata": {
        "id": "Ek8sggCu7Ew7"
      },
      "source": [
        "tweet_filtered['Compound'] = DataFrame (compound,columns=['Compound'])\n",
        "df = tweet_filtered.groupby(tweet_filtered.date).mean()\n",
        "df.head()\n",
        "tweet_filtered['date'] = pd.to_datetime(tweet_filtered['date'], errors='coerce')\n",
        "tweet_filtered['date'] = sorted(tweet_filtered['date'])\n",
        "tweet_filtered"
      ],
      "execution_count": null,
      "outputs": []
    },
    {
      "cell_type": "code",
      "metadata": {
        "colab": {
          "base_uri": "https://localhost:8080/",
          "height": 217
        },
        "id": "beVN-h-g7dg3",
        "outputId": "f57b7f08-a9c1-4735-9424-551d9afbe8bc"
      },
      "source": [
        "####this code illustrates the sentiment and save it to spesificed directory/location\n",
        "import matplotlib.dates as mdates\n",
        "import matplotlib.pyplot as plt\n",
        "\n",
        "%matplotlib inline\n",
        "date = list(tweet_filtered.date)\n",
        "compound = list(tweet_filtered.Compound)\n",
        "\n",
        "plt.style.use('ggplot')\n",
        "#9 hazirana kadar data var\n",
        "fig, ax = plt.subplots(1, 1, figsize=(24, 6))\n",
        "plt.plot(df.index, df.Compound)\n",
        "#ax.xaxis.set_minor_locator(mdates.WeekdayLocator(byweekday=(0), interval=1))\n",
        "# Set x-axis major ticks to weekly interval, on Mondays\n",
        "#MonthLocator: locate months, e.g., 7 for july\n",
        "#ax.xaxis.set_major_locator(mdates.WeekdayLocator(byweekday=(0), interval=30))\n",
        "ax.xaxis.set_major_locator(mdates.MonthLocator(interval=4))\n",
        "# Format x-tick labels as 3-letter month name and day number\n",
        "ax.xaxis.set_major_formatter(mdates.DateFormatter('%b/%Y'));\n",
        "plt.xticks(rotation=45)\n",
        "plt.title('Daily Sentiments of Filtered English Tweets')\n",
        "plt.savefig('/content/gdrive/My Drive/gmf/english_filtered_daily_sentiment.png',dpi=900)#cozunurluk ve dosya adi\n",
        "plt.show()\n"
      ],
      "execution_count": null,
      "outputs": [
        {
          "output_type": "display_data",
          "data": {
            "image/png": "[encoded data removed]",
            "text/plain": [
              "<Figure size 1728x432 with 1 Axes>"
            ]
          },
          "metadata": {
            "tags": []
          }
        }
      ]
    },
    {
      "cell_type": "markdown",
      "metadata": {
        "id": "INFnUs15R0KE"
      },
      "source": [
        "# Turkce Sentiment"
      ]
    },
    {
      "cell_type": "markdown",
      "metadata": {
        "id": "E8cbpr3egNoA"
      },
      "source": [
        ""
      ]
    },
    {
      "cell_type": "code",
      "metadata": {
        "id": "mvPfg4_IR2tQ"
      },
      "source": [
        "import os\n",
        "os.chdir('/content/gdrive/My Drive/gmf/')"
      ],
      "execution_count": 46,
      "outputs": []
    },
    {
      "cell_type": "code",
      "metadata": {
        "id": "tk62q6Y4Oz3F"
      },
      "source": [
        "!pip install --upgrade tensorflow==2.1\n",
        "!pip3 install ktrain==0.18\n",
        "!pip3 install transformers==3.0.2"
      ],
      "execution_count": null,
      "outputs": []
    },
    {
      "cell_type": "code",
      "metadata": {
        "id": "ij8sJ8rCR5kb"
      },
      "source": [
        "### if this part gives error you should resttart the runtime for libraries to be installed\n",
        "\n",
        "import ktrain\n",
        "from ktrain import text\n",
        "import pandas as pd\n",
        "import re\n",
        "import tensorflow"
      ],
      "execution_count": 42,
      "outputs": []
    },
    {
      "cell_type": "code",
      "metadata": {
        "colab": {
          "base_uri": "https://localhost:8080/"
        },
        "id": "CQid0BcpxA1y",
        "outputId": "8da0406e-3487-4231-dd3c-53d2a56fe69e"
      },
      "source": [
        "print(tensorflow.__version__)"
      ],
      "execution_count": null,
      "outputs": [
        {
          "output_type": "stream",
          "text": [
            "2.1.0\n"
          ],
          "name": "stdout"
        }
      ]
    },
    {
      "cell_type": "code",
      "metadata": {
        "id": "aXhWVjLyR6Fw"
      },
      "source": [
        "from google_drive_downloader import GoogleDriveDownloader as gdd\n"
      ],
      "execution_count": null,
      "outputs": []
    },
    {
      "cell_type": "code",
      "metadata": {
        "id": "vfOApHtx51iF"
      },
      "source": [
        "gdd.download_file_from_google_drive(file_id='18Ev6LWZTcTRnS3cLrQJ3tGKD1cHS9bXr',\n",
        "                                    dest_path='/content/gdrive/My Drive/gmf',\n",
        "                                    unzip=True)"
      ],
      "execution_count": null,
      "outputs": []
    },
    {
      "cell_type": "code",
      "metadata": {
        "id": "YW0l8iN76BhT"
      },
      "source": [
        "#gdd.download_file_from_google_drive(file_id='19DDNzy1uIk90MkYszOfl7ngJRR1k8M7T',\n",
        "                                   #dest_path='/content/gdrive/My Drive/gmf',  # SALDIRGAN DİL TESPİTİ\n",
        "                                    #unzip=True)   "
      ],
      "execution_count": null,
      "outputs": []
    },
    {
      "cell_type": "code",
      "metadata": {
        "id": "6nfPH2My6PDm"
      },
      "source": [
        "                              \n",
        "#gdd.download_file_from_google_drive(file_id='1XN348Ov8V6vjReKV5ZODelM3Kn_IuC-L',\n",
        "                                    #dest_path='/content/gdrive/My Drive/gmf/', # TEYİDE MUHTAÇLIK TESPİTİ\n",
        "                                    ##unzip=True)"
      ],
      "execution_count": null,
      "outputs": []
    },
    {
      "cell_type": "code",
      "metadata": {
        "id": "gFtcf9X8enNn"
      },
      "source": [
        "#### sentiment analizi paketinin yuklenmesi###\n",
        "\n",
        "gdd.download_file_from_google_drive(file_id='1ooaswOvJlelulYt9meEhUndQQMgNgK2n',\n",
        "                                    dest_path='./ft5m_sa.zip',# DUYGU ANALİZİ TESPİTİ\n",
        "                                    unzip=True) "
      ],
      "execution_count": null,
      "outputs": []
    },
    {
      "cell_type": "code",
      "metadata": {
        "id": "FoeEYdp67GdQ",
        "colab": {
          "base_uri": "https://localhost:8080/",
          "height": 35
        },
        "outputId": "c2160d1d-f409-4475-ea8e-3d9e50588e0a"
      },
      "source": [
        "import os\n",
        "os.chdir('/content/gdrive/My Drive/gmf/')\n",
        "os.getcwd()"
      ],
      "execution_count": 47,
      "outputs": [
        {
          "output_type": "execute_result",
          "data": {
            "application/vnd.google.colaboratory.intrinsic+json": {
              "type": "string"
            },
            "text/plain": [
              "'/content/gdrive/My Drive/gmf'"
            ]
          },
          "metadata": {
            "tags": []
          },
          "execution_count": 47
        }
      ]
    },
    {
      "cell_type": "code",
      "metadata": {
        "id": "No2ykTZO9BhC"
      },
      "source": [
        "#model_off = ktrain.load_predictor(\"ft5m_off\")  # NOT, OFF"
      ],
      "execution_count": null,
      "outputs": []
    },
    {
      "cell_type": "code",
      "metadata": {
        "id": "8HodTblQfBkf"
      },
      "source": [
        "#model_cw = ktrain.load_predictor(\"ft5m_cw\")     # 0, 1"
      ],
      "execution_count": null,
      "outputs": []
    },
    {
      "cell_type": "code",
      "metadata": {
        "id": "X8lFegpkfUT5"
      },
      "source": [
        "model_sa = ktrain.load_predictor(\"ft5m_sa\")#POS, NEG, NOTR"
      ],
      "execution_count": 48,
      "outputs": []
    },
    {
      "cell_type": "code",
      "metadata": {
        "id": "YMDyYTIOi19V"
      },
      "source": [
        "### FINE TUNE MODELLERI KULLANMAK İÇİN ÖN EĞİTİLMİŞ BERT MODELİN HANGİSİ OLDUĞU BELİRTİLMESİ GEREKİYOR\n",
        "#model_off.preproc.model_name = \"berturk-social-5m\"\n",
        "#model_cw.preproc.model_name = \"berturk-social-5m\"\n",
        "model_sa.preproc.model_name = \"berturk-social-5m\"\n"
      ],
      "execution_count": 49,
      "outputs": []
    },
    {
      "cell_type": "code",
      "metadata": {
        "id": "M2A731_6ibHF",
        "colab": {
          "base_uri": "https://localhost:8080/",
          "height": 51
        },
        "outputId": "a1574199-5a1c-49d0-8f15-98f128be814b"
      },
      "source": [
        "sentence = \"bu cok kotu bir cumle\"\n",
        "\n",
        "verbose=0 \n",
        "print(model_sa.predict(sentence))\n",
        "print(type(model_sa.predict([sentence])))"
      ],
      "execution_count": null,
      "outputs": [
        {
          "output_type": "display_data",
          "data": {
            "text/html": [
              ""
            ],
            "text/plain": [
              "<IPython.core.display.HTML object>"
            ]
          },
          "metadata": {
            "tags": []
          }
        },
        {
          "output_type": "stream",
          "text": [
            "NEG\n"
          ],
          "name": "stdout"
        },
        {
          "output_type": "display_data",
          "data": {
            "text/html": [
              ""
            ],
            "text/plain": [
              "<IPython.core.display.HTML object>"
            ]
          },
          "metadata": {
            "tags": []
          }
        },
        {
          "output_type": "stream",
          "text": [
            "<class 'list'>\n"
          ],
          "name": "stdout"
        }
      ]
    },
    {
      "cell_type": "code",
      "metadata": {
        "id": "unWrl_evgnlb"
      },
      "source": [
        "import pandas as pd\n",
        "filtered_tweet_tr_en_car = pd.read_csv('/content/gdrive/My Drive/gmf/solutions/tweets/filtered_tweet_tr.csv' , engine='python')"
      ],
      "execution_count": 4,
      "outputs": []
    },
    {
      "cell_type": "code",
      "metadata": {
        "colab": {
          "base_uri": "https://localhost:8080/"
        },
        "id": "UNoNgFk4S5S_",
        "outputId": "d565d666-99cb-4978-ca01-8a8bec43f28d"
      },
      "source": [
        "len(filtered_tweet_tr_en_car)"
      ],
      "execution_count": null,
      "outputs": [
        {
          "output_type": "execute_result",
          "data": {
            "text/plain": [
              "696363"
            ]
          },
          "metadata": {
            "tags": []
          },
          "execution_count": 9
        }
      ]
    },
    {
      "cell_type": "code",
      "metadata": {
        "colab": {
          "base_uri": "https://localhost:8080/",
          "height": 419
        },
        "id": "pguNe-A9nBHD",
        "outputId": "39a86528-5538-43aa-e7eb-1f610da35900"
      },
      "source": [
        "filtered_tweet_tr_en_car"
      ],
      "execution_count": null,
      "outputs": [
        {
          "output_type": "execute_result",
          "data": {
            "text/html": [
              "<div>\n",
              "<style scoped>\n",
              "    .dataframe tbody tr th:only-of-type {\n",
              "        vertical-align: middle;\n",
              "    }\n",
              "\n",
              "    .dataframe tbody tr th {\n",
              "        vertical-align: top;\n",
              "    }\n",
              "\n",
              "    .dataframe thead th {\n",
              "        text-align: right;\n",
              "    }\n",
              "</style>\n",
              "<table border=\"1\" class=\"dataframe\">\n",
              "  <thead>\n",
              "    <tr style=\"text-align: right;\">\n",
              "      <th></th>\n",
              "      <th>date</th>\n",
              "      <th>username</th>\n",
              "      <th>tweet</th>\n",
              "    </tr>\n",
              "  </thead>\n",
              "  <tbody>\n",
              "    <tr>\n",
              "      <th>493949</th>\n",
              "      <td>2021-03-04</td>\n",
              "      <td>tyrannosurusrex</td>\n",
              "      <td>🇹🇷 @turkihracat'a gore Savunma ve Havacilik Sa...</td>\n",
              "    </tr>\n",
              "    <tr>\n",
              "      <th>675790</th>\n",
              "      <td>2021-03-04</td>\n",
              "      <td>arslanbulut9</td>\n",
              "      <td>Arslan Bulut’tan gündem yaratacak yazı. Türkiy...</td>\n",
              "    </tr>\n",
              "    <tr>\n",
              "      <th>677498</th>\n",
              "      <td>2021-03-04</td>\n",
              "      <td>eremsenturk</td>\n",
              "      <td>Şimdi bir tartışmaya kulak misafiri oldum: Tam...</td>\n",
              "    </tr>\n",
              "    <tr>\n",
              "      <th>641438</th>\n",
              "      <td>2021-03-04</td>\n",
              "      <td>nurozkanerbay</td>\n",
              "      <td>Bugün bir arkadaşın açtığı tazminat davası içi...</td>\n",
              "    </tr>\n",
              "    <tr>\n",
              "      <th>641439</th>\n",
              "      <td>2021-03-04</td>\n",
              "      <td>nurozkanerbay</td>\n",
              "      <td>@KriterDergisi Bu ayki sayısında “ABD Boğaziçi...</td>\n",
              "    </tr>\n",
              "    <tr>\n",
              "      <th>...</th>\n",
              "      <td>...</td>\n",
              "      <td>...</td>\n",
              "      <td>...</td>\n",
              "    </tr>\n",
              "    <tr>\n",
              "      <th>312558</th>\n",
              "      <td>2009-07-05</td>\n",
              "      <td>sibeloktay</td>\n",
              "      <td>@kbertan tamamdir, dur simdi amerikan telefonu...</td>\n",
              "    </tr>\n",
              "    <tr>\n",
              "      <th>501172</th>\n",
              "      <td>2009-06-22</td>\n",
              "      <td>mirguncabas</td>\n",
              "      <td>d&amp;r raporu: placebo, manic street preachers, s...</td>\n",
              "    </tr>\n",
              "    <tr>\n",
              "      <th>312559</th>\n",
              "      <td>2009-05-29</td>\n",
              "      <td>sibeloktay</td>\n",
              "      <td>@bakyelli orda bulamadin mi sen yahu? bizim bu...</td>\n",
              "    </tr>\n",
              "    <tr>\n",
              "      <th>524262</th>\n",
              "      <td>2009-05-24</td>\n",
              "      <td>vvanwilgenburg</td>\n",
              "      <td>Explosion in Yüksekova (Hakkari province) in T...</td>\n",
              "    </tr>\n",
              "    <tr>\n",
              "      <th>524263</th>\n",
              "      <td>2009-05-19</td>\n",
              "      <td>vvanwilgenburg</td>\n",
              "      <td>PKKmed LTTE leader Velupillai Prabhakaran is n...</td>\n",
              "    </tr>\n",
              "  </tbody>\n",
              "</table>\n",
              "<p>696362 rows × 3 columns</p>\n",
              "</div>"
            ],
            "text/plain": [
              "             date  ...                                              tweet\n",
              "493949 2021-03-04  ...  🇹🇷 @turkihracat'a gore Savunma ve Havacilik Sa...\n",
              "675790 2021-03-04  ...  Arslan Bulut’tan gündem yaratacak yazı. Türkiy...\n",
              "677498 2021-03-04  ...  Şimdi bir tartışmaya kulak misafiri oldum: Tam...\n",
              "641438 2021-03-04  ...  Bugün bir arkadaşın açtığı tazminat davası içi...\n",
              "641439 2021-03-04  ...  @KriterDergisi Bu ayki sayısında “ABD Boğaziçi...\n",
              "...           ...  ...                                                ...\n",
              "312558 2009-07-05  ...  @kbertan tamamdir, dur simdi amerikan telefonu...\n",
              "501172 2009-06-22  ...  d&r raporu: placebo, manic street preachers, s...\n",
              "312559 2009-05-29  ...  @bakyelli orda bulamadin mi sen yahu? bizim bu...\n",
              "524262 2009-05-24  ...  Explosion in Yüksekova (Hakkari province) in T...\n",
              "524263 2009-05-19  ...  PKKmed LTTE leader Velupillai Prabhakaran is n...\n",
              "\n",
              "[696362 rows x 3 columns]"
            ]
          },
          "metadata": {
            "tags": []
          },
          "execution_count": 68
        }
      ]
    },
    {
      "cell_type": "code",
      "metadata": {
        "id": "C6wDuoWQoCMO"
      },
      "source": [
        "filtered_tweet_tr_en_car['date'] =  pd.to_datetime(filtered_tweet_tr_en_car['date'], errors='coerce')"
      ],
      "execution_count": 31,
      "outputs": []
    },
    {
      "cell_type": "code",
      "metadata": {
        "colab": {
          "base_uri": "https://localhost:8080/"
        },
        "id": "O8z4VlLMoXcV",
        "outputId": "f5844e86-8494-4262-eb22-f6cdbecf4032"
      },
      "source": [
        "type(filtered_tweet_tr_en_car['date'])"
      ],
      "execution_count": null,
      "outputs": [
        {
          "output_type": "execute_result",
          "data": {
            "text/plain": [
              "pandas.core.series.Series"
            ]
          },
          "metadata": {
            "tags": []
          },
          "execution_count": 67
        }
      ]
    },
    {
      "cell_type": "code",
      "metadata": {
        "id": "A0o_3H7VxkK9",
        "colab": {
          "base_uri": "https://localhost:8080/"
        },
        "outputId": "11cf3004-ae86-4055-ee97-93afcd9afb62"
      },
      "source": [
        "import re\n",
        "filtered_tweet_tr_en_car.tweet = filtered_tweet_tr_en_car.tweet.apply(lambda x: re.sub(r\"İ\", \"i\",x))\n",
        "filtered_tweet_tr_en_car.tweet = filtered_tweet_tr_en_car.tweet.str.lower()"
      ],
      "execution_count": null,
      "outputs": [
        {
          "output_type": "stream",
          "text": [
            "/usr/local/lib/python3.7/dist-packages/pandas/core/generic.py:5170: SettingWithCopyWarning: \n",
            "A value is trying to be set on a copy of a slice from a DataFrame.\n",
            "Try using .loc[row_indexer,col_indexer] = value instead\n",
            "\n",
            "See the caveats in the documentation: https://pandas.pydata.org/pandas-docs/stable/user_guide/indexing.html#returning-a-view-versus-a-copy\n",
            "  self[name] = value\n"
          ],
          "name": "stderr"
        }
      ]
    },
    {
      "cell_type": "code",
      "metadata": {
        "id": "sAv5a7iqg29U",
        "colab": {
          "base_uri": "https://localhost:8080/",
          "height": 204
        },
        "outputId": "b4df3f75-eab9-4d84-f96c-907a3b538f5f"
      },
      "source": [
        "filtered_tweet_tr_en_car.head()"
      ],
      "execution_count": null,
      "outputs": [
        {
          "output_type": "execute_result",
          "data": {
            "text/html": [
              "<div>\n",
              "<style scoped>\n",
              "    .dataframe tbody tr th:only-of-type {\n",
              "        vertical-align: middle;\n",
              "    }\n",
              "\n",
              "    .dataframe tbody tr th {\n",
              "        vertical-align: top;\n",
              "    }\n",
              "\n",
              "    .dataframe thead th {\n",
              "        text-align: right;\n",
              "    }\n",
              "</style>\n",
              "<table border=\"1\" class=\"dataframe\">\n",
              "  <thead>\n",
              "    <tr style=\"text-align: right;\">\n",
              "      <th></th>\n",
              "      <th>date</th>\n",
              "      <th>username</th>\n",
              "      <th>tweet</th>\n",
              "    </tr>\n",
              "  </thead>\n",
              "  <tbody>\n",
              "    <tr>\n",
              "      <th>493949</th>\n",
              "      <td>2021-03-04</td>\n",
              "      <td>tyrannosurusrex</td>\n",
              "      <td>🇹🇷 @turkihracat'a gore savunma ve havacilik sa...</td>\n",
              "    </tr>\n",
              "    <tr>\n",
              "      <th>675790</th>\n",
              "      <td>2021-03-04</td>\n",
              "      <td>arslanbulut9</td>\n",
              "      <td>arslan bulut’tan gündem yaratacak yazı. türkiy...</td>\n",
              "    </tr>\n",
              "    <tr>\n",
              "      <th>677498</th>\n",
              "      <td>2021-03-04</td>\n",
              "      <td>eremsenturk</td>\n",
              "      <td>şimdi bir tartışmaya kulak misafiri oldum: tam...</td>\n",
              "    </tr>\n",
              "    <tr>\n",
              "      <th>641438</th>\n",
              "      <td>2021-03-04</td>\n",
              "      <td>nurozkanerbay</td>\n",
              "      <td>bugün bir arkadaşın açtığı tazminat davası içi...</td>\n",
              "    </tr>\n",
              "    <tr>\n",
              "      <th>641439</th>\n",
              "      <td>2021-03-04</td>\n",
              "      <td>nurozkanerbay</td>\n",
              "      <td>@kriterdergisi bu ayki sayısında “abd boğaziçi...</td>\n",
              "    </tr>\n",
              "  </tbody>\n",
              "</table>\n",
              "</div>"
            ],
            "text/plain": [
              "             date  ...                                              tweet\n",
              "493949 2021-03-04  ...  🇹🇷 @turkihracat'a gore savunma ve havacilik sa...\n",
              "675790 2021-03-04  ...  arslan bulut’tan gündem yaratacak yazı. türkiy...\n",
              "677498 2021-03-04  ...  şimdi bir tartışmaya kulak misafiri oldum: tam...\n",
              "641438 2021-03-04  ...  bugün bir arkadaşın açtığı tazminat davası içi...\n",
              "641439 2021-03-04  ...  @kriterdergisi bu ayki sayısında “abd boğaziçi...\n",
              "\n",
              "[5 rows x 3 columns]"
            ]
          },
          "metadata": {
            "tags": []
          },
          "execution_count": 72
        }
      ]
    },
    {
      "cell_type": "code",
      "metadata": {
        "colab": {
          "base_uri": "https://localhost:8080/"
        },
        "id": "OaEsOzcmsmPX",
        "outputId": "45a35fa0-7aa3-4755-b9bb-c8aea492bf7a"
      },
      "source": [
        "deneme = filtered_tweet_tr_en_car.tweet[:]\n",
        "deneme"
      ],
      "execution_count": null,
      "outputs": [
        {
          "output_type": "execute_result",
          "data": {
            "text/plain": [
              "493949    🇹🇷 @turkihracat'a gore savunma ve havacilik sa...\n",
              "675790    arslan bulut’tan gündem yaratacak yazı. türkiy...\n",
              "677498    şimdi bir tartışmaya kulak misafiri oldum: tam...\n",
              "641438    bugün bir arkadaşın açtığı tazminat davası içi...\n",
              "641439    @kriterdergisi bu ayki sayısında “abd boğaziçi...\n",
              "                                ...                        \n",
              "312558    @kbertan tamamdir, dur simdi amerikan telefonu...\n",
              "501172    d&r raporu: placebo, manic street preachers, s...\n",
              "312559    @bakyelli orda bulamadin mi sen yahu? bizim bu...\n",
              "524262    explosion in yüksekova (hakkari province) in t...\n",
              "524263    pkkmed ltte leader velupillai prabhakaran is n...\n",
              "Name: tweet, Length: 696362, dtype: object"
            ]
          },
          "metadata": {
            "tags": []
          },
          "execution_count": 96
        }
      ]
    },
    {
      "cell_type": "code",
      "metadata": {
        "id": "DiKjoSOAEeHL"
      },
      "source": [
        "deneme = filtered_tweet_tr_en_car.tweet[:]\n",
        "deneme\n",
        "filtered_tweet_tr_en_car.tweet = filtered_tweet_tr_en_car.tweet.astype(str)\n",
        "deneme = list(filtered_tweet_tr_en_car.tweet)"
      ],
      "execution_count": null,
      "outputs": []
    },
    {
      "cell_type": "code",
      "metadata": {
        "colab": {
          "base_uri": "https://localhost:8080/"
        },
        "id": "rRcQP6T-uBCp",
        "outputId": "45a70f2d-a540-4caa-ad50-be8afbf35023"
      },
      "source": [
        "deneme"
      ],
      "execution_count": null,
      "outputs": [
        {
          "output_type": "execute_result",
          "data": {
            "text/plain": [
              "[\"🇹🇷 @turkihracat'a gore savunma ve havacilik sanayii;  •şubat 2021 ihracati, 2020'ye gore %34,1 artışla $233.225.000 oldu.  •2021 toplam ihracati, 2020'ye gore %17,5 artışla $400.222.000 oldu.  gorunum: pozitif  şubat'ta ihracatın, ocak'a göre, ivmelenerek arttığı görülmekte.  https://t.co/gf4pc4q06j\",\n",
              " 'arslan bulut’tan gündem yaratacak yazı. türkiye’de 18 yıldır ihlal edilen insan haklarını kimse böyle anlatmadı  https://t.co/qto1ttdf0p',\n",
              " 'şimdi bir tartışmaya kulak misafiri oldum: tam isabet çözümleme.   maskesini çenesine indirmiş bir vatandaşı başka bir vatandaş  “maskenizi takar mısınız” diye uyardı.  maskesi çenesinde olan kişi hemen hamle yaptı “doğru” diyerek maskeyi taktı.  uyaran kişi başladı konuşmaya',\n",
              " 'bugün bir arkadaşın açtığı tazminat davası için mahkemede şahitlik ettim.ağustos’ta emekliye ayrılacak olan,ilk duruşmada yurtdışı görevli-mazeretli olmama rağmen “zorla getirme”kararı çıkartan hakime hanım bugün”tanığa gerek yokmuş ki” deyiverdi:)ha bu arada davayı yine erteledi',\n",
              " '@kriterdergisi bu ayki sayısında “abd boğaziçi’ne el koyabilir” manşetleri üzerinden bir medya okuması yapmaya çalıştık. geçmişte darbeleri alkışlayan medyaların şimdilerde “muhalefet etme”adına abd fonlarına dayanan vesayet  bağımlılığını analiz ettik   https://t.co/s90lumgrko',\n",
              " '🇺🇸 disisleri bakani blinken: “ amerika geçmiste degisik ülkelerde askeri darbeler yapti. fakat, bunlar genellikle geri tepti. dolayisiyla bundan sonra darbe yapmayacagiz.” #15temmuz',\n",
              " '#washington’da #s400 krizinin rafa kaldirildigina dair bir hava var. bu aralar türk-amerikan krizlerinde s400 out, insan haklari in. 🇹🇷 🇺🇸',\n",
              " 'günün notu:  🇺🇸 iç kamuoyu,🇹🇷’nin ypg’yi askeri olarak ezmesine siddetli tepki verilmesine uygun degil.   yani,🇹🇷 yarin 20bin askerle ypg’yi sökmeye suriye’ye girse,amerikan askerleri yoldan çekilmek zorunda kalir.  🇺🇸’nin 🇹🇷’e ekonomik ambargosu da avrupa’yi da olumsuz etkiler.',\n",
              " '#zambiya’ya yeni atanan büyükelçimiz istem cırcıroğlu ile ülkemizi ziyaret eden zambiya dışişleri bakanını uğurladık 🇹🇷🇿🇲 we were at the airport with our new ambassador to #zambia ms istem cırcıroğlu to bid farewell to the zambian minister of foreign affairs he joseph malanji.  https://t.co/afmkyan5yz',\n",
              " 'her saati, her dakikası ve her saniyesi bu ülkenin evlatlarının okullarına sağlıkla, güvenle kavuşabilmesi için çabaladığımız, uzaktan eğitime desteklerle güç verdiğimiz bir hafta oldu. emek verenlere teşekkürler.  iyi dersler çocuklarım.  eğitimde bu hafta  22 - 28 şubat 2021  https://t.co/yjx2xwy4ge',\n",
              " 'ilkokul’dan liseye öğrencilerimizi kaynaklarımızla desteklemeye devam ediyoruz.  ortaokullarımızın 5. ünitelerini kapsayan çalışma fasikülleri  https://t.co/majqxleavy’de.   fasiküllerde, soru türlerinin yanı sıra eşleştirme, bulmaca gibi etkinlikler de öğrencilerimizi bekliyor.',\n",
              " \"abd ulusal güvenlik stratejisi yayımlandı -abd'nin avrupa ve hint-pasifik bölgesindeki varlığı daha ağırlıklı olacak. (hedef çin) -ortadoğu'da abd askeri varlığı terörizme karşı, iran'ı sınırlamak ve abd çıkarlarını korumak için gereken düzeyde olacaktır.\",\n",
              " 'keşke yaş dağılımına göre de bakılsaymış 👉araştırma: türk siyasi partilerden hangisinin destekçileri yüzde kaç oranında yurtdışına yerleşmeyi arzu ediyor sorusuna da yanıt arandı.  https://t.co/mgw0g8hste',\n",
              " 'bisiklet dostu bir şehir için her türlü öneri tartışılmalı.',\n",
              " 'yunanistan’ı ottolardan kurtarmak  https://t.co/7c8wgjmt9o #yunanistan #politika #mavivatan #akdeniz #kibris',\n",
              " \"papa francis'in #irak'ı ziyaret planını @sputnik_tr’den @turansalcii'ya değerlendirdim. papa geçmişte sünni yoğunluklu mısır, bae, fas ve ürdün’ü ziyaret etmişti. ilk kez şii yoğunluklu bir ülkeyi ziyaret edecek olması çok önemli.  https://t.co/rasj6fwh0n\",\n",
              " 'ümit özdağ’ın iyi parti’den ayrılırken, bir nevi “istihbarat bavulu” elinde gittiğine işaret etmesi düşündürücü. bir sürü belge saçılabilir ortaya. hdp’ye fezleke ve cezai yaptırım derken, iyi parti kendini bu hedefte bulabilir.',\n",
              " 'sayfası 9375 euro’ya mal olan plan: insan hakları eylem planı’nın sebep ve sonuçları  https://t.co/vey4kzl9d5',\n",
              " 'insan hakları eylem planı’nın sayfası, 9375 euro’ya mal olmuş oluyor. avrupa birliği’nin, sadece bu rapor için tahsis ettiği fon dışında, 41 milyon euro’luk bir büyük bütçe var.  temenni bu plan ve diğerlerinin gerçekten de türkiye’nin önünü açabilmesi... https://t.co/vey4ka2k4d',\n",
              " \"abd'nin kaşıkçı cinayetini suud'a karşı bir kırbaç gibi kullanması kabul edilebilir değil. trump haraçla, biden ise dosyayla tehdit ediyor.madem tüm kirli çamaşırlar dökülüyor; trump,abd devlet başkanı olarak bu olayı örttüğü için ceza almalı mesela.   ...  https://t.co/fwsfsu72zc\",\n",
              " \"ekranlarda devletlerarası  ilişkilerinin geleceğini yorumlayan isimlerin ekseriyeti fazla ezber konuşuyor. türkiye-mısır ilişkilerinin iyileşmesi için şartlar sayıp duruyorlar. bazen iki ülkeyi bütün şartların oluşması değil, yeni bir 'ortak tehdit'in ortaya çıkması yakınlaştırır\",\n",
              " 'bu ülke şehitlerimize de, yaralı askerlerimizi elleri ile karın altından çıkaran bu necip milletimize de sonsuza kadar minnettar olacak.',\n",
              " \"joe biden, kırım'daki durum nedeniyle 2014 yılında rusya'ya uygulanan yaptırımları bir yıllığına uzattı.  https://t.co/ynr3yqy3kl\",\n",
              " \"güney kıbrıs rum yönetimi, kuzey kıbrıs türk cumhuriyeti'nin erenköy'deki askeri birliğe lojistik ikmal sağlayan konvoyun yeşilırmak sınır kapısı'ndan geçişini gerekçesiz engelledi.  https://t.co/4sixckhnkh\",\n",
              " \"neue zürcher zeitung (isviçre):  türkiye'yi batılı müttefiklerine sırtını dönüp tarihi rakibi ile dostluk aramaya iten nedir?  hem rusya hem de türkiye dünyadaki eski nüfuzlarını geri kazanma ve imparatorluk büyüklüğüne geri dönme hedefinin peşindeler.  https://t.co/hhkqsfa1ho\",\n",
              " '@esesci geleceğin sosyal bilimcilerinin bilişimden anlaması gerekecek. 100 sene sonra parler’in verilerine ulaşması gerekecek mesela. app belki çoktan kaybolmuş olacak. sosyal medya çoğunlukla sözlü kültüre daha yakın ve sayısız veri olacak. bilmem @akinunver ne der bu konuda?',\n",
              " 'abd\\'li eski dışişleri bakan yardımcısı: \"yunan hükümeti hüküm giymiş terörist dimitris koufoudinas\\'ı şımartmayı reddetmekte haklı. o ve 17 kasım terörist grubu, 1975-1991 yılları arasında abd büyükelçiliği personelinin beş üyesini ve birçok yunanlıyı öldürdü. asla unutmayacağız.\"',\n",
              " 'istanbul medeniyet univ ile tahran üniv isbirliginde yapilacak olan panelde turkiye-iran iliskilerini tartisacagiz. 6 mart 2021 cumartesi gunu saat 19.30’da gorusmek dilegiyle..  https://t.co/jttj74zlix',\n",
              " \"google, okurların yüzde 90,6'sını iktidar medyasına yönlendiriyor! - gerçek gündem  https://t.co/l5mpaqkle2\",\n",
              " 'mesela sivillik-militarizm bağlamında bir araştırma yapılıp sorular sorulsa %90 üzerinde “militarist” çıkar bence.',\n",
              " \"bugün @umitalan'la bağımsız basın kuruluşlarının trafiğinin google ve youtube tarafından baskılandığını, iktidar yanlısı medyanın ise orantısızca kollandığını ortaya koyan ipi raporunu konuşacağız. 11.00'de canlı'da @gainmedya\",\n",
              " 'üç kıtada türkiye izleri. dünyanın ekseni değişir.   “türkiye ne yapmak istiyor,  erdoğan’ın aklında ne var.”  coğrafya dünyanın  düğüm noktasıdır. biz de merkeziyiz.   doğu-batı çarpışırken  türkiye “oyun” kurar.   https://t.co/34kprtjhzv',\n",
              " \"türkiye’ye f-35 şantajı yapan  abd,  yunanistan’a f-35 satabileceğini açıkladı.   bu açık bir düşmanlık.  ege’deki tatbikatlar, dedeağaç’a askeri yığınak da öyle..  pkk-ypg ile güneyden saldıran abd,  batı kapısında da terör cephesi kuruyor.   bütün hazırlıklar türkiye'ye karşı.\",\n",
              " \"suudi gazeteci cemal kaşıkçı'nın öldürülmesinde rolü olduğu ispatlanan suudi arabistan veliaht prense yaptırım uygulamayacağını, çünkü ekonomik çıkarları olduğunu ilan eden abd, insan haklarında lider oldu.  https://t.co/yxaevz23bu\",\n",
              " \"rusya'da, google'a vergi getirilecek.   reklamcılık politikalarını oluşturmak için rusların verilerini kullanan sosyal medya şirketlerden ek bir ücret tahsil edilmesi kararlaştırıldı.   @fahrettinaltun @varank  https://t.co/rvszhwzdcd\",\n",
              " \"abd'nin nisan 2018'de suriye'de düzenlediği hava saldırısında eğer rus savaş gemileri buna karşılık verseydi, abd donanması'na ait uss john warner denizaltısı onları batıracaktı.  fox news  https://t.co/qmfbk7iwfo\",\n",
              " 'merkezi washington’da bulunan freedom house:  \"türkiye son 10 yıl içinde insan hakları ve özgürlükler konusunda en büyük gerilemenin görüldüğü ülkeler arasında mali’den sonra ikinci sırada yer alıyor.\"   https://t.co/j9wauhjprn  https://t.co/m6uhtblptf',\n",
              " 'abd dışişleri bakanlığı sözcüsü ned price:  \"türkiye, abd’nin ortadoğu’da ve özellikle de suriye’de ortak çıkarlara sahip olduğu bir müttefikidir. ortak çıkarlarımızı gerçekleştirmek konusunda onlarla yapıcı şekilde çalışmaya devam edeceğiz.\"  https://t.co/3j0ehflmjw',\n",
              " 'abd ulusal güvenlik stratejisi:  \"abd ordusunun avrupa ve hint-pasifik bölgesindeki varlığı daha ciddi olacak. çünkü washington \"muhalifleri zapt etmeyi ve ortaklarla çalışarak çıkarlarını savunmayı\" planlıyor.\"  belge şöyle:  https://t.co/q0ppzomadd  https://t.co/mtbodoq2ix',\n",
              " 'abd ulusal güvenlik stratejisi:  \"ortadoğu\\'daki abd askeri varlığı uluslararası terörist ağları bozmak, iran saldırganlığını engellemek ve önemli amerikan çıkarlarını korumak için gereken düzeyde olacaktır.\"  belge şöyle:  https://t.co/q0ppzomadd  https://t.co/v4vtpppzqg',\n",
              " \"filistin'de el fetih kaynakları:  filistin istihbarat şefi majed faraj, bağımsız bir listeyle parlamentoya aday olma niyetini açıklayan el fetih yetkilisi nasser el-kidwa'yı hapishanede tutmakla tehdit etti.  https://t.co/05o54ufade\",\n",
              " \"suriye'nin halep vilayetinde türkiye yanlısı oluşumlara karşı rusya'nın desteğiyle bir miting düzenlendi.  rus savaşan tarafların uzlaşması merkezi başkan yardımcısı alexander karpov da mitingi destekledi.  https://t.co/1iabbbb5xo\",\n",
              " 'rusya ve çin, abd ulusal güvenlik stratejisinde ana tehditler olarak belirlendi.  https://t.co/0y2xxknwyy',\n",
              " \"putin'le dans... nikahında putin ile dans eden avusturya eski dışişleri bakanı karin kneissl rus petrol şirketi rosneft'in yürütme kuruluna seçildi. kurulda aynı zamanda almanya'nın bir önceki şansölyesi ve gazprom projesi kuzey akım'ın yöneticisi gerhard schröder de bulunuyor...  https://t.co/2cebubjord\",\n",
              " \"pandeminin en olumsuz etkilediği sektörlerdem birisi de havayolu taşımacılığı oldu. lufthansa'nın 2020 net zararı 6.7 milyar euro. lufthansa tarihinin en büyük zararı. lufthansa geçen yıl 9 milyar euro devlet yardımı aldı...  https://t.co/xqztwcnh7p\",\n",
              " 'fikret bila\\'nın yeni insan hakları eylem planına bakışı: \"kağıt üstünde çok güzel duruyor. bu planın da sorunu daha önceki reformları paketleri gibi uygulanıp uygulanmayacağı... hukuk alanında ciddi bir inandırıcılık problemi var.\" @fikret_bila   https://t.co/jyi3brzlei',\n",
              " '@avserkanozturk keşke yanlış anladığı tek şey zoom olaydı',\n",
              " '@bunyamin_atmaca @secblinken @potus konuşma da metin de son beş haftadır uygulanan abd dış politika yaklaşımının formülşze edilmiş şekli. iç karışıklığı gidermek, dışarıda ittifak ve ortaklıklara önem vermek ve demokrasi ve diplomasiyi ön plana çıkarmak. iklim ve gelişen teknolojiler gibi hususlara önem...',\n",
              " '“demokrasiyi savunma çalışmalarımız kıyılarımızda sona ermiyor. otoriterlik küresel olarak yükselişte ve dünyanın her yerinde demokrasiyi yeniden canlandırmak için benzer fikirlere sahip müttefikler ve ortaklarla bir araya gelmeliyiz.”',\n",
              " \"“gelişen bir nüfusa sahip dinamik, kapsayıcı, yenilikçi bir ulusal ekonomi, yenilenmesi gereken kritik bir amerikan avantajıdır. bu, covid-19'un ortaya çıkardığı halk sağlığı ve ekonomik krizlere kararlı bir şekilde yanıt vermekle başlar.”\",\n",
              " \"“ticaret ve uluslararası ekonomi politikalarımız sadece ayrıcalıklı azınlığa değil, tüm amerikalılara hizmet etmelidir.  birden çok krizin aynı anda ortaya çıktığı bir ortamda, yurtdışındaki gücümüz için abd'nin ülke içindeki gücüne dayandığını kabul etmeliyiz.”\",\n",
              " '“amerika’nın çıkarlarını küresel olarak ilerletmek için, ulusal savunmamız ve ordumuzun sorumlu kullanımı konusunda akıllı ve disiplinli seçimler yaparken, diplomasiyi ilk çare olarak ön plana çıkaracağız.”',\n",
              " '“uluslararası kurumlardaki liderliğimizi geri kazanmak için hızlı bir şekilde hareket edeceğiz, iklim krizi ve diğer ortak zorluklarla mücadele etmek için uluslararası toplumla birlikte hareket edeceğiz.”',\n",
              " '“🛡güçlü demokratik ittifaklar, ortaklıklar, çok taraflı kurumlar ve kurallarla desteklenen istikrarlı ve açık bir uluslararası sistemi yönetmek ve sürdürmek.”',\n",
              " \"“🛡 düşmanların abd'yi ve müttefiklerimizi doğrudan tehdit etmesini, küresel ortak alanlara erişimi engellemesini veya kilit bölgelere hükmetmesini engellemek ve caydırmak için elverişli bir güç dağılımını teşvik etmek;  ve”\",\n",
              " \"“bu çalışma acildir, zira amerika birleşik devletleri'nin kurulmasına yardım ettiği uluslararası düzeni sağlayan ittifaklar, kurumlar, anlaşmalar ve normlar test edilmekte.”\",\n",
              " '“ayrıca, dünya genelinde güç dağılımının değiştiği ve yeni tehditlerin ortaya çıktığı gerçeğiyle de mücadele etmeliyiz. özellikle çin, hızla daha iddialı hale geldi.”',\n",
              " '“bununla birlikte, amerikan eylemine ve uluslararası işbirliğine olan ihtiyacın her zamankinden daha büyük olduğu bir zamanda, bizimki de dahil olmak üzere dünyanın dört bir yanındaki demokrasiler giderek daha fazla kuşatma altındadır.”',\n",
              " '“son olaylar, karşı karşıya olduğumuz en büyük tehditlerin çoğunun hiçbir sınıra veya duvara saygı duymadığını ve kolektif eylemle karşılanması gerektiğini çok açık bir şekilde gösteriyor.”',\n",
              " '“tarih boyunca amerikalılar kriz dönemlerini yenilenme ve fırsat dönemlerine dönüştürdüler.aynısı bugün de geçerlidir. sadece yeniden inşa etmek için değil, aynı zamanda daha iyiyi inşa etmek için de bir şansımız var. gücümüze odaklanarak daha iyi bir geleceği şekillendireceğiz.”',\n",
              " \"“ve yaptığımız her şeyde, amerika'daki çalışan aileler için hayatı daha iyi, daha güvenli ve daha kolay hale getirmeyi hedefleyeceğiz.  karşılaştığımız krizler göz korkutucu.  ama amerika yılmaz.”\",\n",
              " '“ulusal savunmamıza akıllı ve disiplinli yatırımlar yaparken, küresel kalkınma ve uluslararası işbirliğine olan bağlılığımızı yenileyeceğiz. gelecek için dayanıklılığı, yeniliği, rekabeti ve gerçekten paylaşılan refahı teşvik ederken bugünün krizlerini ele alacağız.”',\n",
              " '“müttefiklerimizi güçlendirecek ve onların arkasında duracağız, benzer düşünen ortaklarla çalışacak ve ortak çıkarları geliştirmek ve ortak tehditleri caydırmak için kolektif gücümüzü bir araya getireceğiz.  diplomasi ile liderlik edeceğiz.”',\n",
              " '“bu, benzeri görülmemiş zorlukların olduğu, aynı zamanda eşsiz fırsatların olduğu bir dönem.  bu an, amerikalıları güvende, müreffeh ve özgür tutmak için bizi cesurca dünyayla meşgul olmaya, geriye çekilmemeye, aksine öne atılmaya çağırıyor.”',\n",
              " '“küresel salgın, ezici bir ekonomik kriz, ırksal adalet krizi ve acil bir iklim sorunuyla karşı karşıyayız. yükselen milliyetçilik, gerileyen demokrasi, çin, rusya ve otoriter devletlerle artan rekabet ve hayatın her yönünü şekillendiren teknolojik bir devrimle karşı karşıyayız.”',\n",
              " 'artik yazacak birsey bulamiyorum. şehitlerimiz ve geride biraktiklari aileleri icin yuregim yaniyor. vatan sagolsun...',\n",
              " '“...ancak çıkarlarımızı ve değerlerimizi ilerletecek şekilde değil;  ya da belki de daha da kötüsü, kimse adım atmaz ve sonra kaos ve onun yarattığı tüm tehlikelere kapılırız. her iki durumda da, bu amerika için iyi değil.”',\n",
              " '2️⃣sürekli bir başka ilke de, şimdi her zamankinden daha fazla işbirliği yapacak ülkelere ihtiyacımız olmasıdır.  biden, bugünün zorluklarının üstesinden gelmenin en iyi yolu olduğu için diplomasi ile liderlik etme sözü verdi.”',\n",
              " \"“işte planımız.  1️⃣ ilk olarak, covid-19'u durduracağız ve küresel sağlık güvenliğini güçlendireceğiz.  dünyanın çoğunluğu bağışıklık kazanana kadar hiçbirimiz tam olarak güvende olmayacağız çünkü virüs çoğaldığı sürece amerika'ya dönüş yolunu bulan yeni türlere dönüşebilir.”\",\n",
              " 'başkasının fikrini duymadan kendi doğruluğuna inanç, geçici bir şafak yanılgısından öteye geçmez.  gerçek var mı, bilmem ama kimse gerçeği tekeline alamaz.  su akar, yatağına kavuşur.',\n",
              " 'bugün, bakanlıklarımızın, başkanlıklarımızın ve ofislerimizin basın müşavirleriyle bir araya gelerek hükümetimizin iletişim stratejisi üzerine istişarelerde bulunduk. oldukça verimli geçen toplantımıza katılan tüm basın müşavirlerimize teşekkür ediyorum.  https://t.co/7lga3h5duh',\n",
              " 'diyarbakır annelerimizin o mübarek ellerinden bir kez daha öpüyorum.  bugüne dek sapasağlam bir kaya gibi durdular.   terör örgütlerinin tehditlerine rağmen yerlerinden milim kıpırdamadılar.   pkk’yı da, onların siyasetteki yandaşlarını da bu annelerimiz bitirecek  varolsunlar...  https://t.co/98ocgpyynn',\n",
              " 'küresel gündem’de bu hafta, ocak ayında göreve başlayan joe biden yönetiminin insan haklarına dönük vurgusu ve otoriter yönetimlere olan eleştirileri çerçevesinde abd’nin ortadoğu politikasını ele aldık.    https://t.co/lwksluwdwl',\n",
              " '@bariserturk_ o makaleler tez bitiminde manuscript formatina getiriliyor ve cok da kolay bir surec degil ogrenciler icin. ek olarak baslangic, sonuc, kavramsal tartisma ve metot bolumleri yaziliyor.',\n",
              " '@yusufalabarda değerli dostum, abim çok teşekkürler...',\n",
              " '@ayhansengul70 değerli dostum çok teşekkür ediyorum. selamlar, sevgiler',\n",
              " '@jeandpardaillan toplantıdayım. bakacağım. bu gibi saçmalıklar olağan oldu. bitirmeye çalıştığım bir kitap dolayısıyla orta doğu /osmanlı dergilerinde verdiğiniz örneklerle yarışabilecek ölçüde saçma makalelere rastlıyorum.',\n",
              " 'freedom house 2021; türkiye son yıllarda özgürlüklerin en fazla gerilediği ülkelerden biri. mısır, k.kore, iran, libya vb. ülkelerle birlikte özgür olmayan ülke kategorisinde. rapora göre sivil ve siyasi özgürlükler bakımından 32 puan almış.en özgür ülke 100/ 100 ile finlandiya.',\n",
              " \"🇹🇷 roketsan'ın ihracatı katlanarak artıyor.  230mm ve 300mm çnra sistemleri ile trg-230 ve trg-300 (tiger) füzeleri 2021 ilk yarısında bangladeş silahlı kuvvetleri'ne teslim edilecek.  böylece dost ve müttefik bangladeş 20-120 km menzilde çok hassas vuruş kabiliyetine kavuşacak.  https://t.co/6spk3ioluw\",\n",
              " '“bu nedenle, küresel aşılama çabasını ilerletmek için ortaklarla yakın çalışmamız gerekiyor.  2️⃣ ikincisi, ekonomik krizi tersine çevirip daha istikrarlı, kapsayıcı bir küresel ekonomi inşa edeceğiz.  3️⃣ üçüncüsü, tehdit altındaki demokrasiyi güçlendireceğiz.”',\n",
              " \"“bu, diplomasi ve uluslararası organizasyonlarla ilgilenmeyi gerektiriyor, zira geri çekildiğimiz yerleri çin doldurdu. bu, sincan'da insan hakları ihlal edildiğinde veya hong kong'da demokrasi ayaklar altına alındığında değerlerimizi savunmayı gerektiriyor.”\",\n",
              " '“bu, müttefikler ve ortakları aşağılamakla değil, onlarla birlikte çalışmayı gerektirir, çünkü birleşik ağırlığımızın çin tarafından görmezden gelinmesi çok daha zordur.”',\n",
              " '“çin ile ilişkimiz olması gerektiği zaman rekabetçi, mümkün olduğunda işbirliğine dayanan ve olması gerektiği zaman düşmanca olacaktır. ortak payda, çin ile ilişkimizi güçlü bir konumdan ele alma ihtiyacıdır.”',\n",
              " '🇨🇳  “8️⃣ve sekizincisi, 21. yüzyılın en büyük jeopolitik sınavını yöneteceğiz: çin ile ilişkimiz.  rusya, iran, kuzey kore dahil olmak üzere birçok ülke bizi ciddi zorluklarla karşı karşıya bırakıyor. yemen, etiyopya ve burma dahil başa çıkmamız gereken ciddi krizler var.”',\n",
              " \"“bu, onlarca yıldır en yakın dostumuz olan avrupa ve asya ülkelerinin yanı sıra afrika, orta doğu ve latin amerika'daki eski ve yeni ortakları da içeriyor.  6️⃣ altıncı olarak, iklim kriziyle mücadele edecek ve yeşil enerji devrimini gerçekleştireceğiz.”\",\n",
              " '“onlarla, onlarsız yapabileceğimizden çok daha fazlasını yapıyoruz. bu yüzden şu anda dostlarımız ve müttefiklerimizle yeniden bağlantı kurmak ve yıllar önce inşa edilen ortaklıkları bugünün ve yarının zorluklarına uygun olacak şekilde yeniden keşfetmek için çaba gösteriyoruz.”',\n",
              " '“4️⃣ dördüncüsü, insani ve etkili bir göç sistemi oluşturmak için çalışacağız.  5️⃣ beşincisi, müttefiklerimiz ve ortaklarımızla bağlarımızı yeniden canlandıracağız. bizim ittifaklarımız, ordunun ‘kuvvet çarpanı’ olarak tanımladığı şeydir. onlar bizim eşsiz varlığımızdır.”',\n",
              " \"“ancak demokrasinin aşınması yalnızca başka yerlerde meydana gelmiyor. amerika birleşik devletleri'nde de oluyor.  demokrasimizi desteklemek bir dış politika zorunluluğudur. aksi takdirde, rusya ve çin gibi rakiplerin eline düşeriz.”\",\n",
              " 'abd dışişleri bakanı blinken, ülkesinin diğer devletlerde otoriter rejimleri darbelerle ve askeri müdahalelerle değiştirmeyeceğini beyan etmiş. hangi ülkelerde bunu yaptıklarını itiraf da etse...dikkat edersek, her yeni abd yönetimi iktidardaki ilk 100 gün böyle açıklama yapar.',\n",
              " \"neera tanden'in bütçe ofisi (yüksek profil) ataması senato onama komitesine takıldı.  center for american progress'in başkanı tanden, önceki yıllarda komitedeki bazı senatörler hakkında attığı twitlerden dolayı sorun yaşadı.   ders: twitlerde başkaları hakkında şirret olmamalı :)  https://t.co/gtbb7r2ffx\",\n",
              " 'ss süleyman’ın adamları, sizden hesap sorulmayacağını mı sanıyorsunuz?  bağımsız yargının önüne çıkarılacağınız günler çok yakın',\n",
              " '@gurkaynakgonenc her türk sizin gibi değil tabi, evinin balkonunda, küvette kurban kesenler de var tabi.   ingiltere’de de arapların kiralayıp çıktığı evlerden aylarca çıkmayan bir koku oluşuyor, ev sahipleri evlerini kiraya veremiyor. irkçılıktan çok, temizlik meselesi ve terör korkusu var',\n",
              " '‘insan hakları eylem planı’nı açıkladığının ikinci günü eyleme geçti.    daha anayasa falan yapacak, sonra ay’a gidecek',\n",
              " \"suriyelilere türkiye'de vatandaşlık vermek ve beşar esad ile görüşmemek pkk'nın suriye'de devlet kurmasına yardımcı olmaktır.\",\n",
              " 'chp’den özgür özel ve sezgin tanrıkulu’nun , demokrat parti’nin diyarbakır annelerini ziyareti çok önemli ... muhalefet istikrarlı biçimde gündem  belirliyor..',\n",
              " 'tarihi bitlis’i ziyaret etme fırsatı bulduğuma çok memnunum. bitlis’in iş dünyası ve siyasi liderleriyle gerçekten bilgilendirici görüşmelerde bulundum. çok şey öğrendim, çok teşekkür ederim! @akpartibitlis @bitlisbld @bitlistso @hdpbedlis  https://t.co/dmrqw3tlen',\n",
              " '🎙 tbmm’de gerçekleştirdiğim basın toplantısını aşağıdaki bağlantı aracılığıyla takip edebilirsiniz.   🔗  https://t.co/lhamt5jfhi  https://t.co/kf6bsvgrmw',\n",
              " \"iyi parti'den istifama dair tbmm'de yaptığım basın toplantısının tamamını, aşağıdaki bağlantıya tıklayarak izleyebilirsiniz. 🎥 https://t.co/dcaen1n0kb\",\n",
              " 'bitlis’te 10 şehit var,millet yasta.  @cnnturk ve @haberturktv iyi parti ve iyi parti’den istifayı, muharrem ince’yi falan tartışıyorlar.   sayın @meral_aksener sarayın ve bunların canını fena yakmış',\n",
              " 'gürkan zengin ne iş yapıyor? ne zaman siyaset bilimci oldu?  bu adam havuz medyasının gülü değil miydi? @krtkulturtv’de ne işi var.   @krtkulturtv değişik görüşte siyasetçileri programa davet etsin tabi ama gürkan zengin ne alaka?',\n",
              " '10 şehit var, bunların yaptığına bakınız!   daha önce evini bastıkları sayın @meral_aksener ‘e bu defa da burada hakaret ediyorlar.   bu cinsiyetçi kadın düşmanlığını bırakınız artık!   mhp budur, 50 yıldır ne uzadı ne kısaldı!',\n",
              " 'biden, ön ulusal güvenlik strateji rehberi belgesini yayınladı. her ne kadar belge amerikan ulusal çıkarlarını vurguluyorsa da, başkalarının milliyetçilik ve yerliciliğini tehlike, çin ve otoriteryanizmi tehdit olarak kodluyor. demokrasi retoriği güçlü:  https://t.co/fox3lcz6uq',\n",
              " '@mhasimizeynep @abdullahnaci @dunya20101 @deralgasgar @arslanhasantr @tahaun @r_mirzaoglu @ab_erdogmus @cuneytalphan @atabenli @rehacamuroglu @c_golcek44 @mstselanik @ankara_kusu logoyu çok beğendim',\n",
              " \"• abd demokrasisi son 10 yılda ciddi şekilde geriledi, freedom house puanı 94/100'den 83/100'e düştü • zamanında abd destekli darbelerle demokrasisi zedelenen şili (93/100) ve uruguay (98/100) bugün freedom house'ta abd'den çok daha özgür • moğolistan (84/100), abd'nin önünde  https://t.co/8f7d46xn6r\",\n",
              " '• 2020\\'de en çok demokratik gerileme yaşayan ülkeler: belarus, venezuela, etiyopya, cezayir • hindistan ise yakın tarihindeki ilk kez \"tamamen özgür\" statüsünden \"kısmen özgür\"e indirildi • iktidardaki hindu milliyetçisi sağ parti bjp özgürlükleri zedelemeye devam ediyor  https://t.co/zrfpwtq0wf',\n",
              " 'erdoğan’ın sözde insan hakları paketi: amaç ab ve abd mi?  https://t.co/plzc0xwxuh',\n",
              " 'sürekli gençler konuşuluyor, partiler gençleri kazanma derdinde. ama dikkatimi çekiyor, hiçbir ana akım tartışmada gençlerin istedikleri açıkça anlatılmıyor. sıkıysa açıkça çıkıp konuşalım gençler ne istiyor. konuşamazlar çünkü gerçek ortaya çıkarsa iktidar fena duruma düşecek.',\n",
              " 'putin, 2018 ağustosunda düğününde birlikte dans ettiği avusturya dışişleri bakanı karin kneissl’i (2017-2019) rusya’nın en büyük petrol şirketi rosneft’in yönetim kurulu üyeliğine aday göstermiş.   https://t.co/y7sev5gwro  kiminle dans ettiğiniz önemli ;) 💃🕺',\n",
              " 'ipi raporu: google algoritması milyonlarca okuru iktidar medyasına yönlendiriyor  https://t.co/xebplifr94',\n",
              " \"demokrasiyi savunan hiçbir siyasi oluşum 6 milyon kişinin oyunu almış bir partinin kapatılmasına ve şeytanlaştırılmasına sessiz kalamaz. bugün parti kapatılmasına karşı duran herkes yarın türkiye'de demokrasinin inşasında kendine önemli bir yer bulacaktır. akşener dahil.\",\n",
              " \"abd senatosuna 1991 ve 2002 askeri güç kullanma yetkisi yasasını yürürlükten kaldırmak üzere yasa tasarısı sunuldu.   iki yasa da irak işgallerinde için kullanılmıştı.  bugünlerde de irak'taki abd üsleri roketlerin hedefinde.  biden'ı zor seçenekler bekliyor.\",\n",
              " \"-abd kuzey akım ii'ye niye karşı, ne istiyor? -almanya duruma  nasıl yaklaşıyor? -gazprom'un karşı argümanı ne? -almanya şirketleri iktidardan ne talep ediyor?  derhal okuyun, beni salon kadını çizgimden çıkarmayın! yoklama alacağım ona göre :)    https://t.co/ijnrbp5jn7\",\n",
              " '@gulayturkmen bir t-shirt\\'un uzerine  \"t\" harfi bastırsanız, bu ne diyene \"turkman\" diye super kahramanım ben dese? arkadaslari o\\'nu super kahraman zannetse?',\n",
              " 'cb erdoğan’ın dün açıkladığı 128 sayfalık “insan hakları eylem planı”nı okudum. 50 amaç, 393 adım... heyecan verici bir plan... umuyorum ki daha çoğulcu, insan haklarını, özgürlükleri ve de insan onunun dokunulmazlığını ruhuna yansıtacak yeni bir anayasanın temeli olur bu plan...  https://t.co/5qcvhbom1f',\n",
              " \"yarın saat 11.00'de tbmm'de düzenleyeceğim basın toplantısında önemli konuları kamuoyu ile paylaşacağım  https://t.co/t8iigoplfs\",\n",
              " \"iktidarın nimetlerinden faydalanarak zengin olmuş, kah pkk'yı kah fetö'yü alkışlayan biri rahmetli türkeş'e hakaret edemez!  kirli ağızlarınızdan rahmetli türkeş'i ve türk milliyetçilerini uzak tutun. @acikcenk  https://t.co/lcxgy107pv\",\n",
              " 'dendi ki \"insan hakları eylem planı iktidarın reform yolculuğunun ilk adımı!\" son 19 yıldır yerimizde sayıyor ya da hep geriye gidiyor olmamızın itirafı olmuyor mu bu?',\n",
              " \"koç'un 6-hafta online osmanlıca kursu 1000 dolar. müşterisi çıkıyorsa hemen amerikadan öğrenci bulup biz de ders verelim bari. uyuyoruz valla\",\n",
              " '•müttefiklerle ilişkiler düzelecek •lgbtq hakları korunacak •iklim değişikliğiyle mücadele •rusya ve çin tehlike oluşturuyor •çin en büyük tehlike •teknolojide liderliği korumalıyız •kadın hakları korunmalı •insan hakları desteklenmeli',\n",
              " 'blinken abd dış politikasını açıkladı;   •obama döneminden farklı olacak  •abd liderliği geri dönecek •abd olmayınca kaos çıkıyor •diplomasi ve işbirliği artacak •askeri darbelere baş vurmayacağız •dünya’da otoriterler artıyor •demokrasi tehlike altında',\n",
              " 'kitaplarım geldi:) editör dostlara ve yayınevine tekrar teşekkürler @nobelyayin @muratdemirelint @khakan1978  https://t.co/la29l3vitk',\n",
              " 'yunanistan larissa (yenişehir) kuzey batısında 5.9 şiddetinde deprem olmuş. ardından 4.6 şiddetinde artçı. yunanlara geçmiş olsun  https://t.co/eelsijteky',\n",
              " 'eski tahran ve bağdat büyükelçileri osman korutürk ile selim karaosmanoğlu, irak’a sınırın batı uç noktasındaki ovaköy’den ikinci bir kapı açılmasını öneriyorlar. habur’a alternatif karayolu türkiye’yi irak’ta kürt bölgesine bağımlı olmaktan çıkartacak.  https://t.co/c0yz51mnza  https://t.co/b7mrd5hrii',\n",
              " 'yorumlu  #2dakikalıkhayatbilgisidersi #serefoguz #hayatııskalamamak #farkındalık #hayatbilgisi #yaşam #kısasöz #gününsözü #kamuspotu #serefoguz_kamuspotu #hirs #akil #sebat #gayret #mutluluk #mayin @serefoguz  https://t.co/gii9ugqahm',\n",
              " \"@muverrihistoria nuri hocam ingiliz okulunun türkiyedeki ilk ve yegane temsilcisidir. odtü ir'ın en top akademisyenlerindendir. ben de öğrencisi olduğum için hep gurur duymuşumdur. maalesef yeni nesil çok bilmiyor. çok mütevazi bir hocadır.\",\n",
              " 'akp’nin 18 yıllık sicili, insan hakları âyinesidir. anayasa’da var olan hak ve özgürlükleri sıralamakla, washington ve brüksel’i kandıramazsınız. çünkü türk aydınlarına 18 yıldır zulüm yaptıran da şimdi türkiye’ye yaptırım isteyen de o başkentlerdir!   https://t.co/49mbp8xadr',\n",
              " 'insan hakları eylem planı’nda iyi maddeler var. fakat insan haklarının birinci teminatı yargının bağımsız tarafsız olmasıdır. hsk üyelerini siyasi irade belirliyor, bu yoldan yargıya baskı yapıyor: insan haklarının güvencesi güvenli değil.  https://t.co/b5j5ukrpry @kararhaber',\n",
              " '@ineedaharley çin’in ne kadar büyük bir tehdit olduğunu kimse anlamıyor hala',\n",
              " 'bu akşam saat 20.30 da @haberturktv de @veyisates in “türkiye’nin nabzı” programındayım...  https://t.co/ajvk6bzhto',\n",
              " '#abd dib #blinken konuşması: - tek rakibimiz #çin diyor. - uluslararası alana güçlü bir şekilde döneceklermiş, - diplomasi ve işbirliğine öncelik verecekmiş, - demokrasiye önem vereceklermiş.  tabi samimiyetlerini göreceğiz. ben çok umutlu değilim.',\n",
              " '#canlıyayın📡 #gürcistan başbakan yardımcısı ve dışişleri bakanı david zalkaliani ile ortak basın toplantısı   #live📡 joint press conference with vice prime minister and foreign minister david zalkaliani of #georgia  📍 ankara  https://t.co/10bzjmzllz',\n",
              " \"📌yeniden göreve gelen dostum @dzalkaliani'yi tebrik ediyorum. 📌diplomatik ilişkilerimizin 100. yılını kutluyoruz. 📌#gürcistan’ın birinci ticaret ortağıyız. hedefimiz 3 milyar$. 📌nato’da güçlü desteğimiz sürecek. 📌bölgesel stratejik işbirliği projeleri geliştiriyoruz.🇹🇷🇬🇪  https://t.co/hltjbjj9hq\",\n",
              " \"sanayii teknoloji bakanı @varank savunma sanayiinde kara sistemleri alanında çözümler üreten @katmercileras firmasını ziyaret ederek katmerciler'in zırhlı uzaktan komuta edilebilen iş makinesini test etti.  https://t.co/u4qi3auad8\",\n",
              " 'bu seneki #türkiyeeğilimleri araştırmamızın bu sorusu ve verilen cevaplar son günlerde basında ve sosyal medyada yeniden gündeme geldi. orijinal grafikleri paylaşalım da yanlış aktarım olmasın...',\n",
              " 'le huffington post (fransa):   rusya\\'ya yaptırımlar hiçbir fayda getirmedi.  rusya kırım\\'dan ayrılmadı, halk \"rejimi\" devirmedi. ab, rus rejimi ve toplumu arasında bir fark gördüğünü göstermelidir.  https://t.co/azahnal48b',\n",
              " 'cumhurbaşkanlığı güvenlik ve dış politikalar kurulu, türkiye-ab ilişkileri ve terörle mücadele gündemiyle toplandı  https://t.co/hawfh2feix',\n",
              " 'bu kasvetli ortamdan çıkmak, kasvetçi militaristlere mesaj ve   türkiye-yunanistan komşuluğu ve dostluğu için gelsin :)  golden collection - sirtaki and bouzouki  https://t.co/mw6udrrfer @youtube aracılığıyla',\n",
              " 'bu sese, akademisyenlerin ve öğrencilerin insan, öğrenim ve özellikle \"yönetişim\" haklarına kulak kapatarak mı insan hakları reformları yapılacak. bu kadar tepkiye rağmen rektör dayatmak hiçbir sivil yönetişim anlayışına sığmayan ve evrensel insan haklarına aykırı bir hükümdür.',\n",
              " '@john_locke_new + polis ve denetim daha ciddi ve daha ciddiye alınıyor. batıda özellikle gençler kaale almıyor.  denetim ciddiyetsiz ve uymamanın fazla yaptırımı yok. güneydoğu öyle değil.',\n",
              " 'meslektaşım ve arkadaşım demekten gurur duyduğum sevgili @ekizilkaya uluslararası basın enstitüsü (ipi) için yaptığı araştırma sonucunda çok değerli bir rapor hazırladı: google, okurların yüzde 90’ını iktidar medyasına yönlendiriyor @globalfreemedia #ipi #journalism',\n",
              " 'nobel ödülü sahibi olan italyan fizikçi, enrico fermi\\'ye sordular: marslılar var mı? tabii, dedi, aramızdalar zaten, kendilerini \"macarlar\" olarak tanıyoruz. @tuajans, işbirliğimizin geliştirilmesi için bir neden daha😀',\n",
              " '“old man yells at clouds”  bey amca, türkiye’de yaşıyoruz. siyasiler tarafından tehdit edilmek bizi sandığın kadar korkutmuyor.  ldp’ye giden birazcık destek var aa da öldürdünüz tebrik ederim siyasi intihar neymiş gerçek zamanda gördük 👍',\n",
              " \"#yeni pentagon, el-esed hava üssüne düzenlenen roketli saldırıda bir abd'li sözleşmeli sivil personelin siper alırken kalp krizi geçirdiğini ve hayatını kaybettiğini açıkladı.\",\n",
              " \"abd, ¨türkiye ile özellikle suriye'de ortak çıkarlarımız var¨ diyor. -türkiye'nin ulusal güvenliği suriye'nin toprak bütünlüğünün korunmasında. abd suriye'yi parçaladı. -suriye'deki ypg/pkk terör örgütü türkiye'nin beka sorunu. ypg/pkk'yı destekleyen abd. hangi ortak çıkarlar?\",\n",
              " '3 mart 2021 saat 14.00’te, habertürk’te olacağım... @haberturktv @ersoyakif1',\n",
              " '@kaanatac \"global war on terror\" devam anlamı çıkar mı hocam?',\n",
              " \"papa yarın bağdatta ve sonra musul'da al tahera kilisesini ziyaret edecek. cemaat, kiliseyi, papa'ya hazırlamak için temizlik telaşesinde. işid'den kurtuluşu taçlandırma heyecanı yaşıyorlar. ne diyelim... şifa olsun 💫🦋\",\n",
              " '“konuşuyorum ve batıyorum” kafası... 🤯',\n",
              " 'hatta odanın içindeki farklı noktalarda bile internet sıkıntısı yaşıyoruz ankara’nın göbeğinde. siz ne diyorsunuz bu işe sayın @turksat',\n",
              " 'bu soruna çözüm hayati. sizin bir planınız var mı? @mansuryavas06',\n",
              " 'meral akşener: “erdoğan, kanal istanbul’u inadına yapacakmış! egoya bakar mısınız, cürete bakar mısınız. millet iradesi ile inatlaşılmaz... inat edeceksen; demokrasi, kalkınma, üretim, istihdam, refah, huzur, adalet, yolsuzlukları bitirmek için inat et!” @iyiparti @meral_aksener',\n",
              " 'mesela #akşener “6 milyonun oyuna lanet edemezsiniz” demişti...   bu; müsamaha mı oluyor?  hep kelime oyunları, hep: ifşa felan...',\n",
              " '“her halükârda, akşener’in önüne gelen fezlekeler, dokunulmazlıkların kaldırılması, hdp’nin kapatılması gündemi, kendisine bir krizle gelen fırsat. akşener, kendi kürt meselesi’ni çözebilecek mi?” \\u2066@sezinoney\\u2069    https://t.co/3u4la0mk9s',\n",
              " \"dışişleri bakanı çavuşoğlu: ¨ilişkilerimizin seyrine göre biz de mısır'la deniz yetki alanlarını müzakere ederek bir anlaşma imzalayabiliriz.¨ açıklamasında bulundu. -askeri gücün kazanımlarının masaya yansıtılabilmesi için, türkiye mısır ve israil'le işbirliği yapmalı...\",\n",
              " 'bir süredir abd’deki solcu ya da anarşist vb grupları takip ediyorum. şaşırtıcı gelebilir ama abd’de sadece sağ kanat silah yasasına taraf zannediliyor ama sol kanatta da ciddi destek var.',\n",
              " 'abd dışişleri b. sözcüsü ned price\\'a idlib\\'deki sivilleri hatırlatıp \"muhtemel bir katliamı önleyen ülke türkiye; abd nasıl bakıyor?\" diye sordum. 👇 \"abd dışişleri bakanlığı sözcüsü price: türkiye ile özellikle suriye bağlamında ortak çıkarlarımız var\"   https://t.co/3h2gcigwha',\n",
              " \"abd kongresine sunulan ikinci “mbs’ye de yaptırım uygulansın” tasarısı:  abd'li kongre üyesi omar, muhammed bin selman'a kaşıkçı cinayetinden dolayı yaptırım için tasarı sundu   https://t.co/1ks4uqi230\",\n",
              " \"koreli e-ticaret platformu coupang, newyork borsasında 51 milyar $ değerle halka arz ediliyor. bu halka arzla şirket 3.6 milyar $ gelir elde edecek. coupang'ın ardından teknoloji yoğun kore şirketlerinden oyun şirketi krafton'un da benzer büyüklükte halka arzı geliyor. #teknoloji  https://t.co/cjplj2dsie\",\n",
              " 'millet ittifakı, iktidar bloğunun oyununu bozmaya, alternatif oyun kurgulamaya devam ediyor. şu milliyetçilik çizgisi, demokrasinin geleceği için umuttur.',\n",
              " '3 mart 1924’te halifeliğin kaldırılması önerisini 53 arkadaşıyla meclise sunan şeyh safvet efendi urfa mebusuydu. fatih camii dersiamlığı yapmıştı, urfa halveti dergahı potnişiniydi. ailesi ve çocuklarıyla bir fotoğrafı. torunu akademisyen çetin yetkin’dir.  https://t.co/pgygggch2s',\n",
              " 'bir dış politika silahı: ‘insan hakları ve demokrasi’…  https://t.co/ldugmdllyc ...',\n",
              " \"papa'nın sistani'ye yapacağı ziyaret en küçük detaylarına kadar planlanmış. vatikan ziyareti, papa-ezher şeyhi görüşmesinin devamı sayıyor. papalık, sünni ve şii kollarıyla islam dünyasının temsilcisi olarak arap aktörleri tercih ettiğini gösteriyor:  https://t.co/wylqy0lhex\",\n",
              " \"balkanların batı-rusya arasında yeniden bir rekabet alanına dönüşmekte olduğu tartışılıyordu. abd'nin bölgede artan çin ekonomik etkisini de tehdit olarak kodladığı anlaşılıyor:  https://t.co/fbmxbklgx3\",\n",
              " 'boeing, avustralya kraliyet hava kuvvetleri ile geliştirdiği \"loyal wingman\" adlı insansız savaş uçağının ilk uçuşunu avustralya\\'da yaptığını bildirdi.  https://t.co/6wmdm86h0h',\n",
              " \"@hakancopur1 bir antifa üyesinin baskın sırasında kongrenin içinden çektiği görüntüleri cnn'e sattığı bile ortaya çıkmıştı. bu baskının arka planı çok su kaldırır.\",\n",
              " \"4 mart'ta, bir milis grubun abd kongre'sini basmaya teşebbüs edeceğine yönelik istihbarat elde edildiği belirtiliyor. bu tarih önemli çünkü: 👇👇👇 4 mart 1861'de abraham lincoln, abd başkanı olarak yemin ettikten bir ay sonra abd iç savaşı patlak verdi.\",\n",
              " 'bu fernandes ne halta yarıyor da 70 dakikadır oyunda?',\n",
              " \"the economist (ingiltere):  teknoloji devlerinin küresel rekabete başladı.  abd'de dijital pazarlar, ikinci hatta üçüncü firmaların ana oyuncuyla başarılı bir şekilde rekabet ettiği oligopollere kaymaktadır. büyük teknoloji şirketleri müşteriler ve veriler için mücadele ediyor.  https://t.co/iymvthetll\",\n",
              " \"daily express, (ingiltere):  birçok ab ülkesi, acil olarak ihtiyaç duyulan aşıların sağlanmasındaki kesinti nedeniyle daha fazla hayal kırıklığına uğradığı için brüksel aşılama planını terk ediyor.  bazıları yardım için israil'e, diğerleri rusya ve çin'e dönüyor.  https://t.co/so02rzlx8p\",\n",
              " \"the american conservative (abd):  washington, moskova'nın çıkarlarını asla dikkate almadı. bu nedenle, vladimir putin'in eylemleri saldırgan bir amerika'yı şaşırtmamalı.  her ülkenin, komşularından gelebilecek potansiyel tehditleri savuşturmaya ihtiyacı vardır.  https://t.co/igql2opukq\",\n",
              " \"al araby, putin'in suriye'de biden'a ne sunması gerektiğini açıkladı.  rusya, suriye arenasındaki nüfuzunu ukrayna ve avrupa yaptırımları müzakerelerinde bir pazarlık kozu olarak kullandı. şimdi esad ve iran'ı suriye'den uzaklaştırma zamanı geldi.  https://t.co/eggp92kayk\",\n",
              " \"düğününde putin'le dans eden eski avusturya dışişleri bakanı karin kneissl, rus petrol şirketi rosneft'in yönetim kuruluna aday gösterildi.   https://t.co/eajckpijhl  https://t.co/b2awfck41y\",\n",
              " 'national review (abd):  amerikalı yetkililerin bir dizi rus şirketine karşı uygulanacak sonraki yaptırımlar \"sembolik\" oldu  ve mesele, yaptırımların uzun zamandır rusları korkutmaması değil. biden, rusya\\'ya trump\\'tan da yumuşak davranıyor.  https://t.co/rduty6gfsw',\n",
              " \"süddeutsche zeitung (almanya):  obama, rusya ile ilişkilerini yeniden başlatmaya çalıştı. bundan hiçbir şey çıkmadı, çünkü putin, abd'nin istediği gibi yeni rusya yaratmakla ilgilenmiyordu. biden, görev süresine küçük sembolik yaptırımlarla başlar. fakat hiçbir etkisi olmayacak.  https://t.co/xkvwvwvzj1\",\n",
              " 'el mundo, (ispanya):  eski sscb cumhuriyetleri: iktidarı kendi ellerine almakta neden başarısız oldular?  14 cumhuriyet otuz yıl önce bağımsızlık kazandı, ancak çoğu için moskova ana tehdit olmaya devam ediyor.  https://t.co/mtjdarazok',\n",
              " \"ermenistan'da muhalefetin olası seçimlerde paşinyan'ın karşısına başbakan adayı olarak görevden alınması beklenen genelkurmay başkanı onik gasparyan'ı çıkaracağı bildirildi.  https://t.co/r9qmeh8dqa\",\n",
              " 'erdoğan, macron\\'a \"terörizme\" karşı işbirliğini güçlendirmek istediğini söyledi.   https://t.co/4k8jszzngi',\n",
              " \"abd, çin'in etkisine karşı koymak için daha geniş bir stratejinin parçası olarak covid-19 aşılarını asya'daki ülkelere dağıtmak için bir plan geliştirmek için japonya, hindistan ve avustralya ile birlikte çalışıyor.   https://t.co/rbkgurevkw\",\n",
              " \"gürcistan'a karşı sert tavırlarıyla tanınan savaş gazileri grubu aruaa, abhaz lideri aslan bzania'nın eski yardımcısı benur kviraia'nın tiflis ziyaretini protesto etmek için sokhumi şehir merkezinde toplandı.   https://t.co/3om6xw2mce\",\n",
              " \"filistin'de el fetih hareketindeki bölünme nedeniyle mahmud abbas, seçimi ertelemeyi düşünüyor.  mahmud abbas'ın muhalifleri, 2006'da olduğu gibi, hareketin oylarını bölecek ve hamas zaferine yol açabilecek parlamento seçimlerinde ayrı listelerde yer almayı planlıyor.  https://t.co/ze3qxakdca\",\n",
              " 'berlingske, (danimarka):  başka bir ülke (çek cumhuriyeti) aşı için putin\\'e yalvarıyor: \"inanın bana, birkaç ay içinde başkaları da sputnik\\'i istemeye başlayacak\"  ab için tüm umutlarını kaybeden yetkililer, rusya\\'dan yardım istiyor.  https://t.co/lhgme8dyj2',\n",
              " \"israil'de bilgi sızdırma krizi çıktı.  genelkurmay başkanı kochavi ile mossad şefi yossi cohen arasındaki kişisel rekabet yeni bir zirveye ulaştı.  üst düzey askeri yetkililer, mossad başkanını iran'a ilişkin devlet güvenliğine zarar veren bilgileri medyaya sızdırmakla suçluyor.  https://t.co/qygncj0xhr\",\n",
              " 'xinhua (çin):  rusya ve çin askeri bir ittifak oluşturmayı mı planlıyor?  çin halk cumhuriyeti savunma bakanlığı: askeri bağlar çin ve rusya arasındaki stratejik işbirliğini destekliyor.  https://t.co/xw4uezokbd',\n",
              " 'abd dışişleri bakanlığı ayrıca, navalnıy davası nedeniyle duyurulan yaptırımlar ile ilgili olarak, abd ihracat-ithalat bankası dahil olmak üzere abd hükümeti bünyesindeki finans kuruluşlarının rusya’ya kredi verilmesinin yasaklandığını duyurdu.',\n",
              " \"deník n (çek cumhuriyeti):  atlantik'in iki kıyısı birbirine geri dönüş yolunu buldu. rusya yalnız kalıyor.  abd ve ab ülkeleri işbirliğini derinleştirmeye karar verdi. hedefte rusya ve çin var.  https://t.co/qn5ri6zzzq\",\n",
              " \"esed rejimi yeni yasa ile diğer alanlardaki suriyelilerin kimliklerini iptal etmeye hazırlanıyor. şam, 10 yılını dolduran kimliklerin yenilenmesi şartını yüz yüze başvuruya bağladı. [bu adım rusya'nın planladığı bm'ne alternatif seçimlere yönelik olabilir]  https://t.co/jvbf5w7jge\",\n",
              " 'kitaplarım geldi:) editör dostlara ve yayınevine tekrar teşekkürler @nobelyayin @muratdemirelint @khakan1978  https://t.co/la29l3vitk',\n",
              " \"deyr zor'un ömer petrol sahasındaki abd üssünde askeri kargo uçaklarının iniş yapabilmesi için hazırlanan pist çalışmaları bitmek üzere. çalışmalar geçen yılın sonunda başlamıştı. çalışma gelişmeleri aralık 2020'den bu yana.  https://t.co/3timxkb7z6\",\n",
              " '- bazı aileler, karşı cinsten bir akranmış gibi sosyal medya hesabından çocuğuyla iletişim kurup onu izliyor.  - siyasiler ne yapmalı sorusuna yanıt olarak; cezayı artırsınlar, polis daha fazla denetim yapsın, diyor aileler.',\n",
              " 'bugün katıldığım sodev\\'den \"yoksul semtlerde madde kullanımı araştırması raporu\" tanıtım toplantısında açıklanan saha bulgularını kısaca özetledim:  https://t.co/r8iben5ibm via @meneksetk',\n",
              " \"alman iç istihbarat teşkilatı bfv aşırı sağ parti afd'nin tüm federal teşkilatını anayasayı bozucu aşırı sağ yapılanma şüphesiyle gözetim altına almaya karar verdi. böylece bfv parti içine görevlilerini sokarak partiye yönelik istihbarat toplayabilecek...  https://t.co/mazjxrvkqx\",\n",
              " '@pinardinch @c_erdost bitince iğne iplik kutusu olup, varoluş amacına ulaşıyor 😂',\n",
              " 'mesela #akşener “6 milyonun oyuna lanet edemezsiniz” demişti...   bu; müsamaha mı oluyor?  hep kelime oyunları, hep: ifşa felan...',\n",
              " 'ankara ticaret odası başkanımız @gurselbaran’a annesinin vefatı sebebiyle taziye ziyaretinde bulundum. merhumeye cenab-ı allah’tan rahmet niyaz ederim.  https://t.co/nl17knogok',\n",
              " \"siz yine de eylem planına güvenip ortamlarda, twitter'da falan öyle rahat rahat konuşmayın :)\",\n",
              " 'ankara\\'da esnafı \"lütfen maskenizi takar mısınız konuşurken\" diye uyarmaktan bugün canım çıktı. yanlış anlaşılmasın, bir kafede oturduğum yok. oradaki esnafı tahmin dahi edemiyorum. ne çabuk gevşedik?',\n",
              " 'rapor, @ekrem_imamoglu na da sunulmuş. bu konuda belediye de bir eylem planı oluşturacak. spor merkezlerinin inşası konusunda bir beklenti var. ucuzlayan ve erişimi çok kolaylaşan maddelere odaklanmak gerekiyor.',\n",
              " \"libya'da yeni gelişmeler..  -bm uluslararası gözlemci heyeti trablus'ta -yabancı/paralı askerler hakkında rapor hazırlayacaklar.. +asker meselesi üzerinden türkiye dahil yeni bir kriz geliştirebilirler...  https://t.co/8vxquvhs0d\",\n",
              " '- medya dilinin yanlış olduğunu düşünüyor babalar. medyada uyuşturucu meblağlarından söz edilmesini özendirici görüyorlar.  - çıkar ortaklığı kurulmuş durumda. prim gibi teşvik edici unsurlar var.',\n",
              " '- kullananların gözleri kayık bakıyor, ağızları kokuyor, diyor gençler. konuya ve ayrıntılara ne yazık ki hakimler.  - uyuşturucu kullanılan okulların sosyal medyada itiraf sayfaları var, orada hikayeler itiraf ediliyormuş.  - okullarda madde kullanan grupların simgeleri oluşmuş.',\n",
              " '.@ertan_aksoy \"yoksul lokasyonlarda madde kullanımı konusunda ekstra bir kümelenme söz konusu. bağcılar ve sultanbeyli\\'ye odaklandık. bu iki lokasyon, aynı zamanda muhafazakar nitelikte.\"',\n",
              " 'türkiye\\'de durduramadınız. abd\\'den mi durduracaksınız!  vatanlarını, kişiliklerini  1 dolara satan adamlar.   efendilerinizin \"erdoğan\\'ı devir, türkiye\\'yi durdur\" projesi çöktü.  abd kendini kurtaramıyor,  artık size yardım edemez.  tarihin yanlış sayfalarında unutulacaksınız.  https://t.co/ljpfgu96pl',\n",
              " 'başladı. rapordan önemli verileri paylaşacağım. çalışma bilgisayar-destekli telefonla anket ve 4 ayrı grupla odak grup çalışmasıyla gerçekleştirildi. sorunsal ise şu: yoksul bölgelerde madde kullanımının artması.',\n",
              " 'cia görevlisi,ruslar’a çalışırken tutuklanıyor.hapishanede oğlunu ruslar’a yönlendiriyor ve oğlu ruslar’a çalışmaya başlıyor.bu tiplere, “istihbarat simsarı” denir.merak ettiğim;hapishanedeyken ruslar nasıl temas kurmuş.rus istihbaratı her seferinde beni şaşırtmaya devam ediyor.',\n",
              " \"tel aviv, bölgede iran'a karşı aşikar bir arap-israil işbirliğini dillendirirken 'normalleşmiş' ülkelerden şimdilik bir ses çıkmıyor. mesela bölgede bütün krizleri fırsata çeviren ve iran ile derin ilişkileri olan normalleşmiş bae ne yapacak?\",\n",
              " '7. abd gkry ve özelikle yunan topraklarını amerikan askeri üssü haline getirerek ege ve d.akdeniz alanlarında rum-yunan tezlerini siyasi ve askeri olarak destekleyeceğini de göstermiştir.',\n",
              " \"irak bölünmeye her zamankinden daha yakın. son dönemlerde abd'de başkanlık değişirken irak'ta savaşın önce hafifleyip sonra yeni aktörlerle daha kapsamlı halde yeniden şiddetlenmesi rutine bindi. son haftalarda irak'taki gelişmelere bakılırsa iç savaş ve terör yeniden tırmanıyor.\",\n",
              " \"amerikalı generaller iran'ın desteklediği şii milisler üzerinden irak'ta savaşı kışkırttıklarını, bağdat yönetiminin irak'ı yönetmek ve bir arada tutmaktan çok uzak olduğunu değerlendiriyor. işid'in yeniden özellikle tartışmalı bölgeler üzerinde güç kazanması diğer bir faktör.\",\n",
              " '@recepsehitoglu recep hocam insanların inançlarını utana sıkıla yaşamaları ve bunu belirttiklerinde aşağılanmaları zoruma gidiyor. babam şafii ve adamcağızın hayatında abdest önemli bir şey. çünkü dışarıda sürekli abdest alacak fırsatı yok. neden bazı insanların eylem üstünlüğü var anlamıyorum.',\n",
              " 'özel sektör üniversite işbirliğine güzel örnek @petrolofisi desteğiyle, itü çekirdek bünyesinde girişimciler yüzey ve hava dezenfeksiyonu sağlayan robotlar, pratik yüz tanıma ve ateş ölçer cihazlar, nefesten antikor tespit eden cihazlar gibi 11 farklı proje geliştirmiş',\n",
              " 'geçen sene desteklenmeye başlanan projelerle ilgili bazı detaylar şöyle.  https://t.co/3n5tcmhgwm',\n",
              " 'görev sürem boyunca birlikte olduğum ve buradaki çabalarımızın olmazsa olmazı niteliğindeki, herbiri ayrı değeri haiz tüm mesai arkadaşlarıma özverili çalışmaları ve bu nazik jestleri için şükranlarımı sunuyorum. bu zorlu dönemde sizlerle çalışmak gerçek bir ayrıcalıktı.',\n",
              " '\"mit kumpası\" davasında;  yurt atayün, ali fuat yılmazer, kazım aksoy,  erol demirhan, nuh mehmet damgacı,  ayhan albayrak, sebahattin kaplan,  musa metin ve bilal irice\\'ye  ağırlaştırılmış müebbet hapis cezası verildi.',\n",
              " '“her halükârda, akşener’in önüne gelen fezlekeler, dokunulmazlıkların kaldırılması, hdp’nin kapatılması gündemi, kendisine bir krizle gelen fırsat. akşener, kendi kürt meselesi’ni çözebilecek mi?” \\u2066@sezinoney\\u2069    https://t.co/3u4la0mk9s',\n",
              " '“çocuklar teneffüslerde ne yapıyor?” diye merakta olan ilkokul velilerimize bilgi vereyim: okullarımızda öğretmenlerinin eşliğinde temassız oyunlar oynuyorlar. öyle görünüyor ki çok da mutlular... :) gününüz aydın olsun...  https://t.co/uaezf6a3hr',\n",
              " 'bu soruna çözüm hayati. sizin bir planınız var mı? @mansuryavas06',\n",
              " '@john_locke_new + polis ve denetim daha ciddi ve daha ciddiye alınıyor. batıda özellikle gençler kaale almıyor.  denetim ciddiyetsiz ve uymamanın fazla yaptırımı yok. güneydoğu öyle değil.',\n",
              " \"iran meclis başkanı kalibaf, moskova ziyareti sonrasında iran'ın avrasya ekonomik birliğine girebileceğini ve bunun icin gereken prosedürün başlatılacağını belirtmiş. ekonomik boyutundan ziyade jeopolitik önemi olan, sadece bölgesel değil, küresel etkileri olabilecek bir olay.\",\n",
              " \"almanya federal anayasayı koruma dairesi, aşırı sağcı ve islam karşıtı afd partisini şüpheli bir vaka olarak sınıflandırdı. daha önce eyaletlerde afd şüpheli bir vaka olarak nitelendirilmişti. ilk aşamada afd'li milletvekillerinin istihbarat tarafından takibi öngörülmüyor.\",\n",
              " 'anayasada zaten var olan hak ve özgürleri kısıtlayan iktidarın aynı hak ve özgürlükleri reform diye vaat etmesi nasıl inandırıcı olabilir? reform için iktidarın elini yargıdan çekmesi ve anayasadaki hak ve özgürlükleri uygalaması yeter, başka reform gerekmez',\n",
              " '1933’teki bir anayasa degisikligiyle 🇺🇸 baskanlik yemin töreni 4 mart’tan 20 ocak’a alinmisti.  yarin (4 mart) #trump’in baskan olma ihtimaline yönelik gösteriler olabileceginden #washingtondc’daki güvenlik önlemleri artirildi.   trump hâlen oyunda!  https://t.co/0at5ffraie',\n",
              " 'diğer birkaç tetikçi gibi fetöcülerin yarım bıraktığı operasyonu tamamlamak üzere “çalıştığı” için destek olurlar tabii 👇🏼',\n",
              " \"@gcrf tarafından 2.2 milyon sterlinlik bir bütçeyle desteklenen, @parvatiraghuram @fmcin ve @prof_agunter 'in de aralarında bulunduğu müthiş bir ekiple yürütülen @depafrica projesi ve etkinliklerinden habrdar olmk için------&gt; @depafrica #peacebuilding #africa #decolonising #peace\",\n",
              " \"çölaşan: ulusal kanal'ın digitürk’te yayına başlamak için parayı nereden bulduğu merak konusu:  https://t.co/xehpwuhcmu @sputnik_tr aracılığıyla\",\n",
              " \"akşamüstü eczane zorunluluğundan bizim kampüsün yanıbaşındaki ankuva avmsine gittim. manzara-i umumiye'den çıkardığım netice şudur ki: 1 aya kalmaz ahali ve sağlık sistemi göçer 🙁\",\n",
              " 'isviçre göç devlet sekreteri mario gattiker ile göç devlet sekreterliği orta doğu temsilcisi büyükelçi urs von arb’ı ziyaret ederek vedalaştım. dostlukları ve sergiledikleri yakın işbirliği için kendilerine teşekkür ediyorum.  https://t.co/m1krzckg9o',\n",
              " \"merhaba arkadaşlar,   @ibrahimizgi moderatörlüğünde saat 21.00'da   ★ abd'de yaşam ★ washington'da gazetecilik tecrübelerim ★ evrilen medya ★ türkiye'ye dönüş..   konularının konuşacağız. ilgilenen buyursun :) 👇👇\",\n",
              " '@tahsinturkmen01 @aveonjcom @cayroskop @hkilichsword @tolgaozbek_com @dogutcem hava üstünlüğünü sağlayacak kabiliyette olursa evet.',\n",
              " '“‘almanya nereye giderse, avrupa da oraya gider’ ve bu abd için gerçek bir meydan okuma. soğuk savaş sırasında batı almanya, amerika’nın önemli bir avrupalı \\u200b\\u200bmüttefikiydi.  bugün berlin, abd-çin rekabetinde jeopolitik açıdan önem arz eden bir avrupa bloğuna liderlik ediyor.”',\n",
              " \"@ilker_ayturk harika, özellikle osmanlı'da gayri-müslim sosyalistlerle ilgili yazıları bulmaya çalışıyorum.\",\n",
              " '“çin’in uluslararası kurumlardaki etkisini engellemeye, ekonomik baskılarına direnmeye veya yapay zekadan 5g telekomünikasyona kadar teknolojilerde hakimiyetini engellemeye yönelik herhangi bir abd stratejisi, güçlü bir transatlantik işbirliğini gerektiriyor.”',\n",
              " \"“alman vatandaşları çin devlet başkanı xi jinping'e güvenmeyebilir ve insan hakları ihlallerini kınayabilir, ancak volkswagen ve almanya’nın ihracata dayalı ekonomisini yönlendiren diğer şirketler çin pazarına bağımlı.”\",\n",
              " \"“abd, çin ile rekabetinde bir müttefik olarak avrupa'yı harekete geçirmek istiyor;  pekin ise avrupa'yı etkisiz hale getirmek istiyor.”\",\n",
              " '“ingiltere, bir ticaret anlaşmasını güvence altına alma girişimini sessizce askıya aldı ve iki ülke, ortak değerler, ortak bir küresel amaç ve jeopolitik rakipleri caydırmak için askeri güç ve yaptırım kullanma arzusu üzerine odaklanan bir gündem etrafında birleşti.”',\n",
              " \"demokrasiyi savunan hiçbir siyasi oluşum 6 milyon kişinin oyunu almış bir partinin kapatılmasına ve şeytanlaştırılmasına sessiz kalamaz. bugün parti kapatılmasına karşı duran herkes yarın türkiye'de demokrasinin inşasında kendine önemli bir yer bulacaktır. akşener dahil.\",\n",
              " '“çin\\'in kuzeybatısındaki bir eyalet yetkilisi, bir web sitesinde geçen hafta yayınlanan bir konuşmasında, xi\\'nin şu sözlerini aktardı: “günümüz dünyasındaki en büyük kaos kaynağı abd. amerika birleşik devletleri, ülkemizin kalkınması ve güvenliği için en büyük tehdit.\"',\n",
              " \"🇺🇸🇨🇳  çin üç metre boyunda değil  “soğuk savaş sırasında sav.bak. schlesinger, “üç metrelik boy sendromuna” karşı uyarılarda bulundu: bu, abd'li politika yapıcılar arasında sovyet rakiplerini muazzam güç ve zekaya sahip figürler olarak görme eğilimiydi.”  https://t.co/ng8qu5ogso\",\n",
              " 'hatta odanın içindeki farklı noktalarda bile internet sıkıntısı yaşıyoruz ankara’nın göbeğinde. siz ne diyorsunuz bu işe sayın @turksat',\n",
              " \"libya'da yeni gelişmeler..  -bm uluslararası gözlemci heyeti trablus'ta -yabancı/paralı askerler hakkında rapor hazırlayacaklar.. +asker meselesi üzerinden türkiye dahil yeni bir kriz geliştirebilirler...  https://t.co/8vxquvhs0d\",\n",
              " \"barzani; afrin'de yaşananlar endişe verici  suriye muhalif lideri'de; roj peşmergesi için türkiye'nin kontrolündeki yerlerde ofis açacaklarını söylüyor  +barzani türkiye'yi suçluyor muhalif liderde taviz koparıyor, iki yaman çelişki +unutmayalım ypg'de tehdit, roj peşmergesi'de..  https://t.co/0o79b9hhvi\",\n",
              " \"libya'da yeni gelişmeler..  -bm uluslararası gözlemci heyeti trablus'ta -yabancı/paralı askerler hakkında rapor hazırlayacaklar.. +asker meselesi üzerinden türkiye dahil yeni bir kriz geliştirebilirler...  https://t.co/8vxquvhs0d\",\n",
              " 'fox news haberine göre, nisan 2018’de abd donanması, akdeniz’de bulundurduğu uss john warner denizaltısından suriye’ye 6 adet tomahawk füzesi attığında, rusya karşılık vereceği takdirde, rus savaş gemilerini batırmayı planlıyorlarmış. abd’nin oyunlarından biri de bu...',\n",
              " 'cumhurbaşkanlığı güvenlik ve dış politikalar kurulu, türkiye-ab ilişkileri ve terörle mücadele gündemiyle toplandı @ikalin1  https://t.co/5nmeqwhhes',\n",
              " \"avrupa parlamentosundaki avrupa halkları partisi (muhafazakar ortasağ) nihayet macaristan'da iktidarda olan fidesz partisinden kurtuldu. merkel'in, tıpkı erdoğan'a yaptığı gibi, gayridemokratik fidesz'i yıllardır yatıştırma politikası da kayda değer bir hezimete uğramış oldu.\",\n",
              " '@gunsazakgokturk çünkü yaşı küçük birini hedef göstermek etik açıdan doğru olmadığı gibi hukuk açısından da doğru değil. onun hata yapıyor olması başkasına da hata yapma hakkı vermez.',\n",
              " 'tbb başkanı feyzioğlu, mayıs 2019: yargı reformu gerçekleşirse ab standartlarının da üzerine çıkıyoruz  feyzioğlu, mart 2021: insan hakları eylem planı yıldızlara erişmemizi sağlayacak bir plan  (yeşil pasaportuna kavuştu mu?)  https://t.co/plzfm615yu',\n",
              " 'abd dışişleri b. sözcüsü ned price\\'a idlib\\'deki sivilleri hatırlatıp \"muhtemel bir katliamı önleyen ülke türkiye; abd nasıl bakıyor?\" diye sordum. 👇 \"abd dışişleri bakanlığı sözcüsü price: türkiye ile özellikle suriye bağlamında ortak çıkarlarımız var\"   https://t.co/3h2gcigwha',\n",
              " \"abd kongresine sunulan ikinci “mbs’ye de yaptırım uygulansın” tasarısı:  abd'li kongre üyesi omar, muhammed bin selman'a kaşıkçı cinayetinden dolayı yaptırım için tasarı sundu   https://t.co/1ks4uqi230\",\n",
              " 'cumhuriyetçi lindsey graham, biden\\'ın 1,9 trilyon $\\'lık paketinin \"kovid destek paketi\" olmadığını söylüyor: %90\\'ı başka şeylerle ilgili (doğru).  ancak demokratlar 50-50 (+vp) avantajını kullanıp bu tasarıyı kabul edebilir.  ancak demokrat-cumhuriyetçi ayrışması tam gaz devam...',\n",
              " 'esasında bu mevzunun menşeinde yatan cevaplanması gereken asıl soru tarih nedir?tarihçi kimdir sorularıdır bu sorular elan tarih yazıcılığı (epistemoloji) ve tarih felsefesi (ontoloji) bakımlarından türk tarihçiliği ve postmodern batı tarihçiliği için meşkük ve meçhül sorulardır',\n",
              " 'insan hakları eylem planı uygulanıyor, üniversiteli gençler içerde, çoğuna soruşturma, dava: siz kim, insan hakları nire!',\n",
              " 'insan hakları eylem planında, dikkatimi celbeden iki hususa dair fikir beyan etmek isterim, başıma bir şey gelmeyecekse:) 1)  mesai saatleri dışında gözaltı yapılmayacak olması 2) gazetecilerin mesleki faaliyetlerinin kolaylaştırılması',\n",
              " \" https://t.co/cnrkdpg0av erdoğan'dan macron'a diyalog ve işbirliği teklifi\",\n",
              " \"“bu saldırı iran'ın bir eylemi. bu apaçık ortada” ifadelerini kullandı.   konuyla ilgili düzenlediği basın toplantısında soruları yanıtlayan iran dışişleri bakanlığı sözcüsü said hatipzade, “israil’e ait geminin umman denizi’nde bizim tarafımızdan hedef alındığı iddiası +  https://t.co/zjgccaqjml\",\n",
              " 'mavi vatan bilincine sahip bir nesil için, mavi vatan müfredata girmeli.  genç yaşlardan itibaren gençlerimiz mavi vatan sevgisiyle yetiştirilmeli.    #mavivatanmüfredatagirsin  etikete desteklerinizi bekliyoruz.  https://t.co/qgqa1edky6',\n",
              " 'rusya, abd\\'nin noviçokla muhalif zehirlediği için 7 üst düzey yetkilisine uygulayacağı yaptırıma \"asimetrik yaptırımlarla\" karşılık verecekmiş. @christogrozev diyor ki, yerinde bir tespit ile, \"bundan sanırım şunu anlayabiliriz ki, rusya kendi 7 vatandaşını daha zehirleyecek\":))',\n",
              " 'savunma sanayi başkanı ismail demir “s-400’ler ile ilgili abd yaptırımlarının çok büyük etkisini görmedik” demiş...  vaşington’da bu “acımadı ki” diye okunur... haydi hayırlısı...',\n",
              " 'bu konuda bizim önümüze çıkarılan engel, yaptırımlar bizi daha çok gayrete getirir. bu kararın bizim milli çıkarlarımızda veya ülkemizin alacağı kararlardan vazgeçireceğini sanıyorlarsa çok büyük yanılgı içindedirler.',\n",
              " 'italyan donanmasının amiral gemisi cavour’a 5. nesil savaş uçağı olan f35-b’nin iniş ve kalkışa uygunluğunu ölçmek için, amerikan donaması farklı koşullarda kalkış ve iniş testleri yaptı.  📸:@italiannavy  https://t.co/k032dkd3mz',\n",
              " \"aynı nato müttefikiniz (!) türkiye'ye karşı pkk/pyd'ye niye silah veriyorsunuz? düğünlerde havaya sıksınlar diye mi? işin içine türkiye-rusya ilişkilerini/yakınlaşmasını bozma ihtimali gelince maşaallah epey bir müttefiksiniz ama bu lafların pek alıcısı yok gibi\",\n",
              " 'türkiye-rusya arasındaki sorunlar paket halinde ele alınmalı. pek çok alanda işbirliği mümkün. orta asya türk dünyası da bundan memnun olur zira ankara-moskova gerginliği onların da işine gelmez. hepsini ve daha fazlasını @mehmetperincek ile konuştuk  https://t.co/75tiusbtsz',\n",
              " '@gulayturkmen oh no. çok üzücü. eminim bütün bu zorluklardan ve çelişkilerden çok makul bir genç adam olarak çıkacaktır. en azından benim de ümidim kızım için aynı.',\n",
              " 'ankara ticaret odası başkanımız @gurselbaran’a annesinin vefatı sebebiyle taziye ziyaretinde bulundum. merhumeye cenab-ı allah’tan rahmet niyaz ederim.  https://t.co/nl17knogok',\n",
              " \"kadınları siyasette ve meslek örgütlerinde destekleyecek yeni bir demokrasi platformu kuruldu: #benseçerim @nildenpostalci @idilika ve @kaygusuzo #femfikir'in 165. bölümünde anlattılar 👇  https://t.co/dkde5sefcb\",\n",
              " 'reddederler  tabi, erdoğan’ın  il il gezip ‘lebaleb’ parti kongrelerini nasıl izah edeceklerdi!?',\n",
              " 'bölgedeki tüm büyükelçileri yakından takip ediyorum. paraguay gibi küçük bir ülkede az zamanda çok işler yaptı armağan hanım.  ayrıca asuncion büyükelçiliği, sosyal medya ve dijital diplomasiyi en etkili kullanan temsilciliklerden biri oldu kısa zamanda.',\n",
              " 'kahvaltida cocuk masum masum “6’dan 3 cikarsa kac kalir, peki ya 3’den 3 cikarsa” gibi sorular sorarken babasi bir anda “peki ya sonsuzdan sonsuz cikarsa kac kalir” diye cocugu matematigin karanlik dehlizlerine cekti. yavrucagin cekecegi var:)',\n",
              " 'aslında düşmanca değilmiş, arada el de sıkışıyorlar.',\n",
              " \"aynı nato müttefikiniz (!) türkiye'ye karşı pkk/pyd'ye niye silah veriyorsunuz? düğünlerde havaya sıksınlar diye mi? işin içine türkiye-rusya ilişkilerini/yakınlaşmasını bozma ihtimali gelince maşaallah epey bir müttefiksiniz ama bu lafların pek alıcısı yok gibi\",\n",
              " 'dün insan hakları eylem planı diye sunulan metin, insan hakları evrensel beyannamesinde 70 yıl önce yazılanları tekrarlamaktan ileriye gitmiyor. ülkenin her hangi somut bir sorununa ne yazık ki dokunmuyor.',\n",
              " \"usa today, (abd):  ikinci dünya savaşı'ndan sonra amerika birleşik devletleri, sscb'nin etki alanları hariç, neredeyse tüm dünyada askeri varlığını genişletti.   on yıllardır amerika birleşik devletleri dünyada askeri üstünlüğün tadını çıkarıyor.  https://t.co/jbvctlyhas\",\n",
              " \"@fozkoyuncu @yilmaz_hakan quel turcan var, neresi olabilir başka... :)  quel'likte buluşacağımızı bilsek...\",\n",
              " 'bugün @ekoturktv’ye konuk olacağım: gündem: israil-türkiye ve ortadoğu - 12:30⏱🇹🇷 - 11:30⏱🇮🇱',\n",
              " \"blinken istikrarlı dünya sistemini tehdit eden ülke olarak çin'e işaret ediyor.\",\n",
              " '@bariserturk_ yani anayasal sınırlar zaten kalktı ortadan (temsilde adaleti zedelediği için yargıdan dönmez mesela), iktidarın kendine çektiği ilkesel veya ahlaki sınırı da yok. şu tartıştıkları sistem, ortalama bir siyasetçinin en çirkin anında aklına gelir ama olmaz canım öyle şey der.',\n",
              " \"@bariserturk_ :) böyle konularda siyasetçiler çok iyidirler, mesela eğer muhalefetin işbirliğini öngörebilselerdi 2018'den önce bu önlemleri alırlardı. türkiye'nin önündeki mesele iktidarın aklına gelip gelmemesi değil, iktidarın demokrasi fikri, adalet duygusu gibi sınırlarının hiç olmaması.\",\n",
              " '@itirerhart @tckulturturizm sınıflar da kültür mekanı, biz de oyuncu sayılırız.  üniversiteler açılsın!',\n",
              " 'bugün @ekoturktv’ye konuk olacağım: gündem: israil-türkiye ve ortadoğu - 12:30⏱🇹🇷 - 11:30⏱🇮🇱',\n",
              " 'ilginç gelişme-  cdc(abd hastalık kontrol ve önleme merkezi), covid-19 aşısı olan amerikalıların kapalı alanlarda maskesiz toplanabileceğini bugün duyuracak.  ￼ dünde teksas, mississippi gibi eyaletler maske takma zorunluluğunu kaldırdığını açıkladı.',\n",
              " '@dlkcinar @bariserturk_ iki iyi örnek gördüm, çok zahmet çektiler...  o yaşta insan ya herşeyde bağlantı görüyor, ya da hiçbir bağlantı kuramıyor :)',\n",
              " \"🇹🇷🇷🇺 rus savaş gemisi aksaz deniz üssü'nde...  rus kuzey donanma komutanlığından yapılan açıklamaya göre, admiral kasatonov fırkateyni, 2 ile 4 mart 2021 tarihleri arasında, yiyecek ve su ikmali, dinlenme, görüş alışverişi, vb. amaçlarla marmaris'teki askeri üssü ziyaret ediyor.  https://t.co/rvkk61ytqb\",\n",
              " '🇹🇷 @savunmasanayii başkanı @ismaildemirssb:  bugüne kadar caatsa yaptırımlarının çok doğrudan bir etkisini görmedik.  ama bunun oluşturacağı algıyla bazı yabancı şirketler nasıl hareket eder bundan sonra göreceğiz.  1/n',\n",
              " '#irak’ın batısındaki #anbar vilayetinde abd, işid karşıtı koalisyon ve irak askerlerinin bulunduğu ayn el esad askeri üssü’ne 10 roketle saldırı düzenlendi. 📸  https://t.co/qadctqi6zt',\n",
              " \"@bariserturk_ tr'de de mümkün.  ancak üç endeksli yayın tezden daha kolay olur mu, bilemedim.\",\n",
              " \"uluslararası zoom toplantılarında davetiyeye ısrarla 'ankara time' yazıyorum. duruşumuz belli olsun\",\n",
              " '@bariserturk_ ama metin zaten mesleki kaynaşın diyor, kabile kurun demiyor :)',\n",
              " \"🇹🇷 @savunmasanayii başkanı @ismaildemirssb:  bazı ülkeler abd'ye bakarak hizaya geçiyorlar. bu yüzden abd endişesi ile hareket eden bazı ülkeler gördük.  2/n\",\n",
              " \"3) seçim bölgeleri ve sınırları: i) dar bölge değil (muhalefet ortak aday çıkartabilir) ama daraltılmış (3-5) bölge (iyi'nin vs. temsili düşsün). ii) seçim bölgelerinin sınırlarını da hangi partinin kaç oy aldığı ortaya çıktıktan sonra çizmek (mhp'nin zarar gömeyeceği şekilde) +\",\n",
              " 'doktora öğrencileri sosyal medyada kaynaşsın diyor.   https://t.co/pvfkqpml2k',\n",
              " \"seçim sistemi konusunda akp-mhp'nin ideal sisteminin şu üçünden oluştuğunu düşünüyorum: 1) ittifak içi partilere getirilecek ek baraj: mhp'nin alabileceği en düşük oyun bir tık altı (mesela %7.6) 2) ülke barajı: hdp'nin alabileceği en yüksek oyun bir tık üstü (mesela %12.6) +\",\n",
              " '@serkankoybasi olabilir serkan. ama belediye seçimlerine dönebilir o zaman (muhalif adaylara/partilere destek). bence kapatmayıp ulusal barajın altına indirmeyi deneyebilirler. en kesin çözüm o. tek partilere barajı daha da yükseltmek de bir ihtimal (%12), oy baskılamayla beraber.',\n",
              " \"🇹🇷 @savunmasanayii başkanı @ismaildemirssb:  f-35 projesindeki hak kaybımızı telafi için siyasi, lobi ve hukuk faaliyetlerinde bulunacağız. abd'deki hukuki danışmanlık firmasıyla sözleşmemiz de bu bağlamda.  biz illa ki f-35 projesine geri dönelim modunda değiliz (ilk defa)  3/n\",\n",
              " 'çok etkileyici van ticaret odası ile görüşmekten büyük memnuniyet duydum! ticari fırsatlar ve yerel ekonomi hakkında mükemmel bir brifing aldım. diğer büyükelçilikleri de van’ı ziyaret etmeye ve van’ın sunduğu her şey hakkında bilgi edinmeye teşvik ediyorum! @vantsokurumsal  https://t.co/qf6eazup4n',\n",
              " \"bugün @ekoturktv'de @ahuorakcioglu ile #israil-#türkiye ve ortadoğu'yu konuştuk.   https://t.co/hmnaddl5jo\",\n",
              " \"#myanmar'da polis darbe karşıtlarına ateş açtı, en az 2 kişi hayatını kaybetti,en az 9 kişi yaralandı.  📸 @myanmar_now_eng  https://t.co/d0j7fdcgoz\",\n",
              " \"türkiye saati ile 15.45'te @ekoturktv'de kredi derecelendirme kuruluşu moody's'in türkiye'ye ilişkin @aa_finans'a yaptığı açıklamaları yorumlayacağım. sorularınız varsa lütfen dm olarak iletin.\",\n",
              " '@nesialtaras tek adamin bir ekrandan anlamini bile dusunmeden okudugu mambo jambo... benim tek anladigim yurt disindaki \"teroristler\" hareketten cok daha hizli yargilanacak...alkis pls!',\n",
              " '“konuşuyorum ve batıyorum” kafası... 🤯',\n",
              " \"türkiye saati ile 15.45'te @ekoturktv'de kredi derecelendirme kuruluşu moody's'in türkiye'ye ilişkin @aa_finans'a yaptığı açıklamaları yorumlayacağım. sorularınız varsa lütfen dm olarak iletin.\",\n",
              " 'komşu&amp;dost #bulgaristan’ın milli gününü içtenlikle tebrik ediyorum. bulgaristan’la örnek işbirliğimiz artarak sürecek. 🇹🇷🇧🇬  sincere congratulations to neighborly&amp;friendly #bulgaria on its national day. our exemplary cooperation will increasingly continue. 🇹🇷🇧🇬 @ezaharievamfa  https://t.co/vozb6vbjcd',\n",
              " '@kimsesiz_ddogan @yunus_arslan_ya @haberturktv eyvallah',\n",
              " 'türkiye-rusya arasındaki sorunlar paket halinde ele alınmalı. pek çok alanda işbirliği mümkün. orta asya türk dünyası da bundan memnun olur zira ankara-moskova gerginliği onların da işine gelmez. hepsini ve daha fazlasını @mehmetperincek ile konuştuk  https://t.co/75tiusbtsz',\n",
              " 'anayasada zaten var olan hak ve özgürleri kısıtlayan iktidarın aynı hak ve özgürlükleri reform diye vaat etmesi nasıl inandırıcı olabilir? reform için iktidarın elini yargıdan çekmesi ve anayasadaki hak ve özgürlükleri uygalaması yeter, başka reform gerekmez',\n",
              " 'son 5 yılda 114 cezaevi inşa edildi. cezaevi sayısı 366’ya çıktı. 2025’e kadar 193 cezaevi daha açılacak. anlaşılan sayısı 559’a çıkacak cezaevlerinde doluluk sorunu olmayacağı planlanmış. insan hakları eylem planı’nı öngörememişlerdi elbette:)))',\n",
              " '@erdemhasanali ya da biz suriyelileri korurken bizi kim koruyacak?',\n",
              " 'kayyumspor şaşırtmıyor. tabii, keşke demokratik atama daha erken sonuçlandırılabilseymiş. maalesef, demokratik-çoğulcu-laik her alan, islamcı-muhafazakar beton türkiye muktedir ideolojisinin işgali ihtimalini göz önünde bulundurarak hareket etmek zorunda.  https://t.co/ajne5va7cs',\n",
              " '@ekoturktv @ipekozkardeskay canım arkadaşım @ipekozkardeskay ile aynı programdayız. tesadüfün bu kadarı. :)',\n",
              " \"moody's'in\\xa0aa finans'a yaptığı açıklamaların önemi nedir?\\xa0 ne anlama geliyor @ekoturktv'de @eda_ozdemirrr'in programinda anlattım. 1. bölüm  https://t.co/yragy1fwmc\",\n",
              " \"moody's'in\\xa0aa finans'a yaptığı açıklamaların önemi nedir?\\xa0 ne anlama geliyor @ekoturktv'de @eda_ozdemirrr'in programinda anlattım. 2.bölüm  https://t.co/iyoqokdw05\",\n",
              " '.@tbmmresmi yurtdışı türkler ve akraba topluluklar komisyonumuzda yurtdışında yaşayan cocuk ve gençlerimizin  ana dilleriyle bağlarının kopmaması için yürütülen çalışmalar hakkında  @mebabdigm ve @tcmeb yükseköğretim ve yurt dışı eğitim genel müd. bürokratlarından bilgi alıyoruz  https://t.co/id4rursjvy',\n",
              " 'seriye göz atalım,ahmet beyi takip edelim👇  kasım ayında dolar 8,5 tl iken ala vala ile yurda sıcak para getiren yabancı, yüksek faiz düşük kur politikasıyla dolar 7 tl olunca, sadece 3 ayda buradan kabaca %25 kazanç elde etti! ben diyeyim finanskapital, siz deyin faiz lobisi...',\n",
              " 'bu 400 madde arasında \"oh beee\" dediğiniz hangisi?   benim favorim hukuk\\'ların 5 yıla çıkması..  madde madde insan hakları eylem planı   https://t.co/kjyid05q9e',\n",
              " '@abdulha57348127 @m1_mine burası neresı?',\n",
              " '@anatolia09 önce kahveye gittik, 10 yaş altına okey masası kurmuyorlarmış :)',\n",
              " 'türkiye medyasının köklü ve önemli değeri dünya gazetesi’nin 41. yılı kutlu olsun! @dunya_gazetesi @zeynepgurcanli @didemeryar',\n",
              " 'ankara’da cumhurbaşkanlığı külliyesinde,”insan hakları eylem planı” tanıtım toplantısındayım...sayın cumhurbaşkanımız konuşmalarını yapıyorlar...  https://t.co/9hmwyl7ldr',\n",
              " '@medattto evet, zaten yukaridaki haber cari etf icin, abd kaynakli bir etf sene sonu cikar cikarsa.',\n",
              " '@itirerhart üzücü ama doğru karar itır. seneye seni desteklemeye hep beraber gideriz ..',\n",
              " \"afganistan'da medya çalışanları, stk mensupları ve memurları hedef alan saldırı dalgası devam ediyor.\",\n",
              " 'karaman’ın kâdim iş adamlarından @durubulgur kurucuları ihsan duru ve emin duru’yu ziyaret edip, tarım ve hayvancılık sektöründe ki problem ve ihtiyaçları  konuştuk. notlarımızı aldık. ‘gelecek’ bu iki önemli konuyu öncelik yapacak. @karamangelecek  https://t.co/dh1gry7mik',\n",
              " 'jen psaki\\'nin, \"kaşıkçı cinayetinde daha fazla adım atma hakkımız saklıdır\" sözünü \"abd ileride mbs\\'ye yaptırım uygulayabilir\" diye yorumlamak bence pek doğru değil.  şimdi yaptırım uygulamayan ne zaman uygulayacak?  \"ileride abd-suud ilişkileri bozulursa\" demekse onu bilemem...',\n",
              " '@zceydaak @muhtesemank 27 nisan 2007 darbe teşebbüsü idi.. o sebeple hükumlet değişmedi.. buw sebeple 1971 memduh tağmaç tdarbesini unutmak iyi olmamış, bence.  (zeynep hanım: 1909 hariç ben de bütün darbeleri ve muhtıraları yaşayarak öğrendim...',\n",
              " \"kahire'de ortak basın toplantısı yapan sudan ve mısır dışişleri bakanları etiyopya'yı uyardı. rönesans barajının iki ülke su güvenliğini tehdit ettiği uyarısında bulundular.  https://t.co/pxqren6yai\",\n",
              " 'çocuklarımızın gözleri hiç bu kadar türkiye haritasında dolaşmamıştı. her il, kendi öğrencilerinin eğitimine, geleceğine “maske-mesafe ve temizlik”le destek vermeli. hep birlikte öğrencilerimizin yanında olalım.  https://t.co/bxk4dzdykn',\n",
              " '28 şubat destekçileri bugün neredeler?  https://t.co/ap2l6io3gr @nebimis aracılığıyla',\n",
              " \"abd, türkiye'ye ¨sözde stratejik ortak¨; yunanistan'a ¨anahtar müttefik¨ diyor...\",\n",
              " 'abd\\'li 170 vekilin imzaladığı bir mektup var.  özetle, \"biden yönetimi insan hakları konusunda tr\\'ye/cb erdoğan\\'a baskı yapsın\" diyor.  mektup, \"15 temmuz fetö\\'nün askeri darbe girişimi sürecinde tr\\'nin yanındayız\" deseydi o zaman samimi olabilirdi.   https://t.co/t4sclqmjax',\n",
              " '@uinotlari size destek olmak isterim: uliye ilgim rahmetli anneannemin \"hariciyeci ol yavrum\" telkinleriyle başladı.',\n",
              " 'karaman esnafımız pandemi sürecinde hükûmetimizin yaptığı  yardımları anlatıyor! \\u2066@gelecekpartitr\\u2069 \\u2066@karamangelecek\\u2069  https://t.co/7737mquujb',\n",
              " \"abd'nin sincar'a yönelik şeytani planını sözcü'ye anlattım.. dikkat çekici nokta!  👇  abd’nin planı, sincar’ı türkiye’den korumak – sözcü gazetesi  https://t.co/kjxpwolkmh\",\n",
              " '@umit_k biz hoşlansak da hoşlanmasak da,teknoloji almış başını gidiyor...tweet dizisinde anlatmış.farklı açılardan çekilmiş fotoğraflar yetiyor.metrolardaki yüz tanımayı bir kenara bırakın, tanınan biriyse basında çıkmış fotoğrafları ya da instagram hesabını takiple malzeme toplanır.',\n",
              " \"ab dönem başkanı portekiz'in dışişleri bakanlığı avrupa devlet sekreteri büyükelçi ana paula zacarias ile gerçekleştirdiğimiz istişarede, 🇹🇷-🇵🇹 ve 🇹🇷-🇪🇺 ilişkilerini bölgesel sınamaları &amp; işbirliği olanaklarını kapsamlıca ele aldık. @tc_disisleri @abbaskanligi @embturkeylisboa  https://t.co/rwga8vxy7i\",\n",
              " \"bu ay @kriterdergi'ye pandemi döneminde @turkishairlines'ın✈️ performansını, türkiye'nin 🇹🇷yumuşak gücü kapsamında etkisini, yaban kazlarından yola çıkarak kaleme aldım. keyifli okumalar dilerim.  👇 👇👇\",\n",
              " 'kendini “tarafsız” olarak konumlandıran habertürk, boğaziçi üniversitesi hukuk fakültesi dekanını uzman olarak ekrana çıkarmış.  https://t.co/5nu53sodjk',\n",
              " 'hiç güleceğim yoktu sayın bahçeli. erdoğan’a birkaç yıl öncesine kadar nasıl hakaretler yağdırdığınız arşivlerde duruyor',\n",
              " 'aynı gün içinde parti kapatma ve insan haklarından bahsedebilen yamalı bohça milliyetçi muhafazakar hegemonyadan demokratik güçlerin birlikteliği ile kurtulacağız',\n",
              " \"skandal harita/yeni oyuna dikkat!  -bozca ve gökçeada'da sözde demografik suçlamayla lozan'a aykırı davranıldığını gündeme getirme peşindeler -böylece yunanistan, adalarda lozan'a aykırı silahlanma/gasp ettikleri adaları perdeleme niyetinde -abd/israil'de bu yeni oyunun içindeler  https://t.co/ritfuhzezg\",\n",
              " 'hiç lafı uzatmaya gerek yok: ülkenin, insan hakları, hukukun üstünlüğü, düşünce özgürlüğü, kısacası tam demokrasi açısından yeni bir sayfa açabilmesi, enerjisi tükenen, vizyonu iflas eden mevcut iktidarın bir an önce, erken bir seçimle görevi terketmesiyle mümkün olabilir.',\n",
              " '1 milyon 200 binden fazla kişinin boynuna terör şüphelisi yaftası takmış bir iktidarın insan haklarından bahsettiği bir distopyada yaşıyoruz',\n",
              " '@idriskardas her kabine toplantısında kafe kapısında hazır bekliyorduk hocam, nasip bugüneymiş :)',\n",
              " \"@ahmettuncsen @ilker_ayturk @mvolkankasikci @abdurrahimozer_ @kendaljano ben presentism derdim. sanıyorum aradaki nüans geçmişi bugünün bias'larıyla ya da değerleriyle açıklamaya çalışmak. bugünün kimlik siyaseti algısıyla geçmişin kimlik siyasetini açıklamak presentisme giriyor bu açıdan. quentin skinner böyle açıklıyordu anımsadığım kadarıyla.\",\n",
              " 'bugünün benim açımdan en güzel haberi @ozturk1642 hocamdan geldi. bu dönem vereceği dış politika analizi dersine hem kitap bölümümüzü, hem de online dersimi eklemiş. şeref duydum ve yeni eserler vermek için de çok motive oldum. hocama nezaketi için çok teşekkür ederim🙏🙏🥰🥰  https://t.co/skml9vdtsm',\n",
              " '@ozturk1642 estağfurullah hocam 🙏🙏',\n",
              " '@anatolia09 önce kahveye gittik, 10 yaş altına okey masası kurmuyorlarmış :)',\n",
              " \"mısır-sudan arasında trafik hareketli! mısır genelkurmay başkanı, askeri işbirliği anlaşması imzalamak üzere sudan'da.  sudan dışişleri bakanı kahire'de. sisi de gelecek hafta sudan'ı ziyaret edecek.\",\n",
              " 'insan hakları ve düşünce özgürlüğündeki aşınmanın asıl mimarı olan, bütün ülkede derin bir khk travması yaşatan, siyasi hırslarla üniversite kapatan, idare anlayışı kayyum atama yönteminden ibaret olan bir zihniyetin insan hakları eylem planına inanmamızı mı bekliyorsunuz?',\n",
              " '@karamangelecek ile esnaf ve sanatkarlar odası başkanı bayram uysal ve yönetim kurulu üyelerini  ziyaret ettik.  esnafın dertlerini birinci ağızdan dinledik.  https://t.co/0id78ulflr',\n",
              " \"@mbilalkenasari tabii şimdi, taffareller, popescular, drogbalar, sneijderler oynatan gs'yi tek bir oyuncuya bağlamak zor ama yine de hagi geçer alex'i :)\",\n",
              " '@richoutzen @abdullahawez we say “tavşana kaç tazıya tut” in turkish. basically: says escape to the rabbit and fetch to the the hound',\n",
              " '🇺🇸 temsilciler meclisi’nde 170 mebus,🇹🇷’ye baski yapmasi konusunda #biden’a bir mektup yazdi.  meclis’te 435 üye oldugu gözönüne alinirsa çogu mebusun derdinin 🇹🇷olmadigi anlasiliyor.  biden yönetiminin de 🇹🇷’yle ugrasmanin 🇺🇸’ya zarar verdigini anlamaya basladigini düsünüyorum.',\n",
              " 'ünlü çocuk kitaplari yazari dr.#seuss’un kitaplari irkçi ifadeler içerdigi gerekçesiyle amerika’da 🇺🇸 yasaklaniyor.   yasagin obama döneminde degil de #washingtondc 6ocak darbe girisiminden sonra gelmesi  türkiye 🇹🇷‘deki #12eylül yasaklarini hatirlatmiyor degil!  https://t.co/nywgauuizx',\n",
              " '@candanbadem çok mersi, mutlaka bakarım',\n",
              " '@sakaryasavasi konmuş piyade &amp; top,  iskavut, karyer, motörlü kol, piyade &amp; süvari ucu... bir ders notundan tarihî bir belgeye... çok hoş😎',\n",
              " \"abd ve ab'nin rusya'yı hedef alan navalnıy yaptırımlarını aynı gün içinde açıklaması not  edilmeli. arka planda bir koordinasyonun olduğunu gösteriyor.  biden yönetiminin atlantik'in iki yakası arasında eşgüdüm sağlama politikasının işaret fişeği kabul edilebilir.\",\n",
              " \"sorar. sormak zorunda. cünkü demokratik kriterlere ve hukukun üstünlügü ilkesine uymayan türkiye, ab icin de bir tehdit. bu konular türkiye'nin sadece ic politika konusu degil, dis politikayi da etkiliyor.\",\n",
              " 'mısır-sudan askeri işbirliği anlaşması imzalandı.  https://t.co/xevihdhs7o',\n",
              " 'hiç lafı uzatmaya gerek yok: ülkenin, insan hakları, hukukun üstünlüğü, düşünce özgürlüğü, kısacası tam demokrasi açısından yeni bir sayfa açabilmesi, enerjisi tükenen, vizyonu iflas eden mevcut iktidarın bir an önce, erken bir seçimle görevi terketmesiyle mümkün olabilir.',\n",
              " \"sorar. sormak zorunda. cünkü demokratik kriterlere ve hukukun üstünlügü ilkesine uymayan türkiye, ab icin de bir tehdit. bu konular türkiye'nin sadece ic politika konusu degil, dis politikayi da etkiliyor.\",\n",
              " '@sbarisgulmez normali bu hocam heralde. tek tesellim ziyaretçi sayılarına bakınca tüm öğrencilerimin en azından videoya tıklayıp bir göz atması :)',\n",
              " 'çok dikkatli olmamız gereken bir döneme girdik. bir yanda ekonomik kriz ve salgın, diger yanda iktidarın çaresizlik icindeki debelenmeleri ve \"aa... cambaza bak\" numaraları arasında; kıbrıs üzerine tezgâhlar yoğunlaşıyor. algı operasyonlarına dikkat.',\n",
              " 'erdoğan’ın açıkladığı #koronavirüs tedbirleri ve ‘normalleşme’yi kimse anlayamadı  bu hesap&gt;&gt; @ufubo erdoğan’ın açıklamalarını bir tablo hazırlayıp yayınladı.   binlerce kişi çalıştıran aa bu tabloyu kullandı,medya da aa’dan aldı.emek hırsızları!   pergolacı fahrettin ne yapıyor?  https://t.co/2his7zn1dn',\n",
              " '@abdulha57348127 @m1_mine burası neresı?',\n",
              " 'insan hakları ve düşünce özgürlüğündeki aşınmanın asıl mimarı olan, bütün ülkede derin bir khk travması yaşatan, siyasi hırslarla üniversite kapatan, idare anlayışı kayyum atama yönteminden ibaret olan bir zihniyetin insan hakları eylem planına inanmamızı mı bekliyorsunuz?',\n",
              " 'yorumlu  #2dakikalıkhayatbilgisidersi #serefoguz #hayatııskalamamak #farkındalık #hayatbilgisi #yaşam #kısasöz #gününsözü #kamuspotu #serefoguz_kamuspotu #rüzgar #yelken #direnen #yelkenini_kendi_rüzgarınla_doldur #duvar @serefoguz  https://t.co/k88qdcjdju',\n",
              " 'hakan fidan istihbaratta yeni metotlar var dedi   https://t.co/9bfnv6dsoa',\n",
              " 'terörle mücadele  soruyorum müttefike, muhalife, terörle mücadeleyi siz ne @politik_merkez  https://t.co/pbxotarhgm #güvenlik  https://t.co/ybkqwdyawe',\n",
              " \"🇨🇳📱🇺🇸  xi, batı'ya bağımlılığı azaltmak adına teknoloji devrimi için çin'i harekete geçirdi  “abd'li politikacılar için, çin’in hassas ileri teknolojilerde hakimiyet potansiyeli, önümüzdeki yılların en büyük jeopolitik tehditlerinden birini oluşturmakta.”  https://t.co/qv5xfermod\",\n",
              " \"“çin devlet başkanı xi jinping de benzer şekilde abd'nin çin'in yükselişini engellemesinden endişe duyuyor ve bu kapsamda bu hafta daha fazla kendi kendine yeterliliğe ilişkin planlarını açıklayacak.”\",\n",
              " \"“çin yasama meclisinin yıllık oturumunda üst düzey komünist parti liderleri, batı'ya bilgisayar çipleri gibi önemli bileşenler kapsamında bağımlılığı azaltmak için beş yıllık bir politika planını onaylayacaklar.”\",\n",
              " \"“bu çerçevede yapılması planlanan trilyonlarca dolarlık yatırımlar, çin'in önümüzdeki on yılda dünyanın en büyük ekonomisi olarak abd'yi geçmesine yardımcı olabilir ve xi’nin çin’i bir süper güce dönüştürme hedefini destekleyebilir.”\",\n",
              " \"“türkiye'nin çin askeri teknolojisini benimsemesi, abd ile yeni sürtüşmelere neden olabilir. zira washington, ankara'nın batı askeri ittifakından uzaklaşmasını görmek istemiyor.”\",\n",
              " '“benim görüşüme göre, ekonomik ve ekolojik karşılıklı bağımlılık bırakın sıcak nir savaşı, gerçek bir soğuk savaş olasılığını dahi azaltmaktadır. zira her iki ülkenin de değişik alanlarda işbirliği yapma konusunda motivasyonu mevcuttur.”',\n",
              " '“abd liderleri yapıcı bir ilişkiye izin verecek şekilde küresel düzeydeki bu değişimi  kabul mü edecekler yoksa korkularına yenik mi düşecekler? çinli liderler daha fazla risk alacaklar mı, yoksa çin ve abd değişen bir güç dağılımı altında işbirliği yapmayı öğrenecek mi?”',\n",
              " '@sabriyepeksen bunu görebilenler kazandı. :-)  teşekkürler.',\n",
              " \"the dünya üniversite sıralamasını 200'e kadar sıralı, sonrasını gruplar halinde veriyor. mantığını anlıyorum (üniversitedeki notlarla aynı).  ama hem merak ettim hem de excel egzersizi olsun istedim ve 6 yıldır ilk 1000'e girebilen üniversitelerimizin 2021 sıralamalarını çıkardım\",\n",
              " '@alioilhan o yuzden \"emerging market universiteleri siralamasi,\" ve \"yeni kurulan universiteler siralamasi\" cikardilar ya...',\n",
              " 'şov devam ediyor:   suudi arabistan ile ilişkilerini yeniden kalibre edeceğini açıklayan abd dışişleri “kaşıkçı yasağı” olarak bilinen muhalifleri tehdit edenlerin abd’ye giriş yasağı getirme programı kapsamına alınan 76 suudi arabistan vatandaşının ismini açıklamayacak :d',\n",
              " '#sondakika biden yönetimi istihbaratın aleksey navalmıy’ın zehirlenmesinde rusya federal güvenlik servisinin doğrudan rol aldığını tespit ettiğini ve bu bağlamda 7 rus yetkiliye 13 rus şirkete ve 1 rus kuruluşa yaptırım uygulayacağını açıkladı',\n",
              " '#yeni  boeing, avusturalya hava kuvvetleri ile geliştirdikleri \"loyal wingman\" (sadık kanat elemanı) adlı insansız savaş uçağının ilk uçuşunu avusturalya\\'da tamamladığını açıkladı.  https://t.co/enijlbtxzd',\n",
              " 'en az navalny kadar meşru bir siyasî lider olan selâhattin demirtaş kasım 2016’dan bu yana tamamen uydurma gerekçelerle hapiste tutulmasına rağmen ab’de ankara’ya yaptırım uygulamanın bahsi dahî geçmedi.',\n",
              " \"bu farsın rejisinde büyük olasılıkla almanya ve ab'nin dışilişkiler müdürlüğü var. amaç 25-26 marttaki olağan ab zirvesine bu müdürlük tarafından sunulacak tr raporunu allayıp pullamak, zaten cılız yaptırım olasılığını engellemek, kalkacak hdp dokunulmazlıklarını da perdelemektir\",\n",
              " 'mahmud ahmedinejad:  şahsıma yönelik suikast tehditleri ciddidir. onlar kendileri öldürüyor, kendileri de cenaze töreni düzenliyor ve başkalarını suçluyorlar.    https://t.co/jpdomrdlkr',\n",
              " '3) kitap önce moskova’dan bakü’ye geliyor ve oradan iran’a geçiyor. iran’da istihbaratın eline geçmesine diye toprağa gömülüyor. daha sonra topraktan çıkartılarak bakü ve oradan da almanya’ya götürülüyor. almanya’dan yeniden sahibine kavuşarak ankara’ya geliyor ve hasret bitiyor.',\n",
              " '@hilmidemir60 marksist literatürden etkilendiği açık. kızıl şiilik temasını daha sonrada devam ettirdi. ali şiası ve safevi şiası gibi kızıl şiilik ile siyah şiiliği karşıtlığı konseptini de geliştirdi. kızıl şiilikle siyah siilik karşıtlığı isyan ve boyun eğme karşıtlılığıdır aslında.',\n",
              " \"tsk'ya ve ordunun balyoz madalyalı onurlu askerlerine saldırılar yeni değil de sırf eleştirecem diye lafın nereye gideceğini hesaplamadan konuşmak ilginç. bir asker olan atatürk devleti kurdu ve yönetti. inönü askerlik görevinin ardından lozan zaferinde diplomatik heyetin başıydı\",\n",
              " 'güzel hakkâri’yi ziyaret etmek büyük bir onurdu. yerel meseleler hakkında bir dizi çok değerli görüşmede bulundum ve beni ağırladıkları için herkese teşekkür ederim. kilimler ve bal muhteşemdi! @hatso30 @akpartihakkari_ @hdphakkari_  https://t.co/e19ps0uoah',\n",
              " '📌#agit #ukrayna özel gözlem misyonu türk heyeti’yle video konferans görüşmesi gerçekleştirdik.  📌başarılı çalışmalarıyla hem tansiyonun düşürülmesine katkı sağlıyor, hem istikrarın tesisine zemin hazırlıyorlar. 📌misyonu desteklemeye devam edeceğiz.  https://t.co/vr0zw8gykv',\n",
              " 'biri emek verip hazırlamış, medya hazıra konmuş.',\n",
              " \"📌dost #zambiya’nın dışişleri bakanı joseph malanji'yle verimli bir görüşme gerçekleştirdik. 📌ekonomi, eğitim ve bakanlıklarımız arasındaki ilişkiler dahil işbirliğimizi her alanda daha da geliştireceğiz. 🇹🇷🇿🇲  https://t.co/0n51yba0x4\",\n",
              " 'sistem tartışması alevlendi  hukukçulara göre cumhurbaşkanlığı hükümet sistemi’nde insan hakları güvencede olamaz   “çünkü erdoğan’ın yetkileri denetlenmiyor” @ibrahimkaboglu @durakoglu2016 @metingnday \\u2066@avdoganerkan\\u2069   https://t.co/zqcqyripaa',\n",
              " \"çocuk haklarını da koruyoruz, koruyacağız değil mi? bu ne, bu ?   ankara'da kurtarılan çocuk derin internette satışa çıkarılmış \\u2066@hale_gonultas\\u2069   https://t.co/hjehkq8xld\",\n",
              " 'niye “yeni başlangıç” yapamıyoruz biz? biz; ikimiz : türkiye -amerika   s-400’ler ilişkileri kilitledi amerika “elinden çıkar” diyor. ankara; rusya’yla arasına mesafe  koyamıyor.   biden erdoğan’ı niye aramıyor?  \\u2066@ilhanuzgel\\u2069 \\u2066@ofaruklogoglu\\u2069   https://t.co/trubrhkq6e',\n",
              " 'bugün bir efsane olarak anılan ve hâlâ görevde olan  f-16 savaş uçağı da ilk yıllarında yerin dibine sokuldu tasarımı ve görev tanımı değiştirildi. f-35 de yıllar içinde neslinin en iyi uçağı olarak anılabilir. tabiki bunu zaman gösterecek.',\n",
              " '“çin’deki akademik çevreler, uli teorisine büyük bir ilgi gösteriyorlar. buna ilave olarak çin, uzun entelektüel geleneğin mevcut olduğu bir ülke ve tarihte önemli bir uluslararası oyuncu olmuştur.”',\n",
              " '\"yıldızları tarif eden değil, yıldızlara erişmeyi sağlayacak bir plan ve yol haritası\" - çamurun dibinden bakınca görülenler yıldız değil, en iyi durumda çamurun yüzeyinde oluşan hava kabarıcıklarıdır. kısa bir süre parlar, patlarlar.',\n",
              " 'bugün olan tek şey: insan onuru, hak ve özgürlüklerini ellerinde şov aracına çevirdiler. attıkları ve atacakları zalim adımlara perde oluşturuyorlar. kirletmedikleri kavram, çamura gömmedikleri ilke kalmadı.',\n",
              " 'biz israil ile hiçbir ulusal çıkarımıza hizmet etmeyen kavgayı sürdürürken israil’in gönderdiği plastik cerrahlar azerbaycan’da işe koyulmuşlar bile. savaşta yüzü deforme olan ve bir gözünü kaybeden kardeş azerbaycan askeri nuralı abdullayev’e başarılı tedaviler uygulamışlar',\n",
              " \"erdoğan hükümetinin senato'daki en büyük 'düşmanı' haline getirilen menendez, bu yıl dışilişkiler komitesi başkanı oldu. 50-50'lik senato'da, biden yönetiminde etkili bir rol alacak: - the road to joe biden's foreign policy runs through bob menendez  https://t.co/373xhkn1kv\",\n",
              " \"erdoğan birçoğu zaten anayasa'da bulunan temel hak ve özgürlükler konusunda bazı çağrılar yaptıktan sadece saatler sonra:   https://t.co/45uwtlozny\",\n",
              " \"..miş gibi bir insan hakları aksiyon planı.  bir taraftan erdoğan değişen şartlar altında bir reform yapması gerektiğini biliyor. diğer taraftan hakikatli bir reformun kendisini götüreceğini biliyor. arada miş ve mış-lı bir 'aksiyon planı' çıkıyor\",\n",
              " 'mahmud ahmedinejad:  şahsıma yönelik suikast tehditleri ciddidir. onlar kendileri öldürüyor, kendileri de cenaze töreni düzenliyor ve başkalarını suçluyorlar.    https://t.co/jpdomrdlkr',\n",
              " '3) kitap önce moskova’dan bakü’ye geliyor ve oradan iran’a geçiyor. iran’da istihbaratın eline geçmesine diye toprağa gömülüyor. daha sonra topraktan çıkartılarak bakü ve oradan da almanya’ya götürülüyor. almanya’dan yeniden sahibine kavuşarak ankara’ya geliyor ve hasret bitiyor.',\n",
              " '@hilmidemir60 marksist literatürden etkilendiği açık. kızıl şiilik temasını daha sonrada devam ettirdi. ali şiası ve safevi şiası gibi kızıl şiilik ile siyah şiiliği karşıtlığı konseptini de geliştirdi. kızıl şiilikle siyah siilik karşıtlığı isyan ve boyun eğme karşıtlılığıdır aslında.',\n",
              " 'biz israil ile hiçbir ulusal çıkarımıza hizmet etmeyen kavgayı sürdürürken israil’in gönderdiği plastik cerrahlar azerbaycan’da işe koyulmuşlar bile. savaşta yüzü deforme olan ve bir gözünü kaybeden kardeş azerbaycan askeri nuralı abdullayev’e başarılı tedaviler uygulamışlar',\n",
              " 'suriye, mısır, israil, suudi arabistan, bae, körfez ülkeleri ve fransa ile kavga oyun değiştiren stratejinin değişmeyen sabit oyuncuları mı olacak her zaman?',\n",
              " '@lalezarisitman dış politikayı çıkarlar belirler. israil çıkarına uygun olduğu için savaş öncesi yıllarda, savaş sırasında ve halen azerbaycan’la ilişkilerini iyi yürütüyor. bu haber de o iyi ilişkilerin bir örneği. ben bizim de çıkar temelli olarak israil politikamızın ele alınmasından yanayım',\n",
              " 'cumhurbaşkanımız sayın @rterdogan: tek bir kadının dahi şiddet mağduru olmadığı güne kavuşana kadar kurumlarımızın, sivil toplumun, medyanın ve toplumun tüm kesimlerinin iş birliğiyle, bu mücadeleyi sürdüreceğiz.   #güçlüiradegüçlüdemokrasi',\n",
              " 'cumhurbaşkanımız sayın @rterdogan: eylem planımızın nihai amacı, yeni ve sivil bir anayasadır. biz geleceğe emin adımlarla yürümemizi temin edecek, milli iradeyi tam anlamıyla yansıtacak yeni ve sivil bir anayasa ihtiyacımızı her fırsatta dile getirdik. #güçlüiradegüçlüdemokrasi',\n",
              " \"şırnak'ta pkk’lı teröristlerle çıkan çatışmada şehit düşen kahraman askerimiz piyade uzman onbaşı furkan umut’a cenab-ı hakk’tan rahmet, kederli ailesine ve yakınlarına sabır diliyorum. aziz milletimizin başı sağ olsun.\",\n",
              " 'gençler, akademisyen ve araştırmacılar! bu hesabı ve siteyi takibe almak lazım. burs, konferans vb destek duyuruları yararlı.',\n",
              " '\"davaların bir sebebi vardır\" diyenlere: yok, ben 12 eylül\\'den beri tüm askeri darbelere, milliyetçiliğin her şekline ve gülencilik ve akp dahil dahil siyasal islamcılığın her türüne karşıyım. yani suçlamaların, davaların, cezaların hiç bir temeli yok. hedef sadece susturmak.',\n",
              " 'suriye, mısır, israil, suudi arabistan, bae, körfez ülkeleri ve fransa ile kavga oyun değiştiren stratejinin değişmeyen sabit oyuncuları mı olacak her zaman?',\n",
              " '@selcukkosovali ezberlerinizi bozmadan önyargılarımızdan kurtulamazsınız. bence geçmişe saplanıp kalmayın. yoksa gelecek kuramazsınız.',\n",
              " '@lalezarisitman dış politikayı çıkarlar belirler. israil çıkarına uygun olduğu için savaş öncesi yıllarda, savaş sırasında ve halen azerbaycan’la ilişkilerini iyi yürütüyor. bu haber de o iyi ilişkilerin bir örneği. ben bizim de çıkar temelli olarak israil politikamızın ele alınmasından yanayım',\n",
              " 'türkiye işçi sınıfının ızdırabı çekilmez oldu: grev özgürlüğü ve işçi haklarına sadık sendikalar olsa herhalde genel grev olurdu. 12 eylül darbesi, akp rejimi - hepsi bu sefaleti yaratmak için var.',\n",
              " 'herkes insan hakları eylem planı bekliyor: gerçekte kul hakları eylem planı ilan edilecek. insan hak ve özgürlükleri ile akp rejimi barışamaz. bu derhal istifası demektir.',\n",
              " '\"eller kalkar-eller iner\" milletvekilleri istiyorlar: görevini hakkıyla yerine getiren, insan hak ve özgürlüklerini gündemde tutan milletvekilleri istemiyorlar.',\n",
              " 'haftalarca insan hakları eylem planı ve hukuk reformu diye propaganda yap, anaysada zaten mevcut ilkeleri alt alta yaz: anayasaya neden uymuyorsunuz?',\n",
              " 'dağ yine fare doğurdu. insan hak ve özgürlükleri beyannamelerinde, türkiye anayasasında olan tüm ilkeleri yeniden saydılar. mesela almanya \"ırk\" kavramını anayasadan kaldırmayı tartışıyor. bunlar tekrar ediyor. dünyaya çok uzaklar. #insanhaklarıeylemplanı',\n",
              " 'akp ile insan hak ve özgürlüklerinde, anayasanın, devletin ve toplumun demokratikleşmesinde tek bir adım atılamaz. insan hak ve özgürlükleri garabet türk tipi başkanlık rejimiyle barışmaz. o mevcut anayasayı bile tanımıyor.',\n",
              " 'bir taraftan 6 milyon seçmenin, aileleriyle birlikte 20 milyona yakın insanın seçilmiş iradesi hdp\\'ye baskıları örgütle, chp\\'yi \"terör destekçisi\" ilan et, cezaevlerini doldur, diğer taraftan \"siyasi partiler ve seçim kanunda değişiklik\" de: o değişiklikten de zulm doğar.',\n",
              " 'insan hakları eylem planı mı? hemen siyasi tutukluları serbest bırakacak, yargıya müdahaleyi yargılayacak, hakaret dahil tüm siyasi davaları iptal edecek, muhalefete saygı duyacak, medyayı serbest bırakacak, üniversiteden el çekeceksiniz. bunun için plana gerek yok. istifa yeter.',\n",
              " 'sadece eleştiri yaptığım, düşüncelerimi açıkladığım için:  - 2 adet cb\\'ye hakaret davası, birinde 1 yıl 4 ay hapis cezası  - 1 adet \"terör propagandası\" davası, uydurup \"hem pkk hem de fetö propagandası\" yapmışlar  herkes zehirle örülen akp çoraplarını yazmalı.',\n",
              " 'vtol (dik iniş kalkış) kabiliyeti olan jet motorlu ve gelişmiş yapay zekaya sahip ayrıca hava - hava muharebesi yapabilen bir insansız savaş uçağı istiyorum. çok mu şey istiyorum?',\n",
              " \"albatros'un otonom uçuş kabiliyeti ve yerli tasarım itki sistemi gibi özellikleri mevcut. doğu ve güneydoğu anadolu bölgelerimizde sarp arazideki askeri birliklere albatros ile otonom kargo teslimatı yapılabilir.\",\n",
              " 'iktidarını hukuk, demokrasi ve insan hakları ihlalleri üzerinden tesis ve idame ettiren bu mafyatik koalisyonun, hukuk, demokrasi ve insan hakları konularında herhangi bir düzelmenin aktörü olması eşyanın tabiatına aykırıdır. olmayacak duaya amin denmez.',\n",
              " \"abd'deki yedi yıllık görevim boyunca birlikte çalışma ayrıcalığını yaşadığım ve bu süreçte görev bölgelerindeki vatandaşlarımıza cansiperane hizmet verme çabalarına gururla şahit olduğum abd’deki tüm başkonsoloslarımıza ve başkonsolosluk çalışanlarımıza şükranlarımı sunuyorum.\",\n",
              " \"almanya, danimarka, finlandiya ve estonya başbakanları ab komisyonu başkanı v.leyen'e ab'nin dijital tek pazar yaratarak dijital egemenliğini kazanmasına ilişkin yol planlarını açık 1 mektupla ilettiler. yanıbaşımızda hem yeşil hem de dijital yeni bir birlik ve tek pazar oluşuyor  https://t.co/ymxf63lqqg\",\n",
              " 'cumhurbaşkanımız sayın @rterdogan: tek bir kadının dahi şiddet mağduru olmadığı güne kavuşana kadar kurumlarımızın, sivil toplumun, medyanın ve toplumun tüm kesimlerinin iş birliğiyle, bu mücadeleyi sürdüreceğiz.   #güçlüiradegüçlüdemokrasi',\n",
              " 'cumhurbaşkanımız sayın @rterdogan: eylem planımızın nihai amacı, yeni ve sivil bir anayasadır. biz geleceğe emin adımlarla yürümemizi temin edecek, milli iradeyi tam anlamıyla yansıtacak yeni ve sivil bir anayasa ihtiyacımızı her fırsatta dile getirdik. #güçlüiradegüçlüdemokrasi',\n",
              " \"şırnak'ta pkk’lı teröristlerle çıkan çatışmada şehit düşen kahraman askerimiz piyade uzman onbaşı furkan umut’a cenab-ı hakk’tan rahmet, kederli ailesine ve yakınlarına sabır diliyorum. aziz milletimizin başı sağ olsun.\",\n",
              " \"skandal harita/yeni oyuna dikkat!  -bozca ve gökçeada'da sözde demografik suçlamayla lozan'a aykırı davranıldığını gündeme getirme peşindeler -böylece yunanistan, adalarda lozan'a aykırı silahlanma/gasp ettikleri adaları perdeleme niyetinde -abd/israil'de bu yeni oyunun içindeler  https://t.co/ritfuhzezg\",\n",
              " \"abd'nin sincar'a yönelik şeytani planını sözcü'ye anlattım.. dikkat çekici nokta!  👇  abd’nin planı, sincar’ı türkiye’den korumak – sözcü gazetesi  https://t.co/kjxpwolkmh\",\n",
              " 'biz de siyaset bilimi alanı olarak tüm bu tablodan sabah akşam anlam çıkarmaya çalışıyoruz. coğrafya kaderdir.',\n",
              " '“bi zahmet artık rusya’ya tavır alır mısın. s400’leri bana sorun etmekten çıkarır mısın. unutma kremlin sana böyle bir kayıp yaşatmıştı” demiş mealen.  diplomatik dilden, günlük dile çevirirsek; abd bu açıklaması ile bunu demek istiyor.',\n",
              " '@upzekeriya @abdurrahimozer_ @ahmettuncsen @mvolkankasikci @kendaljano bir de \"counterfactual\"a karşılık bulsak, keyfime diyecek olmaz. şimdilik \"karşı-olgusal\"ı kullanıyorum, ama önerilere açığım.',\n",
              " '@upzekeriya @abdurrahimozer_ @ahmettuncsen @mvolkankasikci @kendaljano mis gibi türkçesi de var: zamanbozumu!',\n",
              " '2007 yılından bu yana @tika_turkey ve @anadoluajansi işbirliğinde yürütülen medya eğitim programına 2020 yılında #sırbistan’dan katılan basın mensuplarına sertifikalarını takdim ettik. 🇹🇷🇷🇸  @tc_disisleri  https://t.co/sfqnxlnvvn',\n",
              " \"son gelişmeler bae-iran ilişkilerini olumlu etkiler.zira bae,en gergin dönemde bile abd'nin yaptırım tehditleri ve suud'un sert tutumuna rağmen iran'la ilişkisini çeşitli düzeylerde sürdürdü.katar'ın adı çıktı ama iran ile körfez'de asıl flört eden bae'ydi  https://t.co/x28boa5cjb\",\n",
              " \"abd'de yaşayan değerli vatandaşlarımız, yaklaşık yedi yıl süren görevim bugün sona eriyor.tüm bu süre boyunca elimizden geldiğince sizlere yardımcı olmaya ve sizleri layıkıyla temsil etmeye gayret ettik.umarım başarılı olmuşuzdur.hakkınızı helal edin.hepiniz allah'a emanet olun.  https://t.co/xjcqlsyp4j\",\n",
              " '@zceydaak @muhtesemank 27 nisan 2007 darbe teşebbüsü idi.. o sebeple hükumlet değişmedi.. buw sebeple 1971 memduh tağmaç tdarbesini unutmak iyi olmamış, bence.  (zeynep hanım: 1909 hariç ben de bütün darbeleri ve muhtıraları yaşayarak öğrendim...',\n",
              " 'görev sürem boyunca gerçekleştirdikleri çalışmalarla, türk kültürünün ve değerler bütününün abd’de yaşatılmasına ve tanıtılmasına eşsiz katkılar sunan diyanet amerika merkezi ile yunus emre enstitüsü’ne ve tüm çalışanlarına teşekkürü borç biliyor,başarılarının devamını diliyorum.',\n",
              " 'yaklaşık yedi yıllık görevimin sona ereceği bu son gün,başta sayın cumhurbaşkanımız,sayın bakanımız, cumhurbaşkanlığı kabinesindeki sayın bakanlarımız, dışişleri bakanlığı teşkilatımız ve tüm kurumlarımıza görevim süresince verdikleri güçlü destek için şükranlarımı sunuyorum',\n",
              " \"libya'da taraflar parlamentonun nerede toplanacağını  tartışa dursun, hafter'e bağlı savaş suçlusu mahmut  el- werfalli'nin adamları ülkeyi haraca bağlamışlar. görüntüye göre haraç vermeyi reddeden bir iş yerini  darma duman etmişler.\",\n",
              " \"bm libya misyonu akila salih'in diibeybe kabinesinin onaylanacağı meclis toplantısının rüşvet raporundan sonraya ertelenmesi açıklamasına karşılık oturumun planlandığı gibi gerçekleşmesi gerektiği çağrısında bulundu.  https://t.co/rurqkwjpxs\",\n",
              " \"rusya kontrolündeki tmh şirketi norveç'in istihbarat gemileri dahil donanma gemileri için üretim yapan rolls royce'a ait bergen engines’i satın aldı.  https://t.co/y0subbq4ct\",\n",
              " 'haberleri not ediyor ve kurumlara sorup sahada soruşturuyorum. haber/iddia ile ilgili hiçbir gelişme olmuyor. çünkü öyle bir şey yok. zilyon dolar harcayan ve destek alan medyamız bu konuları sürekli işliyor. çünkü gerçekle uğraşmak zor.  https://t.co/ampkagyn1w',\n",
              " 'arap basını ve türk basının da olduğu gibi batı / abd basınında da dolusu ile sahte haber / iddia var. uzman etiketine güvenerek pentagon konusunda üçtür iddialar ortaya atan bir uzmanı üçtür yalanlıyor pentagon. türk medyası ise bu iddiaları sorma zahmetine bile girmiyor.',\n",
              " 'bb kazimi türkiye’nin operasyonlarına \"hangi yönden gelirse gelsin egemenliğimizi ve çıkarlarımızı etkileyen her adımdan endişeliyiz.ancak türkiye ile ilişkilerimizin gelişmesini engelleyen hertürlü sorunu çözmek için işbirliği, endişemizi giderir\" diyor.  https://t.co/fapes9stax',\n",
              " \"@upzekeriya @abdurrahimozer_ @ahmettuncsen @mvolkankasikci @kendaljano presentism'i anlayamadım, bana anakronizm yeter :)\",\n",
              " \"abd'nin suriye'de iran destekli terör örgütlerine karşı gerçekleştirdiği saldırıda sohr'un iddiası - yine - yalanlandı. abd pentagon basın sekreteri kirby 1 militanın öldüğünü 2 militanın yaralandığını söyledi. sohr 22 iran destekli militanın öldüğünü iddia etmişti.\",\n",
              " '\"biz böyle geniş geniş beklerken, virüs sonrası ekonomik toparlanma döneminin iki ana ekseni olacak gibi duruyor. biri dijital dönüşüm ise ikincisi de yeşil mutabakat. her durumda, gelecek bugüne pek benzemeyecek gibi duruyor.\" @guvsak    https://t.co/nhtvjooai2',\n",
              " 'mit bşk fidan “teşkilat olarak, oyun değiştiren stratejiler üretme, istihbarat alanında yeni metotlar geliştirme, kendi tekniğini dünyadaki değişimler ışığında yenileriyle harmanlama, değişime en hızlı ve esnek şekilde uyum sağlama gayreti içerisindeyiz” dedi. #istihbarat',\n",
              " \"şirket finansmanı:abd vs almanya. abd'de şirketler finansman kaynağı olarak banka kredisi ile şirket tahvilini %50-%50 kullanırken almanya'da şirket finansmanında banka kredilerinin payı %90. korona krizi gibi durumlarda kredi geri ödemelerde zorluk bankacılık sektörünü etkiliyor  https://t.co/ba1qt7pdei\",\n",
              " 'sağcı /solcu, seküler/muhafazakar farklı siyasi renklere mensup olup da bu kırmızı çizgilerde buluşma iradesi eleştirilecek bir batı karşıtlığını değil, bu toprağın has evlatlarında hala ateşi yanmaya devam eden kuvayi milliye duygusunun hala dimdik ayakta olduğunun göstergesidir',\n",
              " '1) büyükelçi ufuk ekici: kazakistan genç bir cumhuriyet ama bu 30 yıllık bağımsızlığın arkasında derin bir tarih olduğunu biliyoruz. kazak devletçiliğinin göktürk devletine, sizin deyişinizle türk kağanlığına ve onun öncesine uzanan köklü tarihinin en iyi biz türkler farkındayız.',\n",
              " 'abd dışişleri sözcüsü @statedeptspox   •bir yıl önce 33 türk askeri idlib’deki masum sivilleri esad rejiminin, rus ve iranlı destekçilerinin gaddarlığından korurken hayatlarını kaybetti  •fedakarlıklarını hatırlarken ve onurlandırırken nato müttefikimiz türkiye ile birlikteyiz  https://t.co/ylo7fdooqm',\n",
              " '3) türkiye/türkler,kazakistan’ın/kardeş kazak halkının iyiliğini/huzurunu çıkar gözetmeden arzu eder.bizler,kazakistan’ın bağımsız olmadığı dönemlerde de bu coğrafyada kardeşlerimizin yaşadığını biliyorduk; geçmişte olduğu gibi yeniden bağımsızlıklarına kavuşmasını diliyorduk.',\n",
              " 'erdoğan’ın açıkladığı #koronavirüs tedbirleri ve ‘normalleşme’yi kimse anlayamadı  bu hesap&gt;&gt; @ufubo erdoğan’ın açıklamalarını bir tablo hazırlayıp yayınladı.   binlerce kişi çalıştıran aa bu tabloyu kullandı,medya da aa’dan aldı.emek hırsızları!   pergolacı fahrettin ne yapıyor?  https://t.co/2his7zn1dn',\n",
              " 'sabah türküsü  ağzımda bal gibi tatlı bir türkü bir iner bir çıkarım bu yokuşu ağzımda bal gibi tatlı bir türkü kazanırım çocuklarıma ekmek parası   söz: a. kadir beste: nadir göktürk solist: hakan yılmaz  sabah türküsü ezginin günlügü &amp; hakan yılmaz    https://t.co/kmb9keie8r',\n",
              " 'güvenlik meselelerini yalnızca askeri güç gibi maddi kapasitelere hapsetmeyip, kültürel boyutunu da öne çıkaran bu çalışma, antropolojik yöntemlerin savaş ortamında kullanımının etik sorunlarına eleştirel yaklaşan makaleleri içeriyor. bizde de bu tür çalışmalara ihtiyaç var.  https://t.co/fdddsmkz7a',\n",
              " '\"bir yıldan biraz daha uzun bir süre önce (27 şubat), idlib\\'deki masum suriyeli sivilleri esad rejiminin ve onun rus ve iranlı destekçilerinin zulmünden koruyan 33 türk askeri hayatını kaybetti. nato müttefikimiz türkiye ile birlikte bu askerleri hatırlıyor ve onurlandırıyoruz.\"',\n",
              " 'sistem tartışması alevlendi  hukukçulara göre cumhurbaşkanlığı hükümet sistemi’nde insan hakları güvencede olamaz   “çünkü erdoğan’ın yetkileri denetlenmiyor” @ibrahimkaboglu @durakoglu2016 @metingnday \\u2066@avdoganerkan\\u2069   https://t.co/zqcqyripaa',\n",
              " \"çocuk haklarını da koruyoruz, koruyacağız değil mi? bu ne, bu ?   ankara'da kurtarılan çocuk derin internette satışa çıkarılmış \\u2066@hale_gonultas\\u2069   https://t.co/hjehkq8xld\",\n",
              " 'niye “yeni başlangıç” yapamıyoruz biz? biz; ikimiz : türkiye -amerika   s-400’ler ilişkileri kilitledi amerika “elinden çıkar” diyor. ankara; rusya’yla arasına mesafe  koyamıyor.   biden erdoğan’ı niye aramıyor?  \\u2066@ilhanuzgel\\u2069 \\u2066@ofaruklogoglu\\u2069   https://t.co/trubrhkq6e',\n",
              " 'abd dışişleri sözcüsü @statedeptspox   •bir yıl önce 33 türk askeri idlib’deki masum sivilleri esad rejiminin, rus ve iranlı destekçilerinin gaddarlığından korurken hayatlarını kaybetti  •fedakarlıklarını hatırlarken ve onurlandırırken nato müttefikimiz türkiye ile birlikteyiz  https://t.co/ylo7fdooqm',\n",
              " 'abd temsilciler meclisinde imzalanan türkiye karşıtı yazıyı enes kanter “bir mektubumuz daha çıktı” diye müjdelerken..  mektupta imzası olan abd’li kongre üyesi de özel olarak enes’e teşekkür ediyor  https://t.co/9hoqezyfxe',\n",
              " 'abd dışişleri bakanı blinken, venezuela’da darbe girişimi sonrası başa getirilmek istenen guaido ile telefonda görüştü — reuters',\n",
              " \"insan hakları eylem planı ile daha demokratik bir türkiye ve yeni anayasanın temeli atıldı.  cumhuriyetin 100.yılına darbe anayasası ile girmek türkiye'ye yakışmaz... #güçlüiradegüçlüdemokrasi  https://t.co/g2fsvigny6\",\n",
              " 'abd temsilciler meclisinde imzalanan türkiye karşıtı yazıyı enes kanter “bir mektubumuz daha çıktı” diye müjdelerken..  mektupta imzası olan abd’li kongre üyesi de özel olarak enes’e teşekkür ediyor  https://t.co/9hoqezyfxe',\n",
              " \"türkiye'de batı karşıtlığı yoktur. varmış muamelesi yapanların perdelemeye çalıştığı yalın gerçek, abd v bazı avrupa devletlerinin pkk başta olmak üzere türkiye'nin ulusal güvenliğini tehdit eden açık/gizli saldırılarda bulunan terör örgütlerine verilen siyasi ve askeri destektir\",\n",
              " 'abd dışişleri bakanı blinken, venezuela’da darbe girişimi sonrası başa getirilmek istenen guaido ile telefonda görüştü — reuters',\n",
              " 'bugün, azerbaycan kültür bakanı sayın anar kerimov’la bir araya gelerek türkiye-azerbaycan arasında medya, iletişim ve kamu diplomasisi alanlarında gerçekleştireceğimiz işbirlikleri hakkında verimli bir istişare imkanı bulduk. sayın @anar_karim’e  ziyareti için teşekkür ederim.  https://t.co/pf4n7zszl9',\n",
              " \"şırnak'ta hain terör örgütü pkk ile çıkan çatışmada şehit olan kahraman mehmetçiğimiz furkan umut’a allah'tan rahmet; silah arkadaşlarına ve türk milletine baş sağlığı dilerim.  https://t.co/luygbczjt2\",\n",
              " 'insan hakları eylem planı ileri sürülen kapsamı itibariyle etkileyici.  ancak sormak gerek: \"18 yıllık iktidar bugüne kadar neredeydi\"nin ötesinde daha önemli olan, bu eylem planının zeminini, arka planı oluşturan zihniyet, anlayışın ne olduğudur.  orada değişen ne var? var mı?',\n",
              " 'insan hakları eyyam planı desek daha doğru olur',\n",
              " 'uygurların çektiği zulmü önemsiyorsanız bu makaleyi mutlaka okuyun dağıtın. ne kadar çok tıklanırsa medya kuruluşları da bu konularda o kadar çok yazı talep edecektir',\n",
              " '@ygtkucuk gülen grubu abd ve cia ile işbirliği yapsa emin ol ki rte ve akp önlerine yatardı. veya abd ve batı en azından osman kavala kadar olsun onlara da sahip çıkardı. kavala işbirliği yaptı diye söylemiyorum. gezi ve kavala’ya batının sempatisini belirtmek için söylüyorum',\n",
              " 'hep söylerim devletin aklı varsa gülen cemaatinden kendine düşman bir diaspora oluşturmaz. rte’de bahçeli de fidan da yarın ölür gider ama diaspora kalır. bu insanları ülkelerine düşman etmeyin. türkiye zarar görür bundan. 👇  https://t.co/tzdwlj4nr8',\n",
              " \"akm'den atatürk silinemez - kampanyaya imza ver!  https://t.co/rvg7fieyzu @changetr aracılığıyla\",\n",
              " '18inci parsel neden abartiliyor anlamiyorum.   doğu akdeniz’de yeni kriz: atina ile kahire’nin 18’inci parsel kavgası  https://t.co/kafi6mfd5i',\n",
              " 'yeni:  temsilciler meclisi üyesi tom malinowski, iki vekille birlikte, \"kaşıkçı cinayetinden mbs de sorumlu tutulsun ve mbs\\'ye de vize yasağı getirilsin\" diye tasarı sundu.  eğer demokratlar önceki sözlerinde samimilerse bu tasarının bir günde meclis\\'te kabul edilmesi gerekir...',\n",
              " 'bu 400 madde arasında \"oh beee\" dediğiniz hangisi?   benim favorim hukuk\\'ların 5 yıla çıkması..  madde madde insan hakları eylem planı   https://t.co/kjyid05q9e',\n",
              " 'abd dışişleri bakanlığı sözcüsü, şehit askerlerimizi andı:  \"bir yıl önce 33 türk askeri, idlib\\'de masum sivilleri esed rejimi ile onun rus ve iranlı destekçilerinin vahşetinden korurken hayatını kaybetti. onların fedakarlıklarını anarken nato müttefikimiz türkiye\\'nin yanındayız\"',\n",
              " '@idriskardas her kabine toplantısında kafe kapısında hazır bekliyorduk hocam, nasip bugüneymiş :)',\n",
              " 'biden yönetiminin ilk rusya yaptırımları:  \"abd\\'den navalnıy\\'ın zehirlenmesine ilişkin rusya\\'dan 7 yetkili ve 14 kuruluşa yaptırım kararı\"   https://t.co/xkzbcuox27',\n",
              " 'derin yoksulluğun tartışıldığı şu günlerde @sosyaldemokrasi yarın \"yoksul semtlerde madde kullanımı araştırması raporu\"nu kamuoyuna tanıtacak sabah saat 11.00\\'de. ilgilenenlerle paylaşmak istedim.',\n",
              " \"🤔bir ülkenin ana tüketimde kendini  bile 'besleyememesi' en büyük güvenlik sorunudur. sonra da 'yerli ve milli', 'tam bağımsız türkiye...bık bık bık...' uçakta, tankta, silahta değil de önce temel besinlerde kendi kendimize yetme oranımızı %100'e çıkarsak!!!!!\",\n",
              " \"#fas'ın eski başbakanı abdülilah #benkiran, üyesi olduğu adalet ve kalkıma partisi vekillerinin haşhaşın sözde tıbbi kullanımına destek vermesi halinde partiden ayrılacağını söyledi.\",\n",
              " 'boyundan büyük rakiplere bulaşmamak lazım :)  https://t.co/mzmkzfhkhj',\n",
              " \"abd senatosu'ndan sonra şimdi de temsilciler meclisi'nden  türkiye ile ilgili mektup; bu sefer dışişleri bakanı bilinken'e yazılmış. kongre türkiye konusunu boşlamayacağını gösteriyor.     https://t.co/689u3rvxne\",\n",
              " 'türker ertürk ile söyleşi - bremen add youtube canlı yayını    https://t.co/r5kn5mq6ki  https://t.co/44bx3bhguu',\n",
              " 'rize ilimizin düşman işgalinden kurtuluşunun 103. yılını kutluyoruz.  https://t.co/nvfoqymapq',\n",
              " 'söz meclisten dışarı ama bu hukukçularla ve medyayla reformun pek anlamı yoktur. thomas moore gibi yargıçlarımız, sokrates gibi filozoflarımız, imam ebu hanife gibi teologlarımız, chomsky gibi akademisyenlerimiz, topçu gibi eleştirel entelektüellerimiz olmadığı sürece işimiz zor.',\n",
              " \"bugün açıklanan reform adı altındaki açıklamalar, dünyada bilinmedik şeyler değil. daha önemlisi dibimizdeki, bizim de üyelik oyunu oynadığımız, ab ülkelerinin çoğunda uygulaniyor. roma'yı tekrar keşfetmeye gerek yok (batı tarafındaki) etrafımızda çok daha ilerisi var,görebilene!\",\n",
              " 'o gün erbakan\\'ın \"devlet ricalini\", toplumu v bizi de rahatsız eden eylemlerinden daha çok söylemleri vardı, aynen bazı hdp\\'lilerin rahatsız v irrite edici pkk yönlü yanlış söylemleri gibi. ama ne erbakan irtica odağı ne de hdp terör odağı kabul edilebilir. ikisi de siyasi tercih',\n",
              " 'göz göre göre canlı yayında kovid19 kurallarını hiçe sayıp, halk sağlığını riske atan biri...  “lebaleb” dolu kongrelerin yapıldığı illerde vakaların fırlamasında kendisinin payı olduğunu düşünmeyen biri...  düşünse de umursamayan biri...  seni mi düşünecek!',\n",
              " 'baskı,şiddet,zulm arttıkça;  insan hakları  yasaları hiçe saydıkça;  “yeni anayasa”  çıplak aramalar ortaya çıkınca; “ahlak ve namus”  tek adam rejimi planlandıkça; “demokrasi”  üniversitelere savaş açtıkça; uzay çalışmaları  yoksulluk, işsizlik arttıkça; “halk adamı” diyorlar!',\n",
              " 'onun ismi yüreklere kazınmış... silinmez... ama atatürk isminin akm’den silinmesine de bu millet izin vermez!   siz de kampanyaya imza verin!  https://t.co/tchqvpzhl9 @changetr',\n",
              " 'milliyetçiliği ayaklar altına aldık gazeteci hapsetme rekoru kırdık kadına şiddeti %140 artırdık milli bayramları yasakladık boğaziçi’ne kelepçe taktık 200 hapishane açtık fabrikaları kapattık katar’a ne istediyse sattık  bizden olmayanı kafir saydık atatürk’e küfrü olağan kıldık',\n",
              " 'erdoğan, trump ile yaptığı her görüşmede tek bir konuda ricacı oluyormuş... her seferinde aynı konuda trump’tan yardım istiyormuş...   pkk’nın elinde rehin tutulan askerlerimizin bir an önce kurtarılması değil; halk bankası davasının kapatılması...  “halkın adamı” ne de olsa🤷🏻\\u200d♀️',\n",
              " \"abd, navalny'nin zehirlenmesi nedeniyle rus yetkililere magnitsky yaptırımları uyguluyor.  liste bugün veya daha sonra yayınlanacak, ancak ab listesiyle aynı olduğu söyleniyor.    https://t.co/elxqksz2nv\",\n",
              " \"@mayada1978 mayada hocam, altınları çıkaran şirketler yerli mi? bu altınların gana'ya bir katkısı var mı? sadece merakımdan soruyorum....\",\n",
              " 'haberden: \"internetteki satış odasında çocuğun boydan bir fotoğrafıyla birlikte kürtçe ve arapça “satılığa çıkarıldığı” ilanı yayınlandı.\" of ki ne of. olay ankara\\'da geçiyor. türkiye\\'de, insanlığın bütün kazanımlarına düşman, gerici-faşist ağlar çok derin ve katmanlı hale geldi.',\n",
              " \"bu ingilizce üniversite tanıtım videosunun esas çarpıcı kısmı bir tarafa, amacı nedir acaba? islamcılığın ve/veya aşırı muhafazakarlığın baskın olduğu ülkelerden öğrencilere türkiye'nin yerin dibine batırılan sekülerizmi pazarlanıyor olabilir mi sanki?   https://t.co/kb6zcbtp5e\",\n",
              " \"• 2010'larda dünyada özgürlüklerin ve demokrasinin en hızlı/şiddetli gerilediği 1. ülke türkiye, tepedeki diğer ülkeler orta afrika cumhuriyeti, mali, burundi • 2010'larda tr'de buna sebep olan ve bugün insan haklarını onaracağını iddia eden aynı iktidar, ciddiye almaya değmez  https://t.co/wj0dqhitb6\",\n",
              " 'mart’ın ilk biteni andres barba - işıklar ülkesi oldu. vay anasını ya, vay anasını. bu nasıl kitap? şayet @notoskitap bir futbol kulübü olsaydı dünyanın her yerinden kimsenin keşfetmediği genç yetenekleri bulup çıkarmasıyla ünlü olurdu bence, yine nokta atışı bir seçim yapmışlar.  https://t.co/0rtczytimb',\n",
              " '🎙sevgili @melisatokmak ile salihli’den hindistan’a, oradan da silikon vadisine uzanan başarı hikayesini konuştuk!   inanç, planlı olmak ve azimin sizi taşıyamayacağı yer yok! @kapsul_news    https://t.co/gtdjc6eeud  https://t.co/hilybfngx7',\n",
              " '15) seçimden önce veya seçim esnasında halkın seçme kabiliyetini etkileyecek baskılar oluşturmamak 16) sansürü, yasakları ve farklı fikirlerin baskılanmasını hem medyada hem de sivil toplum içerisinde engellemek',\n",
              " 'demokrat bir siyasetçinin sahip olması gereken özelliklerden bazıları: 1) seçimi kaybettiğinde koltuğundan herhangi bir sorun yaratmadan kalkmak 2) oturduğu makamın sorumluluğundan dolayı kendisine yöneltilen eleştirileri hatta hakaretleri de daha toleranslı karşılamak ++',\n",
              " \"abd'nin sincar'a yönelik şeytani planını sözcü'ye anlattım.. dikkat çekici nokta!  👇  abd’nin planı, sincar’ı türkiye’den korumak – sözcü gazetesi  https://t.co/kjxpwolkmh\",\n",
              " \"skandal harita/yeni oyuna dikkat!  -bozca ve gökçeada'da sözde demografik suçlamayla lozan'a aykırı davranıldığını gündeme getirme peşindeler -böylece yunanistan, adalarda lozan'a aykırı silahlanma/gasp ettikleri adaları perdeleme niyetinde -abd/israil'de bu yeni oyunun içindeler  https://t.co/ritfuhzezg\",\n",
              " 'insan hakları eylem planı’nın başarıya ulaşması için ilk ve en temel adımı da ben açıklıyorum: iktidarın değişmesi. emin olun o maddelerin hepsi uygulanmaya başlar. gerisi hikaye. 2 hafta önce gencecik insanların ayağına elektronik kelepçe takan bir yönetim bu planı uygulayamaz.',\n",
              " '@safapolsci ben başta bir afalladım, ama sonra alışınca \"olur ya, olsun napalım\" dedim :)  ama tabii, hem türkiye\\'yi islamcı-muhafazakar bir beton yapmaya çalışıp, hem de iktidara rağmen ayakta kalmaya çalışan laik-çoğulcu özellikleriyle ülkeyi pazarlamaları müthiş rahatsız ediyor beni.',\n",
              " '#katar savunma bakanlığı, ortak askeri yüksek komitenin üç gün süren üçüncü toplantısının sonunda türkiye ile yeni işbirliği anlaşmaları imzaladığını duyurdu. 📸  https://t.co/bvu54sgk0f',\n",
              " \"#suriye- rus ordu birlikleri, ani bir planlama ile #idlib- sarakib'ten askeri güçlerini çekti.\",\n",
              " '‘suriye’de bmgk 2254 kararı çerçevesinde gerçekleşmeyen herhangi bir devlet başkanlığı seçiminin reddedilmesini’ ve suriye’de önümüzdeki mayıs ayı sonlarında yapılması planlanan başkanlık seçimi sonrasında şam ile ‘normalleşme’ yoluna girilmesinin önünün kesilmesini ön görüyor.',\n",
              " '@daghanirak tell me lies tell me sweet little lies diye bi şarkı vardı.. nasıl bi enseymiş hiç kararmıyor ...',\n",
              " \"183. fransızlar 1920'de suriye'yi birkaç parçaya bölerken;  -buna gerekçe olarak dürzîlerin, alevilerin  ve iskenderun sancağı’ndaki türk topluluğun taleplerini gösterdi  -ancak asıl neden, arap ulusal hareketi'ne karşı düşmanlıkları ve bu hareketin önüne engeller koyma arzusuydu  https://t.co/awadygbgoj\",\n",
              " \"son dakika: doğu akdeniz'e geliyor! yunan medyası yazmıştı...  https://t.co/vyxubmcq04\",\n",
              " \"abd'den rusya'da navalny konusunda 7 yetkili ve 14 kuruluşa yaptırım kararı geldi.  ayrıca biri rus araştırma enstitüsü ile 13’ü rus şirket olmak üzere 14 kuruluşa, bazı malların abd’den ihracatına yasak getirileceği duyuruldu.  https://t.co/ozgrhrc19n\",\n",
              " 'galatasaray hukuk da bu durumda 10 yıla çıkar. at fava bekle ☺️ @gucluakyurek @ozgurmumcu',\n",
              " \"@edeturuk sonuca kesinlikle katılıyorum ama o süreç farkliydi. bilakis, çoğunlukla akp'nin desteğini aldı. parti içi disiplin henüz oturmadığı için, akp'li mvlerinden de yeterince destek gelmedi. sonrası tarih. katakulliye ara seçim, tayyip başbakan, abd'ye hava sahası izni...\",\n",
              " '@bdalgin @nesibekiris füze iconu olsa onu da ekleyesim var ;) bazen s400 fırlatıyor twitin orta yerine 😂',\n",
              " 'türk silahlı kuvvetleri desteklerine devam ediyor.   türk silahlı kuvvetleri tarafından lübnan ordusuna yiyecek ve temizlik ürünlerinden oluşan 260 ton malzeme gönderildi. malzemeler tcg iskenderun (a1600) lojistik gemimiz tarafından bugün beyrut’a ulaştırılarak +  https://t.co/pqljvlt2iq',\n",
              " 'türk silahlı kuvvetleri tarafından lübnan ordusuna sağlanan bu yardımın iki ülke silahlı kuvvetleri arasındaki dayanışmayı simgelediğini ve kendileri için çok anlamlı olduğunu ifade etti.',\n",
              " '“#gündemimizkadınyoksulluğu” kampanyası ile derin yoksullukla mücadele eden ve temel gıda &amp; hijyen ürünlerine erişemeyen 100 kadına destek vermeyi hedefliyoruz. #8martdünyaemekçikadınlargünü #8martagiderken #gündemimizkadınyoksulluğu  https://t.co/axratjzkua',\n",
              " 'erdoğan başkanlığında yapılan savunma sanayii icra komitesi toplantısı:  türk savunma sanayii açık veya gizli ambargolarla hedef alınıyor.',\n",
              " '“#gündemimizkadınyoksulluğu” kampanyası ile derin yoksullukla mücadele eden ve temel gıda &amp; hijyen ürünlerine erişemeyen 100 kadına destek vermeyi hedefliyoruz. #8martdünyaemekçikadınlargünü #8martagiderken #gündemimizkadınyoksulluğu  https://t.co/axratjzkua',\n",
              " 'dünya medyasında, hindistan  ve yunanistan kaynaklı görünen,  türkiye ve pakistan’ı hedef alan  sistematik yayınlar artırılıyor.  hepsi ortak bir merkezden yönetiliyor.  \"nükleer ortaklık” tezleri işleniyor.  dünyayı alarma geçirmek istiyorlar.   onların korkusu bizi durduramaz..',\n",
              " \"anlaşılan; türkiye-pakistan arasında uzun menzilli  füze ve ortak savaş uçağı çalışmaları  batı'nın çok fazla dikkatini çekmiş.   onların asıl korkusu nükleer teknoloji transferi.  yakında gürültü çıkarmaya, içeriyi  hareketlendirmeye başlarlar.  ama buna türkiye aldırmayacak…\",\n",
              " 'avrupa’da özgürlük alanları daraltılırken,  insan hakları maddeleri askıya alınırken,   türkiye özgürlük alanlarını daha da  genişletmek için adımlar atıyor.   çok iyi çalışılmış insan hakları güçlendirme paketini açıklıyor.   şuan dünyada hiç bir ülkenin böyle bir gündemi yok.',\n",
              " '@hany hayır insan hakları eylem planı. ab, terörle mücadele yasası ve veri güvenliği gibi konularda türkiye’nin reform yapmasını istiyordu',\n",
              " 'benim de rus istihbarat servisleri’ni anlatacağım bu programı, istihbarat konusu ile ilgili olanlar kaçırmasınlar derim👇  “güvenlik ve istihbarat teşkilatları eğitimi” @21yyte  https://t.co/8scjdzc27t',\n",
              " 'dost ve müttefik kuvvetlere destek devam ediyor.   isparta terörle mücadele eğitim ve tatbikat merkezi komutanlığında; somali silahlı kuvvetlerinden 330 misafir askerî personelin “komando temel eğitimleri”ne devam ediliyor.  https://t.co/0il4kvdnct',\n",
              " 'biden yönetiminin ilk rusya yaptırımları:  \"abd\\'den navalnıy\\'ın zehirlenmesine ilişkin rusya\\'dan 7 yetkili ve 14 kuruluşa yaptırım kararı\"   https://t.co/xkzbcuox27',\n",
              " 'neyse tek masa 8 sandalye de çıkarabilirdi tabi',\n",
              " 'evin karşısındaki kahvede normalde 4 masa oluyordu, kahveci bu sefer 4 masa 2’şer sandalye çıkarmak yerine 2 masa 4’er sandalye çıkarmış. %50 kapasiteyle çalışma işini kıvıramayacağız galiba biz',\n",
              " 'yeni:  temsilciler meclisi üyesi tom malinowski, iki vekille birlikte, \"kaşıkçı cinayetinden mbs de sorumlu tutulsun ve mbs\\'ye de vize yasağı getirilsin\" diye tasarı sundu.  eğer demokratlar önceki sözlerinde samimilerse bu tasarının bir günde meclis\\'te kabul edilmesi gerekir...',\n",
              " 'abd dışişleri bakanlığı sözcüsü, şehit askerlerimizi andı:  \"bir yıl önce 33 türk askeri, idlib\\'de masum sivilleri esed rejimi ile onun rus ve iranlı destekçilerinin vahşetinden korurken hayatını kaybetti. onların fedakarlıklarını anarken nato müttefikimiz türkiye\\'nin yanındayız\"',\n",
              " 'j. jeffrey, abd\\'nin suriye\\'deki çıkar ve politikaları hakkındaki görüşlerini özetlemiş. metin, pkk\\'yı \"türk karşıtı kürt\" örgüt olarak tanımlıyor. suriye\\'de rejim ve rus askeri tesisleri kalıyor, iran ve türkiye çıkarılıyor, sdf/ypg bölgesi özel biçimde sisteme entegre ediliyor:  https://t.co/bjzgtznwlh',\n",
              " 'amerikan kongre’sinin 170 üyesinden dışişleri bakanı blinken’a türkiye ile ilişkilerde insan haklarını öncellemesini talep eden mektup..  https://t.co/durdfa5s7c',\n",
              " \"forbes dergisinde yer alan yazıda imzası bulunan david axe:  nato gemileri ve uçakları norveç'in batı kıyılarında tatbikat yaparken rus filosunun ülkenin doğu kıyılarında tatbikat gerçekleştirmesi hiç şaşırtıcı değil. iki ülke de savaş tatbikatı yapıyor.   https://t.co/hyjlphzfzc\",\n",
              " '@ttdestek merhaba düşünmüyorum bizzat yaşıyorum nihan hnm ;) zoom toplantılarımda sesimle görüntüm arasında neredeyse bir yaş oynayacak',\n",
              " '@canalpkorkmaz ah tüh önceden bileydim, türk telekom hatasına düştük',\n",
              " '@pgo99154088 @pervinchakar tomris uyar sendromu :)',\n",
              " \"ankara'da kurtarılan çocuk derin internette satışa çıkarılmış  https://t.co/y4a4lzz6yb\",\n",
              " 'jen psaki\\'nin, \"kaşıkçı cinayetinde daha fazla adım atma hakkımız saklıdır\" sözünü \"abd ileride mbs\\'ye yaptırım uygulayabilir\" diye yorumlamak bence pek doğru değil.  şimdi yaptırım uygulamayan ne zaman uygulayacak?  \"ileride abd-suud ilişkileri bozulursa\" demekse onu bilemem...',\n",
              " 'abd\\'li 170 vekilin imzaladığı bir mektup var.  özetle, \"biden yönetimi insan hakları konusunda tr\\'ye/cb erdoğan\\'a baskı yapsın\" diyor.  mektup, \"15 temmuz fetö\\'nün askeri darbe girişimi sürecinde tr\\'nin yanındayız\" deseydi o zaman samimi olabilirdi.   https://t.co/t4sclqmjax',\n",
              " \"abd temsilciler meclisi'den hem demokrat hem de cumhuriyetçi partilerden 170 vekil, dışişleri bakanı antony blinken'e yazdıkları mektupta biden yönetimini türkiye'ye  'tedirgin edici insan hakları meselelerini' ele alma çağrısı yaptı.   https://t.co/kt6omdiwys\",\n",
              " 'erdoğan’ın açıkladığı #koronavirüs tedbirleri ve ‘normalleşme’yi kimse anlayamadı  bu hesap&gt;&gt; @ufubo erdoğan’ın açıklamalarını bir tablo hazırlayıp yayınladı.   binlerce kişi çalıştıran aa bu tabloyu kullandı,medya da aa’dan aldı.emek hırsızları!   pergolacı fahrettin ne yapıyor?  https://t.co/2his7zn1dn',\n",
              " '15) seçimden önce veya seçim esnasında halkın seçme kabiliyetini etkileyecek baskılar oluşturmamak 16) sansürü, yasakları ve farklı fikirlerin baskılanmasını hem medyada hem de sivil toplum içerisinde engellemek',\n",
              " 'demokrat bir siyasetçinin sahip olması gereken özelliklerden bazıları: 1) seçimi kaybettiğinde koltuğundan herhangi bir sorun yaratmadan kalkmak 2) oturduğu makamın sorumluluğundan dolayı kendisine yöneltilen eleştirileri hatta hakaretleri de daha toleranslı karşılamak ++',\n",
              " \"• 2010'larda dünyada özgürlüklerin ve demokrasinin en hızlı/şiddetli gerilediği 1. ülke türkiye, tepedeki diğer ülkeler orta afrika cumhuriyeti, mali, burundi • 2010'larda tr'de buna sebep olan ve bugün insan haklarını onaracağını iddia eden aynı iktidar, ciddiye almaya değmez  https://t.co/wj0dqhitb6\",\n",
              " 'insan hakları eylem planı’nın başarıya ulaşması için ilk ve en temel adımı da ben açıklıyorum: iktidarın değişmesi. emin olun o maddelerin hepsi uygulanmaya başlar. gerisi hikaye. 2 hafta önce gencecik insanların ayağına elektronik kelepçe takan bir yönetim bu planı uygulayamaz.',\n",
              " 'amerikan kongre’sinin 170 üyesinden dışişleri bakanı blinken’a türkiye ile ilişkilerde insan haklarını öncellemesini talep eden mektup..  https://t.co/durdfa5s7c',\n",
              " 'abd dışişleri bakanlığı sözcüsü price’tan türkiye tiviti;  •bir yıldan fazla bir süre önce, 33 türk askeri idlib’te masum suriyelileri esad rejimi ve onun destekçileri olan rusya ve iran’dan korumaya çalışırken hayatını kaybetti.  •nato müttefikimiz türkiye’nin yanındayız.',\n",
              " 'gözüm kapalı herkese öneriyorum bu kitabı. “çocuklar kurgudan daha güçlüdür” diyor barba, kitap da bunun ispatı gibi. bu olağanüstü kitabın son cümlesiyle tamamlıyorum bu faslı: “ölüler terk ederek bize ihanet ediyor olabilir ama biz de yaşayarak onlara ihanet ediyoruz.”',\n",
              " '@aykan_erdemir kına yakarsın artık.',\n",
              " 'sadece eleştiri yaptığım, düşüncelerimi açıkladığım için:  - 2 adet cb\\'ye hakaret davası, birinde 1 yıl 4 ay hapis cezası  - 1 adet \"terör propagandası\" davası, uydurup \"hem pkk hem de fetö propagandası\" yapmışlar  herkes zehirle örülen akp çoraplarını yazmalı.',\n",
              " 've geldi. nyun demokrat valisinin istifası bizzat demokrat temsilci tarafından istendi. işi zor bu saatten sonra. karantina sırasında ismi çok ön plana çıktığında parti içinde aslında hiç de sevilmediğini duymuştum. sanırım doğru.',\n",
              " 'türkiye işçi sınıfının ızdırabı çekilmez oldu: grev özgürlüğü ve işçi haklarına sadık sendikalar olsa herhalde genel grev olurdu. 12 eylül darbesi, akp rejimi - hepsi bu sefaleti yaratmak için var.',\n",
              " \"su aşağıdaki grafikte, türkiye'nin demokratik gerilemedeki yeri venezuela ve nikaragua gibi artık seçimle iktidarı bırakmayacak latin amerika diktatörluklerinin hemen yanıbaşı. insan hakları ve özgürlükler konusunda da yine bu ülkelerle yarış halindeyiz.\",\n",
              " 'herkes insan hakları eylem planı bekliyor: gerçekte kul hakları eylem planı ilan edilecek. insan hak ve özgürlükleri ile akp rejimi barışamaz. bu derhal istifası demektir.',\n",
              " '\"eller kalkar-eller iner\" milletvekilleri istiyorlar: görevini hakkıyla yerine getiren, insan hak ve özgürlüklerini gündemde tutan milletvekilleri istemiyorlar.',\n",
              " 'haftalarca insan hakları eylem planı ve hukuk reformu diye propaganda yap, anaysada zaten mevcut ilkeleri alt alta yaz: anayasaya neden uymuyorsunuz?',\n",
              " 'bu ülkenin insan hakları karnesinin düzelmesi için iktidarın değişmesi kesinlikle tek başına yeterli değil. kendi sınıfından ve hizbinden olmayanlara tepeden ve önyargıyla bakan sorunlu zihniyet degismedikce benzer ihlaller bir başka iktidar eliyle de pekala hayata geçirilebilir.',\n",
              " 'dik duruşunun, gerek askeri, gerek istihbaratı gerek de diplomatik görüşmelerinin sonucunu sahada almaya başlamıştır. mısır’ın fiili tanıyışının ardından önümüzdeki süreçte türkiye ve mısır arasında resmi bir anlaşmanın kapıda olduğu belirtilmektedir.',\n",
              " 'türkiye, libya da darbe yapıp meşru yönetimi devirmeye çalışan hafter ve destekçileri bae, rusya’ya karşı, meşru libya hükümeti’nin yanında rol almış ve libya’nın denge kurucusu rolünü üstlenmiştir.',\n",
              " \"@babalikderler loyal wingman'in görevi, diğer muharip ve destek uçaklarıyla birlikte uçup elektronik harp, keşif, gözetleme ve aldatma/yanıltma yapmak. elektronik harp ve hava savunma tehdidinin yoğun olduğu asya-pasifik'te çok iş düşecektir.\",\n",
              " '🇹🇷 detaylar web sitemizde...  ⚓ ilgili yazımızı okumak için web sitemizi ziyaret edebilirsiniz.   https://t.co/kzfl3b3r8o',\n",
              " \"dynamic manta-21 tatbikatı sürüyor.  italya'nın sicilya açıklarında gerçekleştirilen dynamic manta-21 tatbikatı, nato’nun su üstü ve deniz altı harbi konularında müttefik ülkeler arasındaki iş birliğini geliştirmek ve eğitim seviyesini yükseltmek amacıyla düzenleniyor.  https://t.co/dlssbpholl\",\n",
              " 'dağ yine fare doğurdu. insan hak ve özgürlükleri beyannamelerinde, türkiye anayasasında olan tüm ilkeleri yeniden saydılar. mesela almanya \"ırk\" kavramını anayasadan kaldırmayı tartışıyor. bunlar tekrar ediyor. dünyaya çok uzaklar. #insanhaklarıeylemplanı',\n",
              " 'akp ile insan hak ve özgürlüklerinde, anayasanın, devletin ve toplumun demokratikleşmesinde tek bir adım atılamaz. insan hak ve özgürlükleri garabet türk tipi başkanlık rejimiyle barışmaz. o mevcut anayasayı bile tanımıyor.',\n",
              " \"anlaşma neleri kapsıyor?  rusya ve sudan’ın arasında imza edilen, rus donanması için sudan'da lojistik destek üssünün kurulmasına ilişkin anlaşmanın içeriği ise dikkat çekici.\",\n",
              " '@kayandamurat @sakaryasavasi muhtemelen daimler scout keşif aracı kastediliyordur. kore savaşı döneminde m15 yarım tırtıllı araç da almışız sanırım.',\n",
              " 'insan hakları eylem planı mı? hemen siyasi tutukluları serbest bırakacak, yargıya müdahaleyi yargılayacak, hakaret dahil tüm siyasi davaları iptal edecek, muhalefete saygı duyacak, medyayı serbest bırakacak, üniversiteden el çekeceksiniz. bunun için plana gerek yok. istifa yeter.',\n",
              " 'bir taraftan 6 milyon seçmenin, aileleriyle birlikte 20 milyona yakın insanın seçilmiş iradesi hdp\\'ye baskıları örgütle, chp\\'yi \"terör destekçisi\" ilan et, cezaevlerini doldur, diğer taraftan \"siyasi partiler ve seçim kanunda değişiklik\" de: o değişiklikten de zulm doğar.',\n",
              " 'şov devam ediyor:   suudi arabistan ile ilişkilerini yeniden kalibre edeceğini açıklayan abd dışişleri “kaşıkçı yasağı” olarak bilinen muhalifleri tehdit edenlerin abd’ye giriş yasağı getirme programı kapsamına alınan 76 suudi arabistan vatandaşının ismini açıklamayacak :d',\n",
              " '@sakaryasavasi \"iskavut\", \"scout\"tan; \"karyer\" de \"carrier\"den devşirme olmalı.   bir de tabi fransızca esintili \"motör\", yıllar içinde ingilizce aksanlı \"motor\"a dönüştü.',\n",
              " \"japon başbakanlarından naoto kan, geçmişte türk yetkililere nükleer enerjiyi tavsiye ettiği için pişman olduğunu söyledi. fukuşima nükleer santralinde mart 2011'de meydana gelen sızıntıdan ders çıkarması gerektiğini kaydeden kan, nükleer güçten vazgeçilmesi gerektiğini söylüyor.\",\n",
              " '#yeni  boeing, avusturalya hava kuvvetleri ile geliştirdikleri \"loyal wingman\" (sadık kanat elemanı) adlı insansız savaş uçağının ilk uçuşunu avusturalya\\'da tamamladığını açıkladı.  https://t.co/enijlbtxzd',\n",
              " '\"davaların bir sebebi vardır\" diyenlere: yok, ben 12 eylül\\'den beri tüm askeri darbelere, milliyetçiliğin her şekline ve gülencilik ve akp dahil dahil siyasal islamcılığın her türüne karşıyım. yani suçlamaların, davaların, cezaların hiç bir temeli yok. hedef sadece susturmak.',\n",
              " '@kasar_yaza o maçta karlı hava vardı. doğrudan soyunma odasına gitmesi normaldi ama bu maçtaki tavrı hiç hoş değil. sergen hoca maç sonu röportajında gerekeni söyledi. umarım kendini toparlar. güçlenir ve gollerine devam eder. beşiktaş’taki sevgiyi hiç bir yerde bulamayacağını biliyordur.',\n",
              " '@iamcommender @c4defence yeni nesil bir araba tasarlıyorlar. hedefledikleri de f-35, f-22, su-57, j-20 falan gibi f-g değil d-e segmenti arasında bir tasarım (çünkü zaten ellerinde segmentten araba var). bunu yaparken de motor, yol bilgisayarı, iç aksesuarların bir kısmını piyasadan hazır alıyorlar.',\n",
              " 'mit başkanı fidan, 2020 yılı içerisinde dış istihbarat alanında etkinliklerini artırdıklarını ve ülkemizi hedef alan casusluk faaliyetlerini deşifre ederek, teknik istihbaratı çalışmalarının ana bileşeni haline getirdiklerini ifade etti. #mit #istihbarat  https://t.co/uxpjfcrryo',\n",
              " 'bugün olan tek şey: insan onuru, hak ve özgürlüklerini ellerinde şov aracına çevirdiler. attıkları ve atacakları zalim adımlara perde oluşturuyorlar. kirletmedikleri kavram, çamura gömmedikleri ilke kalmadı.',\n",
              " \"@sakaryasavasi @kayandamurat @delamorena36 @tankterra1 şöyle bir arşive baktım da, m113'ten önce selefi olan m59'u da kullanmışız. ordumuzda kullanılırken bir fotografını gördüğümü hatırlamıyorum.  https://t.co/szartcsng4\",\n",
              " '#sondakika biden yönetimi istihbaratın aleksey navalmıy’ın zehirlenmesinde rusya federal güvenlik servisinin doğrudan rol aldığını tespit ettiğini ve bu bağlamda 7 rus yetkiliye 13 rus şirkete ve 1 rus kuruluşa yaptırım uygulayacağını açıkladı',\n",
              " '\"yıldızları tarif eden değil, yıldızlara erişmeyi sağlayacak bir plan ve yol haritası\" - çamurun dibinden bakınca görülenler yıldız değil, en iyi durumda çamurun yüzeyinde oluşan hava kabarıcıklarıdır. kısa bir süre parlar, patlarlar.',\n",
              " 'biden’ın basın sekreteri dakikalardır kaşıkçı cinayet raporu sonrası suudi veliaht prensi mbs’e karşı neden yaptırım kararı almadıklarını temize çıkarmaya çalışıyor  ‘önemli ilişkilerimiz var’ ‘bölgede saldırı altındalar’ ‘reform yapıyorlar’    https://t.co/y9fw7xghla',\n",
              " 'abd’nin 170 temsilciler meclisi üyesinin türkiye aleyhine imzaladığı mektup:  •cb erdoğan görevdeki 20 yılını hukuku zayıflatmak, askeriye ve istihbarata kendi siyasi müttefiklerini yerleştirmek, ifade ve basın özgürlüğüne baskı yapmak, muhalifleri tutuklamak için kullandı  https://t.co/pik1f1nwol',\n",
              " 'savunma sanayii söyleşileri etkinliğinde sektörü yakından tanıyıp kariyerinizi planlayabilirsiniz. mülakat simülasyonu, workshop gibi uygulamalı eğitimler ile kendinizi geliştirebilirsiniz.  https://t.co/ts2xjn5giw',\n",
              " \"israilli nso, rus enfer ve bae'li darkmatter gibi şirketlerin özellikle 0day zafiyetleri üzerine geliştirdikleri ofansif siber araçlara dair faydalı bir rapor.👇  siber casusluk faaliyetlerinde şirketlerin, istihbarat servislerine göre daha büyük paya sahip olmaları dikkat çekici\",\n",
              " 'yillar once muhafazakar isverenin ise alimlarda basortusuz kadini tercih ettigine dair kapsamli bir arastirma yapilmisti. aradan gecen surede olay “ise alirim ama👇🏼” ya evrilmis olay.',\n",
              " 'cumhurbaşkanımız @rterdogan “bugünkü kabine toplantımızda, normalleşme adımlarının prensipte nasıl atılacağı hususunu kapsamlı şekilde görüştük. hedefimiz, mümkün olan en kısa sürede, ülkemizin tamamında ‘kontrollü normalleşme’ sürecini tamamlamaktır.”  https://t.co/sn1cwgzice',\n",
              " '@adnanagac kahvehaneler ne oldu yaaa, açılacak mı? babam bir gidip de oyun oynayacak mı? arar birazdan beni ! acil söyle',\n",
              " \"yıllardır tr'deki en çarpıcı ayrım seküler-muhafazakar ayrımıydı belki. ama son yıllarda demokrat-otoriter ayrımı seküler-muhafazakar ayrımının etkisini azaltmış gibi gözüküyor. bu çok önemli bir gelişme ve kesimler arası dayanışma/iletişimi güçlendirebilecek potansiyele sahip.\",\n",
              " 'çin küresel nadir toprak elementleri tedarik zincirlerine tehdit oluşturuyor mu?  “çin ekonomisi son yıllarda gelişim gösterirken, liderleri ülkeyi stratejik açıdan önemli sektörlerde kilit bir oyuncu haline getirmeye çalıştı.”  https://t.co/sbcnroa8za',\n",
              " \"ermenistan'daki çalkantının sebebi neden rusya değil? darbe girişimini desteklemek moskova'nın çıkarlarıyla uyumlu mu? ermenistan rusya açısından neden giderek önemsizleşiyor? hepsini ve daha fazlasını azerbaycan e. başkonsolosu @ibrahimnebioglu anlattı  https://t.co/qzshqdmzo5\",\n",
              " 'abd kongresi’nde erdoğan’ı “sevenlerin” sayısı artmakta... bu sefer dışişleri bakanı blinken’a gönderilen mektup 183 imzalı... iktidarın lobi faaliyetleri de iflas etmiş durumda...  https://t.co/7bz3ulcowb',\n",
              " 'abd temsilciler meclisinin 170 üyesi türkiye ile ilgili dışişleri bakanı blinken’e mektup yolladı  türkiye’deki “insan hakları ihlalleri” ve “demokraside geri gidiş” sebebiyle biden’ın harekete geçmesi isteniyor',\n",
              " 'bu sabah canlı’da @cansucamlibel ile abd’nin kaşıkçı cinayeti raporunu ve suudi arabistan’a muhtemel yaptırımlarını konuşuyoruz:  https://t.co/7eduwwdcso',\n",
              " 'kurallara uymak bir sabır ve zeka işidir. sabredemeyip zekasını da ‘sivri’ işlerle meşgul eden biz orta ve doğu karadenizliler için ‘ibret tablosu’ ortaya kondu. normal koşullarda sokağa çıkmayan, ev ziyareti yapmayan insanlar virüsle inatlaşmayı sürdürürse kıpkırmızı kalırız.',\n",
              " '@pinartremblay @clubhouseturkey @almonitor @acikcenk yokluktan...',\n",
              " 'bugün türkiye-güney afrika #otomotiv ticaret heyeti’ni ağırladık! binlerce km mesafeye rağmen,onlarca firma bu hafta boyunca tanışacak ve ticaret yapmak için imkanları zorlayacak!hızımıza, iş bitiriciliğimize, lokmayı aslanın ağzından almamıza hayranım!ticarette engel tanımıyoruz  https://t.co/tptl06us66',\n",
              " 'izlerken içiniz acıyacak! halka gelince kuruş hesabı yapanlar, salgında destek vermek yerine iban verenler, vatandaşın 1 tl daha ucuz ekmek için sıraya girdiği; açlıktan, yoksulluktan intihar ettiği ülkeyi yönetenlerin kibir ve israf videosu!  https://t.co/z5qkmtwylx',\n",
              " 'abd’nin 170 temsilciler meclisi üyesinin türkiye aleyhine imzaladığı mektup:  •cb erdoğan görevdeki 20 yılını hukuku zayıflatmak, askeriye ve istihbarata kendi siyasi müttefiklerini yerleştirmek, ifade ve basın özgürlüğüne baskı yapmak, muhalifleri tutuklamak için kullandı  https://t.co/pik1f1nwol',\n",
              " \"çin'e yakınlaşmayı savunanlar değerli bir gerçeği gösterdi. tr'deki demokrat-otoriter ayrımı seküler-muhafazakar ayrımıyla çakışmıyor. sekülerler de uygur türklerine yapılanları yok sayıp çin'le müttefikliği savunabiliyor. uygur meselesi demokrasi için tam bir turnusol kağıdı.\",\n",
              " 'adalet bakanı, içişleri bakanı; iletişim başkanı; bu konuda ne yapacaksınız? soruşturma açacak mısınız? yoksa bu trollere seyirci mi kalacaksınız? sessizliğiniz trol ordularını maaşa bağladığınızın itirafıdır!  @abdulhamitgul @suleymansoylu @iletisim @muratagirel @ugurdundarsozcu',\n",
              " 'israil siber otoritesi ncsa, özellikle iran kaynaklı siber saldırılardan ciddi zararlar gören özel şirketlerin ağ sistemlerine \"tam erişim ve denetim\" yetkisi istiyor.  diğer deyişle, istihbarat servisi shin bet gibi bir güce sahip olmak istiyor.   https://t.co/jxkzl3hona',\n",
              " \"uşak'ın virüsle mücadelede gösterdiği başarı tesadüf değil. hani bir kadın vali vardı. pandeminin başında sokakta denetim yaparken sosyal medyada linç edilen... funda kocabıyık... bu başarıda onun payı büyük. tabi ki kurallara uyan tüm uşaklıların da...\\u2066@tc_usakvaliligi\\u2069  https://t.co/b4yccamlvq\",\n",
              " '\"insanı yaşat ki devlet yaşasın\" demiş şeyh edebali... afyonkarahisar valisi\\'nin çiğ köfte dükkanında saldırıya uğrayan gence yaptığı bu ziyaret çok anlamlı...  çiğ köftenin acısını bilmem ama bu ziyaret o genç çocuğun acısını hafifletir.',\n",
              " 'biden’ın basın sekreteri dakikalardır kaşıkçı cinayet raporu sonrası suudi veliaht prensi mbs’e karşı neden yaptırım kararı almadıklarını temize çıkarmaya çalışıyor  ‘önemli ilişkilerimiz var’ ‘bölgede saldırı altındalar’ ‘reform yapıyorlar’    https://t.co/y9fw7xghla',\n",
              " 'rusya, tarihinde ilk defa sudan’a savaş gemisiyle ziyaret gerçekleştiriyor.  aralık ayında rusya’nın sudan’da deniz üssü kurması anlaşması imzalanmıştı.  sudan’a ilk ziyaret karadeniz filosu’ndan amiral grigoryeviç isimli meşhur savaş gemisiyle yapılıyor.   https://t.co/7qwye4zmga  https://t.co/j6zddmogev',\n",
              " 'biraz geç olmadı mı yıllarca düşmanlık yaptıktan sonra! imtihan edildiğimiz de doğru değil. bu iddianın nedeni; acı çeken, aç kalan, ezilen, sürünen  ezcümle sömürülen insanların sömüren otoriteye karşı isyan etmesini ve baş kaldırmasını engellemektir.',\n",
              " 'abd temsilciler meclisinin 170 üyesi türkiye ile ilgili dışişleri bakanı blinken’e mektup yolladı  türkiye’deki “insan hakları ihlalleri” ve “demokraside geri gidiş” sebebiyle biden’ın harekete geçmesi isteniyor',\n",
              " \"“kamuya açık herhangi bir kesin hükümet stratejisi belgesinin olmaması, çin'in hedeflerini gerçekleştirmek için hangi stratejileri kullanacağını belirlemeyi zorlaştırsa da, davranışlar, üst düzey yetkililerin açıklamaları ve çinli uzmanların yorumları yardımcı olabilir.”\",\n",
              " 'beyaz saray’dan veliaht prens mbs açıklaması;   “abd, eğer gerekirse veliaht prens mbs’ye yaptırım uygulama hakkını saklı tutmaktadır”  mbs daha ne yapsın?',\n",
              " 'çin ve rusya’ya yönelmemizi destekleyenler var. bu iş basit bir strateji meselesi değil. dostların kimse, onlara benzemeye başlarsın. tr’nin çin ve rusya ile müttefik olup demokratik olabileceği bir dünya yok. bu iş emekli amirallerin kafasında oynadığı strateji oyununa benzemez.',\n",
              " 'hala anlamadılar oyun kuruculuğu.. meseleyi hala abd postallarının girmesi çıkmasıyla hesap ediyor.',\n",
              " 'tr-abd dostluk grubu liderinin de old 176 temsilciler üyesinin \"ankara ile ilişkileri düzeltmenin ön şartı erdoğan\\'ın demokrasiye ve insan haklarına saygı göstermesi\\'\\' demesine, chp tepki koyar, \\'reis zaten çok demokrat\\' diyerek karşı destek mektubu hazırlar mı? @enginaltaychp',\n",
              " \"deneyimli diplomasi gazetecisi @barcinyinanc türkiye-abd insan hakları gündemini yazmış. hem de tam abd'nin suudi arabistan'a cemal kaşıkçı cinayeti nedeniyle yüklendiği günlerde. önerilir.\",\n",
              " 'ilginç:   pentagon, suriye saldırısında 1 iran destekli milisin öldürüldüğünü 2 milisin ise yaralandığını açıkladı.   saldırıda 2 f-15e görev almıştı  7 füze atılmış  9 bina tamamen 2 bina kısmen tahrip edilmişti.  https://t.co/zcqitvtnki',\n",
              " '28 şubat’a dair sosyal medya ve sergilerde paylaşılan tüm fotoğraf karelerinde, en az 2-3 kişiyi şahsen tanıdığımı farkettim.  hatta bazen sadece iki kişinin olduğu karelerden biri bile mutlaka tanıdıktı. öyle ...',\n",
              " 'abd yine düşmanlık üretiyor -- ibrahim karataş  https://t.co/obwdhaltpc',\n",
              " 'böyle bir akıl olabilir mi? bu insanlar 4 yıllık trump kabusundan bile ders almamışlar.  yurt dışında yıllardır yardım yapıyor abd. ama yardım yaptığı ülkelerde bile \"en çok nefret edilen ülke\" konumunda.  biden\\'ın ilk kalp krnizinde bu şahıs dünyayı yönetecek!',\n",
              " '@osmanozdemir69 @pinaryaziyor @yusuf71661 bir ağaçtan okluk da çıkar b*kluk da...',\n",
              " \"türkiye'de iktidar değişikliğini demokratik kurumlar eliyle değil de ekonomik saldırılar ya da yaptırımlar eliyle yapma alışkanlığı, abd v ab'nin özellikle 2008 sonrasında değişen küresel dinamikleri henüz idrak edemediğinin diğer acınası göstergesi.    https://t.co/saprtnhvg6\",\n",
              " 'yıllarca her gün israil’i yok edeceğiz blöfü yapıp her hafta suriye’de israil elinden ağır bir darbe yemek 🤔🤔',\n",
              " \"abd teröristlere silah sevk ettikçe, yakın coğrafyasında düşmanca tavra sahip rakipleri silahlandırdıkça, aç kalsa da vatanlarından vaz geçmeyen türklerin tarihsel hafızasını harekete geçirdiğinin, güvenlik kaygısının erdoğan'ın iktidarını konsolide ettiğinin farkında değiller.\",\n",
              " \"@barcinyinanc mesele batı karşıtlığı değil aslında.. trnin guvenlik kaygisini artiran abd  dış politika tasarruflarinin (örn. ypgnin silahlandırılması),  turkiye'nin mesru ve adil ulusal cikarlari hilafina israrla devam ettrilmesi..bunu anlamak bu kadar zor olmamalı+\",\n",
              " 'dünyanın hali’nde darbeleri konuşuyoruz 👇👇👇👇',\n",
              " 'gündüz kahveler, restoranlar, avm’ler, halı sahalar açık, kongrelere toplantılara devam, akşam 9’dan sonra ve pazar sokağa çıkmak bile yasak. mantığını anlayan anlatsa da anlasak.',\n",
              " \"yeni savaş gemilerinden, yunanistan'da 23 askeri tesiste işbirliğine kadar abd-yunanistan karşılıklı savunma işbirliği anlaşmasının yeni konseptle uzatılması doğu akdeniz &amp; balkanlarda geniş kapsamlı ikili yeni bir yapı ve yeni bir  dönem oluşturma çabası.  https://t.co/gl6y6zeocc\",\n",
              " '@eysanliasker @bariserturk_ mekanlar açılsın, halkımızı mezeye boğacağım',\n",
              " '@bariserturk_ gel de gidelim 😊',\n",
              " \"kongre üyeleri 2017'deki protestoculara saldırıyı unutmamış, erdoğan tarzını buraya getirdi demişler  'hatta erdoğan'ın 2017 abd ziyaretinde, türk güvenlik kuvvetlerının barışçıl protestoculara ve federal çalışanlara saldırması ile kendi tarzını ulusumuzun başkentine getirdi''.\",\n",
              " \"176 abd kongre üyesinden zehir zemberek erdoğan mektubu ||  https://t.co/ksfn1h1ufw  her iki partinin temsilciler meclisi üyeleri blinken'e mektup göndererek, 'erdoğan ile ilişkilerin tamiri ancak insan hakları ve demokrasi tavrı değişirse mümkün olabilmelidir' dedi.\",\n",
              " 'dün covid19 alışının ikincisini oldum. “2. aşının etkisi 1.den daha fazla olur, ateşin çıkar, vücut ağrıların olur halsizleşirsin vs” dediler. sabaha kadar dondum ateşten, halsizlik, kırgınlık hepsi var. ne dedilerse oldu. aşıya güvenim arttı. bilimsellik öngörebilmektir.',\n",
              " 'mahmud ahmedinejad:  şahsıma yönelik suikast tehditleri ciddidir. onlar kendileri öldürüyor, kendileri de cenaze töreni düzenliyor ve başkalarını suçluyorlar. ben söylemem gerekenleri söyledim ve onları iki üç güvenilir yere bıraktım. bana birşey olursa onları yayınlayacaklar. 👇',\n",
              " 'beyaz saray’dan suudi arabistan açıklaması;   •ülke liderlerine yaptırım uygulamayız •mbs’ye yaptırım hakkımız saklıdır •abd - sa ilişkilerini yeniden düzenledik •biden, kral selman’la iletişim içinde  •yemen’deki savaşı bitirmeye çalılıyoruz  kaşıkçı olayı abd’de bitti.',\n",
              " \"#tarihtebugün #kurtuluşsavaşı moskova'da türk ve afgan delegasyonları dostluk ve yardımlaşma antlaşmasını imzalandı. böylelikle afganistan tbmm hükümeti'ni ilk tanıyan ülke oldu. ilk afgan elçisi ahmed han 21 nisan'da ankara'ya gelecekti foto: afgan elçiliğinin ankara'daki binası  https://t.co/v211yqvbjq\",\n",
              " \"türkiye, afganistan'a askeri ve kültür yardımı yapmayı kabul etti. zaten afganistan'da cemal paşa'nın eski harp esiri türk subaylarından kurduğu askeri yardım misyonu faaliyetteydi.  https://t.co/tnztvqrs19\",\n",
              " \"ermenistan'daki çalkantının sebebi neden rusya değil? darbe girişimini desteklemek moskova'nın çıkarlarıyla uyumlu mu? ermenistan rusya açısından neden giderek önemsizleşiyor? hepsini ve daha fazlasını azerbaycan e. başkonsolosu @ibrahimnebioglu anlattı  https://t.co/qzshqdmzo5\",\n",
              " 'fransa cumhurbaşkanı sarkozy, hakkındaki yolsuzluk davasında 3 yıl hapis cezası aldı. cezasının iki yılı ertelenen sarkozy, bir yıl boyunca elektronik kelepçe takacak.',\n",
              " 'metin akpınar ve müjdat gezen hakkında cumhurbaşkanı’na hakaret davasında beraat kararı verildi. geriye bu iki değerli sanatçının, adliye koridorlarına taşındığı, bizleri üzen, utandıran görüntüler kaldı.',\n",
              " 'bugün temel insan hakları, özgürlükler, hukuk üstünlüğü, çoğulculuk, şeffaflık vb. konularda yaşanan ve 28 şubat zulmüne rahmet okutan zalimce tutum, davranış ve politikalar ile bunların dayandıkları siyasi ve hukuki tüm düzenlemeler ilga edilmelidir. @m_boynukalin',\n",
              " \"ersin hoca disiplinimizin duayen hocalarındandı. odtü uluslararası ilişkiler bölümünden judy hoca'mın da sevgili eşiydi. 2018'de tobb etü'de 4.sünü düzenlediğimiz öğrenci kongremizin açılış konuşmasını yaparak etkinliğimizi onurlandırmıştı. ruhu şad olsun, başımız sağolsun.\",\n",
              " \"trump muhafazakar-cumhuriyetçilerin en büyük zirvesi cpac'da konuşma yapıyor. anayasa mahkemesi, sosyal medya şirketleri, demokrat parti vs. saldırıyor.  hiçbir yere gitmiyor.  https://t.co/erlldvd2kr\",\n",
              " '@barissanli takip eden bir arkadaşımdan bu yılki etkinliğin hiç de parlak geçmediğini ve karamsar bir tablo çizildiğini öğrendim. küresel doğal gaz ve özellikle petrol sektörü belki de gelecekte 2015-2019 dönemini çok arayacak ve anacak. özel bir döneme şahit olduk, ama yaşandı ve bitti.',\n",
              " 'darbelerle ilgili üç başucu kitabı 👇🏿  -darbeler nasıl önlenir?  -darbelerin stratejik mantığı  -darbelerin planlaması ve icrası  https://t.co/2l3fjrxdqz',\n",
              " \"5) 2009 yeşil hareketi sonrasında rafsancani'yi susturmak için oğlu mehdi haşimi'yi öldürmek istediler. bundan haberdar olan rafsancani, oğlunu yurt dışına çıkarttı. rafsancani’nin oğlu hamaney'den öldürülmeyeceğine dair güvence aldıktan sonra iran’a dönebildi ve hapse girdi.\",\n",
              " \"2) said haccariyan mart 2000'de tahran belediye binasından çıkarken yüzünden kurşunlandı. bu suikast reform hareketinin kaderini değiştirdi. işin ilginç olanı muhammed hatemi ve reformcular bu suikasttan sonra geri adım attılar. bu suikast reform hareketini zayıflattı.\",\n",
              " \"1) ahmedinejad, kendisine yönelik suikast tehditlerinin çok ciddi olduğunu söyledi. iran’da çok köklü siyasi suikast ‘geleneği' var. bu tehditler ona değil yakınlara yönelik olabilir. nitekim reform hareketini durdurmak için hatemi'ye değil s. haccariyan'a suikast düzenlediler.\",\n",
              " \"bugün @dunyanin_hali 'nde uluslararası siyaset ve darbeleri konuştuk. @kilickanat @kadirustun   1991-2021 yılları arasında darbeler ve darbe girişimleri👇  https://t.co/2sdwoejac2\",\n",
              " 'avrasyacılıktan mavi vatana: ideolojiyi jeopolitikleştirmek  https://t.co/xb58nqezmy \"..bu aktörler türkiye ile batının çıkarlarının çatıştığı tezine ısrarla vurgu yaparken, yapısal ve tarihsel olarak çatışma halindeki türk-rus çıkarlarına uyum içerisindeymiş muamelesi yapıyorlar\"',\n",
              " '“isimlerinde nadir sıfatı bulunmasına rağmen, çoğu nadir toprak elementi nispeten bol miktarda bulunur. bununla birlikte, nadir toprak elementlerimi çıkarma ve bunları kullanılabilir malzemelere dönüştürme süreci, pahalıdır ve çevreye zarar verir.”',\n",
              " 'yalnizca bisiklet kullananlarin dikkatini cekecek basit ama hayati bir ayrintiyi, cok minik bir kaza ile tecrube ettim bugun: yoldaki mazgallar. kesinlikle dikey degil yatay -veya daha farkli tasarimlar- yapilmasi gerekiyor aksi halde ciddi tehlike. belediyelere not olsun... 🚴\\u200d♀️  https://t.co/zmllrgmyjl',\n",
              " '\"kavala davası türkiye\\'de hukuk krizinin bir simgesi\" - bianet  https://t.co/c7eowltcld',\n",
              " '“yıllar boyunca pekin, küresel pazarda rekabet avantajı kazanmak ve nadir toprak elementlerinin lider tedarikçisi olmak için nispeten düşük maliyetli işgücünü ve gevşek çevre yasalarını kullandı.”',\n",
              " \"5) 2009 yeşil hareketi sonrasında rafsancani'yi susturmak için oğlu mehdi haşimi'yi öldürmek istediler. bundan haberdar olan rafsancani, oğlunu yurt dışına çıkarttı. rafsancani’nin oğlu hamaney'den öldürülmeyeceğine dair güvence aldıktan sonra iran’a dönebildi ve hapse girdi.\",\n",
              " 'mahmud ahmedinejad:  şahsıma yönelik suikast tehditleri ciddidir. onlar kendileri öldürüyor, kendileri de cenaze töreni düzenliyor ve başkalarını suçluyorlar. ben söylemem gerekenleri söyledim ve onları iki üç güvenilir yere bıraktım. bana birşey olursa onları yayınlayacaklar. 👇',\n",
              " 'perşembe türkiye saatiyle aksam 9 da bekliyoruz. türk milliyetçiliği ve kadın hakları konuşacağız. \\u2066@melisalphan\\u2069 \\u2066@kayikgolge\\u2069 ve \\u2066@iremafsin\\u2069 le ilginç konuklarla \\u2066@joinclubhouse\\u2069 \\u2066@clubhouseturkey\\u2069 deyiz!!  https://t.co/mf8dwmmyb5',\n",
              " '@birincimucahit restoran ve cafe kapalı, parti kongreleri apaçık,q #lebaleb. bu da geriyor vatandaşınızı vallahi.',\n",
              " \"eserlerine milyonlarca sterlin değer biçilen banksy'nin, oscar wilde'ın 1895-1897 yılları arasında kaldığı cezaevinin duvarına aşağıdaki resmi yaptığı düşünülüyor.bu cezaevinin yerine rezidansların yapılması planlanıyordu. bu adımdan sonra sanat müzesi olacak gibi :) (foto:bbc)  https://t.co/aw652m94bv\",\n",
              " \"son 20 yılın ender güzel olaylarından biriydi: iskenderun'dan trabzon'a limanların tahsisi ile ülkemizin en hassas bölgesine ne zaman &amp; nasıl çıkarılacağı belirsiz 60 bin abd askerinin yerleşimini içeren 1 mart tezkeresi tbmm'de reddedildi! onurlu duruşa emeği geçenlere saygılar.\",\n",
              " 'ah istatistikler ah... reel sektörün sıkıntıda olduğu, işsizliğin gerilemediği, kredi genişlemesiyle yüzdürülen bir ortamda salt rakamlara bakarsak vaziyete büyüme değil irileşme demek daha makuldür.',\n",
              " 'orhan bursalı : \"bir ihtimal daha var, o da olur mu dersin: kahrolsun emperyalizm!\"  https://t.co/uesxyxtwyv',\n",
              " '📌#afganistan’la diplomatik ilişkilerimizin 100. yıldönümünü kutluyoruz. 📌afganistan büyükelçisi amir ramin’le bakanlığımız bahçesine ülkelerimiz arasındaki dostluğu simgeleyen ladin fidanları diktik.\\xa0 📌ladin dört mevsim yeşildir, dostluğumuz da her daim canlı kalacak. 🇹🇷🇦🇫  https://t.co/xv4tcspoud',\n",
              " \"mısır'ın eastmed ihalesini yunan basınından öğrenmenin garabeti bir yana...mısır'da enerji işlerinin ve ekonominin nasıl yürütüldüğüne dair bir arka plan notu. türkiye için önemli. @essertac  https://t.co/hzipp8jzl0\",\n",
              " '@birincimucahit restoran ve cafe kapalı, parti kongreleri apaçık,q #lebaleb. bu da geriyor vatandaşınızı vallahi.',\n",
              " 'başkent washingtonda;  -resmi ana türk lobi ve pr firması yok(ekimde 2 firma sözleşmelerini fesh etti)  -kongrede hava kötü  -biden yönetimi ankaraya mesafeli.esas görüşme hala yok  -ciddi güven sorunu var  -2 ülkenin çıkar çatışması arttı.  -anti türk grupları ortak çalışıyor  https://t.co/8rxbx9apdu',\n",
              " 'abd kongresinde türk dostluk grubu üye sayısı 86. eski dönemde 150ye çıktığı zamanlar oldu.   şuanda türk dostluk grubu üyeleri bile türkiye konusunda ne gelirse mektuplara imzayı atıyor.  diyalog şart bilhassa tbmm partilerüstü ziyaretlerle milli konular için en azından!',\n",
              " \"🇹🇷🇬🇷 yunanistan dışişleri bakanı nikos dendias, #mavivatan2021'e, “mevcut ortamda gerçekleştirilmesi ve hatta adı bile yunanistan’a karşı dostane olmayan bir davranıştır. yaratmaya çalıştığımız güven ortamına katkıda bulunmamaktadır.” sözleriyle tepki gösterdi.  2/n  https://t.co/oai3gonafb\",\n",
              " '“pekin, uzun vadeli hedeflerine ulaşmak için önce kısa vadeli engelleri aşması gerektiğini kabul ediyor. bu kapsamda potansiyel engeller, çin’in girişimlerinin engellenmesi ve çin’in yükselişini engellemek için müttefik blokların oluşturulmasıdır.”',\n",
              " 'kongrede,ikinci mektubun temsilciler meclisinde imzaya açıldığını ilk söyleyenlerden biri idim.  kongrede partilerüstü  türkiye algısı kötüleşiyor.bilhassa üç konuda net ortak tavır var hem demokrat hem cumhuriyetçilerde  -s400e hayır -ypg destek -insan hakları  https://t.co/upgg3vlh0d',\n",
              " \"bu hedefler arasında ülkenin 14’üncü beş yıllık planının, yani 2035 planının gerçekleştirimesi ve 2049'da çin halk cumhuriyeti'nin kuruluşunun 100. yıldönümüne kadar müreffeh, güçlü, gelişmiş bir ülke olma şeklindeki ikinci yüzüncü yıl hedefine ulaşılması yer alıyor.”\",\n",
              " 'temsilciler meclisinde 172 vekil,abd dışişleri bakanına mektup yazarak,türkiyedeki insan hakları konusunda endişelerini ele alan mektubu yolladı  -172 vekil(sayı büyük) -imzalayanlar arasında türk dostluk grubu eş başkanı bile var -türkiyeye karşı ne yaparsanız yanındayız mesajı  https://t.co/txayfepheh',\n",
              " \"beyaz saray sözcüsü psaki: abd, #khashoggi ile ilgili olarak daha fazla işlem yapma hakkını saklı tutar. ancak temelde suudi arabistan'daki  liderlerine yaptırım uygulanmasını beklemeyin.  abd'den henüz yayınlanmış yeni bir duyuru yok. 14:00de abd dışişleri bakanlığı brifing var  https://t.co/aacao4uoyd\",\n",
              " \"2) said haccariyan mart 2000'de tahran belediye binasından çıkarken yüzünden kurşunlandı. bu suikast reform hareketinin kaderini değiştirdi. işin ilginç olanı muhammed hatemi ve reformcular bu suikasttan sonra geri adım attılar. bu suikast reform hareketini zayıflattı.\",\n",
              " \"1) ahmedinejad, kendisine yönelik suikast tehditlerinin çok ciddi olduğunu söyledi. iran’da çok köklü siyasi suikast ‘geleneği' var. bu tehditler ona değil yakınlara yönelik olabilir. nitekim reform hareketini durdurmak için hatemi'ye değil s. haccariyan'a suikast düzenlediler.\",\n",
              " 'nasıl? biontech almanya\\'dan aşı başına 54 euro istemiş. almanya hükümeti pazarlık sonucu 15 euro\\'ya anlaşmış. tüm almanya kamuoyuna açıkladılar. her halk aşıya ne ödediğini biliyor. tek türkiye bilmiyor. \"fiyatın ticari sır\" olması, vergiyle olmaz.',\n",
              " \"açılma kararları virologların ve sağlıkçıların kararı olamaz. oy kaybettiğini gören, pandemide emekçileri ve esnafları desteklemek yerine 128 milyar dolar'ı çarçur eden akp'nin koltuk derdi kararı. risk önemli oranda artacak.\",\n",
              " \"5 mart cuma günü saat 20.00 'de  emekli emniyet müdürü @hanefiavci2014  ile terörizmi yaratan şartları, terörle mücadeleyi ve istihbaratı konuşacağız. herkesi bekliyoruz.\",\n",
              " 'halil inalcık hoca vasıtasıyla \"ilmi yardımcı\" ünvanını yeniden akademiye kazandırsak fena olmayacak zannındayım.',\n",
              " 'ersin onulduran hoca’nın vefatını derin üzüntüyle öğrendim. \\u2066\\u2066\\u2066@bilkentuniv’\\u2069de ders verirdi, jürilere katılırdı. genç akademisyenleri hep desteklerdi. arayıp hal hatır sorardı. her daim içten ve sıcak gülüşü ile hatırlayacağım. allah rahmet eylesin. başımız sağolsun.  https://t.co/bsbimuqowb',\n",
              " '@emre31046984 @ataegemenc evet senin ayransa çok şey kaçırıyorsun dostum',\n",
              " '@canuck_budak uyarmak yeterli değil de o tamamen kişisel çıkar odaklıydı. :)',\n",
              " 'bütün ideolojik önyargılarımı arkada bırakarak samimi şekilde soruyorum:   erbakan’ın bunca senelik siyaset kariyerinde ülkeye ne katkısı oldu?',\n",
              " 'kendisini bilgesam kurul toplantılarından tanıdığım prof.dr. ersin onulduran hocamızı kaybetme haberini duymak çok üzücü. gerçek anlamda bir bilge insandı. bilim dünyası için bir kayıp. allah rahmet eylesin.',\n",
              " \"13 sene önce - 1 mart 2008'de, ermenistan'da siyasi kriz yaşanmaktaydı. iktidar-muhalefet krizi sonucunda gösterilerde 10 kişi öldürülmüştü. iktidara sarkisyan gelmişti. bugün de kriz devam ediyor. başkent irevan'da paşinyan karşıtları hükümet binasını basmış.\",\n",
              " \"yıllardır tr'deki en çarpıcı ayrım seküler-muhafazakar ayrımıydı belki. ama son yıllarda demokrat-otoriter ayrımı seküler-muhafazakar ayrımının etkisini azaltmış gibi gözüküyor. bu çok önemli bir gelişme ve kesimler arası dayanışma/iletişimi güçlendirebilecek potansiyele sahip.\",\n",
              " 'esnafın kaybının karşılanmaması, emekçilere yardımın yapılmaması ve bu arada oyların hızla erimesi korkusu erken açılmayı getiriyor. umalım üçüncü dalga büyütülmez.',\n",
              " '@atamanatilkan konu komşu, eş dost ziyaretlerini kısıtlama, dışarıda akşam yemeklerini kısa kestirme.',\n",
              " 'genel kurulları iki defa yazmışlar. neden acaba? parti kongreleri de yazılmamış. bitti mi?',\n",
              " '@borayi1maz boracım, ben de katılıyorum ama iddia bu değildi... onların yerli/milli versiyonlarını yapmak idi. çakmasını yapıp hakikisini kapatmayı planlıyor olabilirler mi acaba?',\n",
              " 'yıllarca her gün israil’i yok edeceğiz blöfü yapıp her hafta suriye’de israil elinden ağır bir darbe yemek 🤔🤔',\n",
              " 'ilginç:   pentagon, suriye saldırısında 1 iran destekli milisin öldürüldüğünü 2 milisin ise yaralandığını açıkladı.   saldırıda 2 f-15e görev almıştı  7 füze atılmış  9 bina tamamen 2 bina kısmen tahrip edilmişti.  https://t.co/zcqitvtnki',\n",
              " \"çin'e yakınlaşmayı savunanlar değerli bir gerçeği gösterdi. tr'deki demokrat-otoriter ayrımı seküler-muhafazakar ayrımıyla çakışmıyor. sekülerler de uygur türklerine yapılanları yok sayıp çin'le müttefikliği savunabiliyor. uygur meselesi demokrasi için tam bir turnusol kağıdı.\",\n",
              " 'çin ve rusya’ya yönelmemizi destekleyenler var. bu iş basit bir strateji meselesi değil. dostların kimse, onlara benzemeye başlarsın. tr’nin çin ve rusya ile müttefik olup demokratik olabileceği bir dünya yok. bu iş emekli amirallerin kafasında oynadığı strateji oyununa benzemez.',\n",
              " 'belaruslular ve rusyalıların adalet mücadelelerine desteğe hazır ab aynı sorunlarla cebelleşen türkiyeliler sözkonusu olduğu zaman başka tarafa bakar. bu, bilinçli bir seçimdir. kıstasları dinî midir, coğrafî midir veya başka mıdır, siz karar verin. ama siyasî olmadığı aşikâr.',\n",
              " 'bugünki yazımda,dağ fare doğurdu manşeti ile,kaşıkçı cinayeti raporundan yeni birşey çıkmayacağını belirtmiştim.  biraz önce b.saray sözcüsü:  yabancı liderlere yaptırım getirmez  suudi arabistan ile çıkarlarımız var  prens salman yırttı.konu kapandı zaten abd için kapanmıştı  https://t.co/hodglqberi',\n",
              " 'türkiyenin kaşıkçı cinayeti konusunda şeffaf ve dünya kamuoyunu bilgilendirmesi büyük başarı ile yapılmıştır.  abd,suudileride çok üzmeyecek adımlar atıyor.süpriz yok.biden kampanyasında ceza vereceğiz demesine rağmen u dönüşü yaptı.  abd halkınında cinayet raporu umru değil.',\n",
              " 'kaşıkçı cinayetinden başkentten bugün birşey çıkar mı?  biden yönetimi,cinayet raporuna tepkiler sonrası,bugün yeni açıklama yapacak  beklenti pek bir şeyin çıkmayacağı  abdnin suudilere silah satışı(2015-2020):$64.1milyar  suudilerin silah ithalatının 73%ü abdden  (ref:brooking)',\n",
              " 'ki bunu ülkemiz bazında net görüyoruz: türk siyasetinin ve akademyasının yoğun güvenlikçi politikaları ve yaklaşımları özgürlükleri, demokratik hak v hukuku yok etmiştir.   \"güvenlik-özgürlük dengesi\" diyenler aslında yoğun güvenlikçilerdir, özgürlükleri tehdit olarak görürler.',\n",
              " '“geçmişteki körelmenin bir belirtisi, bu konulardaki transatlantik diyaloğun neredeyse tamamen çöküşü oldu. yeni doğmakta olan iyileşmenin bir göstergesi ise transatlantik işbirliğinin yeniden ortaya çıkması.”',\n",
              " '🇪🇺🌏  1 mart asem günü - 25’inci asya avrupa buluşması  “ab, bugün iki kıtada işbirliğini, ortaklığı ve bağlantıyı teşvik ederek asya ve avrupa arasındaki ilişkilerin güçlendirilmesinin önemini kutluyor.”  https://t.co/20d1bee9w1',\n",
              " \"“örneğin amerika birleşik devletleri, güney çin denizi'ndeki diğer iddia sahibi devletlerin petrol ve doğalgaz faaliyetlerine meydan okumak için çin’in sahil güvenlik güçlerini konuşlandırdığına ve tayvan yakınlarında artan tatbikat ve karakol faaliyetlerine işaret etti.”\",\n",
              " \"iran destekli şii milislerin paylaştığı türkiye karşıtı animasyon video.  abd'de biden yönetimi başa geldiğinden beri iran ve iran destekli şii milislerin türkiye karşıtı söylemleri arttı.  https://t.co/dprosneycw\",\n",
              " 'halk düşmanları!   https://t.co/1xqf3ivldd',\n",
              " 'müjdat gezen ve metin akpınar’ın bir televizyon programındaki söylemleri nedeniyle cumhurbaşkanı’na hakaret suçundan yargılandığı davada\\xa0beraat ettiler.   ortada bir hakaret falan yoktu, amaç, onların üzerinden muhalif sanatçıları korkutmaktı ama hiçkimse korkmuyor  https://t.co/gnbnmbrnx3',\n",
              " 'ne cezaeviydi ama, arkadaşların mangalı cezaevine getirip balık/kebap yapıyordunuz, cezaevi savcısı da mangal yelliyordu.   sonra, ilk okul çocuklarını bile ‘bana sosyal medyada hakaret etti’ diye okulda derslerinden, evlerinden gözaltına aldırttın!  https://t.co/wdqpbdivsy',\n",
              " 'kıymetli hocam ersin onulduran vefat etmiş. çok üzüldüm. o gülen yüzüyle ve \"ama ramazan...!\" diye seslenişiyle hatırlamaya devam edeceğim. allah rahmet eylesin.',\n",
              " 'yakın zamanda çıkacak akademik makalemde,  israil-yunanistan-gkry arasındaki ilişkilerin askeri bir ittifak niteliği kazandığını ve bu ittifakın \"ötekisinin\" türkiye olduğunu iddia ediyorum. sıfır-toplamlı bir akdeniz oyununda türkiye, \"arayışta olanlara\" dönmelidir yüzünü...',\n",
              " \"“salgının orta vadede savunma sektörünü de olumsuz etkilemesi muhtemeldir.  covid-19 krizinin ekonomik sonuçlarının, 2020'de beklenen ekonomik durgunluk ve potansiyel olarak kalıcı olumsuz ekonomik etkiler nedeniyle özellikle sert olması beklenmektedir.”\",\n",
              " \"m5 dergisi'yle (@m5dergi) yaptığımız mülakatta, aynı yazıdan ve argümanlardan yola çıkarak, daha teferruatlı bir değerlendirme yapmıştım:  https://t.co/wdodkbal0w\",\n",
              " 'türkiye\\'de yeni ev arayan aileler \"zoom odası\" istiyor. online alışverişlerde online toplantı aksesuarları giderek çeşitleniyor. eğitimden çalışmaya kadar digital yaşamın kalıcılaşacağı görülüyor.  #coronavirus  https://t.co/6romlnkej4',\n",
              " \"dün 28 şubat (1997), türkiye tarihinin çok karanlık militarist faşizan darbesinin yapıldığı günün utanç haliydi!  bugün 1 mart (2003), türkiye demokrasinin ve tbmm'nin emrivaki savaşa karşı durduğu günün övünç haliydi!  yarın...yeni v zoru sınavlarla ağlayacağımız günler olmasın!\",\n",
              " \"dün 28 şubat (1997), türkiye tarihinin çok karanlık militarist faşizan darbesinin yapıldığı günün utanç haliydi!  bugün 1 mart (2003), türkiye demokrasinin ve tbmm'nin emrivaki savaşa karşı durduğu günün övünç haliydi!  yarın...yeni v zoru sınavlarla ağlayacağımız günler olmasın!\",\n",
              " 'raylar boyunca  raylar boyunca akıp gidiyor nehir akıp gidiyor raylar akşam boyunca camdan bakıyoruz, ülkeyle ben, bir de çocukluğumuz demir köprüden hızla geçip gidiyor tren  söz: hakan yılmaz müzik: tanju duru   https://t.co/givdcjldul #nowplaying',\n",
              " '@sbarisgulmez @erhanicener @ulkernuronurh ilahi, gündürdünüz beni 🤣 ben hala saklıyorum o notları. övünmek gibi olmasın hakkaten güzel not tutmuşum. 🤓hala da yararlanıyorum zaman zaman. tabii o zaman şansımız, bu okumaların içinden çıkamadığımız zaman bize destek olan, @inanruma  gibi kurtarıcılarımız olmasıydı. 🥰',\n",
              " '#gara saldirisi sonrasi yazdigim analiz yayinda:   ✍🏻 #korfez ulkeleri teror orgutu pkk’ya nasil bakiyor?   acikcasi konu hakkinda pek bir literatur yok (ne turkce ne ingilizce) yeni ve daha kapsamli calismalara vesile olmasini diliyorum🙏🏻',\n",
              " 'abd’nin mbs’yi suclayan #kasikci raporuna #korfez ne dedi?  📌suud zaten reddetti: “delile dayali degil, asilsiz” 📌bae, kuveyt, bahreyn ve umman, suud’a destek verdi 📌katar net bir aciklama yapmadi. katarli dostumun yorumu: daha yeni baristik. arayi tekrar bozmak istemiyorlar.',\n",
              " '@ugurdundarsozcu  ülkemizi felakete sürükleyen ve ortaçağ karanlığının temsilcisi iradenin ilkelerden, çağdaşlıktan ve etik değerlerden yoksun tetikçileri tarafından saldırılan ve kalemini bugüne kadar satmamış olan değerli  gazetecimiz uğur dündar’ı destekliyorum.  iyi ki var!',\n",
              " '“v şeklinde bir toparlanma hala mümkün olsa da, ekonomik durgunluk devam ederse bu daha az olası hale gelecektir.  buna ilave olarak, büyük bir dış askeri tehdit olmadığı sürece, sosyal (ve ilgili) harcamalar savunma harcamalarına nazaran daha fazla öncelik kazanacaktır.”',\n",
              " 'beyaz saray programı:  biden bugün memleketi delewareden ,başkente dönüyor.  meksika devlet başkanı ile görsel toplantısı  basın sözcüsünün tr saati ile 20.00 toplantısı var  https://t.co/ecac7ccky6',\n",
              " '@tyfnyldz1985 bence hitler bu konuda girmemesi lazim. irkicilik ve soykirim yapmak buyuk fark var.',\n",
              " \"'konya'yı chp almış' 'uşak hdp'ye geçmiş' şakalarının hemen sonrası, akşam üstü rakısı planlarının hemen öncesi..\",\n",
              " '“çin’in dış politika uygulayıcıları, ülkenin dış ilişkilerinin ulusal hedeflerini, özellikle de sürdürülebilir kalkınmasını desteklemesi gerektiğini açıkladılar.”',\n",
              " '#gara saldirisi sonrasi yazdigim analiz yayinda:   ✍🏻 #korfez ulkeleri teror orgutu pkk’ya nasil bakiyor?   acikcasi konu hakkinda pek bir literatur yok (ne turkce ne ingilizce) yeni ve daha kapsamli calismalara vesile olmasini diliyorum🙏🏻',\n",
              " 'abd’nin mbs’yi suclayan #kasikci raporuna #korfez ne dedi?  📌suud zaten reddetti: “delile dayali degil, asilsiz” 📌bae, kuveyt, bahreyn ve umman, suud’a destek verdi 📌katar net bir aciklama yapmadi. katarli dostumun yorumu: daha yeni baristik. arayi tekrar bozmak istemiyorlar.',\n",
              " \"wagner, libya'da canice ve hedef gözetmeksizin müslüman katlediyor, tıpkı blackwater ve türevleri gibi...  dünya medyasında haber dahi olmuyor.  dünya ve bizdeki mandaci kafa ise türkiye azerbaycan'a cihatçı gönderdi mi onu tartışıyor..👇🏾👇🏾 @rubioannabel\",\n",
              " \"eserlerine milyonlarca sterlin değer biçilen banksy'nin, oscar wilde'ın 1895-1897 yılları arasında kaldığı cezaevinin duvarına aşağıdaki resmi yaptığı düşünülüyor.bu cezaevinin yerine rezidansların yapılması planlanıyordu. bu adımdan sonra sanat müzesi olacak gibi :) (foto:bbc)  https://t.co/aw652m94bv\",\n",
              " \"mısır'ın eastmed ihalesini yunan basınından öğrenmenin garabeti bir yana...mısır'da enerji işlerinin ve ekonominin nasıl yürütüldüğüne dair bir arka plan notu. türkiye için önemli. @essertac  https://t.co/hzipp8jzl0\",\n",
              " '@tyfnyldz1985 bence hitler bu konuda girmemesi lazim. irkicilik ve soykirim yapmak buyuk fark var.',\n",
              " \"“bunu yapmak için, çin üç yönlü, orta vadeli bir strateji izliyor gibi görünüyor:   1️⃣ ülke içindeki önceliklere odaklanmak için düşmanca olmayan bir dış çevre oluşturmak;    2️⃣amerika'ya olan bağımlılığı azaltırken dünyanın geri kalanının çin'e bağımlılığını artırmak; ve\",\n",
              " 'osman kavala’yı bırakmayan türkiye’ye yaptırım çağrısı  https://t.co/adtsg9bf2a via @gazetekarinca',\n",
              " \"“avrupa'da 1945'ten beri büyük bir savaşın olmaması, büyük güç rekabetinin artmasıyla bile değişmeyen bir güvenlik duygusu yarattı. bu nedenle, askeri harcamalar, insan güvenliği açısından fark edilebilir etkileri olan diğer daha acil krizlerin bir kez daha gerisine düşebilir.”\",\n",
              " '@adnanagac kahvehaneler ne oldu yaaa, açılacak mı? babam bir gidip de oyun oynayacak mı? arar birazdan beni ! acil söyle',\n",
              " 'bu fidanlar da dostluğumuz gibi köklerinden güç alarak büyüyecek🌱🌳🇹🇷🇦🇫  afganistan ile ilişkilerimizin 100. yılı dolayısıyla bakanımız @mevlutcavusoglu, afganistan’ın ankara büyükelçisi @amirmramin’le birlikte bakanlık bahçemize kadim dostluğumuzu temsilen fidan dikti.  https://t.co/fv1htfghzy',\n",
              " 'neden? \"borsa istanbul’daki yabancı oranı geçen cuma günü kapanış verilerine göre 45.85 düzeyindeydi. rakam, geçen yıl ocak ayındaki yüzde 65.79’a göre önemli bir gerilmeyi yansıtıyor. yani neredeyse borsadaki yabancı oyuncu, 3’te 1 oranında düşmüş durumda.\" (@dunya_gazetesi)',\n",
              " '\"güvenlikleştirme yoluyla güvenliğin inşası salt “olmayan” sorunların güvenlik tehditleri olarak yaratılması olarak anlaşılmamalıdır. covid-19...sağlık alanındaki güvenlikleştirmeler eliyle alınan olağanüstü önlemlere meşruiyet...\" @sinemacikmese dengeli.   https://t.co/9s9pnjuvs1',\n",
              " \"bakanlığımız ve @setavakfi işbirliğiyle, afganistan'la ilişkilerimizin 100. yılı vesilesiyle düzenlediğimiz çevrimiçi konferansın açılışını gerçekleştirdik.  📌gücünü ortak tarih ve kültürümüzden alan köklü ilişkilerimizi her alanda geliştireceğiz. 🇹🇷🇦🇫  https://t.co/01axjluktu\",\n",
              " \"myanmar' ın bm' deki büyükelçisi tun ülkesinde darbe yapan cuntayı kınayan bir konuşma yaptı ve ardından görevinden alındı. demokrasiye sahip  çıkan ve makamına esir olmayan tun' a tebrikler.\",\n",
              " 'çok değerli bir insan ve bilim adamını kaybettik. akademik yaşamımdaki önemi çok büyük. babacan tavrı, her zaman gülümseyen yüzü ve yardımseverliğini ve akademik yol göstericiliğini unutmayacağım. kendisini tanımış olmak bir onurdu.allah rahmet eylesin. mekanı cennet olsun.',\n",
              " 'yalnizca bisiklet kullananlarin dikkatini cekecek basit ama hayati bir ayrintiyi, cok minik bir kaza ile tecrube ettim bugun: yoldaki mazgallar. kesinlikle dikey degil yatay -veya daha farkli tasarimlar- yapilmasi gerekiyor aksi halde ciddi tehlike. belediyelere not olsun... 🚴\\u200d♀️  https://t.co/zmllrgmyjl',\n",
              " \"@kilpacino35 bence mesaj atmadan önce vikipedya'ya filan bir bakın. franko 1975'te öldü. ispanya 1992'de nato üyesi oldu.\",\n",
              " \"suudi arabistan'ın israil ile normalleşme gerekçesi de hazır. sözde biden yönetimi trump'ın teşvik edici politikasını uygulamayacaktı. evet bayağı fark var arada. yeni yönetim teşvik değil tehdit ediyor. #khashoggireport #sanctionmbs\",\n",
              " '@drtasdan sormayın, alem biriydi hoca. makamında ziyaret etmiştim, evrencim düşünebiliyor musun, dekanın özel tuvaleti var!!! demişti şaşkınlıkla. sonra da tadilattan binada tuvalet bulamayan hocalara o tuvaleti açmıştı. dekanlıktan aldılar kendisini nitekim...',\n",
              " 'bugüne iki değerli mezunumuz @ozyapicibanunur ve @inciyanikk ın dokuz eylül üniversitesi uluslararası ilişkiler yüksek lisansına kabul aldığını öğrenerek başladım. idari toplantılar ve koşuşturmaca arasında ilaç gibi geldi bu haber. gurur duyuyorum sizinle gençler #ikcuirrocks🤟',\n",
              " '@erhanicener oldu valla dostum ya.',\n",
              " 'trump, senatoda ve temsilciler meclisinde azil sürecinde kendisi aleyhinde oy veren cumhuriyetçilerin isimlerini teker teker saydı.  açıkça, \"bir sonraki seçimlerde bu isimlerden kurtulun\" dedi.',\n",
              " '@ahmettuncsen @mvolkankasikci @abdurrahimozer_ @kendaljano bugün tamamladığım bir yazıda, tek parti dönemini çalışırken bugünün kimlik siyaseti perspektifinden bakmamak gerektiğini anlattım, böyle bakmanın anakronizm olacağını söyledim. şimdiyse kafam karıştı, bu anakronizm mi, yoksa presentism mi?',\n",
              " 'halk düşmanları!   https://t.co/1xqf3ivldd',\n",
              " 'müjdat gezen ve metin akpınar’ın bir televizyon programındaki söylemleri nedeniyle cumhurbaşkanı’na hakaret suçundan yargılandığı davada\\xa0beraat ettiler.   ortada bir hakaret falan yoktu, amaç, onların üzerinden muhalif sanatçıları korkutmaktı ama hiçkimse korkmuyor  https://t.co/gnbnmbrnx3',\n",
              " \"trump:  biden bizim hazırladığımız aşı planını uyguluyor. biz aşıları rekor sürede hazır ettik ama şimdi medya tüm krediyi biden'a veriyor.  onun olan bitenden haberi dahi yoktu.\",\n",
              " \"@abdurrahimozer_ @ahmettuncsen @kendaljano feminizmin snickers'dan farkı ne ama :) ikisi de o dönemde yok.\",\n",
              " 'mavi vatan girit üzerinden, boğazlar ise dedeağaç üzerinden kuşatılırken türkiye’yi yöneten siyasi kadroya, hem halk bank davasıyla hem de şu anda askıda tutulan mal varlığı soruşturması ile şantaj yapılması, bir milli güvenlik sorunudur.  https://t.co/zbfcprukru',\n",
              " \"abd'nin 2018-2020 yılları arasındaki terörle mücadele operasyonları  https://t.co/gjthwhkhut\",\n",
              " '@haticeozgiden bana sordular, 3 tercih istediler ama üç tercihten birini atamadılar :) maalesef bu plansızlık ve vurdumduymazlık çoğu üniversitede var.',\n",
              " 'bir tane de potansiyel iyi haber, malum imf sdr \"airdropu\" yapmaya çalışıyor ve yellen destek çıktı. citi ve ms\\'in hesabına göre böyle bir durumda ekonomiye etkisi olarak değil ama rezervlere etkisi olarak türkiye de ön plana çıkıyor.  https://t.co/paepqrozhk',\n",
              " '@haticeozgiden bu konular işleyişi bilmeyen enstütü memurları tarafından idare edildiği ve onlar da günü kurtarmaya çalıştıkları için bu halde. kimsenin kaliteli bir iş çıkarma gibi bir derdi yok, herkes teorik olarak işini yapıyor. maalesef vasatlığa bizi alıştırıyorlar.',\n",
              " '10 gün dışarıya adım atılmaz.herkes şimdiden yarından başlamak üzere 10 günlük kalkınma planı yapmıştır😅',\n",
              " \"“eğer reel sektör düşük maliyetli finansman imkanlarıyla desteklenmesiydi; eğer ticaret diplomasisinin neferleri ihracatçıların yeniden rekorlara dönmesini sağlayacak imkanlar sağlanmasıydı, bugün bambaşka bir türkiye ekonomisi'ni konuşuyor olacaktık.”  https://t.co/urhpjhx8pf\",\n",
              " 'trump:  önce temsilciler meclisini ve senatoyu kazanacağız.  ardından bir cumhuriyetçi isim başkanlığı yeniden kazanacak.  bu isim acaba kim olacak..? :))',\n",
              " 'uiap söyleşiler serisinin 6.sında değerli dostum prof. dr. ali balcı ile teorik bir konu konuşacağız. kendisi bize uluslararası ilişkilerde osmanlı çalışmak başlığıyla bir konuşma yapacak. @ircomibu @uianalizorg @abalci  etkinlik uiap youtube kanalında gerçekleştirilecektir',\n",
              " \"moskova, 2013'ten bu yana ilk kez tahvil ihraç edecek.  moskova borçlanma piyasasına girmeye hazırlanıyor, ilk tahvil ihracının bu baharda 1 ila 30 yıl vadeli yapılması planlanıyor.  https://t.co/2z5z7dlzkm\",\n",
              " \"trump cpac 2021'de konuştu ve 2024 başkanlık seçimleri için yeşil ışık yaktı:  - yeni parti kurmuyorum, bunlar yalan haber - demokratları 3. kez yenmek üzere karar alabilirim - önce temsilciler meclisini ve senatoyu geri alacağız, ardından cumhuriyetçi biri başkan olacak\",\n",
              " 'japonya durgunluktan zor çıkar...  https://t.co/seagnvs8sy',\n",
              " '@mvolkankasikci @abdurrahimozer_ @ahmettuncsen @kendaljano verilen örneklere baktıkça, iki kavramın aslında eşanlamlı olduğunu düşünüyorum.',\n",
              " 'rusya, tarihinde ilk defa sudan’a savaş gemisiyle ziyaret gerçekleştiriyor.  aralık ayında rusya’nın sudan’da deniz üssü kurması anlaşması imzalanmıştı.  sudan’a ilk ziyaret karadeniz filosu’ndan amiral grigoryeviç isimli meşhur savaş gemisiyle yapılıyor.   https://t.co/7qwye4zmga  https://t.co/j6zddmogev',\n",
              " \"beyaz saray sözcüsü, muhammed bin selman'a yaptırım uygulamamanın 'doğru karar' olduğunu savundu @anadoluajansi  https://t.co/sntqfcixsl\",\n",
              " \"beyaz saray sözcüsü jen psaki:  - abd genel anlamda yabancı liderlere yaptırım getirmez (yani mbs'ye yaptırım beklemeyin) - ileri bir adım atma hakkımız saklıdır (ama mbs olmayacak) - abd'nin s.a. ile ortak çıkarları var - ilişkimiz trump dönemindeki gibi olmayacak  https://t.co/deurqloekv\",\n",
              " 'enteresan:  abd istihbaratının kaşıkçı raporunda bir şeyler dönmüş.  raporun cuma günü açıklanan ilk versiyonu (solda) ve aynı akşam konulan ikinci versiyonu (sağda).  3 isim rapordan silinmiş. nedeni bilinmiyor.  https://t.co/tos2k1poby',\n",
              " \"karikatürist politico'nun gözünden rusya ve bundan sonraki avrupa yaptırımları  https://t.co/q3iftsqi0q\",\n",
              " 'türkiye\\'ye s-400 yaptırımı uygulayan abd, norveç\\'e izin mi verdi?  nato\\'nun üyesi norveç donanmasının motorlarını üreten \"bergen engines\", rus şirketine satıldı.   https://t.co/wazj27kh67  https://t.co/ubyoedvukp',\n",
              " \"ermenistan'da binlerce kişi, başbakan paşinyan'a destek için erivan merkezinde toplandı.  başbakan paşinyan, destekçilerine konuşma yapıyor.  https://t.co/ryqhtscxvg\",\n",
              " 'romanya’nın ankara’ya atanan yeni büyükelçisi stefan tinca’yı (@tincastefan) ağırladık. 🇹🇷-🇷🇴/🇪🇺 ilişkileri ile bölgesel sınamalar ve  işbirliği fırsatlarını ele aldık. büyükelçiye ülkemizdeki yeni görevinde başarılar diliyoruz. @tc_disisleri @trembbucharest @abbaskanligi  https://t.co/zloovazrsp',\n",
              " \"abd'de skandal bitmiyor.  cemal kaşıkçı'nın ölümünden sorumlu olan suudiler hakkında bir abd istihbarat raporu gizemli bir şekilde kaldırıldı ve daha az isimli bir versiyonla değiştirildi.   https://t.co/cpa2kn5rz9\",\n",
              " 'türk savunma sanayiinin izlerini artık dünyanın her köşesinde görmek mümkün. kazakistan ordusunun modernizasyonunda da seçim türk zırhlıları oldu.  https://t.co/2mgyxhnrxj',\n",
              " \"paşinyan-putin görüşmesinde darbeden çok iskender füzeleri konuşulmuş.  paşinyan, putin'e füzeler konusunda yanlış bilgilendirildiğini belirtmiş. rus füzelerinin dünyada örnekleri arasında en iyileri arasında olduğunu söylemiş. :)  https://t.co/c2fssipzwz\",\n",
              " \"beyaz saray, suudi veliaht prensi cezalandırmama kararını savundu, abd'nin yabancı liderlere yaptırım uygulamadığını söyledi.  abd, selman'ın lider olmadığını henüz bilmediği ise alay konusu oldu.    https://t.co/kadb2keoyx\",\n",
              " 'boğaziçi’nden hocam başka 1 üniversitede dekan olmuştu. makam arabası vermişler. o da hiç alışık değil böyle uygulamalara, kullanmıyordu. fakat konferans, toplantı için hocaları götürmeye kullanıyordu dekanlık aracını, servis otosu gibi😂bunu öğrenen rektörlük aracı elinden aldı!',\n",
              " \"yunanistan savunma bakanı: ¨d.akdeniz'deki güvenlik sorunu, bizi askeri ittifaklarımızı yoğunlaştırmaya zorluyor. bunlara fransa, israil, bae ve mısır dahildir.¨ -türkiye israil ve mısır'la ilişkilerini düzelterek bu oyunu tümüyle bozmalı...\",\n",
              " \"uluslararası yardımlara bağımlı olması hasebiyle lübnan, tunus'un başına gelecekleri de göstermesi açısından önemli bir 'case'dir. tunus'un lübnanlaştırılması kavramıyla literatüre bir katkı yapayım.   lübnan'ın durumu için bkz:   https://t.co/sy83bv4rpn\",\n",
              " '1 mart 2021 saat 14.00’te, habertürk’te olacağım... @haberturktv @ersoyakif1',\n",
              " 'iktidarın demokraside ve ekonomide yaratığı krizden tek çıkış yolu dayanışmadır; muhalefetin yönettiği belediyelerin gösterdiği dayanışmanın üretime ve istahdama taşınmasıdır; belediyelerin sahada çözüm modeli çıkışın başlangıç noktasıdır',\n",
              " \"açılma kararları virologların ve sağlıkçıların kararı olamaz. oy kaybettiğini gören, pandemide emekçileri ve esnafları desteklemek yerine 128 milyar dolar'ı çarçur eden akp'nin koltuk derdi kararı. risk önemli oranda artacak.\",\n",
              " 'böyle bir akıl olabilir mi? bu insanlar 4 yıllık trump kabusundan bile ders almamışlar.  yurt dışında yıllardır yardım yapıyor abd. ama yardım yaptığı ülkelerde bile \"en çok nefret edilen ülke\" konumunda.  biden\\'ın ilk kalp krnizinde bu şahıs dünyayı yönetecek!',\n",
              " \"diriliş postası gazetesini takip edersek daha iyiye gitmeleri için teşvik etmiş oluruz. bu önemli. takip edip paylaşırsak genel yayın yönetmeni recep yeter'in dedi gibi gören gözümüz daha keskin görür, duyan kulağımız daha çok duyar ve en önemlisi sesimiz daha net ve gür çıkar.\",\n",
              " \"ilk #on1'i çıkarmadan haftaya başlamayın !  canli yayindayiz  https://t.co/xdlh3fmvrj @youtube aracılığıyla\",\n",
              " '@osmanozdemir69 @pinaryaziyor @yusuf71661 bir ağaçtan okluk da çıkar b*kluk da...',\n",
              " 'hala anlamadılar oyun kuruculuğu.. meseleyi hala abd postallarının girmesi çıkmasıyla hesap ediyor.',\n",
              " \"trump:  biden bizim hazırladığımız aşı planını uyguluyor. biz aşıları rekor sürede hazır ettik ama şimdi medya tüm krediyi biden'a veriyor.  onun olan bitenden haberi dahi yoktu.\",\n",
              " 'trump, senatoda ve temsilciler meclisinde azil sürecinde kendisi aleyhinde oy veren cumhuriyetçilerin isimlerini teker teker saydı.  açıkça, \"bir sonraki seçimlerde bu isimlerden kurtulun\" dedi.',\n",
              " 'trump:  önce temsilciler meclisini ve senatoyu kazanacağız.  ardından bir cumhuriyetçi isim başkanlığı yeniden kazanacak.  bu isim acaba kim olacak..? :))',\n",
              " \"trump cpac 2021'de konuştu ve 2024 başkanlık seçimleri için yeşil ışık yaktı:  - yeni parti kurmuyorum, bunlar yalan haber - demokratları 3. kez yenmek üzere karar alabilirim - önce temsilciler meclisini ve senatoyu geri alacağız, ardından cumhuriyetçi biri başkan olacak\",\n",
              " 'enteresan:  abd istihbaratının kaşıkçı raporunda bir şeyler dönmüş.  raporun cuma günü açıklanan ilk versiyonu (solda) ve aynı akşam konulan ikinci versiyonu (sağda).  3 isim rapordan silinmiş. nedeni bilinmiyor.  https://t.co/tos2k1poby',\n",
              " \"beyaz saray sözcüsü jen psaki:  - abd genel anlamda yabancı liderlere yaptırım getirmez (yani mbs'ye yaptırım beklemeyin) - ileri bir adım atma hakkımız saklıdır (ama mbs olmayacak) - abd'nin s.a. ile ortak çıkarları var - ilişkimiz trump dönemindeki gibi olmayacak  https://t.co/deurqloekv\",\n",
              " \"beyaz saray sözcüsü, muhammed bin selman'a yaptırım uygulamamanın 'doğru karar' olduğunu savundu @anadoluajansi  https://t.co/sntqfcixsl\",\n",
              " \"“eğer reel sektör düşük maliyetli finansman imkanlarıyla desteklenmesiydi; eğer ticaret diplomasisinin neferleri ihracatçıların yeniden rekorlara dönmesini sağlayacak imkanlar sağlanmasıydı, bugün bambaşka bir türkiye ekonomisi'ni konuşuyor olacaktık.”  https://t.co/urhpjhx8pf\",\n",
              " 'abd yine düşmanlık üretiyor -- ibrahim karataş  https://t.co/obwdhaltpc',\n",
              " 'esnafın kaybının karşılanmaması, emekçilere yardımın yapılmaması ve bu arada oyların hızla erimesi korkusu erken açılmayı getiriyor. umalım üçüncü dalga büyütülmez.',\n",
              " 'nasıl? biontech almanya\\'dan aşı başına 54 euro istemiş. almanya hükümeti pazarlık sonucu 15 euro\\'ya anlaşmış. tüm almanya kamuoyuna açıkladılar. her halk aşıya ne ödediğini biliyor. tek türkiye bilmiyor. \"fiyatın ticari sır\" olması, vergiyle olmaz.',\n",
              " \"sincar'da kriz kapıda  -pkk, nuceba, iran dev.mhfz.ları ve lübnan hizbullahı'nın toplantı yaptığı -sincar'dan çıkmama kararı alındığı -pkk ve nuceba'nın sincar güneyine yerleştiği -irak hizbullahı'nın pkk'ya slh/müht.des. sağlayacağı -sincar haseke yolunun açılacağı yönünde bilgi  https://t.co/xi2dxsxa8k\",\n",
              " '@betuldoganakkas kitapta, suriye bağlamında incelerken suudi arabistan’ın pkk politikasını, bu yıl içinde yayınlanacak bir akademik dergide ise suudi arabistan’ın krg üzerinden kürt politikasını ve suudlu karar vericilerin medya üzerinden kürt politikasını nasıl inşa ettiklerini yazdım.',\n",
              " '@abdurrahimozer_ bence kemik. thenn havası yaratmışlar.',\n",
              " '@abdurrahimozer_ gözümde gözlük de var :) kabzayı ayrı bir cisim sandım sen yazana kadar.',\n",
              " \"#ingiltere'nin güneybatısındaki exeter kentinde 2. dünya savaşı'ndan kalma patlamamış bir bombanın keşfedilmesiyle 2 bin 600 hane zorunlu olarak tahliye edildi. 📹  https://t.co/xkah46k4rm\",\n",
              " 'iktidarın demokraside ve ekonomide yaratığı krizden tek çıkış yolu dayanışmadır; muhalefetin yönettiği belediyelerin gösterdiği dayanışmanın üretime ve istahdama taşınmasıdır; belediyelerin sahada çözüm modeli çıkışın başlangıç noktasıdır',\n",
              " \"suriye'de ypg/pkk'ya ab ziyareti..  - ab ve fransa parlamentosu'ndan dört parlamenter ypg ile görüştü..  + bakalım ab'nin bu tutumu, ne zamana kadar ve nereye kadar gidecek + ab kapısında beklerken bir taraftan da altımızı oymaya devam ediyorlar..  https://t.co/bxhe0us2jv\",\n",
              " \"suriye'de ypg/pkk'ya ab ziyareti..  - ab ve fransa parlamentosu'ndan dört parlamenter ypg ile görüştü..  + bakalım ab'nin bu tutumu, ne zamana kadar ve nereye kadar gidecek + ab kapısında beklerken bir taraftan da altımızı oymaya devam ediyorlar..  https://t.co/bxhe0us2jv\",\n",
              " \"daily mail'in haberi doğruysa eğer, ingiltere 1999'da hizmete aldığı ve 2035 civarına kadar kullanmayı planladığı 14 adet c-130j uçağını hizmetten çekmeye hazırlanıyor.   https://t.co/ru63cliphj\",\n",
              " \"sincar'da kriz kapıda  -pkk, nuceba, iran dev.mhfz.ları ve lübnan hizbullahı'nın toplantı yaptığı -sincar'dan çıkmama kararı alındığı -pkk ve nuceba'nın sincar güneyine yerleştiği -irak hizbullahı'nın pkk'ya slh/müht.des. sağlayacağı -sincar haseke yolunun açılacağı yönünde bilgi  https://t.co/xi2dxsxa8k\",\n",
              " 'avrupa günlüğü’nde aşı sertifikası tartışmalarını, midilli’de afgan mültecilere saldırıları, frontex soruşturmasını, avusturya’da yargı bağımsızlığı tartışmalarını ve ab-venezüela krizini ele aldığım son programın kaydı burada:  https://t.co/mrnf8wvglw @medyascopetv @altinbasuniv',\n",
              " '1. “başbuğ” ifadesine telmihle “baş-bu” diye adlandırılmış. 2. kediye benzetilmiş bir kurt ile red kit-vari bir ortam yaratılmış. 3. bedensiz (neden?), çekik gözlü, sarkık bıyıklı hun çerileri arka planı tamamlıyor.',\n",
              " 'dindar müslümanlar neden ahlak üretemiyor? türkiye\\'de neden bir ahlak krizi var? batılı ülkelerin durumu nedir? ahlaksızlık ve otoriterlik ilişkisi var mı? @ozgurkoca2000 ile \"dindar ama ahlaksız olmanın nedenleri\" başlıklı @kitalar_arasi söyleşimiz:  https://t.co/2cze3jtadl  https://t.co/hq5xajaalz',\n",
              " \"@cmuzolini @hepdurgunsu bunun için:  1. önce bu uçakların gerçekten de emekliye ayrılacaklarının teyidi, 2. satışa çıkarılıp çıkarılmayacaklarının teyidi, 3. üretici ve esas satıcı ülke olan abd'nin onayı, 4. bütçede yeterli kaynak  gerekiyor.\",\n",
              " \"@wolf_wayana 2010 aralık ayında başlama kararı alındıktan sonra, • 2011 ağustos ayında ssm ve tusaş arasında kavramsal tasarım sözleşmesi imzalandı, 2013'te tamamlandı, • 2015 boyunca sonraki safhaya hazırlık yapıldı, • 2016'da ön tasarım sözleşmesi imzalandı. bu süreç halen devam ediyor.\",\n",
              " \"libya'da taraflar arasında bm arabulucuğu ile bir anlaşma yapılmıştı.şimdi libya'yı bekleyen siyasi krizler: 1- trablus ve tebruk ortaklığındaki yönetimde denge mümkün olabilecek mi?  2- parlamento nerede toplanacak? 3-üç bine yakın cv nasıl elenecek? ...  https://t.co/ergs2cyjpw\",\n",
              " 'ne cezaeviydi ama, arkadaşların mangalı cezaevine getirip balık/kebap yapıyordunuz, cezaevi savcısı da mangal yelliyordu.   sonra, ilk okul çocuklarını bile ‘bana sosyal medyada hakaret etti’ diye okulda derslerinden, evlerinden gözaltına aldırttın!  https://t.co/wdqpbdivsy',\n",
              " \"2008 ekonomik krizi aslında bir jeopolitik krizdi.  küresel güç parçalanmalarına yol açtı. batı’yı vurdu, yavaşlattı, dünya hakimiyetini bitirdi.   koronavirüs salgını da, sosyal patlamalara, jeopolitik sonuçlara yol açacak. şimdi 2. kriz de batı'yı vuruyor.  dikkatle izleyelim.\",\n",
              " 'cumhurbaşkanı erdoğan:   \"koronavirüs salgını, sağlık krizi olmanın yanısıra, özellikle batı\\'da sosyal krizlere yol açtı.\"',\n",
              " 'müjdat gezen ve metin akpınar’ın bir televizyon programındaki söylemleri nedeniyle cumhurbaşkanı’na hakaret suçundan yargılandığı davada\\xa0beraat ettiler.   ortada bir hakaret falan yoktu, amaç, onların üzerinden muhalif sanatçıları korkutmaktı ama hiçkimse korkmuyor  https://t.co/gnbnmbrnx3',\n",
              " \"bir başka yunan haber sitesi ise mısır'ın, gelecekte yunan çıkarlarına zarar verecek şekilde deniz bölgelerinin sınırlandırılması konusunda türkiye ile anlaşmaya vardığını idda etti. atina'nın bu konuda diplomatik servislerine bilgiler geldiğini ulaştığını yazdı.\",\n",
              " 'yeni  terör dalgası işaretleri var.  abd çok tehlikeli bir oyun oynuyor.   ülkeleri kaybetti, terörle ortak oldu.  içeridekileri de bunun için hazırlıyor.   bizimkiler muhalif olmaktan değil,  abd korkusundan tavır alamıyor.   savunmada kalmak intihardır!  https://t.co/rsdw3kp4i6',\n",
              " 'ne cezaeviydi ama, arkadaşların mangalı cezaevine getirip balık/kebap yapıyordunuz, cezaevi savcısı da mangal yelliyordu.   sonra, ilk okul çocuklarını bile ‘bana sosyal medyada hakaret etti’ diye okulda derslerinden, evlerinden gözaltına aldırttın!  https://t.co/wdqpbdivsy',\n",
              " 'batı kapitalizmi ve antikapitalizm  batı kapitalizmi küresel 2008 ekonomik krizinden @politik_merkez  https://t.co/sgi7ciiomx #politika  https://t.co/14kyddzhhl',\n",
              " 'cumhurbaşkanı erdoğan başkanlığında yapılacak  kabine toplantısı sonrası “normalleşme” adımları açıklanacak.   haftasonu kısıtlamasının kaldırılması (ekonomik sebep),   kafe ve restoranların açılması (psikolojik sebep) acil ihtiyaç...',\n",
              " 'elbette... arka planda aşırı kaldıraçlı, borcun önemli bir kısmının döviz cinsinden olduğu, finansal ivmelendiricinin çalıştığı bir genel denge modeli var. dışsal  şok risk primini artırarak kuru ve faizi yükseltiyor, büyümeyi düşürüyor. son yıllarda böyle çok model yayınlandı...',\n",
              " 'yunan medyası: \"uzun menzilli havadan karaya füzeler ile  türk topraklarının tamamını ve stratejik  hedeflerini vurabilme imkanına sahip olacağız.\"  panik ve korku insana ne cümleler kurduruyor! adaların tamamı tartışmalı hale gelecek demektir...',\n",
              " 'kardeş afganistan ile kadim dostluk ve diplomatik ilişkilerimizin 100.yılını kutluyoruz.. 🇹🇷🇹🇷🇹🇷🇹🇷❣️❣️🇦🇫🇦🇫🇦🇫🇦🇫  https://t.co/wte6piqxje',\n",
              " \"sincar'da kriz kapıda  -pkk, nuceba, iran dev.mhfz.ları ve lübnan hizbullahı'nın toplantı yaptığı -sincar'dan çıkmama kararı alındığı -pkk ve nuceba'nın sincar güneyine yerleştiği -irak hizbullahı'nın pkk'ya slh/müht.des. sağlayacağı -sincar haseke yolunun açılacağı yönünde bilgi  https://t.co/xi2dxsxa8k\",\n",
              " '@guventurks fransız tipi diyet zamanı 🍷🥂  https://t.co/0ig8iq92ba',\n",
              " 'şu sıralar küresel tedarik zincirinde tüm dengeleri altüst eden boş konteyner krizi, ülkeler arasındaki ticaret savaşlarını kızıştırıyor. boş konteynerlerin ticaret alanında stratejik güç olarak kullanılmaya başlanması ilk olarak çin tarafından gerçekleştirildi.',\n",
              " \"uluslararası ilişkiler alanında mearsheimer/nye/waltz kadar kınalızade'yi de okuyanların/okumak isteyenlerin, anadolu'dan da bir teori çıkar mı diye soranların ilgileneceği bir söyleşi, heyecanla bekliyorum. @uianalizorg\",\n",
              " 'bir yandan ihracat artıyor  ama diğer yandan faiz artışı ve artan belirsizlik iç talebi düşürüyor.   bir de şirketlerinizin döviz cinsinden borcu çok yüksekse, kur artışı bilançolarını bozuyor.   üretimi azaltıp, işçi çıkarıyorlar.  büyümeye net etki olumsuz oluyor. +',\n",
              " 'etkinlik sonunda en az 9 oturuma katılan kişilere “savunma sanayii söyleşileri katılım belgesi” verilecek olup cv toplanacaktır.  etkinliğe kayıt linki:  https://t.co/cqmkzfvr79  fnss’in yapacağı mülakat simülasyonu için cv’nizi bırakın, kayıt linki:   https://t.co/y9qkso4pnl',\n",
              " 'uiap söyleşiler serisinin 6.sında değerli dostum prof. dr. ali balcı ile teorik bir konu konuşacağız. kendisi bize uluslararası ilişkilerde osmanlı çalışmak başlığıyla bir konuşma yapacak. @ircomibu @uianalizorg @abalci  etkinlik uiap youtube kanalında gerçekleştirilecektir',\n",
              " 'bütün türkiye kabine toplantısına,  cumhurbaşkanı erdoğan’ın yapacağı  millete sesleniş konuşmasına kilitlendi.   hafta sonu kısıtlaması kalkacak mı? yüz yüze eğitim nasıl başlayacak? kafe ve restoranlar açılacak mı? illere özel tedbirler neler?  “normalleşme”nin ilk adımları...',\n",
              " '@ahmettuncsen @mvolkankasikci @abdurrahimozer_ @kendaljano o zaman doğru kullanmışım.',\n",
              " 'kahire hükümeti tarafından yayımlanan ihale haritasında, batıdaki bölgelerin yunanistan ve mısır arasında imzalanan meb anlaşmasına göre belirlendiği,+',\n",
              " 'büyük selçuklu devleti melikşâh döneminde istanbul’a komşu olan izmit’e kadar ulaşmış, doğuda seyhun nehri ve tanrı dağları’ndan batıda akdeniz ve boğazlar’a, kuzeyde kafkas dağlarından, güneyde hint denizine kadar ulaşılmıştır.',\n",
              " \"suriye'de ypg/pkk'ya ab ziyareti..  - ab ve fransa parlamentosu'ndan dört parlamenter ypg ile görüştü..  + bakalım ab'nin bu tutumu, ne zamana kadar ve nereye kadar gidecek + ab kapısında beklerken bir taraftan da altımızı oymaya devam ediyorlar..  https://t.co/bxhe0us2jv\",\n",
              " '@nilhanaras @0zhan0zturk @xilourisefe martenitsa zamanımız geldi sahi 🕊',\n",
              " 'bu hafta avrupa günlüğü’nde aşı sertifikası tartışmalarını, midilli’de afgan mültecilere saldırıları, frontex soruşturmasını, avusturya’da yargı bağımsızlığı tartışmalarını ve ab-venezüela krizini ele alıyorum. @medyascopetv',\n",
              " \"“türk ordusu irak'ın sincar eyaletinde ne işi var? bu bir iç mesele ve iraklıların kendileri bu meseleyi çözmesi gerekiyor. türkiye'nin bu konuda tehdit etmesi veya karar vermesiyle bir ilgisi yok.türkiye'nin kuzey irak'taki varlığını tamamen reddediyoruz'' ifadelerine yer verdi.\",\n",
              " \"2 ocak 2020 tarihinde yunanistan'ın başkenti atina'da israil, yunanistan ve güney kıbrıs rum yönetimi liderleri arasında eastmed boru hattı proje sözleşmesi imzalanmıştır.   türkiye bu anlaşmaya karşı çıkarak hattın güzergâhını kabul etmemiştir.  https://t.co/febvpnew6u\",\n",
              " \"libya ile yaptığı meb anlaşması ile birlikte doğu akdeniz'de türkiye-libya kıyılarını savaş gemileri aracılığı ile kontrol etmeye başlamış, eastmed boru hattı'nın geçirilmesi planan deniz sınırlarına hâkim olup bölgede söz sahibi olduğunu belirtmişti.\",\n",
              " 'bugün gelinen noktada eastmed boru hattı (doğu akdeniz boru hattı) projesinde değişikliğe gidilerek alternatif rota çizilmiş ve türkiye’nin izin vermediği bölgeden hat çıkarılmıştır.',\n",
              " '@asefaozkaya dikenli telin muharebe sahasında kullanımı ve patenti alınmış ilk tel engelin tarihi amerikan iç savaşına kadar uzanır. wwide  de kullanımı pekiştirilir. engellerde temel prensip ateşle desteklenmesidir. tel engellerde geçit açmak için bangalore torpedo da kullanılır.',\n",
              " \"sakarya gaz sahası'na büyük yatırım.  karadeniz'deki sakarya gaz sahası'nda keşfedilen doğal gazın kullanıma sunulabilmesi amacıyla üretim ve iletim altyapısı inşasına karar verildi.  yatırım maliyeti 780 milyon türk lirası olarak belirlendi.  https://t.co/lj8wlqw6o3\",\n",
              " 'bu tivitseli atatürk’ün vizyonunu anlamaya yardımcı olabilir... bir buna bakın bir de üniversitelerin devlet dairesi gibi yönetilip sürekli geriletildiği günümüze... kıyas mümkün mü?',\n",
              " 'türkiye petrolleri anonim ortaklığı’nın sakarya gaz sahası denizaltı üretim tesisleri, denizaltı nakil hatları ve kara doğalgaz işleme tesisi entegre projesi için çed başvuru dosyası da hazırlandı. çed başvuru dosyasındaki bilgilere göre, proje üç ayrı bölümden meydana gelecek.',\n",
              " 'rapor çıkardı ama bir farkla; “türkiye cinayeti gizledi” suçlamasıyla  @ahmethc  https://t.co/hvdwonh6bp',\n",
              " '28 şubatın aktörleri ve aktörcükleri kısmen biliniyor. ama onlara payanda olanlar hala gölgede ve yeni rollerini oynamaya  devam ediyorlar...',\n",
              " 'onun gibi hepimiz #28subatınfarkındayım diyoruz.',\n",
              " \"sakarya gaz sahası'ndan ilk doğal gazın 2023'te kullanılmaya başlanması öngörülüyor. sahanın tamamen devreye alınması ise 2023'ten ileri bir tarihte gerçekleşecek.\",\n",
              " 'az sonra başlıyor.. #28subatınfarkındayım',\n",
              " '1 mart‘ta bazı sınıflar için okulların açılması yine ertelenmiş. bu iş artık papatya falına döndü, milli eğitim bakanlığı sürekli karar değiştiriyor . bu kadar ciddiyesizliği, plansızlığı ve beceriksizliği türkiye bile kaldırmaz, bakan artık istifa etmelidir.',\n",
              " '\"bir hükümet, hükümet edemez hale getiriliyor bu aslında darbenin tanımlarından bir tanesi. ... yılmaz\\'a görev verilince bize geldi ve ben başbakan olmayabilirim, sen olabilirsin dedi. kim istiyor bizim koalisyonumuzu diye sorduğumda omuzlarını gösterdi, yani apoletliler\"',\n",
              " 'nerede olursa olsun, hangi içerikte olursa olsun, hangi gerekçeyle olursa olsun, ilkesel olarak darbeler kötüdür.  kötü bir demokratik/sivil yönetim, “en iyi” olduğu iddia edilen askeri yönetimden daha iyidir.   #28subatdarbesi',\n",
              " '@tahaun @zceydaak sen de o kadar “adam”sın. külliye uzantılı telefonlardan karısının belediyeleri aratıp kitap sattırdığı; cukkayı indirince de erdoğan’a düşman kesilmiş bir zavallısın. uslu ile buluştuğun nokta da “pelikan” ve clubhouse’da değil, ancak “adliye house”da muhatabım olabilirsin.',\n",
              " 'haftayi pazar sabahi bitirip pazar aksami ise yeni haftaya baslamak.. pazar gununu sormayin, o da eski haftadan kalan yarim isleri toparlayip yeni haftayi planlamakla geciyor .. iste boyle 😉',\n",
              " 'davutçu tayfa şu videoyla attığım gölü hâlâ çıkaramadı; çırpınıp duruyorlar :)  hodri meydan: neymiş bu pelikan?  https://t.co/i4sqftaua5 @youtube aracılığıyla',\n",
              " \"ilk fotoğrafta yabancı'nın altında da malamud'un günümüzde tamirci adıyla dilimize çevrilen romanı var: kiev'deki adam adını taşıyan eski baskısı. seride ilerleyen günlerde malamud'a da değinmeyi planlıyorum. nuri bilge ceylan, kitaplığını bize sunmuş gibi bir his var içimde :)  https://t.co/yv9v3ukcq0\",\n",
              " 'erbakan güzellemeleri, muhafazakar-islamcı kesimler için normaldir. ama muhalefet için akp iktidarının alıştırdığı siyasi ve ahlaki bir felakettir: türkiye, siyasal islamcılıkla arasına mesafe koymadan demokratikleşemez.',\n",
              " 'bir de ülkemizin sömürgeci batı ile kıyaslanması ne kadar yanlışsa 3. dünya zorlukları gösterip teselli aramak da o kadar yanlış, kolaycılıktır.  beraber kazanalım, beraber kanaat edelim, beraber zorluk çekelim, vatanı beraber sevelim. o zaman belki aynı frekansı yakalarız.',\n",
              " \"ilk etapta günlük 10 milyon metreküp doğal gaz inşa edilen boru hatlarıyla filyos gaz işleme tesisi'ne aktarılıp işlenecek.   ikinci etapta ise günlük 40 milyon metreküp doğal gaz taşınması ve işlenmesi planlanıyor.\",\n",
              " '“filistin yönetimi, biden’a bir mektup yazarak hamas dahil tüm filistinli örgütlerin iki devletli çözümü desteklediklerini ve sadece barışçıl direnişe devam edeceklerini belirtti. bu oldukça önemli bir duruş farkı, özellikle hamas ve benzeri örgütler için”  https://t.co/6bmgxdzxht',\n",
              " \"mısır türkiye'nin birleşmiş milletlere bildirdiği kıta sahanlığı sınırlarını dikkate alarak 18 numaralı parselde ihaleye çıktığını duyurdu!  mısır’ın 18. parsel ihaleye çıkarması yunan ve dünya kamuoyunda büyük ses getirdi.  https://t.co/o7jz2bbida\",\n",
              " '#28şubat demokrasimize yapılmış açık bir darbeydi. milletin iradesine karşı yapılan tüm darbeler yenilgiye mahkumdur. yaşasın demokrasi!🇹🇷',\n",
              " \"hani şam'da cuma namazı kılacaktınız. onun yerine türkiye'de suriye ligi mı kuruyorsunuz? suriyelilerin turkıye'de kalmasını isteyenler abd-israil-pkk planının destekçileridir.  https://t.co/9l5pux6vqd\",\n",
              " \"#globalwarming antartika'nın batısındaki brunt buz sahanlığı'ndan 1270 kilometrekarelik bir buz kütlesi koparak ayrıldı.  https://t.co/o1t4yns9wm\",\n",
              " 'son kırk yıldır kendisi de farklı silahlı örgütlerle mücadele eden tahran’ın, her fırsatta türkiye’nin pkk ile olan mücadelesine darbe vurmaya çalışmasını iyi komşuluk ilişkileri çerçevesi içinde değerlendirmek oldukça güç. iran ankara’nın pkk konusundaki hassasiyetini anlamalı.',\n",
              " '@besdkbeklegit @ragipsoylu diasporadaki farsça medyası olarak genelliyorum evet.',\n",
              " 'son kırk yıldır kendisi de farklı silahlı örgütlerle mücadele eden tahran’ın, her fırsatta türkiye’nin pkk ile olan mücadelesine darbe vurmaya çalışmasını iyi komşuluk ilişkileri çerçevesi içinde değerlendirmek oldukça güç. iran ankara’nın pkk konusundaki hassasiyetini anlamalı.',\n",
              " '@besdkbeklegit @ragipsoylu diasporadaki farsça medyası olarak genelliyorum evet.',\n",
              " 'bir bu eksikti! bütçe disiplini kovid nedeniyle bozuldu evet ama yeni kaynak yaratılmak isteniyorsa, vatandaşın 2. el araba satışına vergi yerine sistem kökten değiştirilsin! mesela büyük şirketlerden bir türlü toplan(a)mayan kurumlar vergisi toplansın...   https://t.co/oycetkr2yn',\n",
              " '\"ne diyeyim gerisini de oyunun çöpe gittiğini anlayıp  iradesini poşet poşet arayan seçmen düşünsün.\"',\n",
              " 'irak ile ilgili karşılıklı açıklamaların ardından türkiye, iran\\'ın ankara büyükelçisi\\'ni dışişleri bakanlığı\\'na çağırdı.  dışişleri bakanlığı, \"iran\\'ın türkiye tarafından verilen terörle mücadelenin karşısında değil, yanında yer almasının beklendiğini\" bildirdi.',\n",
              " '@sezmet06 hele medya ayağı.. o manşetleri atanlar... bugün hepsi makale kasıyor..',\n",
              " 'hızla gelişen, farklı tarihsel altyapı ve çok boyutlu kompleks dış politika konularında gazetecilerin arka arkaya gelen sorularına cevap vermek konusu dünyanın bir numaralı gücünü temsil eden her başkan için önemli. biden bu konuda sıkıntı yaşıyor. trump haklı çıkarsa?',\n",
              " 'üstteki perhiz, alttaki lahana turşusu... bu medyası, ama partilerinin de kafası bu kadar çalışıyor.  https://t.co/ae1nn0yn8v',\n",
              " \"🇹🇷 @deltavuzay'a ziyaret gerçekleştiren @tcsanayi bakanı @varank:  ay misyonu için @tubitakuzay ve @deltavuzay'ı bir araya getirdik. zaten birkaç aydır çalışmalarına başlamışlardı. bugün de kritik bir toplantı gerçekleştirdik. taraflarla adeta bir ön tasarım toplantısı yaptık.  https://t.co/eb05bqe2ct\",\n",
              " '🇹🇷 @tcsavunma bakanı hulusi akar:  bakın, öyle 3-5 savaş uçağı almakla, 3-5 gemi almakla yunanistan bir yere varamaz. yetmez...  yunan hükümeti bunlara para harcayarak halkının parasını çarçur ediyor. yunan halkı, akademisyenleri, bilim adamları, emekli askerleri de bunu görüyor  https://t.co/mbo1poayd9',\n",
              " '“abbas’ın umudu biden’ın da tıpkı obama gibi bmgk’nin 2334 sayılı kararını desteklemesi. obama başkanlığının son günlerinde israil’in yerleşim faaliyetlerinin derhal ve tamamen durdurulmasını isteyen 2334 sayılı kararın kabul edilmesini sağlamıştı”  https://t.co/6bmgxdzxht',\n",
              " \"🔵 #myanmar'da askeri darbe karşıtı protestoya yapılan müdahalede en az 7 kişinin hayatını kaybettiği bildirildi.\\xa0 bugün de süren darbe karşıtı protestolarda polis gerçek mermiler kullanarak müdahaleyi sürdürüyor.\\xa0 📸  https://t.co/ltdtkjea7b\",\n",
              " 'yakın tarihimiz darbelerden, muhtıralardan çıkarılacak derslerle dolu. her biri çok acı tecrübelerle öğretti demokrasimizin kıymetini. #28subat',\n",
              " 'köy okullarındaki meslektaşlarım ve öğrencilerim adına bu çok değerli destekleri için gençlik ve spor ailesine ve sayın bakanımıza yürekten teşekkürler...',\n",
              " '@osman1071_ seçmezseniz ordu darbe yapacak dediler... \"bu adam büyük hukukçu, büyük demoıkrat\" dediler..  cengiz çandar ve fehmi koru\\'ya \"yahu adam vesayet sisteminin hukuk üreten kurumunun bayşında! nasıl demokrat olur?\" dediğimde, \"sen abd\\'desin takip edemiyorsun\" diye alay ettiler.',\n",
              " '@aabdullahozer @pinarardor @beyaztv eyvallah sağ olun',\n",
              " '28şubat darbesinin küresel ve ulusal düzeyde kirli,karanlık ilişkiler ağı,herşeyi ortaya koyuyor.islam’ın önüne radikal-ılımlı sıfatlarını takanlar,haçlıemperyalizminin kirli emellerinin planlayıcılarıydı ve sömürü düzenlerine karşı islam’ın reddiyesini engelleyebilmekti emelleri  https://t.co/pntlp5lrlb',\n",
              " 'bu akşam saat 23.00 de \\u2066@haberturktv\\u2069 de \\u2066@kubrapc\\u2069 ın “açık ve net” programındayım...  https://t.co/zqb2xmve3t',\n",
              " \"@tugrademircelik katar, biden'la birlikte iran ve körfez ülkeleri arasındaki yükselme ihtimal olan krizi de görüyor. iran ve körfez ülkeleri çok ciddi bir krize gebe. bin salman'ı arayarak bu krizin muhtemel faturasına ortak olmak istemiyor ayrıca.\",\n",
              " \"@tugrademircelik katar'ın türkiye ve iran ile iyi ilişkisi var. buna suudi ve diğer körfez ülkelerini de eklemek istiyor. katar,abd'nin suudi ve bae ile yaşadığı krizden yararlanmak ve ayrıca daha önce olduğu gibi arada kalmak istemiyor.katar, ortadoğu'daki çatlağı görüyor ve yararlanmak istiyor.\",\n",
              " \"@tugrademircelik katar amirinin 3 yıl ardan sonra bin salman'la resmi görüşmesi biden-bae ilişkilerindeki muhtemel kriz ve değişimi de hesaba kattığımızda katar için ortadoğu'da geniş bir alan ve imkan doğuyor demektir. katar yeni bir oyun kuruyor. bunun şifrelerini çözmek lazım.\",\n",
              " 'ahmedinejad’ın en yakın adamlarından olan ali akber javanfekr, ahmedinejad ve arkadaşlarının suikastla tehdit edildiğini yazmış.  https://t.co/jp58fbiasm',\n",
              " '@heyyamol ben türkçe konusurken çok kızana dek bekliyorum :) ch daki en kızgın kadın türkçelerinden birisi benimki korkarım. o yüzden çok konuşmamaya çalışıyorum:) bazen yüreğim beni aşıyor',\n",
              " 'bahçeşehir üniversitesi denizcilik ve global stratejiler merkezi’nin danışma kurulu üyesi olarak, merkezimizin ulusal çıkarlarımız doğrultusunda; bilimin ışığında ve uluslararası hukukun bize verdiği hakların ödünsüz savunucusu olarak yaptığı tüm çalışmaların arkasındayız.',\n",
              " '“suriye mi önce pkk’ya destek verdi, yoksa türkiye mi müslüman kardeşler’e? cevabını vermek zor. cevabı kolay olmayan bir soru da ankara-müslüman kardeşler denkleminde, eğer yer aldılarsa, israil ve abd’nin ne şekilde müdahil olduğu” @behlulozkan  https://t.co/67wev6tmwi',\n",
              " 'çevirisinden yola çıkarak bu konuyu;   ⚓ gemi inşa ve gelecekteki donanma  ⚓ kraliyet donanması için önümüzdeki yıl  ⚓ uçak gemisi görev grubu 2021 konuşlanması  ⚓ donanmanın geleceği için bir model olarak tip 26( denizaltı savunma harbi fırkateyni)',\n",
              " '\"bir hükümet, hükümet edemez hale getiriliyor bu aslında darbenin tanımlarından bir tanesi. ... yılmaz\\'a görev verilince bize geldi ve ben başbakan olmayabilirim, sen olabilirsin dedi. kim istiyor bizim koalisyonumuzu diye sorduğumda omuzlarını gösterdi, yani apoletliler\"',\n",
              " 'zarafet deyince, atatürk ♥️  https://t.co/dvanshloks',\n",
              " 'üstteki perhiz, alttaki lahana turşusu... bu medyası, ama partilerinin de kafası bu kadar çalışıyor.  https://t.co/ae1nn0yn8v',\n",
              " 'bir süredir sizlerden diğer sosyal medya platformlarında neden hesabımın olmadığına yönelik sorular gelmesi üzerine görüş ve önerilerimi paylaşacağım bir facebook sayfası oluşturdum arkadaş listenizle paylaşmanızı rica ederim bu linkten takip edebilirsiniz  https://t.co/a15bbmtrp1  https://t.co/jaazk33b5o',\n",
              " '“birincisi ve en önemlisi, abd, sisteminin yalnızca salgın gibi krizleri atlatmakla kalmayıp, gelir eşitsizliği ve ırksal adaletsizlik gibi daha uzun vadeli durumlarla da başa çıkabileceğini göstererek, yönetişim modelinin meşruiyetini yeniden tesis etmek için çalışmalıdır.”',\n",
              " \"erivan'daki darbe girişimi yeni savaşın işareti mi? ermenistan'ın tekrar savaşa hazırlanması ne kadar zaman alır? rusya savaş ister mi? rusya ve batı'daki ermeni lobilerinin tutumu nedir? azerbaycan e. istanbul başkonsolosu @ibrahimnebioglu ile ele aldık  https://t.co/vvafwaofw4\",\n",
              " \"çok kutuplu dünya düzeni azerbaycan'ın zaferine büyük katkı sağladı. türkiye ile rusya arasında geniş çaplı işbirliği mümkün. ankara-moskova aralarındaki sorunların hepsini birlikte ele alarak uzlaşmalı @mehmetperincek ile sohbetimizin bazı başlıkları  https://t.co/us4keucvhn\",\n",
              " '#28şubat, türk siyasi tarihinin karanlık sayfalarında yer alan postmodern bir darbedir.  her darbede olduğu gibi kaybeden yine türkiye olmuştur.  darbenin bin yıl süreceğini iddia edenlerin hesaba katmadıkları şey, aziz milletimizin gücü ve feraset sahibi oluşudur.',\n",
              " 'unutmadık, unutmayacağız...  #28şubat’ı yaşadım #28şubatınfarkındayım  https://t.co/uf8yjibvzt',\n",
              " '#fetö nün içinde olmadığı bir #28şubatpostmodernalçaklık okuması yetersiz kalır. fetö’nün içte,dışta ordu, stk, medya, siyaset ayağında 28 şubat sürecindeki bağlantıları mutlaka ifşa edilmelidir. rahmetli #necmettinerbakan neden fetö’nün başa çıkamadığı, en büyük hedefti?',\n",
              " '20 sene sonrasında elleri ile darbeyi önleyecek, tankları durduracak bir milletin zulmü de,zalimi de apaçık gördüğü, onları alkışlayan ve sevenleri hafızasına kazıdığı bir dönemdi. bu yüzden #15temmuz a geçit vermedi.  #birdahaasla  #28şubatıunutma #28subatdeyinceaklıma',\n",
              " \"abd yemen’de s. arabistan’a desteği keseceğini söylüyor.  husiler s. arabistan’a balistik füze saldırısı yapıyor. abd kaşıkçı dosyası ile riyad'a şantaja başlıyor.  suriye'nin kuzeyinde pkk saldırıları artırılıyor.  ve israil şam’ı bombalıyor.   yeni bir şeyler mi hazırlanıyor?  https://t.co/qu1lndsxu2\",\n",
              " 'dünyanın halinde darbeleri konuşuyoruz!  teorisi ve pratiğiyle darbeler tarihini, türkiye, mısır, myanmar, ermenistan ve diğer örneklerini tartışıyoruz.',\n",
              " 'ihtimalleri sayarken bir muhtemel krizi atlamışız. (allah basiret firaset versin)  “iki ucu keskin bıçak” durumundan söz ediyorlar. şimdilik söylenti ama ihtimalden chp bu istifadan sonra “sebebini açıklasak bir türlü açıklamasak bir türlü” durumda kaldığı söyleniyor.',\n",
              " '16:45 milletvekili istifa  17:00 ajans toplantı 19:00 organizasyon 20:00 onay 21:00 olay saat 21:00 ve sonrası herkesin dikkatini çekecek bir saçmalık ya da bir yalan haber bekliyorum. bu istifa haberini örtmek mi yoksa çarpıtmak mu daha iyi olur şu anda ona karar veriyor chp.',\n",
              " \"biden'ın od'yu birinci öncelik olmaktan çıkaracağına dair analizler. tr için fena olmayabilir. pkk/pyd'ye karşı ve doğu akdeniz'de işi kolaylaşabilir ama önce politikayı görmek lazım. ayrıca yunanistan politikası nasıl olacak acaba?  https://t.co/98riodgfzp  https://t.co/8hjqrxdbd6\",\n",
              " \"politico'dan biden'ın orta doğu'yu ilk öncelikleri arasından çıkarmak istediğine dair ilginç haber/analiz. bakalım uygulamada nasıl bir politika ortaya çıkacak. her halükarda bu kadar aklı karışık bir yönetimle tek başına s400 konusu konuşulmamalı  https://t.co/98riodgfzp\",\n",
              " \"erivan'daki darbe girişimi yeni savaşın işareti mi? ermenistan'ın tekrar savaşa hazırlanması ne kadar zaman alır? rusya savaş ister mi? rusya ve batı'daki ermeni lobilerinin tutumu nedir? azerbaycan e. istanbul başkonsolosu @ibrahimnebioglu ile ele aldık  https://t.co/vvafwaofw4\",\n",
              " \"çok kutuplu dünya düzeni azerbaycan'ın zaferine büyük katkı sağladı. türkiye ile rusya arasında geniş çaplı işbirliği mümkün. ankara-moskova aralarındaki sorunların hepsini birlikte ele alarak uzlaşmalı @mehmetperincek ile sohbetimizin bazı başlıkları  https://t.co/us4keucvhn\",\n",
              " '@gulayturkmen türkiye siyaseti o denli sağa kaydı ki erbakan kosher gibi geliyor millete.',\n",
              " \"@naimbaburoglu biden yönetimi sözde israil'e mesafeli yaklaşırken, sa'nı da bir şekilde israil'e itip aslında israil'in çıkarlarına hizmet ediyor. bir taraftan iran'a sıcak mesaj verirken diğer taraftan karşı ekseni harlıyor. bu sayede kaos bölgeden hiç eksilmiyor ve kazanan da abd oluyor!\",\n",
              " \"@demirdasphd ali hocam, abd'nin libya'da tr'ye alan açtığı çıkarımı için henüz erken. bir de son dönem abd-yun. yakınlaşmasını düşününce, bu öngörü biraz prematüre gibi. ayrıca abd'nin bu boşluğu kendisinin doldurmak istemeyeceği de belli değil.sanırım bizim temkini elden bırakmamız lazım.\",\n",
              " \"beyaz saray sözcüsü jen psaki:  #kaşıkçı cinayetinde suudi arabistan'ı sorumlu tutmak için mbs'ye yaptırım getirmekten daha etkili yollar var.  antony blinken:  abd-suudi arabistan ilişkileri bir kişiden (mbs) daha büyüktür.  o zaman trump'ın ne günahı vardı. aynısınız işte...\",\n",
              " \"@tugrademircelik katar, biden'la birlikte iran ve körfez ülkeleri arasındaki yükselme ihtimal olan krizi de görüyor. iran ve körfez ülkeleri çok ciddi bir krize gebe. bin salman'ı arayarak bu krizin muhtemel faturasına ortak olmak istemiyor ayrıca.\",\n",
              " \"@tugrademircelik katar'ın türkiye ve iran ile iyi ilişkisi var. buna suudi ve diğer körfez ülkelerini de eklemek istiyor. katar,abd'nin suudi ve bae ile yaşadığı krizden yararlanmak ve ayrıca daha önce olduğu gibi arada kalmak istemiyor.katar, ortadoğu'daki çatlağı görüyor ve yararlanmak istiyor.\",\n",
              " \"@tugrademircelik katar amirinin 3 yıl ardan sonra bin salman'la resmi görüşmesi biden-bae ilişkilerindeki muhtemel kriz ve değişimi de hesaba kattığımızda katar için ortadoğu'da geniş bir alan ve imkan doğuyor demektir. katar yeni bir oyun kuruyor. bunun şifrelerini çözmek lazım.\",\n",
              " 'ahmedinejad’ın en yakın adamlarından olan ali akber javanfekr, ahmedinejad ve arkadaşlarının suikastla tehdit edildiğini yazmış.  https://t.co/jp58fbiasm',\n",
              " '#28şubat, türk siyasi tarihinin karanlık sayfalarında yer alan postmodern bir darbedir.  her darbede olduğu gibi kaybeden yine türkiye olmuştur.  darbenin bin yıl süreceğini iddia edenlerin hesaba katmadıkları şey, aziz milletimizin gücü ve feraset sahibi oluşudur.',\n",
              " \"@ankaragettosu atatürk'ün de böyle bir sözü yok zaten\",\n",
              " 'her şeyi anladım da ösym sınavlarında neden üzerimizde para bulunduramıyoruz. doğru seçeneğin üstündeyken atatürk göz mü kırpıyor bize?',\n",
              " '@bariserturk_ 14’lerden ahmet er ve orhan erkanlı’nın anılarıyla hulusi turgut’un hazırladığı türkeş kitabı işini görür :)',\n",
              " 'unutmadık, unutmayacağız...  #28şubat’ı yaşadım #28şubatınfarkındayım  https://t.co/uf8yjibvzt',\n",
              " '+ feraset sahibi halkımızı birbirine düşürmeyi, ötekileştirmeyi bizzat hedeflemiş, demokrasi ve insan haklarını doğrudan hedef almış alçakça bir eylemdir. hiç bir gücün türkiyemizin birlik ve beraberliğine, milli egemenliğine, demokrasisine zarar vermesine asla izin vermeyeceğiz.  https://t.co/ipeddirc9k',\n",
              " '“siha kullanımının istismara açık bir yöntem olduğu doğru. ancak en nihayetinde meselenin özü şu: ölen 4 yaşındaki çocuk, kimin çocuğu olacak? amerikalı çocukların teröristler tarafından öldürülme olasılığını, bu yöntemle azaltıyoruz”.  https://t.co/jod8wpl4n6',\n",
              " \"“daha çatışmacı bir yaklaşım kapsamında, çin ihracatına yüksek tarifeler uygulandı ve çin’in teknolojik ilerlemesinin abd güvenliği için acil bir tehdit oluşturduğu düşüncesiyle, çinli telekomünikasyon devlerinin, özellikle huawei'nin büyümesini engellemek için adımlar atıldı.”\",\n",
              " \"“üç ülkeye ait savaş gemileri bu önemli su yolundan geçme planları yaparken pekin'in tepkisi bölgedeki anlaşmazlığın gidişatını belirleyebilir.”\",\n",
              " 'abd’nin sudan’ı terörü destekleyen ülkeler listesinden çıkarması sonrasında abd’nin africom’un merkezini almanya’dan sudan’a geçirmesi de gündeme geliyor. devamlı abd’li askeri yetkililerin sudan ziyaretleri bölgedeki rekabeti daha da artıracak.',\n",
              " \"“pekin'in tartışmalı sulardaki iddialarına karşı çıkma istekliliği, fransızların hint-pasifik'teki çıkar algısını yansıtan bir durum. fransa ayrıca quad ülkeleri ile de işbirliği yapmayı planlıyor.”\",\n",
              " 'askeri darbelerden ve muhtıralardan rahatsız olanlar, en azından insan hak ve özgürlüklerine saygılı demokratik cumhuriyet oluşturmaya çalışır. siz ise mağduriyet söylemini sömüre sömüre darbe kurumlarını da kullanarak tarihin en berbat zulüm ve yolsuzluk rejimini oluşturdunuz.',\n",
              " 'onbinlerce insan cezaevindeyken, binlercesi sürgündeyken, insan hak ve özgürlükleri yok edilirken, tüm medya emre bağlanmışken kimse 28 şubat mağdurluğu istismarına kalkmasın: oluşturduğunuz baskı rejiminin yarattığı mağduriyetler okyanus oldu.',\n",
              " 'erbakan güzellemeleri, muhafazakar-islamcı kesimler için normaldir. ama muhalefet için akp iktidarının alıştırdığı siyasi ve ahlaki bir felakettir: türkiye, siyasal islamcılıkla arasına mesafe koymadan demokratikleşemez.',\n",
              " '@oferhatzabun ben de bu paylaşım vesilesiyle yıllarca oynadığım oyunun merkezindeki şehirde yaşamakta olduğumu yeni fark ediyorum. gta vice city haha 😂',\n",
              " '28 şubat 1938. başbakan c.bayar\\'ın yabancı doktor getirme isteğine karşı, atatürk: “ortada hatay meselesi var; hastalığım dışarıda duyulursa fena olur. dr. neşet ömer\\'le konuş; bizim doktorlar bir muayene ve konsültasyon yapsınlar.\" hatay, atatürk\\'ün en büyük ve şahsi davasıydı.  https://t.co/9bew3acuat',\n",
              " 'bazilarinin ki coklar, komplo teorisi diyerek, hem soylenenleri hem de soyleyenleri itibarsizlastirmaya calistiklari yaklasimlara uaide oyun teorisi diyoruz. bu yaklasim guclu bir matematik ve analiz yetenegi ister ki, birbirinden cok farkli gibi gorunen degiskenler arasindaki',\n",
              " 'iliskiyi gormek mumkun olsun. bu nedenle titiz bir calisma sonucu ortaya cikan bazilarinin da komplo teorisi dedigi sonuc, aslinda hakikatin ta kendisi olabilir. ama sorun şu, oyun teorisi okullarimizda pek ogretilmez. kisaca gecilir. bunun nedeni dersin ogretim elemaniyla',\n",
              " 'ilgilidir. zira onun bilgisi de sınırlıdir. hal boyle olunca teoriyi cok iyi bilen ama uygulamalarini anlayamayan düz cizgi de dusunen mezunlar cikar. ve cark boyle isler. sonuc yabanci akademisyenlere duyulan buyuk hayranlik. komplo teorisi diye itibarsizlastirilan yaklasimlari',\n",
              " '@vedatakgull6161 @veryansin_tv @veryansintvcom hangardan çıktığında bildiğiniz anlamda göreve hazır değildir. özetle; hangardan çıkış projenin kendi içerisindeki safhalarına uygun olarak yürütülen işlemlerden birisidir. daha sonraki diğer adım havaya çıkış uçuş ve testlerin devam etmesidir. son aşama üretim ve teslimatdır.',\n",
              " '@sezmet06 hele medya ayağı.. o manşetleri atanlar... bugün hepsi makale kasıyor..',\n",
              " '@osman1071_ seçmezseniz ordu darbe yapacak dediler... \"bu adam büyük hukukçu, büyük demoıkrat\" dediler..  cengiz çandar ve fehmi koru\\'ya \"yahu adam vesayet sisteminin hukuk üreten kurumunun bayşında! nasıl demokrat olur?\" dediğimde, \"sen abd\\'desin takip edemiyorsun\" diye alay ettiler.',\n",
              " '\"ne diyeyim gerisini de oyunun çöpe gittiğini anlayıp  iradesini poşet poşet arayan seçmen düşünsün.\"',\n",
              " 'onun gibi hepimiz #28subatınfarkındayım diyoruz.',\n",
              " 'bu çıkar odaklı bir dış politika değil. bu değer odaklı bir dış politika da değil. binaenaleyh bu bir dış politika değil.',\n",
              " 'türk dünyasının siyasal ve ekonomik kenetlenme araçlarından en önemlisi iletişimdir. bu önemli gelişme bazılarının da çıkar ve güvenlik hesaplarını yeniden tasarlamaya teşvik edecektir. önemli sevinçli ama bir o kadar da hepimize sorumluluk yükleyen bir gelişme.. 🧿💙🐺',\n",
              " '———- “göçmen hakları ve yunanistan” örneğinden dersler: 1)sözleşmelerde/yönergelerde haklar kataloğu oluşturmak yetmiyor 2)aslolan, haklara erişim hakkının ihmal edilmemesidir 3)uluslararası müktesebatın etkin denetim mekanizmasına sahip olması, içerik kadar önemlidir ———-',\n",
              " '@mhmtdsn bir şeye eleştirim yok, nereden çıkarıyorsunuz? 10 yıl önce yazdığım yazıyı kastediyorsanız eğer, sanırım yazıyı okumadınız ya da daha kötüsü anlamadınız.',\n",
              " '“(içerideki) aktörlerin söylemleri tutarsızlık veya çelişkiler şeklinde dışa yansıyor  türkiye ile batının çıkarlarının çatıştığı tezine ısrarla vurgu yaparken, yapısal ve tarihsel olarak çatışma halinde olan türk-rus çıkarlarına da adeta uyum içerisindeymiş muamelesi yapıyorlar”',\n",
              " 'onbinlerce insan cezaevindeyken, binlercesi sürgündeyken, insan hak ve özgürlükleri yok edilirken, tüm medya emre bağlanmışken kimse 28 şubat mağdurluğu istismarına kalkmasın: oluşturduğunuz baskı rejiminin yarattığı mağduriyetler okyanus oldu.',\n",
              " 'askeri darbelerden ve muhtıralardan rahatsız olanlar, en azından insan hak ve özgürlüklerine saygılı demokratik cumhuriyet oluşturmaya çalışır. siz ise mağduriyet söylemini sömüre sömüre darbe kurumlarını da kullanarak tarihin en berbat zulüm ve yolsuzluk rejimini oluşturdunuz.',\n",
              " 'rezil bir kötülüğün parçası olmaktan çekinmeyen kendi atalarına, topraklarına ait olduğu medeniyete ihanet eden bu mankurt sürüsü bu dünyada v ötekinde her daim düşmanım olduğu için çok bedel ödedim v ödemeye devam ediyorum. ödediğim her bedel, göğsüme takılmış 1 onur nişanıdır!',\n",
              " 'türk-çin dostluğundan bahseden  her türlü aymazlık karşısında bu acıyı yaşayan ata yurdumun evlatlarının goz yaslarinda boğuluyorum..',\n",
              " '#28şubat darbesinin sadece ekonomik maliyeti 300 milyar dolar civarında çiller’e göre. siyasi mühendislik ve silahın gücüyle milli irade açıkça çalınmış, türkiye kaosa sürüklenmiş. dönemin siyasetçileri daha fazla konuşmalı ve darbeyi anlatmalı.',\n",
              " '28 şubat bir kuşağı darmadağın etti. eğitim haklarını ellerinden aldı. ikna odalarında psikolojik baskı ve tehditlere maruz bırakıldılar. iş dünyası, medya ve akademi darbe zihniyetine teslim oldu. siyaset ve bürokrasi direnemedi. bazı kesimler ise sevinmişti. #28subatıunutma',\n",
              " '#28şubat türkiye ve insanımıza yapılmış en büyük kötülüklerden biri olarak siyasi tarihe geçti. birçok insanın hayatını karartan, demokratik ve anayasal kurumları felç eden 28 şubatı yapanları, destekleyenleri ve meşrulaştıranları şiddetle kınıyorum. umarım ders çıkarılmıştır.',\n",
              " 'böyle olunca 28 şubat sürecine karşı olmam samimiyetsiz bir siyasal doğruculuğun ötesine geçemedi.   ben ve benim gibi milyonlarca insan işte bu amalarla darbeyi, hukuksuzluğu ve insan hakları ihlallerini zımnen onaylamış olduk.',\n",
              " \"biden'ın od'yu birinci öncelik olmaktan çıkaracağına dair analizler. tr için fena olmayabilir. pkk/pyd'ye karşı ve doğu akdeniz'de işi kolaylaşabilir ama önce politikayı görmek lazım. ayrıca yunanistan politikası nasıl olacak acaba?  https://t.co/98riodgfzp  https://t.co/8hjqrxdbd6\",\n",
              " \"politico'dan biden'ın orta doğu'yu ilk öncelikleri arasından çıkarmak istediğine dair ilginç haber/analiz. bakalım uygulamada nasıl bir politika ortaya çıkacak. her halükarda bu kadar aklı karışık bir yönetimle tek başına s400 konusu konuşulmamalı  https://t.co/98riodgfzp\",\n",
              " 'az sonra başlıyor.. #28subatınfarkındayım',\n",
              " \"🇹🇷🚀@tcsanayi bakanı @varank, bakan yrd @mfatihkacir, @tuajans bşk @serdarhuseyiny, @tubitakuzay md @mgokten; @deltavuzay'da gen md arif karabeyoğlu ile 2023 ay misyonu'nda kullanılacak insansız uzay aracının kavramsal tasarımına ait özelliklerin ele alındığı bir toplantı yaptı.  https://t.co/ttv4cscg6i\",\n",
              " '#rusya destekli wagner grubuna bağlı telegram\\'dan yapılan paylaşımda, \"rus hava uzay kuvvetleri\\'ne bağlı su-34 savaş uçağının en güzel hava saldırılarından biriydi\" ifadeleri yer aldı. paylaşımda, 27 şubat hava saldırısına ait görüntüler de paylaşıldı 📸  https://t.co/pxiuaauqju',\n",
              " 'birleşik arap emirlikleri libya’dan çekiliyor. hafter’i destekliyordu. -yeni abd yönetiminin, biden politikasının etkisi hemen görüldü... -abd, yabancı güçlerin libya’dan çekilmesinden yana...',\n",
              " 'sevgili @behlulozkan hoca, sürekli yorum yapan akademisyenlerden farkını yine açık ara ortaya koymuş. bilgi dolu ve zamanın denklemlerini daha isabetli anlamaya bir bukle de olsa yardımcı olacak bir yazı çıkarmış. elinize sağlık 💫🦋',\n",
              " 'netanyahu, güvenlik konseyini toplandı. savunma bakanı, genelkurmay başkanı ve istihbarat servisleri başkanları toplantıya katılıyor.',\n",
              " 'trump: biden, aşıda benim hazırladığım planı uyguluyor.',\n",
              " '24. yılında 28 şubat post-modern darbesini lanetlerken o dönem aktörlerinin iktidarın kayıt dışı ortağı olduğu gerçeğini unutmayalım. bu ortaklarla beraber iktidar türkiye’yi 90 ların baskı ortamına döndürdü. bu örtülü 28 şubat süreci de ilk seçimde bitecek inanın.',\n",
              " '@turkishindy 28 şubat darbesinde medyanın rolü hayatiydi. medya darbeye öyle destek verdi ki her gün yalan-yapay haberler v akademedyatik \"uzman!\" yorumları veriyordu. milleti öyle \"avladılar ki\" sanki türkiye islam devrimine gidiyordu. bilenler ise saçını başını yoluyordu...bugünler gibi!',\n",
              " \"haklı olabilirsin; ancak türk halkının militarizme meyilli olduğu görüşü de bir o kadar haklıdır. 12 eylül 1980 darbesinin anayasasını da halkın %90'ları üzerinde onaylamıştı.\",\n",
              " \"bugün 28 şubat karşıtı olduğunu söyleyenlere inanmıyorum çünkü darbeden sonra yapılan ilk seçimlerde devrilen refah/erbakan v dyp/çiller'in oyu %10-20'lere düşerken  darbecileri destekleyen dsp, anap v mhp'nin oyları %20-30'lara yükseldi. bu millet militarizmi/28 şubatı onayladı!\",\n",
              " 'bugün 28 şubat darbesinin yıldönümü. 28 şubat 1000 yıl sürecek diyen aktörleri ile mağdurlarının ittifak yaptığı bu dönemle ilgili tecrübe ve görüşümü içeren makalem👇  1997’lerden 2010’lara 28 şubat’lar: adalet, siyaset, pişmanlık ve idealist hatıralarım  https://t.co/5xqzvcsvy6',\n",
              " 'bu ahlaksızlar bir kadını taciz ediyor!   sarayın polisi, sen akp’nin istanbul kongresini görmedin mi?',\n",
              " 'idealizmime karşı, çoğu durumda savaşı kimin çıkardığı konusunda içinden çıkılmaz durumlar vardır ve çok zordur, bilincindeyim. çözüm: 1)meşru müdafaa (ve sınırları) dışında asla savaş yapmamak 2)kin-öfke-hakimiyet-güç duygularını bastırmak 3)konuşmayı kesmemek 4)barışa inanmak',\n",
              " '@try141119 cevap için sizi geçen hafta yaptığımız maske karşıtı, trump destekçisi teksaslılar haberine yönlendireyim :)',\n",
              " 'milletin iradesine darbe vurulamaz..!  https://t.co/tutneflpxm',\n",
              " \"ortadoğuda tarihi barış anlaşmalarına imza attık. afganistanda tek bir amerikan askeri ölmedi.  biden'ın iran politikasını eleştiriyor.\",\n",
              " \"haseke'nin kuzey kırsalındaki tel temr kasabasının kuzeybatısında bir rus helikopteri düştü\",\n",
              " 'halk düşmanları!   https://t.co/1xqf3ivldd',\n",
              " \"myanmar'da süreginden protestolarda darbeciler 6 göstericiyi öldürdü.\",\n",
              " 'baykar ceo @haluk : insansız savaş uçağı için kavramsal tasarım aşamasındayız. ses hızında uçabilen bir platform olacak. büyük oranda yapay zeka ile idare edilecek.  @haskologlu  https://t.co/tnxpqjeyl5',\n",
              " 'yorumlu  #2dakikalıkhayatbilgisidersi #serefoguz #hayatııskalamamak #farkındalık #hayatbilgisi #yaşam #kısasöz #gününsözü #kamuspotu #serefoguz_kamuspotu #sanayi #atsızkoşucu #naltoplamak #duvar @serefoguz  https://t.co/7r4dnuabkw',\n",
              " 'bu ahlaksızlar bir kadını taciz ediyor!   sarayın polisi, sen akp’nin istanbul kongresini görmedin mi?',\n",
              " '@cayroskop @barisozturk0 yok değil.',\n",
              " 'danimarka kraliyet hava kuvvetleri ilk f-35 savaş uçağını teslim aldı.  https://t.co/j9v6ahze5o',\n",
              " \"bu @deltavuzay nederen çıktı? sorusuna cevap olarak firma 2016'dan beri çalışıyor. cumhurbaşkanı @rterdogan daha başbakanken delta-v gm arif hocayı himayesine alarak çalışmalarına destek verdi. delta-v şuanda ssb şirketi olan sstek'in ortak olduğu bir şirket konumunda.\",\n",
              " \"abd'nin en yakın bölgesel müttefiki israil ve bae'yi içeren bir dizi devlet arasında barış anlaşmalarıyla sonuçlanan tarihi abraham anlaşmalarının pekiştirilmesine yardımcı olması için bae'ye f-35 sattığı düşünülüyor.    https://t.co/7tdzglznva  https://t.co/mpr3i0w24k\",\n",
              " \"abd'nin iran'ı bombalama ve yaptırımlar yoluyla ortadoğu'dan çıkarma politikası başarısız oldu.  suriye, irak ve lübnan iran'a daha bağımlı hale geliyor. abd'nin arap birliğine ve yumuşak güç kullanımına dayalı yeni bir yaklaşıma ihtiyacı var.   https://t.co/2kkzu0esem\",\n",
              " 'paşinyan, cumhurbaşkanının genelkurmay başkanının istifasını onaylamayı reddetmesini eleştirdi.  \"başkanın kararı anlaşılmazdı. bunu 1 mart miting sırasında göreceğim. bu gerçeği belirledikten sonra, bazı sonuçlar çıkarılabilir.\"  https://t.co/4wg9qdmuns',\n",
              " '1990-91 kuveyt krizi ve bunun irak, uluslararası toplum ve gelecek yıllar için abd politikası üzerindeki sonuçları nelerdir?   https://t.co/2m4al05nsh',\n",
              " 'dünyada bir ilk: şili, nüfusunun beyin verilerini korumak için yasa çıkarıyor.    https://t.co/pgi1uk4loa',\n",
              " ...]"
            ]
          },
          "metadata": {
            "tags": []
          },
          "execution_count": 101
        }
      ]
    },
    {
      "cell_type": "code",
      "metadata": {
        "colab": {
          "base_uri": "https://localhost:8080/"
        },
        "id": "d4HPV7gkuHNd",
        "outputId": "33d8cfb4-5a06-4bc2-bed9-0cf1599d6e49"
      },
      "source": [
        "len(deneme) == len(rest) "
      ],
      "execution_count": 55,
      "outputs": [
        {
          "output_type": "execute_result",
          "data": {
            "text/plain": [
              "True"
            ]
          },
          "metadata": {
            "tags": []
          },
          "execution_count": 55
        }
      ]
    },
    {
      "cell_type": "code",
      "metadata": {
        "id": "dwn963wgTj35",
        "colab": {
          "base_uri": "https://localhost:8080/",
          "height": 17
        },
        "outputId": "6d9165b4-8e2f-4df1-9c17-75cb0603db3d"
      },
      "source": [
        "###with the new data you should wait the result of this code a bit###\n",
        "#deneme = filtered_tweet_tr_en_car.tweet[:]\n",
        "#pd.DataFrame(model_sa.predict(deneme)).to_csv('rest_sentiment.csv')\n",
        "sent_list = model_sa.predict(deneme)"
      ],
      "execution_count": 56,
      "outputs": [
        {
          "output_type": "display_data",
          "data": {
            "text/html": [
              ""
            ],
            "text/plain": [
              "<IPython.core.display.HTML object>"
            ]
          },
          "metadata": {
            "tags": []
          }
        }
      ]
    },
    {
      "cell_type": "code",
      "metadata": {
        "colab": {
          "base_uri": "https://localhost:8080/"
        },
        "id": "3ugKQ51AQASl",
        "outputId": "602c42ed-d36d-4d41-c6aa-817954734141"
      },
      "source": [
        "len(sent_list) == len(rest)"
      ],
      "execution_count": 57,
      "outputs": [
        {
          "output_type": "execute_result",
          "data": {
            "text/plain": [
              "True"
            ]
          },
          "metadata": {
            "tags": []
          },
          "execution_count": 57
        }
      ]
    },
    {
      "cell_type": "code",
      "metadata": {
        "id": "tyQURgCCE2p1"
      },
      "source": [
        "sentiment = []\n",
        "for i in sent_list:\n",
        "  if i == 'NEG':\n",
        "    sentiment.append(-1)\n",
        "  elif i == 'POS':\n",
        "    sentiment.append(1)\n",
        "  elif i == 'NOTR': \n",
        "    sentiment.append(-1)\n",
        "filtered_tweet_tr_en_car = filtered_tweet_tr_en_car.assign(sentiment = sentiment)\n"
      ],
      "execution_count": null,
      "outputs": []
    },
    {
      "cell_type": "code",
      "metadata": {
        "id": "nGEUVKH6FXnT"
      },
      "source": [
        "filtered_tweet_tr_en_car.to_csv('/content/gdrive/MyDrive/gmf/solutions/tweets/filtered_tweet_tr_with_sentiment.csv')"
      ],
      "execution_count": null,
      "outputs": []
    },
    {
      "cell_type": "code",
      "metadata": {
        "id": "3m72CurqFxTr"
      },
      "source": [
        ""
      ],
      "execution_count": null,
      "outputs": []
    },
    {
      "cell_type": "markdown",
      "metadata": {
        "id": "8MU6EXHjtH9y"
      },
      "source": [
        "# Farkli meslek gruplarinin sentiment analizleri"
      ]
    },
    {
      "cell_type": "code",
      "metadata": {
        "id": "hQdqLUSItWrT"
      },
      "source": [
        "def visualize(df1,df2):\n",
        "  import matplotlib.dates as mdates\n",
        "  import matplotlib.pyplot as plt\n",
        "\n",
        "  %matplotlib inline\n",
        "\n",
        "\n",
        "  plt.style.use('ggplot')\n",
        "  #9 hazirana kadar data var\n",
        "  fig, ax = plt.subplots(1, 1, figsize=(24, 6))\n",
        "  plt.plot(df1.index, df1.sentiment, label = 'gazeteci')\n",
        "  plt.plot(df2.index, df2.sentiment , label = 'akademik')\n",
        "  plt.legend(loc=\"upper right\")\n",
        "#ax.xaxis.set_minor_locator(mdates.WeekdayLocator(byweekday=(0), interval=1))\n",
        "# Set x-axis major ticks to weekly interval, on Mondays\n",
        "#MonthLocator: locate months, e.g., 7 for july\n",
        "#ax.xaxis.set_major_locator(mdates.WeekdayLocator(byweekday=(0), interval=30))\n",
        "  ax.xaxis.set_major_locator(mdates.MonthLocator(interval=4))\n",
        "# Format x-tick labels as 3-letter month name and day number\n",
        "  ax.xaxis.set_major_formatter(mdates.DateFormatter('%b/%Y'));\n",
        "  plt.xticks(rotation=45)\n",
        "#plt.title('Daily Sentiments of Turkish Tweets')\n",
        "  plt.savefig('tr_sentiment.png',dpi=600)\n",
        "  plt.show()\n"
      ],
      "execution_count": null,
      "outputs": []
    },
    {
      "cell_type": "code",
      "metadata": {
        "id": "EKy8-6E1WLtS"
      },
      "source": [
        "account_info = pd.read_csv('accounts_info.csv')\n",
        "account_info.head()"
      ],
      "execution_count": null,
      "outputs": []
    },
    {
      "cell_type": "code",
      "metadata": {
        "id": "NaAh8xNkWwb4",
        "colab": {
          "base_uri": "https://localhost:8080/",
          "height": 51
        },
        "outputId": "71db7159-1605-429e-a0ce-621404aa9e50"
      },
      "source": [
        "account_info.Meslek.unique()"
      ],
      "execution_count": null,
      "outputs": [
        {
          "output_type": "execute_result",
          "data": {
            "text/plain": [
              "array(['Birden Fazla', 'Akademisyen/Araştırmacı', 'Gazeteci', 'Diğer',\n",
              "       'Siyasetçi', 'Freelance', 'Bürokrat/Diplomat', nan], dtype=object)"
            ]
          },
          "metadata": {
            "tags": []
          },
          "execution_count": 24
        }
      ]
    },
    {
      "cell_type": "markdown",
      "metadata": {
        "id": "jBsBQxTXtqFw"
      },
      "source": [
        "Farkli meslek gruplarinin tweetlerinin ayri bir yerde toplanmasi"
      ]
    },
    {
      "cell_type": "code",
      "metadata": {
        "id": "e2SdlDPWsz-O"
      },
      "source": [
        "gazeteci= account_info[account_info['Meslek']=='Gazeteci']['Twitter Handle']\n",
        "gazeteci = gazeteci.reset_index(drop=True)\n",
        "gazeteci_list = list(gazeteci)\n",
        "print(gazeteci_list[0])\n",
        "gazeteci_tweet = tr_tweet[tr_tweet['username'].isin(gazeteci_list)]\n",
        "gazeteci_tweet"
      ],
      "execution_count": null,
      "outputs": []
    },
    {
      "cell_type": "code",
      "metadata": {
        "id": "TTprXuqws3Ve"
      },
      "source": [
        "academics= account_info[account_info['Meslek']=='Akademisyen/Araştırmacı']['Twitter Handle']\n",
        "academics = academics.reset_index(drop=True)\n",
        "academics_list = list(academics)\n",
        "print(academics_list[0])\n",
        "academics_tweet = tr_tweet[tr_tweet['username'].isin(academics_list)]\n",
        "academics_tweet"
      ],
      "execution_count": null,
      "outputs": []
    },
    {
      "cell_type": "code",
      "metadata": {
        "id": "yPytZIoAtVdR"
      },
      "source": [
        "diplomat= account_info[account_info['Meslek']=='Bürokrat/Diplomat']['Twitter Handle']\n",
        "diplomat = diplomat.reset_index(drop=True)\n",
        "diplomat_list = list(diplomat)\n",
        "print(diplomat_list[0])\n",
        "diplomat_tweet = tr_tweet[tr_tweet['username'].isin(diplomat_list)]\n",
        "diplomat_tweet\n"
      ],
      "execution_count": null,
      "outputs": []
    },
    {
      "cell_type": "code",
      "metadata": {
        "id": "qAk69HPxtyu1"
      },
      "source": [
        "def profession_tweet(profession):#options are : 'Akademisyen/Araştırmacı', 'Gazeteci', 'Siyasetçi', 'Freelance', 'Bürokrat/Diplomat', 'Diğer',\n",
        "       'Siyasetçi', 'Freelance', 'Bürokrat/Diplomat'\n",
        "  df_ = account_info[account_info['Meslek']==profession]['Twitter Handle']\n",
        "  df_ =df_.reset_index(drop=True)\n",
        "  df_list = list(df_)\n",
        "  print(df_list[0])\n",
        "  df_tweet = tr_tweet[tr_tweet['username'].isin(df_list)]\n",
        "  df_tweet.head()\n",
        "  return df_tweet.groupby(df_tweet.date).mean()"
      ],
      "execution_count": null,
      "outputs": []
    },
    {
      "cell_type": "code",
      "metadata": {
        "id": "6mZ5UY7bioPo"
      },
      "source": [
        "del df2\n",
        "df2 = academics_tweet.groupby(academics_tweet.date).mean()\n"
      ],
      "execution_count": null,
      "outputs": []
    },
    {
      "cell_type": "code",
      "metadata": {
        "id": "7EqWw5uuuYbf"
      },
      "source": [
        "del df1\n",
        "df1 = gazeteci_tweet.groupby(gazeteci_tweet.date).mean()"
      ],
      "execution_count": null,
      "outputs": []
    },
    {
      "cell_type": "code",
      "metadata": {
        "id": "KZdwALK4slF2"
      },
      "source": [
        "del df3\n",
        "df3 = diplomat_tweet.groupby(diplomat_tweet.date).mean()"
      ],
      "execution_count": null,
      "outputs": []
    },
    {
      "cell_type": "markdown",
      "metadata": {
        "id": "PeUUxZB6vY3_"
      },
      "source": [
        "if you instert he profession to the code below, it will give you the tweets of the spesific profession. Then you can use that dataframe(df) to visualize below"
      ]
    },
    {
      "cell_type": "code",
      "metadata": {
        "id": "g81n-ji-vHI0"
      },
      "source": [
        "df4 = profession_tweet('instert one of the profession above')"
      ],
      "execution_count": null,
      "outputs": []
    },
    {
      "cell_type": "markdown",
      "metadata": {
        "id": "NDH-5aD5wK72"
      },
      "source": [
        "you can create different data frames of different professIons"
      ]
    },
    {
      "cell_type": "code",
      "metadata": {
        "id": "LTY7CKqpue_f",
        "colab": {
          "base_uri": "https://localhost:8080/",
          "height": 385
        },
        "outputId": "9dc0fa87-6dd9-4007-e67f-98a944edb164"
      },
      "source": [
        "visualize(df1,df2)#while inserting some other df's you can obtain graphs for different professsio"
      ],
      "execution_count": null,
      "outputs": [
        {
          "output_type": "display_data",
          "data": {
            "image/png": "[encoded data removed]",
            "text/plain": [
              "<Figure size 1728x432 with 1 Axes>"
            ]
          },
          "metadata": {
            "tags": []
          }
        }
      ]
    },
    {
      "cell_type": "markdown",
      "metadata": {
        "id": "A1JXbF18Fy7j"
      },
      "source": [
        "# Miscalleneous"
      ]
    },
    {
      "cell_type": "code",
      "metadata": {
        "id": "UcJfU2psHDUv"
      },
      "source": [
        "df_all.to_csv('filtered_tr_new_with_sentiment.csv' , index=False)\n",
        "rest = filtered_tweet_tr_en_car[filtered_tweet_tr_en_car['date'] > '2020-05-13']"
      ],
      "execution_count": null,
      "outputs": []
    },
    {
      "cell_type": "code",
      "metadata": {
        "colab": {
          "base_uri": "https://localhost:8080/",
          "height": 164
        },
        "id": "L9sXjm3MGsku",
        "outputId": "cdb3e96b-cb40-4235-8b09-47ffc948ddc8"
      },
      "source": [
        "rest = filtered_tweet_tr_en_car[filtered_tweet_tr_en_car['date'] > '2020-08-06']"
      ],
      "execution_count": 1,
      "outputs": [
        {
          "output_type": "error",
          "ename": "NameError",
          "evalue": "ignored",
          "traceback": [
            "\u001b[0;31m---------------------------------------------------------------------------\u001b[0m",
            "\u001b[0;31mNameError\u001b[0m                                 Traceback (most recent call last)",
            "\u001b[0;32m<ipython-input-1-2f9aed78fb05>\u001b[0m in \u001b[0;36m<module>\u001b[0;34m()\u001b[0m\n\u001b[0;32m----> 1\u001b[0;31m \u001b[0mrest\u001b[0m \u001b[0;34m=\u001b[0m \u001b[0mfiltered_tweet_tr_en_car\u001b[0m\u001b[0;34m[\u001b[0m\u001b[0mfiltered_tweet_tr_en_car\u001b[0m\u001b[0;34m[\u001b[0m\u001b[0;34m'date'\u001b[0m\u001b[0;34m]\u001b[0m \u001b[0;34m>\u001b[0m \u001b[0;34m'2020-08-06'\u001b[0m\u001b[0;34m]\u001b[0m\u001b[0;34m\u001b[0m\u001b[0;34m\u001b[0m\u001b[0m\n\u001b[0m",
            "\u001b[0;31mNameError\u001b[0m: name 'filtered_tweet_tr_en_car' is not defined"
          ]
        }
      ]
    },
    {
      "cell_type": "code",
      "metadata": {
        "colab": {
          "base_uri": "https://localhost:8080/",
          "height": 181
        },
        "id": "9s0P-NsyGeIW",
        "outputId": "056a0c78-11e4-40f2-d5c7-dd2b24625b30"
      },
      "source": [
        "df = df_old[['date','username', 'tweet', 'sentiment']]\n",
        "df"
      ],
      "execution_count": 2,
      "outputs": [
        {
          "output_type": "error",
          "ename": "NameError",
          "evalue": "ignored",
          "traceback": [
            "\u001b[0;31m---------------------------------------------------------------------------\u001b[0m",
            "\u001b[0;31mNameError\u001b[0m                                 Traceback (most recent call last)",
            "\u001b[0;32m<ipython-input-2-efd8316169f3>\u001b[0m in \u001b[0;36m<module>\u001b[0;34m()\u001b[0m\n\u001b[0;32m----> 1\u001b[0;31m \u001b[0mdf\u001b[0m \u001b[0;34m=\u001b[0m \u001b[0mdf_old\u001b[0m\u001b[0;34m[\u001b[0m\u001b[0;34m[\u001b[0m\u001b[0;34m'date'\u001b[0m\u001b[0;34m,\u001b[0m\u001b[0;34m'username'\u001b[0m\u001b[0;34m,\u001b[0m \u001b[0;34m'tweet'\u001b[0m\u001b[0;34m,\u001b[0m \u001b[0;34m'sentiment'\u001b[0m\u001b[0;34m]\u001b[0m\u001b[0;34m]\u001b[0m\u001b[0;34m\u001b[0m\u001b[0;34m\u001b[0m\u001b[0m\n\u001b[0m\u001b[1;32m      2\u001b[0m \u001b[0mdf\u001b[0m\u001b[0;34m\u001b[0m\u001b[0;34m\u001b[0m\u001b[0m\n",
            "\u001b[0;31mNameError\u001b[0m: name 'df_old' is not defined"
          ]
        }
      ]
    },
    {
      "cell_type": "code",
      "metadata": {
        "id": "lyhb1ASbLMu6"
      },
      "source": [
        "df_all = pd.concat([df_old,rest])\n",
        "df_all"
      ],
      "execution_count": null,
      "outputs": []
    },
    {
      "cell_type": "code",
      "metadata": {
        "id": "l1tkzhvs_fZA"
      },
      "source": [
        "sentiment = pd.read_csv('/content/gdrive/MyDrive/gmf/rest_sentiment.csv')\n",
        "sentiment\n",
        "  "
      ],
      "execution_count": null,
      "outputs": []
    },
    {
      "cell_type": "code",
      "metadata": {
        "id": "5eK32-MoKHnf"
      },
      "source": [
        "\"\"\"\n",
        "df = df[0]\n",
        "sentiment = []\n",
        "for i in df:\n",
        "  if i == 'NEG':\n",
        "    sentiment.append(-1)\n",
        "  elif i == 'POS':\n",
        "    sentiment.append(1)\n",
        "  elif i == 'NOTR': \n",
        "    sentiment.append(-1)\n",
        "\"\"\""
      ],
      "execution_count": null,
      "outputs": []
    },
    {
      "cell_type": "code",
      "metadata": {
        "id": "BPs1cMMmPkeG"
      },
      "source": [
        "filtered_tweet_tr_en_car =filtered_tweet_tr_en_car.assign(sentiment = sentiment)"
      ],
      "execution_count": null,
      "outputs": []
    },
    {
      "cell_type": "code",
      "metadata": {
        "id": "X-rvvtMMQnFn"
      },
      "source": [
        "filtered_tweet_tr_en_car.head()"
      ],
      "execution_count": null,
      "outputs": []
    },
    {
      "cell_type": "code",
      "metadata": {
        "id": "fHbrY4E-HB2x"
      },
      "source": [
        "import os\n",
        "os.chdir('/content/gdrive/My Drive/gmf/')\n",
        "os.getcwd()"
      ],
      "execution_count": null,
      "outputs": []
    },
    {
      "cell_type": "code",
      "metadata": {
        "id": "aJXmr4SldtEl"
      },
      "source": [
        "##dataset which includes sentiment scores###\n",
        "tr_tweet = pd.read_csv('/content/gdrive/My Drive/gmf/tr_filtered_with_sentiment.csv' , engine='python')"
      ],
      "execution_count": null,
      "outputs": []
    },
    {
      "cell_type": "code",
      "metadata": {
        "id": "zVgh__nIr5ey"
      },
      "source": [
        "tr_tweet.head()"
      ],
      "execution_count": null,
      "outputs": []
    },
    {
      "cell_type": "code",
      "metadata": {
        "id": "HR9PQK_RhSpW"
      },
      "source": [
        "\n",
        "df = tr_tweet.groupby(tr_tweet.date).mean()\n",
        "df"
      ],
      "execution_count": null,
      "outputs": []
    },
    {
      "cell_type": "code",
      "metadata": {
        "id": "L_JqsOmSjyEP"
      },
      "source": [
        "import matplotlib.dates as mdates\n",
        "import matplotlib.pyplot as plt\n",
        "\n",
        "%matplotlib inline\n",
        "\n",
        "\n",
        "plt.style.use('ggplot')\n",
        "#9 hazirana kadar data var\n",
        "fig, ax = plt.subplots(1, 1, figsize=(24, 6))\n",
        "plt.plot(df.index, df.sentiment)\n",
        "\n",
        "#ax.xaxis.set_minor_locator(mdates.WeekdayLocator(byweekday=(0), interval=1))\n",
        "# Set x-axis major ticks to weekly interval, on Mondays\n",
        "#MonthLocator: locate months, e.g., 7 for july\n",
        "#ax.xaxis.set_major_locator(mdates.WeekdayLocator(byweekday=(0), interval=30))\n",
        "ax.xaxis.set_major_locator(mdates.MonthLocator(interval=4))\n",
        "# Format x-tick labels as 3-letter month name and day number\n",
        "ax.xaxis.set_major_formatter(mdates.DateFormatter('%b/%Y'));\n",
        "plt.xticks(rotation=45)\n",
        "plt.title('Daily Sentiments of Filtered Turkish Tweets')#baslik ayarlama title\n",
        "plt.savefig('/content/gdrive/My Drive/gmf/sentiment_graphs/tr_filtered_sentiment.png',dpi=600)\n",
        "plt.show()\n"
      ],
      "execution_count": null,
      "outputs": []
    },
    {
      "cell_type": "code",
      "metadata": {
        "id": "Y8VjAvrR4alq"
      },
      "source": [
        "import os\n",
        "os.chdir('/content/gdrive/My Drive/gmf/')\n",
        "### if this part gives error you should resttart the runtime for libraries to be installed\n",
        "\n",
        "import ktrain\n",
        "from ktrain import text\n",
        "import pandas as pd\n",
        "import re\n",
        "import tensorflow\n",
        "model_sa = ktrain.load_predictor(\"ft5m_sa\")#POS, NEG, NOTR\n",
        "model_sa.preproc.model_name = \"berturk-social-5m\"\n",
        "sentence = \"bu cok kotu bir cumle\"\n",
        "\n",
        "verbose=0 \n",
        "print(model_sa.predict(sentence))\n",
        "print(type(model_sa.predict([sentence])))"
      ],
      "execution_count": null,
      "outputs": []
    },
    {
      "cell_type": "code",
      "metadata": {
        "id": "LsXFHylnIt2V"
      },
      "source": [
        "import pandas as pd\n",
        "tweet_tr_no_filter = pd.read_csv('/content/gdrive/My Drive/gmf/tweet_tr' , engine='python')\n",
        "tweet_tr_no_filter.tweet = tweet_tr_no_filter.tweet.str.replace(\"İ\", \"i\", regex=True)\n",
        "tweet_tr_no_filter.tweet = tweet_tr_no_filter.tweet.str.lower() "
      ],
      "execution_count": null,
      "outputs": []
    },
    {
      "cell_type": "code",
      "metadata": {
        "id": "JXdzE8c1BN4Y"
      },
      "source": [
        "#tweet_tr_no_filter.tweet  = str(tweet_tr_no_filter.tweet)\n",
        "#tweet_tr_no_filter.tweet = tweet_tr_no_filter.tweet[:].apply(lambda x: re.sub(r\"İ\", \"i\",x))\n",
        "#tweet_tr_no_filter.tweet  = tweet_tr_no_filter.tweet.str.lower()\n",
        "#tweet_tr_no_filter.tweet = tweet_tr_no_filter.tweet.str.replace(\"İ\", \"i\", regex=True)"
      ],
      "execution_count": null,
      "outputs": []
    },
    {
      "cell_type": "code",
      "metadata": {
        "id": "4pILejibo_lW"
      },
      "source": [
        "tweet_tr_no_filter.tweet = tweet_tr_no_filter.tweet.astype(str)\n",
        "deneme = list(tweet_tr_no_filter.tweet)\n",
        "#part1 = deneme[0:100000]\n",
        "#part2 = deneme[100001:250000]\n",
        "#part3 = deneme[800001:1250000]\n",
        "#part4 = deneme[1250000:]"
      ],
      "execution_count": null,
      "outputs": []
    },
    {
      "cell_type": "code",
      "metadata": {
        "id": "1MlPvsI2f9i6"
      },
      "source": [
        "len"
      ],
      "execution_count": null,
      "outputs": []
    },
    {
      "cell_type": "code",
      "metadata": {
        "id": "rpovKOafj6iz"
      },
      "source": [
        "import os\n",
        "os.chdir('/content/gdrive/My Drive/gmf/')\n",
        "import pandas as pd\n",
        "data = pd.read_csv('tr_final_All_sentiment.csv', header= None)\n",
        "data"
      ],
      "execution_count": null,
      "outputs": []
    },
    {
      "cell_type": "code",
      "metadata": {
        "id": "8RbB_UFWLUpv"
      },
      "source": [
        "for i in data[0].head():\n",
        "  print(i)"
      ],
      "execution_count": null,
      "outputs": []
    },
    {
      "cell_type": "code",
      "metadata": {
        "id": "ZjcV-codLIoX"
      },
      "source": [
        "sent_tr_all = []\n",
        "for i in data[0]:\n",
        "  if i == 'POS':\n",
        "    sent_tr_all.append(1)\n",
        "  elif i == 'NEG':\n",
        "    sent_tr_all.append(-1)\n",
        "  else:\n",
        "    sent_tr_all.append(0)\n",
        "sent_tr_all[0:5]\n",
        "  "
      ],
      "execution_count": null,
      "outputs": []
    },
    {
      "cell_type": "code",
      "metadata": {
        "id": "W4VlolHvSzIn"
      },
      "source": [
        "len(sent_tr_all)"
      ],
      "execution_count": null,
      "outputs": []
    },
    {
      "cell_type": "code",
      "metadata": {
        "id": "JB0C2NG8S3oy"
      },
      "source": [
        "tweet_tr_no_filter = tweet_tr_no_filter.assign( sentiment = sent_tr_all )"
      ],
      "execution_count": null,
      "outputs": []
    },
    {
      "cell_type": "code",
      "metadata": {
        "id": "xVByH5S3TE_F"
      },
      "source": [
        "tweet_tr_no_filter"
      ],
      "execution_count": null,
      "outputs": []
    },
    {
      "cell_type": "code",
      "metadata": {
        "id": "nWMuHo1dLHqY"
      },
      "source": [
        "tweet_tr_no_filter.to_csv('/content/gdrive/My Drive/gmf/tweet_tr_with_sentiment')"
      ],
      "execution_count": null,
      "outputs": []
    },
    {
      "cell_type": "code",
      "metadata": {
        "id": "VFR4n4__lfnz"
      },
      "source": [
        "i = 0\n",
        "k= 0\n",
        "for k in range(len(data),1620936, 100000): \n",
        "  i = i+1\n",
        "  print(i)\n",
        "  temp = deneme[k:k+100000]\n",
        "  duygu = model_sa.predict(temp)\n",
        "  df = pd.DataFrame(duygu)\n",
        "  df.to_csv('tr_final_All_sentiment.csv', mode='a', header=False , index= False)\n",
        "  print(k+100000)"
      ],
      "execution_count": null,
      "outputs": []
    },
    {
      "cell_type": "code",
      "metadata": {
        "id": "jzXYjmXTVDhF"
      },
      "source": [
        "temp = deneme[1700000:]\n",
        "duygu = model_sa.predict(temp)\n",
        "df = pd.DataFrame(duygu)\n",
        "df.to_csv('tr_final_All_sentiment.csv', mode='a', header=False , index= False)"
      ],
      "execution_count": null,
      "outputs": []
    },
    {
      "cell_type": "code",
      "metadata": {
        "id": "qZYFKU6YK9gy"
      },
      "source": [
        "tweet_tr_no_filter['date'] = pd.to_datetime(tweet_tr_no_filter['date'], errors='coerce')\n",
        "\n",
        "df = tweet_tr_no_filter.groupby(tweet_tr_no_filter.date).mean()\n",
        "df"
      ],
      "execution_count": null,
      "outputs": []
    },
    {
      "cell_type": "code",
      "metadata": {
        "id": "t2uZY8JjToQ3"
      },
      "source": [
        "import matplotlib.dates as mdates\n",
        "import matplotlib.pyplot as plt\n",
        "\n",
        "%matplotlib inline\n",
        "\n",
        "\n",
        "plt.style.use('ggplot')\n",
        "#9 hazirana kadar data var\n",
        "fig, ax = plt.subplots(1, 1, figsize=(24, 6))\n",
        "plt.plot(df.index, df.sentiment)\n",
        "\n",
        "#ax.xaxis.set_minor_locator(mdates.WeekdayLocator(byweekday=(0), interval=1))\n",
        "# Set x-axis major ticks to weekly interval, on Mondays\n",
        "#MonthLocator: locate months, e.g., 7 for july\n",
        "#ax.xaxis.set_major_locator(mdates.WeekdayLocator(byweekday=(0), interval=30))\n",
        "ax.xaxis.set_major_locator(mdates.MonthLocator(interval=4))\n",
        "# Format x-tick labels as 3-letter month name and day number\n",
        "ax.xaxis.set_major_formatter(mdates.DateFormatter('%b/%Y'));\n",
        "plt.xticks(rotation=45)\n",
        "plt.title('Daily Sentiments of All Turkish Tweets')#baslik ayarlama title\n",
        "plt.savefig('tr_no_filter_sentiment.png',dpi=600)\n",
        "plt.show()\n"
      ],
      "execution_count": null,
      "outputs": []
    }
  ]
}